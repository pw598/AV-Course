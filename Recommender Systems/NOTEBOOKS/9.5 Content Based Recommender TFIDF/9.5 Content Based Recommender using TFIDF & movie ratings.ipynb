{
 "cells": [
  {
   "cell_type": "markdown",
   "metadata": {},
   "source": [
    "# Content Based Filtering using TFIDF & movie ratings\n",
    "This dataset has a smaller set of movies but with the movies here we also have ratings provided by the users for these movies. The aim is to create personalised recommendations for each user in the test set and evaluate using mean average precision the top 10 recommendations.\n",
    "\n",
    "## Data Description\n",
    "\n",
    "**user_id** - ID of the user\n",
    "\n",
    "**movie_id** - ID of the movie with title\n",
    "\n",
    "**rating** - Rating provided by the user\n",
    "\n",
    "**keywords** - Predefined keywords for each movie\n",
    "\n",
    "**cast** - Entire cast of the movie\n",
    "\n",
    "**genres** - list of genres corresponding to the movie\n",
    "\n",
    "**director** - Director of the movie"
   ]
  },
  {
   "cell_type": "markdown",
   "metadata": {},
   "source": [
    "## Table of Content\n",
    "\n",
    "[1. Reading Dataset & Basic Exploration](#Reading-Dataset)\n",
    "\n",
    "[2. Selecting Movie Features](#movie-features)\n",
    "\n",
    "[2. Creating Test & Train Data](#train-test)\n",
    "\n",
    "[3. Building Item & User Profiles](#item-user-profiles)\n",
    "\n",
    "[4. Generating Content Based Recommendations](#generate)\n",
    "\n",
    "[5. Checking recommendations for a random user](#check)\n",
    "\n",
    "[6. Evaluation using Mean Average Precision @10](#evaluation)"
   ]
  },
  {
   "cell_type": "markdown",
   "metadata": {},
   "source": [
    "## 1. Reading Data & Basic Exploration <a class=\"anchor\" id=\"Reading-Dataset\"></a>"
   ]
  },
  {
   "cell_type": "code",
   "execution_count": 1,
   "metadata": {},
   "outputs": [],
   "source": [
    "import pandas as pd\n",
    "import numpy as np\n",
    "\n",
    "from scipy.sparse import vstack\n",
    "from sklearn.feature_extraction.text import TfidfVectorizer\n",
    "from sklearn.metrics.pairwise import cosine_similarity\n",
    "\n",
    "from sklearn.model_selection import train_test_split\n",
    "from sklearn.metrics import mean_absolute_error, mean_squared_error\n",
    "\n",
    "from sklearn.preprocessing import MinMaxScaler, normalize"
   ]
  },
  {
   "cell_type": "code",
   "execution_count": 2,
   "metadata": {},
   "outputs": [],
   "source": [
    "#Reading data from csv to dataframe\n",
    "movie_data_with_ratings = pd.read_csv('movie_ratings_with_info.csv')"
   ]
  },
  {
   "cell_type": "code",
   "execution_count": 3,
   "metadata": {},
   "outputs": [
    {
     "data": {
      "text/plain": [
       "(943, 555)"
      ]
     },
     "execution_count": 3,
     "metadata": {},
     "output_type": "execute_result"
    }
   ],
   "source": [
    "#Checking the number of movies and number of users in the ratings data\n",
    "movie_data_with_ratings.user_id.nunique(),movie_data_with_ratings.movie_id.nunique() "
   ]
  },
  {
   "cell_type": "code",
   "execution_count": 4,
   "metadata": {},
   "outputs": [
    {
     "data": {
      "text/html": [
       "<div>\n",
       "<style scoped>\n",
       "    .dataframe tbody tr th:only-of-type {\n",
       "        vertical-align: middle;\n",
       "    }\n",
       "\n",
       "    .dataframe tbody tr th {\n",
       "        vertical-align: top;\n",
       "    }\n",
       "\n",
       "    .dataframe thead th {\n",
       "        text-align: right;\n",
       "    }\n",
       "</style>\n",
       "<table border=\"1\" class=\"dataframe\">\n",
       "  <thead>\n",
       "    <tr style=\"text-align: right;\">\n",
       "      <th></th>\n",
       "      <th>21668</th>\n",
       "      <th>37643</th>\n",
       "    </tr>\n",
       "  </thead>\n",
       "  <tbody>\n",
       "    <tr>\n",
       "      <th>user_id</th>\n",
       "      <td>500</td>\n",
       "      <td>932</td>\n",
       "    </tr>\n",
       "    <tr>\n",
       "      <th>movie_id</th>\n",
       "      <td>25: Jarhead</td>\n",
       "      <td>679: Aliens</td>\n",
       "    </tr>\n",
       "    <tr>\n",
       "      <th>rating</th>\n",
       "      <td>3</td>\n",
       "      <td>2</td>\n",
       "    </tr>\n",
       "    <tr>\n",
       "      <th>keywords</th>\n",
       "      <td>sniper marine corps saudi arabia petrol golf war</td>\n",
       "      <td>android extraterrestrial technology space mari...</td>\n",
       "    </tr>\n",
       "    <tr>\n",
       "      <th>cast</th>\n",
       "      <td>Jamie Foxx Jake Gyllenhaal Scott MacDonald Luc...</td>\n",
       "      <td>Sigourney Weaver Michael Biehn James Remar Pau...</td>\n",
       "    </tr>\n",
       "    <tr>\n",
       "      <th>genres</th>\n",
       "      <td>Drama War</td>\n",
       "      <td>Horror Action Thriller Science Fiction</td>\n",
       "    </tr>\n",
       "    <tr>\n",
       "      <th>director</th>\n",
       "      <td>Sam Mendes</td>\n",
       "      <td>James Cameron</td>\n",
       "    </tr>\n",
       "  </tbody>\n",
       "</table>\n",
       "</div>"
      ],
      "text/plain": [
       "                                                      21668  \\\n",
       "user_id                                                 500   \n",
       "movie_id                                        25: Jarhead   \n",
       "rating                                                    3   \n",
       "keywords   sniper marine corps saudi arabia petrol golf war   \n",
       "cast      Jamie Foxx Jake Gyllenhaal Scott MacDonald Luc...   \n",
       "genres                                            Drama War   \n",
       "director                                         Sam Mendes   \n",
       "\n",
       "                                                      37643  \n",
       "user_id                                                 932  \n",
       "movie_id                                        679: Aliens  \n",
       "rating                                                    2  \n",
       "keywords  android extraterrestrial technology space mari...  \n",
       "cast      Sigourney Weaver Michael Biehn James Remar Pau...  \n",
       "genres               Horror Action Thriller Science Fiction  \n",
       "director                                      James Cameron  "
      ]
     },
     "execution_count": 4,
     "metadata": {},
     "output_type": "execute_result"
    }
   ],
   "source": [
    "#Looking at sample\n",
    "movie_data_with_ratings.sample(2).T"
   ]
  },
  {
   "cell_type": "markdown",
   "metadata": {},
   "source": [
    "##  2. Selecting movie features <a class=\"anchor\" id=\"movie-features\"></a>"
   ]
  },
  {
   "cell_type": "code",
   "execution_count": 5,
   "metadata": {},
   "outputs": [],
   "source": [
    "# Choosing features for extracting content information\n",
    "features = ['keywords','cast','genres','director']"
   ]
  },
  {
   "cell_type": "code",
   "execution_count": 6,
   "metadata": {},
   "outputs": [],
   "source": [
    "# Filling missing values with a whitespace\n",
    "for feature in features:\n",
    "    movie_data_with_ratings[feature] = movie_data_with_ratings[feature].fillna('')"
   ]
  },
  {
   "cell_type": "code",
   "execution_count": 7,
   "metadata": {},
   "outputs": [],
   "source": [
    "# Single Combined Feature including all the content features\n",
    "def combine_features(row):\n",
    "    return row['keywords'] +\" \"+row['cast']+\" \"+row[\"genres\"]+\" \"+row[\"director\"]\n",
    "        \n",
    "movie_data_with_ratings[\"combined_features\"] = movie_data_with_ratings.apply(combine_features,axis=1)"
   ]
  },
  {
   "cell_type": "markdown",
   "metadata": {},
   "source": [
    "## 3. Creating train and test set from the ratings data <a class=\"anchor\" id=\"train-test\"></a>"
   ]
  },
  {
   "cell_type": "code",
   "execution_count": 8,
   "metadata": {},
   "outputs": [],
   "source": [
    "# Creating train and test data for testing performance later\n",
    "train_data, test_data = train_test_split(movie_data_with_ratings, test_size = 0.2, random_state = 42)"
   ]
  },
  {
   "cell_type": "code",
   "execution_count": 9,
   "metadata": {},
   "outputs": [
    {
     "data": {
      "text/plain": [
       "((33492, 8), (8373, 8))"
      ]
     },
     "execution_count": 9,
     "metadata": {},
     "output_type": "execute_result"
    }
   ],
   "source": [
    "# Checking shape for train & test\n",
    "train_data.shape, test_data.shape"
   ]
  },
  {
   "cell_type": "markdown",
   "metadata": {},
   "source": [
    "## 4. Building Item & User Profiles <a class=\"anchor\" id=\"item-user-profiles\"></a>"
   ]
  },
  {
   "cell_type": "markdown",
   "metadata": {},
   "source": [
    "### Steps for building the content based recommender system\n",
    "1. Calculate Item Profile from tfidf values of each movie\n",
    "2. Calculate User Profile by using item profiles of movies rated by the user, for each user I look in train set what are the movies/items that this user has rated (1-5), for each item I have the item profile, so on the basis of rating as the weight for that item profile I calculate the sum of all tfidf/countvectorisor\n",
    "3. Next step is to find out the most similar movies to each user profile\n",
    "4. Finally top n recommendations are created from these most similar movies"
   ]
  },
  {
   "cell_type": "code",
   "execution_count": 10,
   "metadata": {},
   "outputs": [],
   "source": [
    "# Extracting TF-IDF vectors for combined features\n",
    "vectorizer = TfidfVectorizer(analyzer='word',\n",
    "                     ngram_range=(1, 2),\n",
    "                     min_df=0.003,\n",
    "                     max_df=0.5,\n",
    "                     max_features=500)\n",
    "\n",
    "item_ids = train_data['movie_id'].unique().tolist()\n",
    "tfidf_matrix = vectorizer.fit_transform(train_data['combined_features'].unique())\n",
    "tfidf_feature_names = vectorizer.get_feature_names()"
   ]
  },
  {
   "cell_type": "code",
   "execution_count": 11,
   "metadata": {},
   "outputs": [],
   "source": [
    "# Function to extract movie profile or tfidf for a given movie\n",
    "def get_item_profile(item_id):\n",
    "    idx = item_ids.index(item_id)\n",
    "    item_profile = tfidf_matrix[idx:idx+1]\n",
    "    return item_profile\n",
    "\n",
    "\n",
    "# Function to extract movie profile or item profile for items with given ids\n",
    "def get_item_profiles(ids):\n",
    "    item_profiles_list = [get_item_profile(x) for x in ids]\n",
    "    item_profiles = vstack(item_profiles_list)\n",
    "    return item_profiles\n",
    "\n",
    "\n",
    "# Function to create user profile using interaction strength or rating\n",
    "def build_users_profile(person_id, interactions_indexed_df):\n",
    "    interactions_person_df = interactions_indexed_df.loc[person_id]\n",
    "    \n",
    "    # Get item profiles for all items for the given user\n",
    "    user_item_profiles = get_item_profiles(interactions_person_df['movie_id'])\n",
    "    \n",
    "    # Storing ratings or interaction strength for each user or person\n",
    "    user_item_strengths = np.array(interactions_person_df['rating']).reshape(-1,1)\n",
    "    \n",
    "    #Weighted average of item profiles by the interactions strength to get the complete profile for user\n",
    "    user_item_strengths_weighted_avg = np.sum(user_item_profiles.multiply(user_item_strengths), axis=0) / np.sum(user_item_strengths)\n",
    "    user_profile_norm = normalize(user_item_strengths_weighted_avg)\n",
    "    return user_profile_norm\n",
    "\n",
    "# Function to build user profiles for all users using the train data\n",
    "def build_users_profiles(): \n",
    "    interactions_indexed_df = train_data.set_index('user_id')\n",
    "    user_profiles = {}\n",
    "    \n",
    "    #Loop over each user to build user profiles for each\n",
    "    for person_id in interactions_indexed_df.index.unique():\n",
    "        user_profiles[person_id] = build_users_profile(person_id, interactions_indexed_df)\n",
    "    return user_profiles"
   ]
  },
  {
   "cell_type": "code",
   "execution_count": 12,
   "metadata": {},
   "outputs": [],
   "source": [
    "user_profiles = build_users_profiles()"
   ]
  },
  {
   "cell_type": "code",
   "execution_count": 13,
   "metadata": {},
   "outputs": [
    {
     "data": {
      "text/html": [
       "<div>\n",
       "<style scoped>\n",
       "    .dataframe tbody tr th:only-of-type {\n",
       "        vertical-align: middle;\n",
       "    }\n",
       "\n",
       "    .dataframe tbody tr th {\n",
       "        vertical-align: top;\n",
       "    }\n",
       "\n",
       "    .dataframe thead th {\n",
       "        text-align: right;\n",
       "    }\n",
       "</style>\n",
       "<table border=\"1\" class=\"dataframe\">\n",
       "  <thead>\n",
       "    <tr style=\"text-align: right;\">\n",
       "      <th></th>\n",
       "      <th>token</th>\n",
       "      <th>relevance</th>\n",
       "    </tr>\n",
       "  </thead>\n",
       "  <tbody>\n",
       "    <tr>\n",
       "      <th>0</th>\n",
       "      <td>action</td>\n",
       "      <td>0.219409</td>\n",
       "    </tr>\n",
       "    <tr>\n",
       "      <th>1</th>\n",
       "      <td>fiction</td>\n",
       "      <td>0.198732</td>\n",
       "    </tr>\n",
       "    <tr>\n",
       "      <th>2</th>\n",
       "      <td>science</td>\n",
       "      <td>0.198732</td>\n",
       "    </tr>\n",
       "    <tr>\n",
       "      <th>3</th>\n",
       "      <td>science fiction</td>\n",
       "      <td>0.198732</td>\n",
       "    </tr>\n",
       "    <tr>\n",
       "      <th>4</th>\n",
       "      <td>thriller</td>\n",
       "      <td>0.185941</td>\n",
       "    </tr>\n",
       "    <tr>\n",
       "      <th>5</th>\n",
       "      <td>michael</td>\n",
       "      <td>0.168775</td>\n",
       "    </tr>\n",
       "    <tr>\n",
       "      <th>6</th>\n",
       "      <td>adventure</td>\n",
       "      <td>0.159420</td>\n",
       "    </tr>\n",
       "    <tr>\n",
       "      <th>7</th>\n",
       "      <td>crime</td>\n",
       "      <td>0.155538</td>\n",
       "    </tr>\n",
       "    <tr>\n",
       "      <th>8</th>\n",
       "      <td>drama</td>\n",
       "      <td>0.144268</td>\n",
       "    </tr>\n",
       "    <tr>\n",
       "      <th>9</th>\n",
       "      <td>action drama</td>\n",
       "      <td>0.138754</td>\n",
       "    </tr>\n",
       "    <tr>\n",
       "      <th>10</th>\n",
       "      <td>peter</td>\n",
       "      <td>0.135123</td>\n",
       "    </tr>\n",
       "    <tr>\n",
       "      <th>11</th>\n",
       "      <td>fiction action</td>\n",
       "      <td>0.130071</td>\n",
       "    </tr>\n",
       "    <tr>\n",
       "      <th>12</th>\n",
       "      <td>james</td>\n",
       "      <td>0.124855</td>\n",
       "    </tr>\n",
       "    <tr>\n",
       "      <th>13</th>\n",
       "      <td>comedy</td>\n",
       "      <td>0.124672</td>\n",
       "    </tr>\n",
       "    <tr>\n",
       "      <th>14</th>\n",
       "      <td>thriller crime</td>\n",
       "      <td>0.115924</td>\n",
       "    </tr>\n",
       "    <tr>\n",
       "      <th>15</th>\n",
       "      <td>music</td>\n",
       "      <td>0.111986</td>\n",
       "    </tr>\n",
       "    <tr>\n",
       "      <th>16</th>\n",
       "      <td>identity</td>\n",
       "      <td>0.106955</td>\n",
       "    </tr>\n",
       "    <tr>\n",
       "      <th>17</th>\n",
       "      <td>romance</td>\n",
       "      <td>0.104553</td>\n",
       "    </tr>\n",
       "    <tr>\n",
       "      <th>18</th>\n",
       "      <td>action adventure</td>\n",
       "      <td>0.103307</td>\n",
       "    </tr>\n",
       "    <tr>\n",
       "      <th>19</th>\n",
       "      <td>horror</td>\n",
       "      <td>0.099549</td>\n",
       "    </tr>\n",
       "  </tbody>\n",
       "</table>\n",
       "</div>"
      ],
      "text/plain": [
       "               token  relevance\n",
       "0             action   0.219409\n",
       "1            fiction   0.198732\n",
       "2            science   0.198732\n",
       "3    science fiction   0.198732\n",
       "4           thriller   0.185941\n",
       "5            michael   0.168775\n",
       "6          adventure   0.159420\n",
       "7              crime   0.155538\n",
       "8              drama   0.144268\n",
       "9       action drama   0.138754\n",
       "10             peter   0.135123\n",
       "11    fiction action   0.130071\n",
       "12             james   0.124855\n",
       "13            comedy   0.124672\n",
       "14    thriller crime   0.115924\n",
       "15             music   0.111986\n",
       "16          identity   0.106955\n",
       "17           romance   0.104553\n",
       "18  action adventure   0.103307\n",
       "19            horror   0.099549"
      ]
     },
     "execution_count": 13,
     "metadata": {},
     "output_type": "execute_result"
    }
   ],
   "source": [
    "# User profile for  a random user\n",
    "myprofile = user_profiles[392]\n",
    "pd.DataFrame(sorted(zip(tfidf_feature_names, \n",
    "                        user_profiles[392].flatten().tolist()), key=lambda x: -x[1])[:20],\n",
    "             columns=['token', 'relevance'])"
   ]
  },
  {
   "cell_type": "markdown",
   "metadata": {},
   "source": [
    "## 5. Generating Content Based Recommendations <a class=\"anchor\" id=\"generate\"></a>"
   ]
  },
  {
   "cell_type": "code",
   "execution_count": 14,
   "metadata": {},
   "outputs": [],
   "source": [
    "#Function to extract all movies that the user has already seen\n",
    "def get_items_interacted(person_id, train_data):\n",
    "    \n",
    "    # Get the user's data and merge in the movie information.\n",
    "    interacted_items = train_data[train_data['user_id'] == person_id]['movie_id']\n",
    "    return set(interacted_items if type(interacted_items) == pd.Series else [interacted_items])\n",
    "\n",
    "#Extract 100 most similar items to the user profile\n",
    "def get_similar_items_to_user_profile(person_id, topn=100):\n",
    "    #Computes the cosine similarity between the user profile and all item profiles\n",
    "    cosine_similarities = cosine_similarity(user_profiles[person_id], tfidf_matrix)\n",
    "    \n",
    "    #Gets the top similar items\n",
    "    similar_indices = cosine_similarities.argsort().flatten()[-topn:]\n",
    "    \n",
    "    #Sort the similar items by similarity\n",
    "    similar_items = sorted([(item_ids[i], cosine_similarities[0,i]) for i in similar_indices], key=lambda x: -x[1])\n",
    "    return similar_items\n",
    "    \n",
    "#Generate top 10 recommendations from the movies that the user has not watched yet    \n",
    "def cb_recommend_items(user_id, items_to_ignore=[], topn=10):\n",
    "    similar_items = get_similar_items_to_user_profile(user_id)\n",
    "        \n",
    "    #Ignores items the user has already interacted with\n",
    "    similar_items_filtered = list(filter(lambda x: x[0] not in items_to_ignore, similar_items))\n",
    "        \n",
    "    recommendations_df = pd.DataFrame(similar_items_filtered, columns=['movie_id', 'rating']) \\\n",
    "                                    .head(topn)\n",
    "    return list(recommendations_df['movie_id'])"
   ]
  },
  {
   "cell_type": "markdown",
   "metadata": {},
   "source": [
    "## 5. Checking recommendations for a random user <a class=\"anchor\" id=\"check\"></a>"
   ]
  },
  {
   "cell_type": "code",
   "execution_count": 16,
   "metadata": {},
   "outputs": [
    {
     "data": {
      "text/plain": [
       "['152: Star Trek: The Motion Picture',\n",
       " '201: Star Trek: Nemesis',\n",
       " '85: Raiders of the Lost Ark',\n",
       " '817: Austin Powers: The Spy Who Shagged Me',\n",
       " '818: Austin Powers in Goldmember',\n",
       " '395: AVP: Alien vs. Predator',\n",
       " '331: Jurassic Park III',\n",
       " '608: Men in Black II',\n",
       " '330: The Lost World: Jurassic Park',\n",
       " '440: Aliens vs Predator: Requiem']"
      ]
     },
     "execution_count": 16,
     "metadata": {},
     "output_type": "execute_result"
    }
   ],
   "source": [
    "#Extracting recommended items for user 933\n",
    "userr = 933\n",
    "iti = list(train_data[train_data['user_id'] == userr]['movie_id'])\n",
    "cb_recommend_items(userr, items_to_ignore=iti, topn=10)"
   ]
  },
  {
   "cell_type": "code",
   "execution_count": 17,
   "metadata": {
    "scrolled": true
   },
   "outputs": [
    {
     "data": {
      "text/plain": [
       "array(['179: The Interpreter', '98: Gladiator',\n",
       "       '22: Pirates of the Caribbean: The Curse of the Black Pearl',\n",
       "       '186: Lucky Number Slevin', '193: Star Trek: Generations',\n",
       "       '174: Star Trek VI: The Undiscovered Country', '187: Sin City',\n",
       "       '73: American History X', '435: The Day After Tomorrow',\n",
       "       '654: On the Waterfront', '470: 21 Grams', '11: Star Wars',\n",
       "       '87: Indiana Jones and the Temple of Doom',\n",
       "       '196: Back to the Future Part III',\n",
       "       '89: Indiana Jones and the Last Crusade', '182: The Good German',\n",
       "       '157: Star Trek III: The Search for Spock',\n",
       "       '746: The Last Emperor', '194: Amélie', '79: Hero', '215: Saw II',\n",
       "       '173: 20,000 Leagues Under the Sea', '392: Chocolat',\n",
       "       '508: Love Actually', '218: The Terminator',\n",
       "       '153: Lost in Translation', '652: Troy', '214: Saw III',\n",
       "       '168: Star Trek IV: The Voyage Home', '95: Armageddon',\n",
       "       '239: Some Like It Hot', '403: Driving Miss Daisy',\n",
       "       '121: The Lord of the Rings: The Two Towers',\n",
       "       '840: Close Encounters of the Third Kind', '284: The Apartment',\n",
       "       \"226: Boys Don't Cry\", '393: Kill Bill: Vol. 2',\n",
       "       '546: Transamerica', '80: Before Sunset', '117: The Untouchables',\n",
       "       '559: Spider-Man 3', '96: Beverly Hills Cop II',\n",
       "       '38: Eternal Sunshine of the Spotless Mind', '710: GoldenEye',\n",
       "       '627: Trainspotting',\n",
       "       '411: The Chronicles of Narnia: The Lion, the Witch and the Wardrobe',\n",
       "       '70: Million Dollar Baby', '568: Apollo 13',\n",
       "       '172: Star Trek V: The Final Frontier',\n",
       "       '154: Star Trek II: The Wrath of Khan', '167: K-PAX',\n",
       "       \"163: Ocean's Twelve\", '105: Back to the Future',\n",
       "       '238: The Godfather', '184: Jackie Brown', '578: Jaws',\n",
       "       '62: 2001: A Space Odyssey', '219: Volver',\n",
       "       \"424: Schindler's List\", '585: Monsters, Inc.', '597: Titanic',\n",
       "       '834: Underworld: Evolution', '576: The Wild Bunch',\n",
       "       '453: A Beautiful Mind', '231: Syriana', '388: Inside Man',\n",
       "       '433: Mary Poppins', '1246: Rocky Balboa', '679: Aliens',\n",
       "       '550: Fight Club', '451: Leaving Las Vegas', '765: Evil Dead II',\n",
       "       '391: A Fistful of Dollars'], dtype=object)"
      ]
     },
     "execution_count": 17,
     "metadata": {},
     "output_type": "execute_result"
    }
   ],
   "source": [
    "# 933's rated items from train set\n",
    "train_data[train_data['user_id'] == userr].sort_values(by = 'rating',ascending = False)['movie_id'].values"
   ]
  },
  {
   "cell_type": "code",
   "execution_count": 18,
   "metadata": {},
   "outputs": [
    {
     "name": "stdout",
     "output_type": "stream",
     "text": [
      "(1, 500)\n"
     ]
    },
    {
     "data": {
      "text/html": [
       "<div>\n",
       "<style scoped>\n",
       "    .dataframe tbody tr th:only-of-type {\n",
       "        vertical-align: middle;\n",
       "    }\n",
       "\n",
       "    .dataframe tbody tr th {\n",
       "        vertical-align: top;\n",
       "    }\n",
       "\n",
       "    .dataframe thead th {\n",
       "        text-align: right;\n",
       "    }\n",
       "</style>\n",
       "<table border=\"1\" class=\"dataframe\">\n",
       "  <thead>\n",
       "    <tr style=\"text-align: right;\">\n",
       "      <th></th>\n",
       "      <th>token</th>\n",
       "      <th>relevance</th>\n",
       "    </tr>\n",
       "  </thead>\n",
       "  <tbody>\n",
       "    <tr>\n",
       "      <th>0</th>\n",
       "      <td>adventure</td>\n",
       "      <td>0.227359</td>\n",
       "    </tr>\n",
       "    <tr>\n",
       "      <th>1</th>\n",
       "      <td>drama</td>\n",
       "      <td>0.201216</td>\n",
       "    </tr>\n",
       "    <tr>\n",
       "      <th>2</th>\n",
       "      <td>action</td>\n",
       "      <td>0.194974</td>\n",
       "    </tr>\n",
       "    <tr>\n",
       "      <th>3</th>\n",
       "      <td>fiction</td>\n",
       "      <td>0.180199</td>\n",
       "    </tr>\n",
       "    <tr>\n",
       "      <th>4</th>\n",
       "      <td>science</td>\n",
       "      <td>0.180199</td>\n",
       "    </tr>\n",
       "    <tr>\n",
       "      <th>5</th>\n",
       "      <td>science fiction</td>\n",
       "      <td>0.180199</td>\n",
       "    </tr>\n",
       "    <tr>\n",
       "      <th>6</th>\n",
       "      <td>thriller</td>\n",
       "      <td>0.163340</td>\n",
       "    </tr>\n",
       "    <tr>\n",
       "      <th>7</th>\n",
       "      <td>crime</td>\n",
       "      <td>0.159915</td>\n",
       "    </tr>\n",
       "    <tr>\n",
       "      <th>8</th>\n",
       "      <td>george</td>\n",
       "      <td>0.129635</td>\n",
       "    </tr>\n",
       "    <tr>\n",
       "      <th>9</th>\n",
       "      <td>james</td>\n",
       "      <td>0.120917</td>\n",
       "    </tr>\n",
       "    <tr>\n",
       "      <th>10</th>\n",
       "      <td>romance</td>\n",
       "      <td>0.113661</td>\n",
       "    </tr>\n",
       "    <tr>\n",
       "      <th>11</th>\n",
       "      <td>leonard nimoy</td>\n",
       "      <td>0.111794</td>\n",
       "    </tr>\n",
       "    <tr>\n",
       "      <th>12</th>\n",
       "      <td>nimoy</td>\n",
       "      <td>0.111794</td>\n",
       "    </tr>\n",
       "    <tr>\n",
       "      <th>13</th>\n",
       "      <td>comedy</td>\n",
       "      <td>0.109393</td>\n",
       "    </tr>\n",
       "    <tr>\n",
       "      <th>14</th>\n",
       "      <td>brother</td>\n",
       "      <td>0.106665</td>\n",
       "    </tr>\n",
       "    <tr>\n",
       "      <th>15</th>\n",
       "      <td>leonard</td>\n",
       "      <td>0.106553</td>\n",
       "    </tr>\n",
       "    <tr>\n",
       "      <th>16</th>\n",
       "      <td>tony</td>\n",
       "      <td>0.105102</td>\n",
       "    </tr>\n",
       "    <tr>\n",
       "      <th>17</th>\n",
       "      <td>richard</td>\n",
       "      <td>0.104205</td>\n",
       "    </tr>\n",
       "    <tr>\n",
       "      <th>18</th>\n",
       "      <td>sean</td>\n",
       "      <td>0.103330</td>\n",
       "    </tr>\n",
       "    <tr>\n",
       "      <th>19</th>\n",
       "      <td>of</td>\n",
       "      <td>0.102114</td>\n",
       "    </tr>\n",
       "  </tbody>\n",
       "</table>\n",
       "</div>"
      ],
      "text/plain": [
       "              token  relevance\n",
       "0         adventure   0.227359\n",
       "1             drama   0.201216\n",
       "2            action   0.194974\n",
       "3           fiction   0.180199\n",
       "4           science   0.180199\n",
       "5   science fiction   0.180199\n",
       "6          thriller   0.163340\n",
       "7             crime   0.159915\n",
       "8            george   0.129635\n",
       "9             james   0.120917\n",
       "10          romance   0.113661\n",
       "11    leonard nimoy   0.111794\n",
       "12            nimoy   0.111794\n",
       "13           comedy   0.109393\n",
       "14          brother   0.106665\n",
       "15          leonard   0.106553\n",
       "16             tony   0.105102\n",
       "17          richard   0.104205\n",
       "18             sean   0.103330\n",
       "19               of   0.102114"
      ]
     },
     "execution_count": 18,
     "metadata": {},
     "output_type": "execute_result"
    }
   ],
   "source": [
    "#Profile for the user 933\n",
    "user_profile = user_profiles[userr]\n",
    "print(user_profile.shape)\n",
    "pd.DataFrame(sorted(zip(tfidf_feature_names, \n",
    "                        user_profiles[userr].flatten().tolist()), key=lambda x: -x[1])[:20],\n",
    "             columns=['token', 'relevance'])"
   ]
  },
  {
   "cell_type": "markdown",
   "metadata": {},
   "source": [
    "## 6. Evaluation using Mean Average Precision at 10 <a class=\"anchor\" id=\"evaluation\"></a>"
   ]
  },
  {
   "cell_type": "code",
   "execution_count": 19,
   "metadata": {},
   "outputs": [],
   "source": [
    "#Implementation for average precision@k\n",
    "def apk(actual, predicted, k=3):\n",
    "    actual = list(actual)\n",
    "    predicted = list(predicted)\n",
    "    \n",
    "    if len(predicted)>k:\n",
    "        predicted = predicted[:k]\n",
    "\n",
    "    score = 0.0\n",
    "    num_hits = 0.0\n",
    "\n",
    "    for i,p in enumerate(predicted):\n",
    "        if p in actual and p not in predicted[:i]:\n",
    "            num_hits += 1.0\n",
    "            score += num_hits / (i+1.0)\n",
    "            \n",
    "    if not actual:\n",
    "        return 0.0\n",
    "    if num_hits == 0:\n",
    "        return 0\n",
    "    else:\n",
    "        return score / num_hits"
   ]
  },
  {
   "cell_type": "markdown",
   "metadata": {},
   "source": [
    "**Testing performance with MAP@k**"
   ]
  },
  {
   "cell_type": "code",
   "execution_count": 20,
   "metadata": {
    "scrolled": true
   },
   "outputs": [
    {
     "name": "stdout",
     "output_type": "stream",
     "text": [
      "0.11881219559199693\n"
     ]
    }
   ],
   "source": [
    "#List of unique users from test set\n",
    "user_ids = list(test_data['user_id'].unique())\n",
    "sum_ap = 0\n",
    "ap_user = []\n",
    "for user in user_ids:\n",
    "    #Ignoring movies that the user has already rated\n",
    "    iti = list(train_data[train_data['user_id'] == user]['movie_id'])\n",
    "    \n",
    "    #Creating recommendations for each user\n",
    "    rec = cb_recommend_items(user, items_to_ignore=iti, topn=10)\n",
    "    \n",
    "    #Actual movies rated by the user\n",
    "    act = list(test_data[test_data['user_id'] == user]['movie_id'])\n",
    "    \n",
    "    #Calculating Average Precision@K for each user\n",
    "    ap = apk(act, rec, k=10)\n",
    "    ap_user.append(ap)\n",
    "    \n",
    "    #Sum of precisions\n",
    "    sum_ap += ap\n",
    "\n",
    "#Mean average precision@10\n",
    "map_at_10 = sum_ap/len(user_ids)\n",
    "print(map_at_10)\n"
   ]
  }
 ],
 "metadata": {
  "kernelspec": {
   "display_name": "Python 3 (ipykernel)",
   "language": "python",
   "name": "python3"
  },
  "language_info": {
   "codemirror_mode": {
    "name": "ipython",
    "version": 3
   },
   "file_extension": ".py",
   "mimetype": "text/x-python",
   "name": "python",
   "nbconvert_exporter": "python",
   "pygments_lexer": "ipython3",
   "version": "3.11.4"
  }
 },
 "nbformat": 4,
 "nbformat_minor": 4
}
