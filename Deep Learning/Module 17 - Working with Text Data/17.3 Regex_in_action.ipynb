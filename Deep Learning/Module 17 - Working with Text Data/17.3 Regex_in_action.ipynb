{
  "nbformat": 4,
  "nbformat_minor": 0,
  "metadata": {
    "colab": {
      "name": "3. Regular_Expressions.ipynb",
      "provenance": [],
      "collapsed_sections": []
    },
    "kernelspec": {
      "display_name": "Python 3",
      "language": "python",
      "name": "python3"
    },
    "language_info": {
      "codemirror_mode": {
        "name": "ipython",
        "version": 3
      },
      "file_extension": ".py",
      "mimetype": "text/x-python",
      "name": "python",
      "nbconvert_exporter": "python",
      "pygments_lexer": "ipython3",
      "version": "3.6.7"
    }
  },
  "cells": [
    {
      "cell_type": "markdown",
      "metadata": {
        "colab_type": "text",
        "id": "Zf0s_g8kcGwX"
      },
      "source": [
        "# Learn to Use Regular Expressions (RegEx)"
      ]
    },
    {
      "cell_type": "markdown",
      "metadata": {
        "colab_type": "text",
        "id": "BzgUXp2t5t__"
      },
      "source": [
        "Python has a built-in module to work with regular expressions called **re**. Some of the commonly used methods from the **re** module are listed below:\n",
        "\n",
        "1.re.match( )\n",
        "\n",
        "2.re.search( )\n",
        "\n",
        "3.re.findall( )\n",
        "\n",
        "4.re.sub( )\n",
        "\n",
        "<br>\n",
        "\n",
        "Let us look at each method with the help of example.\n",
        "\n",
        "**1. re.match()**\n",
        "\n",
        "The re.match function returns a match object on success and none on failure. "
      ]
    },
    {
      "cell_type": "code",
      "metadata": {
        "colab_type": "code",
        "id": "LiXEkNiFsuyl",
        "outputId": "bb5e5c36-9a1a-4e4d-a18f-ad1e4544ae8c",
        "colab": {
          "base_uri": "https://localhost:8080/",
          "height": 52
        }
      },
      "source": [
        "# import re library\n",
        "import re\n",
        "\n",
        "#match a word at the beginning of a string\n",
        "\n",
        "result = re.match('Analytics','Analytics Vidhya is the largest data science community of India') \n",
        "print(result)\n",
        "\n",
        "result_2 = re.match('largest','Analytics Vidhya is the largest data science community of India') \n",
        "print(result_2)"
      ],
      "execution_count": 0,
      "outputs": [
        {
          "output_type": "stream",
          "text": [
            "<_sre.SRE_Match object; span=(0, 9), match='Analytics'>\n",
            "None\n"
          ],
          "name": "stdout"
        }
      ]
    },
    {
      "cell_type": "markdown",
      "metadata": {
        "colab_type": "text",
        "id": "8vocMyh-ecWx"
      },
      "source": [
        "Since output of the re.match is an object, we will use *group()* function of match object to get the matched expression."
      ]
    },
    {
      "cell_type": "code",
      "metadata": {
        "colab_type": "code",
        "id": "UH1qzis2ebvp",
        "outputId": "7e33cc10-6430-42e0-c5b7-5c54f887d4ad",
        "colab": {
          "base_uri": "https://localhost:8080/",
          "height": 34
        }
      },
      "source": [
        "print(result.group())  #returns the total matches"
      ],
      "execution_count": 0,
      "outputs": [
        {
          "output_type": "stream",
          "text": [
            "Analytics\n"
          ],
          "name": "stdout"
        }
      ]
    },
    {
      "cell_type": "markdown",
      "metadata": {
        "colab_type": "text",
        "id": "kamRye8242ZW"
      },
      "source": [
        "<br>\n",
        "\n",
        "**2. re.search()**\n",
        "\n",
        "Matches the first occurence of a pattern in the entire string."
      ]
    },
    {
      "cell_type": "code",
      "metadata": {
        "colab_type": "code",
        "id": "tPWpkEMT15yo",
        "outputId": "e33fbece-2be7-4532-97bf-1a4585294eef",
        "colab": {
          "base_uri": "https://localhost:8080/",
          "height": 34
        }
      },
      "source": [
        "# search for the pattern \"founded\" in a given string\n",
        "result = re.search('founded','Andrew NG founded Coursera. He also founded deeplearning.ai')\n",
        "print(result.group())"
      ],
      "execution_count": 0,
      "outputs": [
        {
          "output_type": "stream",
          "text": [
            "founded\n"
          ],
          "name": "stdout"
        }
      ]
    },
    {
      "cell_type": "markdown",
      "metadata": {
        "colab_type": "text",
        "id": "C3rEa5tA-p1v"
      },
      "source": [
        "<br>\n",
        "\n",
        "**3. re.findall()**\n",
        "\n",
        "It will return all the occurrences of the pattern from the string. I would recommend you to use *re.findall()* always, it can work like both *re.search()* and *re.match()*."
      ]
    },
    {
      "cell_type": "code",
      "metadata": {
        "colab_type": "code",
        "id": "FnX7nhmm15wv",
        "outputId": "082039ec-59c0-4f42-b18a-a672a7439fa8",
        "colab": {
          "base_uri": "https://localhost:8080/",
          "height": 34
        }
      },
      "source": [
        "result = re.findall('founded','Andrew NG founded Coursera. He also founded deeplearning.ai')  \n",
        "print(result)"
      ],
      "execution_count": 0,
      "outputs": [
        {
          "output_type": "stream",
          "text": [
            "['founded', 'founded']\n"
          ],
          "name": "stdout"
        }
      ]
    },
    {
      "cell_type": "markdown",
      "metadata": {
        "id": "0kcvKxNopI9t",
        "colab_type": "text"
      },
      "source": [
        "__4. re.sub()__\n",
        "\n",
        "This method returns a string where matched occurences are replaced with a new text string."
      ]
    },
    {
      "cell_type": "code",
      "metadata": {
        "id": "FfzqKbFKptH7",
        "colab_type": "code",
        "outputId": "a69386d4-a2b9-4e7b-d404-643d78970fdc",
        "colab": {
          "base_uri": "https://localhost:8080/",
          "height": 34
        }
      },
      "source": [
        "result = re.sub('He', 'Andrew NG', 'Andrew NG founded Coursera. He also founded deeplearning.ai')  \n",
        "print(result)"
      ],
      "execution_count": 0,
      "outputs": [
        {
          "output_type": "stream",
          "text": [
            "Andrew NG founded Coursera. Andrew NG also founded deeplearning.ai\n"
          ],
          "name": "stdout"
        }
      ]
    },
    {
      "cell_type": "code",
      "metadata": {
        "id": "B_DKsBbPqG7G",
        "colab_type": "code",
        "outputId": "02f7e652-f1f6-47b8-8113-09f6568b2455",
        "colab": {
          "base_uri": "https://localhost:8080/",
          "height": 34
        }
      },
      "source": [
        "result = re.sub('also', '', 'Andrew NG founded Coursera. He also founded deeplearning.ai')  \n",
        "print(result)"
      ],
      "execution_count": 0,
      "outputs": [
        {
          "output_type": "stream",
          "text": [
            "Andrew NG founded Coursera. He  founded deeplearning.ai\n"
          ],
          "name": "stdout"
        }
      ]
    },
    {
      "cell_type": "markdown",
      "metadata": {
        "colab_type": "text",
        "id": "xQmyJ3li_FA4"
      },
      "source": [
        "### Special sequences"
      ]
    },
    {
      "cell_type": "markdown",
      "metadata": {
        "colab_type": "text",
        "id": "9cuV3PLx_0QN"
      },
      "source": [
        "1. **\\b** returns a match where the specified pattern is at the beginning or at the end of a word."
      ]
    },
    {
      "cell_type": "code",
      "metadata": {
        "colab_type": "code",
        "id": "WHo26_h_-QcB",
        "outputId": "609e9e28-6fca-4f22-b38e-1b929d8a8373",
        "colab": {
          "base_uri": "https://localhost:8080/",
          "height": 34
        }
      },
      "source": [
        "# Check if there is any word that ends with \"est\"\n",
        "x = re.findall(r\"ics\\b\", \"Analytics Vidhya is one of the largest data science communities\")\n",
        "print(x)"
      ],
      "execution_count": 0,
      "outputs": [
        {
          "output_type": "stream",
          "text": [
            "['ics']\n"
          ],
          "name": "stdout"
        }
      ]
    },
    {
      "cell_type": "code",
      "metadata": {
        "id": "yVKk8i4j7Rul",
        "colab_type": "code",
        "outputId": "b3aed7bf-e439-48fa-c53f-afdfb88e695a",
        "colab": {
          "base_uri": "https://localhost:8080/",
          "height": 34
        }
      },
      "source": [
        "# Check if there is any word that ends with \"est\"\n",
        "x = re.findall(r\"est\\b\", \"Analytics Vidhya is one of the largest data science communities\")\n",
        "print(x)"
      ],
      "execution_count": 0,
      "outputs": [
        {
          "output_type": "stream",
          "text": [
            "['est']\n"
          ],
          "name": "stdout"
        }
      ]
    },
    {
      "cell_type": "markdown",
      "metadata": {
        "colab_type": "text",
        "id": "jf8OMVMH-a3F"
      },
      "source": [
        "It returns the last three characters of the word \"largest\"."
      ]
    },
    {
      "cell_type": "markdown",
      "metadata": {
        "colab_type": "text",
        "id": "I5dAw37yBkKb"
      },
      "source": [
        "2. **\\d** returns a match when the string contains digits (numbers from 0-9)"
      ]
    },
    {
      "cell_type": "code",
      "metadata": {
        "colab_type": "code",
        "id": "bJfck2AgsRYO",
        "outputId": "c2095ec1-a0c7-4804-f1ea-74abfa892b86",
        "colab": {
          "base_uri": "https://localhost:8080/",
          "height": 34
        }
      },
      "source": [
        "str = \"2 million monthly visits in Jan'19.\"\n",
        "\n",
        "# Check if the string contains any digits (numbers from 0-9):\n",
        "x = re.findall(\"\\d\", str)\n",
        "\n",
        "print(x)"
      ],
      "execution_count": 0,
      "outputs": [
        {
          "output_type": "stream",
          "text": [
            "['2', '1', '9']\n"
          ],
          "name": "stdout"
        }
      ]
    },
    {
      "cell_type": "code",
      "metadata": {
        "colab_type": "code",
        "id": "RPfU5fMNiu6o",
        "outputId": "abc73a4f-2df5-43f2-cc78-ef354f2cdda6",
        "colab": {
          "base_uri": "https://localhost:8080/",
          "height": 34
        }
      },
      "source": [
        "str = \"2 million monthly visits in Jan'19.\"\n",
        "\n",
        "# Check if the string contains any digits (numbers from 0-9):\n",
        "# adding '+' after '\\d' will continue to extract digits till encounters a space\n",
        "x = re.findall(\"\\d+\", str)\n",
        "\n",
        "print(x)"
      ],
      "execution_count": 0,
      "outputs": [
        {
          "output_type": "stream",
          "text": [
            "['2', '19']\n"
          ],
          "name": "stdout"
        }
      ]
    },
    {
      "cell_type": "markdown",
      "metadata": {
        "colab_type": "text",
        "id": "VmrhSJKkjAR2"
      },
      "source": [
        "We can infer that **\\d+** repeats one or more occurences of **\\d** till the non maching character is found where as **\\d** does character wise comparison."
      ]
    },
    {
      "cell_type": "markdown",
      "metadata": {
        "colab_type": "text",
        "id": "m4IXrubzCSKD"
      },
      "source": [
        "3. **\\w** helps in extraction of alphanumeric characters only (characters from a to Z, digits from 0-9, and the underscore _ character)\n"
      ]
    },
    {
      "cell_type": "code",
      "metadata": {
        "colab_type": "code",
        "id": "h7SH3j7Aj5Iv",
        "outputId": "3c578b8f-da85-4c62-9e3f-869c0215657f",
        "colab": {
          "base_uri": "https://localhost:8080/",
          "height": 34
        }
      },
      "source": [
        "str = \"2 million monthly visits!\"\n",
        "\n",
        "x = re.findall(\"\\w+\",str)\n",
        "\n",
        "print(x)"
      ],
      "execution_count": 0,
      "outputs": [
        {
          "output_type": "stream",
          "text": [
            "['2', 'million', 'monthly', 'visits']\n"
          ],
          "name": "stdout"
        }
      ]
    },
    {
      "cell_type": "markdown",
      "metadata": {
        "colab_type": "text",
        "id": "UIaXDjPYDT1S"
      },
      "source": [
        "## Metacharacters\n",
        "\n",
        "Metacharacters are characters with a special meaning\n",
        "\n",
        "1. **(.)** matches any character (except newline character)"
      ]
    },
    {
      "cell_type": "code",
      "metadata": {
        "colab_type": "code",
        "id": "hFZuFqBdDS3l",
        "outputId": "3e79a0ad-f8e4-4f3d-b9f2-46cf845ff2da",
        "colab": {
          "base_uri": "https://localhost:8080/",
          "height": 34
        }
      },
      "source": [
        "str = \"rohan and rohit recently published a research paper!\" \n",
        "\n",
        "# search for a string that starts with \"ro\", followed by 1 character\n",
        "x = re.findall(\"ro.\", str)\n",
        "\n",
        "print(x)"
      ],
      "execution_count": 0,
      "outputs": [
        {
          "output_type": "stream",
          "text": [
            "['roh', 'roh']\n"
          ],
          "name": "stdout"
        }
      ]
    },
    {
      "cell_type": "code",
      "metadata": {
        "id": "tTbMuMd_5vFb",
        "colab_type": "code",
        "outputId": "0787d1e1-cb71-4918-bf6f-709fd2182350",
        "colab": {
          "base_uri": "https://localhost:8080/",
          "height": 34
        }
      },
      "source": [
        "# search for a string that starts with \"ro\", followed by three characters\n",
        "x2 = re.findall(\"ro...\", str)\n",
        "\n",
        "print(x2)"
      ],
      "execution_count": 0,
      "outputs": [
        {
          "output_type": "stream",
          "text": [
            "['rohan', 'rohit']\n"
          ],
          "name": "stdout"
        }
      ]
    },
    {
      "cell_type": "markdown",
      "metadata": {
        "colab_type": "text",
        "id": "zI7dJWYpDl3G"
      },
      "source": [
        "2. **(^)** starts with"
      ]
    },
    {
      "cell_type": "code",
      "metadata": {
        "colab_type": "code",
        "id": "_3uPdcQPDlR0",
        "outputId": "c88e8422-8f8a-4cd5-f3d9-a7249e394223",
        "colab": {
          "base_uri": "https://localhost:8080/",
          "height": 34
        }
      },
      "source": [
        "str = \"Data Science\"\n",
        "\n",
        "#Check if the string starts with 'Data':\n",
        "x = re.findall(\"^Data\", str)\n",
        "\n",
        "if (x):\n",
        "  print(\"Yes, the string starts with 'Data'\")\n",
        "else:\n",
        "  print(\"No match\")\n",
        "  \n",
        "#print(x)  "
      ],
      "execution_count": 0,
      "outputs": [
        {
          "output_type": "stream",
          "text": [
            "Yes, the string starts with 'Data'\n"
          ],
          "name": "stdout"
        }
      ]
    },
    {
      "cell_type": "code",
      "metadata": {
        "colab_type": "code",
        "id": "QTbvAIFfHAVY",
        "outputId": "b19a6573-1645-4d57-de18-ea40474900b5",
        "colab": {
          "base_uri": "https://localhost:8080/",
          "height": 34
        }
      },
      "source": [
        "# try with a different string\n",
        "str2 = \"Big Data\"\n",
        "\n",
        "#Check if the string starts with 'Data':\n",
        "x2 = re.findall(\"^Data\", str2)\n",
        "\n",
        "if (x2):\n",
        "  print(\"Yes, the string starts with 'data'\")\n",
        "else:\n",
        "  print(\"No match\")\n",
        "  \n",
        "#print(x2)  "
      ],
      "execution_count": 0,
      "outputs": [
        {
          "output_type": "stream",
          "text": [
            "No match\n"
          ],
          "name": "stdout"
        }
      ]
    },
    {
      "cell_type": "markdown",
      "metadata": {
        "colab_type": "text",
        "id": "8uPoaY_ID0LW"
      },
      "source": [
        "3. **($)** ends with"
      ]
    },
    {
      "cell_type": "code",
      "metadata": {
        "colab_type": "code",
        "id": "IK_XYDpmC9f_",
        "outputId": "0094b9e0-d818-4c85-8e03-e6650d4a83f3",
        "colab": {
          "base_uri": "https://localhost:8080/",
          "height": 34
        }
      },
      "source": [
        "str = \"Data Science\"\n",
        "\n",
        "#Check if the string ends with 'Science':\n",
        "\n",
        "x = re.findall(\"Science$\", str)\n",
        "\n",
        "if (x):\n",
        "  print(\"Yes, the string ends with 'Science'\")\n",
        "\n",
        "else:\n",
        "  print(\"No match\")\n",
        "  \n",
        "#print(x)"
      ],
      "execution_count": 0,
      "outputs": [
        {
          "output_type": "stream",
          "text": [
            "Yes, the string ends with 'Science'\n"
          ],
          "name": "stdout"
        }
      ]
    },
    {
      "cell_type": "code",
      "metadata": {
        "id": "qV9oLbgGg2A4",
        "colab_type": "code",
        "outputId": "32435741-a93e-4045-a9d2-90fe8f59b8d9",
        "colab": {
          "base_uri": "https://localhost:8080/",
          "height": 34
        }
      },
      "source": [
        "str = \"Big Data\"\n",
        "\n",
        "#Check if the string ends with 'Science':\n",
        "\n",
        "x = re.findall(\"Science$\", str)\n",
        "\n",
        "if (x):\n",
        "  print(\"Yes, the string ends with 'Science'\")\n",
        "\n",
        "else:\n",
        "  print(\"No match\")\n",
        "  \n",
        "#print(x)"
      ],
      "execution_count": 0,
      "outputs": [
        {
          "output_type": "stream",
          "text": [
            "No match\n"
          ],
          "name": "stdout"
        }
      ]
    },
    {
      "cell_type": "markdown",
      "metadata": {
        "colab_type": "text",
        "id": "Fz089xrhD-HP"
      },
      "source": [
        "4. (*) matches for zero or more occurences of the pattern to the left of it."
      ]
    },
    {
      "cell_type": "code",
      "metadata": {
        "colab_type": "code",
        "id": "5vXhYm30CRi4",
        "outputId": "fb309a36-13f8-49eb-d15c-67965b9641d0",
        "colab": {
          "base_uri": "https://localhost:8080/",
          "height": 34
        }
      },
      "source": [
        "str = \"easy easssy eay eaty\"\n",
        "\n",
        "#Check if the string contains \"ea\" followed by 0 or more \"s\" characters and ending with y\n",
        "x = re.findall(\"eas*y\", str)\n",
        "\n",
        "print(x)"
      ],
      "execution_count": 0,
      "outputs": [
        {
          "output_type": "stream",
          "text": [
            "['easy', 'easssy', 'eay']\n"
          ],
          "name": "stdout"
        }
      ]
    },
    {
      "cell_type": "markdown",
      "metadata": {
        "colab_type": "text",
        "id": "Bvc01ip_E_la"
      },
      "source": [
        "## Sets\n",
        "\n",
        "1. A set is a bunch of characters inside a pair of square brackets [ ] with a special meaning."
      ]
    },
    {
      "cell_type": "code",
      "metadata": {
        "colab_type": "code",
        "id": "qvUXj2t6EgqK",
        "outputId": "54ee7231-2a4a-4dc9-ac79-c3a4446b841a",
        "colab": {
          "base_uri": "https://localhost:8080/",
          "height": 34
        }
      },
      "source": [
        "str = \"Analytics Vidhya is one of the largest data science communities\"\n",
        "\n",
        "#Check for the characters y, d, or h, in the above string\n",
        "x = re.findall(\"[ydh]\", str)\n",
        "\n",
        "print(x)"
      ],
      "execution_count": 0,
      "outputs": [
        {
          "output_type": "stream",
          "text": [
            "['y', 'd', 'h', 'y', 'h', 'd']\n"
          ],
          "name": "stdout"
        }
      ]
    },
    {
      "cell_type": "code",
      "metadata": {
        "colab_type": "code",
        "id": "SsizfCMeK7w0",
        "outputId": "851dc948-a155-4f24-d56f-b4fc6a371f63",
        "colab": {
          "base_uri": "https://localhost:8080/",
          "height": 34
        }
      },
      "source": [
        "str = \"Analytics Vidhya is the one of the largest data science communities\"\n",
        "\n",
        "#Check for the characters between a and g, in the above string\n",
        "x = re.findall(\"[a-g]\", str)\n",
        "\n",
        "print(x)"
      ],
      "execution_count": 0,
      "outputs": [
        {
          "output_type": "stream",
          "text": [
            "['a', 'c', 'd', 'a', 'e', 'e', 'f', 'e', 'a', 'g', 'e', 'd', 'a', 'a', 'c', 'e', 'c', 'e', 'c', 'e']\n"
          ],
          "name": "stdout"
        }
      ]
    },
    {
      "cell_type": "markdown",
      "metadata": {
        "colab_type": "text",
        "id": "F9fLACdByqG4"
      },
      "source": [
        "2. **[^]** Check whether string has other characters mentioned after ^"
      ]
    },
    {
      "cell_type": "code",
      "metadata": {
        "colab_type": "code",
        "id": "E-RchTxCFB9Z",
        "outputId": "72d6771b-9fa3-48b6-e54c-dae0b2a2c530",
        "colab": {
          "base_uri": "https://localhost:8080/",
          "height": 54
        }
      },
      "source": [
        "str = \"Analytics Vidhya is one of the largest data sciece communities\"\n",
        "\n",
        "#Check if every word character has characters other than y, d, or h\n",
        "\n",
        "x = re.findall(\"[^ydh]\", str)\n",
        "\n",
        "print(x)"
      ],
      "execution_count": 0,
      "outputs": [
        {
          "output_type": "stream",
          "text": [
            "['A', 'n', 'a', 'l', 't', 'i', 'c', 's', ' ', 'V', 'i', 'a', ' ', 'i', 's', ' ', 'o', 'n', 'e', ' ', 'o', 'f', ' ', 't', 'e', ' ', 'l', 'a', 'r', 'g', 'e', 's', 't', ' ', 'a', 't', 'a', ' ', 's', 'c', 'i', 'e', 'c', 'e', ' ', 'c', 'o', 'm', 'm', 'u', 'n', 'i', 't', 'i', 'e', 's']\n"
          ],
          "name": "stdout"
        }
      ]
    },
    {
      "cell_type": "code",
      "metadata": {
        "id": "bnIyO4jBq7ev",
        "colab_type": "code",
        "outputId": "28488a75-bb6e-40b9-f4c7-d7806547b4bf",
        "colab": {
          "base_uri": "https://localhost:8080/",
          "height": 34
        }
      },
      "source": [
        "str = \"@AnalyticsVidhya\"\n",
        "\n",
        "x = re.findall(\"[^@]\", str)\n",
        "\n",
        "print(x)"
      ],
      "execution_count": 0,
      "outputs": [
        {
          "output_type": "stream",
          "text": [
            "['A', 'n', 'a', 'l', 'y', 't', 'i', 'c', 's', 'V', 'i', 'd', 'h', 'y', 'a']\n"
          ],
          "name": "stdout"
        }
      ]
    },
    {
      "cell_type": "markdown",
      "metadata": {
        "colab_type": "text",
        "id": "58EH37MJ3b2t"
      },
      "source": [
        "---\n",
        "## Solve Some Queries\n",
        "\n",
        "Let us try solving some queries that we are likeli to come across while working with real world text datasets.\n",
        "\n"
      ]
    },
    {
      "cell_type": "markdown",
      "metadata": {
        "id": "fTxr0XL0uQRz",
        "colab_type": "text"
      },
      "source": [
        "### Eliminating Unwanted Terms"
      ]
    },
    {
      "cell_type": "code",
      "metadata": {
        "id": "ERuBZsjmvYfV",
        "colab_type": "code",
        "outputId": "d8af2172-7926-4793-9d26-a9bf5ead10e4",
        "colab": {
          "base_uri": "https://localhost:8080/",
          "height": 34
        }
      },
      "source": [
        "str = \"@AV a Data Science community #AV!!\"\n",
        "\n",
        "# extract words that start with a special character\n",
        "x = re.sub(\"[^a-zA-Z ]\", \"\",str)\n",
        "\n",
        "print(x)"
      ],
      "execution_count": 0,
      "outputs": [
        {
          "output_type": "stream",
          "text": [
            "AV a Data Science community AV\n"
          ],
          "name": "stdout"
        }
      ]
    },
    {
      "cell_type": "code",
      "metadata": {
        "id": "a1W_Thott5eu",
        "colab_type": "code",
        "outputId": "d1667a7c-d9db-4393-aecd-e355d34777a8",
        "colab": {
          "base_uri": "https://localhost:8080/",
          "height": 34
        }
      },
      "source": [
        "str = \"@AV a Data Science community #AV!!\"\n",
        "\n",
        "# extract words that start with a special character\n",
        "# \\w matches any alpha numeric character \n",
        "# + for repeats a character one or more times\n",
        "x = re.sub(\"[^a-zA-Z ]\\w+\", \"\",str)\n",
        "\n",
        "print(x)"
      ],
      "execution_count": 0,
      "outputs": [
        {
          "output_type": "stream",
          "text": [
            " a Data Science community !!\n"
          ],
          "name": "stdout"
        }
      ]
    },
    {
      "cell_type": "markdown",
      "metadata": {
        "id": "fZVxO8pZuMxZ",
        "colab_type": "text"
      },
      "source": [
        "### Finding Email IDs"
      ]
    },
    {
      "cell_type": "code",
      "metadata": {
        "colab_type": "code",
        "id": "lWfrRxAD177J",
        "outputId": "77cd095c-123c-47ef-d7f3-d3ad55096b23",
        "colab": {
          "base_uri": "https://localhost:8080/",
          "height": 34
        }
      },
      "source": [
        "str = 'Send a mail to rohan.1997@gmail.com, smith_david34@yahoo.com and priya@yahoo.com about the meeting @2PM'\n",
        "  \n",
        "# \\w matches any alpha numeric character \n",
        "# + for repeats a character one or more times\n",
        "x = re.findall('[a-zA-Z0-9._-]+@\\w+\\.com', str)     \n",
        "  \n",
        "# Printing of List \n",
        "print(x) "
      ],
      "execution_count": 0,
      "outputs": [
        {
          "output_type": "stream",
          "text": [
            "['rohan.1997@gmail.com', 'smith_david34@yahoo.com', 'priya@yahoo.com']\n"
          ],
          "name": "stdout"
        }
      ]
    },
    {
      "cell_type": "code",
      "metadata": {
        "id": "QV-sepYG5Qbt",
        "colab_type": "code",
        "colab": {}
      },
      "source": [
        ""
      ],
      "execution_count": 0,
      "outputs": []
    }
  ]
}