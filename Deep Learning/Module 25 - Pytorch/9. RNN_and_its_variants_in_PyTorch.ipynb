{
  "nbformat": 4,
  "nbformat_minor": 0,
  "metadata": {
    "colab": {
      "provenance": [],
      "collapsed_sections": [
        "f1QO2V5C1q0c",
        "iPD3sYkO2C8k",
        "8cN7_48hWIGA",
        "qWU2ZDir2q0j"
      ]
    },
    "kernelspec": {
      "name": "python3",
      "display_name": "Python 3"
    },
    "gpuClass": "standard",
    "accelerator": "GPU"
  },
  "cells": [
    {
      "cell_type": "markdown",
      "metadata": {
        "id": "mTMDkffWSky-"
      },
      "source": [
        "\n",
        "# Objective\n",
        "\n",
        "The objective of notebook is to build a model to automatically predict tags for a given a StackExchange question by using the text of the question in PyTorch.\n",
        "![alt text](https://cdn.sstatic.net/Sites/stackoverflow/company/img/logos/se/se-logo.svg?v=d29f0785ebb7)\n",
        "\n",
        "__Dataset Specs__: Over 85,000 questions and over 1300 unique tags\n",
        "\n",
        "[Download Link](https://www.kaggle.com/stackoverflow/statsquestions#Questions.csv)\n",
        "\n",
        "\n",
        "# Steps To Follow\n",
        "\n",
        "\n",
        "1. Load Data and Import Libraries\n",
        "\n",
        "2. Dataset Preparation\n",
        "\n",
        "      2.1 Merge Tags with Questions\n",
        "\n",
        "      2.2 Filter Questions with respect to Top-10 Tags\n",
        "      \n",
        "3. Text Preprocessing\n",
        "\n",
        "      3.1 Text Cleaning\n",
        "\n",
        "      3.2 Text Representation\n",
        "\n",
        "4. Model Building\n",
        "\n",
        "      4.1 Model Architecture\n",
        "\n",
        "      4.2 Model Training\n",
        "\n",
        "5. Model Evaluation\n",
        "\n",
        "      5.1 Check Performance\n",
        "\n",
        "      5.2 Show Inference\n",
        "\n",
        "6. Model Building for LSTM\n",
        "\n",
        "7. Model Evaluation for LSTM"
      ]
    },
    {
      "cell_type": "markdown",
      "metadata": {
        "id": "48YGFqrAy6zf"
      },
      "source": [
        "# 1. Load Data and Import Libraries"
      ]
    },
    {
      "cell_type": "code",
      "metadata": {
        "id": "bJvSO7bDONu4",
        "outputId": "91f2e489-dabc-43fd-83b6-4561697d5fbd",
        "colab": {
          "base_uri": "https://localhost:8080/"
        }
      },
      "source": [
        "from google.colab import drive\n",
        "drive.mount('/content/drive')"
      ],
      "execution_count": null,
      "outputs": [
        {
          "output_type": "stream",
          "name": "stdout",
          "text": [
            "Mounted at /content/drive\n"
          ]
        }
      ]
    },
    {
      "cell_type": "code",
      "metadata": {
        "id": "aZiyIx06RTdD",
        "outputId": "c5ea1add-2686-4e65-8c31-d49b032ead32",
        "colab": {
          "base_uri": "https://localhost:8080/"
        }
      },
      "source": [
        "# extract data from the ZIP file\n",
        "!unzip '/content/drive/MyDrive/AV/archive.zip'"
      ],
      "execution_count": null,
      "outputs": [
        {
          "output_type": "stream",
          "name": "stdout",
          "text": [
            "Archive:  /content/drive/MyDrive/AV/archive.zip\n",
            "  inflating: Answers.csv             \n",
            "  inflating: Questions.csv           \n",
            "  inflating: Tags.csv                \n",
            "  inflating: database.sqlite         \n"
          ]
        }
      ]
    },
    {
      "cell_type": "code",
      "metadata": {
        "id": "fM2S4yCsR7i6"
      },
      "source": [
        "#string matching\n",
        "import re \n",
        "\n",
        "#reading files\n",
        "import pandas as pd\n",
        "## change display width of pandas dataframe\n",
        "pd.set_option('display.max_colwidth', 200)\n",
        "\n",
        "#array processing\n",
        "import numpy as np\n",
        "\n",
        "#handling html data\n",
        "from bs4 import BeautifulSoup\n",
        "\n",
        "#visualization\n",
        "import matplotlib.pyplot as plt  \n",
        "\n",
        "#for metrics\n",
        "from sklearn import metrics\n",
        "\n",
        "#for seed\n",
        "import random\n",
        "\n",
        "# to one hot encode labels\n",
        "from sklearn.preprocessing import MultiLabelBinarizer\n",
        "\n",
        "#defining tensors\n",
        "import torch\n",
        "\n",
        "#layers\n",
        "from torch import nn\n",
        "\n",
        "#layers and wrappers\n",
        "from torch.nn import Sequential, Linear,  ReLU, Sigmoid, Dropout, BCELoss, Embedding, RNN, LSTM\n",
        "\n",
        "#handling text data\n",
        "from torchtext import data"
      ],
      "execution_count": null,
      "outputs": []
    },
    {
      "cell_type": "code",
      "metadata": {
        "id": "JD8BvEEFR_40"
      },
      "source": [
        "# load the stackoverflow questions dataset\n",
        "questions_df = pd.read_csv('Questions.csv',encoding='latin-1')\n",
        "\n",
        "# load the tags dataset\n",
        "tags_df = pd.read_csv('Tags.csv')"
      ],
      "execution_count": null,
      "outputs": []
    },
    {
      "cell_type": "code",
      "metadata": {
        "id": "mE88kY9WR_-n",
        "outputId": "eaea7c98-74e0-4833-c7c0-0cfec09039d9",
        "colab": {
          "base_uri": "https://localhost:8080/",
          "height": 337
        }
      },
      "source": [
        "#Glance at the first 5 rows\n",
        "questions_df.head()"
      ],
      "execution_count": null,
      "outputs": [
        {
          "output_type": "execute_result",
          "data": {
            "text/plain": [
              "   Id  OwnerUserId          CreationDate  Score  \\\n",
              "0   6          5.0  2010-07-19T19:14:44Z    272   \n",
              "1  21         59.0  2010-07-19T19:24:36Z      4   \n",
              "2  22         66.0  2010-07-19T19:25:39Z    208   \n",
              "3  31         13.0  2010-07-19T19:28:44Z    138   \n",
              "4  36          8.0  2010-07-19T19:31:47Z     58   \n",
              "\n",
              "                                                                Title  \\\n",
              "0                  The Two Cultures: statistics vs. machine learning?   \n",
              "1                                      Forecasting demographic census   \n",
              "2                 Bayesian and frequentist reasoning in plain English   \n",
              "3  What is the meaning of p values and t values in statistical tests?   \n",
              "4          Examples for teaching: Correlation does not mean causation   \n",
              "\n",
              "                                                                                                                                                                                                      Body  \n",
              "0  <p>Last year, I read a blog post from <a href=\"http://anyall.org/\">Brendan O'Connor</a> entitled <a href=\"http://anyall.org/blog/2008/12/statistics-vs-machine-learning-fight/\">\"Statistics vs. Mach...  \n",
              "1  <p>What are some of the ways to forecast demographic census with some validation and calibration techniques?</p>\\n\\n<p>Some of the concerns:</p>\\n\\n<ul>\\n<li>Census blocks vary in sizes as rural\\n...  \n",
              "2                                                                               <p>How would you describe in plain English the characteristics that distinguish Bayesian from Frequentist reasoning?</p>\\n  \n",
              "3  <p>After taking a statistics course and then trying to help fellow students, I noticed one subject that inspires much head-desk banging is interpreting the results of statistical hypothesis tests....  \n",
              "4  <p>There is an old saying: \"Correlation does not mean causation\". When I teach, I tend to use the following standard examples to illustrate this point:</p>\\n\\n<ol>\\n<li>number of storks and birth ...  "
            ],
            "text/html": [
              "\n",
              "  <div id=\"df-839872ff-5b29-4e88-bc63-0371c7bc9178\">\n",
              "    <div class=\"colab-df-container\">\n",
              "      <div>\n",
              "<style scoped>\n",
              "    .dataframe tbody tr th:only-of-type {\n",
              "        vertical-align: middle;\n",
              "    }\n",
              "\n",
              "    .dataframe tbody tr th {\n",
              "        vertical-align: top;\n",
              "    }\n",
              "\n",
              "    .dataframe thead th {\n",
              "        text-align: right;\n",
              "    }\n",
              "</style>\n",
              "<table border=\"1\" class=\"dataframe\">\n",
              "  <thead>\n",
              "    <tr style=\"text-align: right;\">\n",
              "      <th></th>\n",
              "      <th>Id</th>\n",
              "      <th>OwnerUserId</th>\n",
              "      <th>CreationDate</th>\n",
              "      <th>Score</th>\n",
              "      <th>Title</th>\n",
              "      <th>Body</th>\n",
              "    </tr>\n",
              "  </thead>\n",
              "  <tbody>\n",
              "    <tr>\n",
              "      <th>0</th>\n",
              "      <td>6</td>\n",
              "      <td>5.0</td>\n",
              "      <td>2010-07-19T19:14:44Z</td>\n",
              "      <td>272</td>\n",
              "      <td>The Two Cultures: statistics vs. machine learning?</td>\n",
              "      <td>&lt;p&gt;Last year, I read a blog post from &lt;a href=\"http://anyall.org/\"&gt;Brendan O'Connor&lt;/a&gt; entitled &lt;a href=\"http://anyall.org/blog/2008/12/statistics-vs-machine-learning-fight/\"&gt;\"Statistics vs. Mach...</td>\n",
              "    </tr>\n",
              "    <tr>\n",
              "      <th>1</th>\n",
              "      <td>21</td>\n",
              "      <td>59.0</td>\n",
              "      <td>2010-07-19T19:24:36Z</td>\n",
              "      <td>4</td>\n",
              "      <td>Forecasting demographic census</td>\n",
              "      <td>&lt;p&gt;What are some of the ways to forecast demographic census with some validation and calibration techniques?&lt;/p&gt;\\n\\n&lt;p&gt;Some of the concerns:&lt;/p&gt;\\n\\n&lt;ul&gt;\\n&lt;li&gt;Census blocks vary in sizes as rural\\n...</td>\n",
              "    </tr>\n",
              "    <tr>\n",
              "      <th>2</th>\n",
              "      <td>22</td>\n",
              "      <td>66.0</td>\n",
              "      <td>2010-07-19T19:25:39Z</td>\n",
              "      <td>208</td>\n",
              "      <td>Bayesian and frequentist reasoning in plain English</td>\n",
              "      <td>&lt;p&gt;How would you describe in plain English the characteristics that distinguish Bayesian from Frequentist reasoning?&lt;/p&gt;\\n</td>\n",
              "    </tr>\n",
              "    <tr>\n",
              "      <th>3</th>\n",
              "      <td>31</td>\n",
              "      <td>13.0</td>\n",
              "      <td>2010-07-19T19:28:44Z</td>\n",
              "      <td>138</td>\n",
              "      <td>What is the meaning of p values and t values in statistical tests?</td>\n",
              "      <td>&lt;p&gt;After taking a statistics course and then trying to help fellow students, I noticed one subject that inspires much head-desk banging is interpreting the results of statistical hypothesis tests....</td>\n",
              "    </tr>\n",
              "    <tr>\n",
              "      <th>4</th>\n",
              "      <td>36</td>\n",
              "      <td>8.0</td>\n",
              "      <td>2010-07-19T19:31:47Z</td>\n",
              "      <td>58</td>\n",
              "      <td>Examples for teaching: Correlation does not mean causation</td>\n",
              "      <td>&lt;p&gt;There is an old saying: \"Correlation does not mean causation\". When I teach, I tend to use the following standard examples to illustrate this point:&lt;/p&gt;\\n\\n&lt;ol&gt;\\n&lt;li&gt;number of storks and birth ...</td>\n",
              "    </tr>\n",
              "  </tbody>\n",
              "</table>\n",
              "</div>\n",
              "      <button class=\"colab-df-convert\" onclick=\"convertToInteractive('df-839872ff-5b29-4e88-bc63-0371c7bc9178')\"\n",
              "              title=\"Convert this dataframe to an interactive table.\"\n",
              "              style=\"display:none;\">\n",
              "        \n",
              "  <svg xmlns=\"http://www.w3.org/2000/svg\" height=\"24px\"viewBox=\"0 0 24 24\"\n",
              "       width=\"24px\">\n",
              "    <path d=\"M0 0h24v24H0V0z\" fill=\"none\"/>\n",
              "    <path d=\"M18.56 5.44l.94 2.06.94-2.06 2.06-.94-2.06-.94-.94-2.06-.94 2.06-2.06.94zm-11 1L8.5 8.5l.94-2.06 2.06-.94-2.06-.94L8.5 2.5l-.94 2.06-2.06.94zm10 10l.94 2.06.94-2.06 2.06-.94-2.06-.94-.94-2.06-.94 2.06-2.06.94z\"/><path d=\"M17.41 7.96l-1.37-1.37c-.4-.4-.92-.59-1.43-.59-.52 0-1.04.2-1.43.59L10.3 9.45l-7.72 7.72c-.78.78-.78 2.05 0 2.83L4 21.41c.39.39.9.59 1.41.59.51 0 1.02-.2 1.41-.59l7.78-7.78 2.81-2.81c.8-.78.8-2.07 0-2.86zM5.41 20L4 18.59l7.72-7.72 1.47 1.35L5.41 20z\"/>\n",
              "  </svg>\n",
              "      </button>\n",
              "      \n",
              "  <style>\n",
              "    .colab-df-container {\n",
              "      display:flex;\n",
              "      flex-wrap:wrap;\n",
              "      gap: 12px;\n",
              "    }\n",
              "\n",
              "    .colab-df-convert {\n",
              "      background-color: #E8F0FE;\n",
              "      border: none;\n",
              "      border-radius: 50%;\n",
              "      cursor: pointer;\n",
              "      display: none;\n",
              "      fill: #1967D2;\n",
              "      height: 32px;\n",
              "      padding: 0 0 0 0;\n",
              "      width: 32px;\n",
              "    }\n",
              "\n",
              "    .colab-df-convert:hover {\n",
              "      background-color: #E2EBFA;\n",
              "      box-shadow: 0px 1px 2px rgba(60, 64, 67, 0.3), 0px 1px 3px 1px rgba(60, 64, 67, 0.15);\n",
              "      fill: #174EA6;\n",
              "    }\n",
              "\n",
              "    [theme=dark] .colab-df-convert {\n",
              "      background-color: #3B4455;\n",
              "      fill: #D2E3FC;\n",
              "    }\n",
              "\n",
              "    [theme=dark] .colab-df-convert:hover {\n",
              "      background-color: #434B5C;\n",
              "      box-shadow: 0px 1px 3px 1px rgba(0, 0, 0, 0.15);\n",
              "      filter: drop-shadow(0px 1px 2px rgba(0, 0, 0, 0.3));\n",
              "      fill: #FFFFFF;\n",
              "    }\n",
              "  </style>\n",
              "\n",
              "      <script>\n",
              "        const buttonEl =\n",
              "          document.querySelector('#df-839872ff-5b29-4e88-bc63-0371c7bc9178 button.colab-df-convert');\n",
              "        buttonEl.style.display =\n",
              "          google.colab.kernel.accessAllowed ? 'block' : 'none';\n",
              "\n",
              "        async function convertToInteractive(key) {\n",
              "          const element = document.querySelector('#df-839872ff-5b29-4e88-bc63-0371c7bc9178');\n",
              "          const dataTable =\n",
              "            await google.colab.kernel.invokeFunction('convertToInteractive',\n",
              "                                                     [key], {});\n",
              "          if (!dataTable) return;\n",
              "\n",
              "          const docLinkHtml = 'Like what you see? Visit the ' +\n",
              "            '<a target=\"_blank\" href=https://colab.research.google.com/notebooks/data_table.ipynb>data table notebook</a>'\n",
              "            + ' to learn more about interactive tables.';\n",
              "          element.innerHTML = '';\n",
              "          dataTable['output_type'] = 'display_data';\n",
              "          await google.colab.output.renderOutput(dataTable, element);\n",
              "          const docLink = document.createElement('div');\n",
              "          docLink.innerHTML = docLinkHtml;\n",
              "          element.appendChild(docLink);\n",
              "        }\n",
              "      </script>\n",
              "    </div>\n",
              "  </div>\n",
              "  "
            ]
          },
          "metadata": {},
          "execution_count": 9
        }
      ]
    },
    {
      "cell_type": "code",
      "metadata": {
        "id": "qxvK_9YFG2M1",
        "outputId": "274ad5c1-ece8-4c02-c049-9e265db1ed67",
        "colab": {
          "base_uri": "https://localhost:8080/"
        }
      },
      "source": [
        "#shape of the dataset\n",
        "questions_df.shape"
      ],
      "execution_count": null,
      "outputs": [
        {
          "output_type": "execute_result",
          "data": {
            "text/plain": [
              "(85085, 6)"
            ]
          },
          "metadata": {},
          "execution_count": 10
        }
      ]
    },
    {
      "cell_type": "code",
      "metadata": {
        "id": "o7wSglDJSGWf",
        "outputId": "4deb6957-5910-4b7c-913d-c06554b025c8",
        "colab": {
          "base_uri": "https://localhost:8080/",
          "height": 206
        }
      },
      "source": [
        "#Take a glance at first 5 rows\n",
        "tags_df.head()"
      ],
      "execution_count": null,
      "outputs": [
        {
          "output_type": "execute_result",
          "data": {
            "text/plain": [
              "   Id            Tag\n",
              "0   1       bayesian\n",
              "1   1          prior\n",
              "2   1    elicitation\n",
              "3   2  distributions\n",
              "4   2      normality"
            ],
            "text/html": [
              "\n",
              "  <div id=\"df-546eea61-de5c-4249-b6b7-03b98afdb6f0\">\n",
              "    <div class=\"colab-df-container\">\n",
              "      <div>\n",
              "<style scoped>\n",
              "    .dataframe tbody tr th:only-of-type {\n",
              "        vertical-align: middle;\n",
              "    }\n",
              "\n",
              "    .dataframe tbody tr th {\n",
              "        vertical-align: top;\n",
              "    }\n",
              "\n",
              "    .dataframe thead th {\n",
              "        text-align: right;\n",
              "    }\n",
              "</style>\n",
              "<table border=\"1\" class=\"dataframe\">\n",
              "  <thead>\n",
              "    <tr style=\"text-align: right;\">\n",
              "      <th></th>\n",
              "      <th>Id</th>\n",
              "      <th>Tag</th>\n",
              "    </tr>\n",
              "  </thead>\n",
              "  <tbody>\n",
              "    <tr>\n",
              "      <th>0</th>\n",
              "      <td>1</td>\n",
              "      <td>bayesian</td>\n",
              "    </tr>\n",
              "    <tr>\n",
              "      <th>1</th>\n",
              "      <td>1</td>\n",
              "      <td>prior</td>\n",
              "    </tr>\n",
              "    <tr>\n",
              "      <th>2</th>\n",
              "      <td>1</td>\n",
              "      <td>elicitation</td>\n",
              "    </tr>\n",
              "    <tr>\n",
              "      <th>3</th>\n",
              "      <td>2</td>\n",
              "      <td>distributions</td>\n",
              "    </tr>\n",
              "    <tr>\n",
              "      <th>4</th>\n",
              "      <td>2</td>\n",
              "      <td>normality</td>\n",
              "    </tr>\n",
              "  </tbody>\n",
              "</table>\n",
              "</div>\n",
              "      <button class=\"colab-df-convert\" onclick=\"convertToInteractive('df-546eea61-de5c-4249-b6b7-03b98afdb6f0')\"\n",
              "              title=\"Convert this dataframe to an interactive table.\"\n",
              "              style=\"display:none;\">\n",
              "        \n",
              "  <svg xmlns=\"http://www.w3.org/2000/svg\" height=\"24px\"viewBox=\"0 0 24 24\"\n",
              "       width=\"24px\">\n",
              "    <path d=\"M0 0h24v24H0V0z\" fill=\"none\"/>\n",
              "    <path d=\"M18.56 5.44l.94 2.06.94-2.06 2.06-.94-2.06-.94-.94-2.06-.94 2.06-2.06.94zm-11 1L8.5 8.5l.94-2.06 2.06-.94-2.06-.94L8.5 2.5l-.94 2.06-2.06.94zm10 10l.94 2.06.94-2.06 2.06-.94-2.06-.94-.94-2.06-.94 2.06-2.06.94z\"/><path d=\"M17.41 7.96l-1.37-1.37c-.4-.4-.92-.59-1.43-.59-.52 0-1.04.2-1.43.59L10.3 9.45l-7.72 7.72c-.78.78-.78 2.05 0 2.83L4 21.41c.39.39.9.59 1.41.59.51 0 1.02-.2 1.41-.59l7.78-7.78 2.81-2.81c.8-.78.8-2.07 0-2.86zM5.41 20L4 18.59l7.72-7.72 1.47 1.35L5.41 20z\"/>\n",
              "  </svg>\n",
              "      </button>\n",
              "      \n",
              "  <style>\n",
              "    .colab-df-container {\n",
              "      display:flex;\n",
              "      flex-wrap:wrap;\n",
              "      gap: 12px;\n",
              "    }\n",
              "\n",
              "    .colab-df-convert {\n",
              "      background-color: #E8F0FE;\n",
              "      border: none;\n",
              "      border-radius: 50%;\n",
              "      cursor: pointer;\n",
              "      display: none;\n",
              "      fill: #1967D2;\n",
              "      height: 32px;\n",
              "      padding: 0 0 0 0;\n",
              "      width: 32px;\n",
              "    }\n",
              "\n",
              "    .colab-df-convert:hover {\n",
              "      background-color: #E2EBFA;\n",
              "      box-shadow: 0px 1px 2px rgba(60, 64, 67, 0.3), 0px 1px 3px 1px rgba(60, 64, 67, 0.15);\n",
              "      fill: #174EA6;\n",
              "    }\n",
              "\n",
              "    [theme=dark] .colab-df-convert {\n",
              "      background-color: #3B4455;\n",
              "      fill: #D2E3FC;\n",
              "    }\n",
              "\n",
              "    [theme=dark] .colab-df-convert:hover {\n",
              "      background-color: #434B5C;\n",
              "      box-shadow: 0px 1px 3px 1px rgba(0, 0, 0, 0.15);\n",
              "      filter: drop-shadow(0px 1px 2px rgba(0, 0, 0, 0.3));\n",
              "      fill: #FFFFFF;\n",
              "    }\n",
              "  </style>\n",
              "\n",
              "      <script>\n",
              "        const buttonEl =\n",
              "          document.querySelector('#df-546eea61-de5c-4249-b6b7-03b98afdb6f0 button.colab-df-convert');\n",
              "        buttonEl.style.display =\n",
              "          google.colab.kernel.accessAllowed ? 'block' : 'none';\n",
              "\n",
              "        async function convertToInteractive(key) {\n",
              "          const element = document.querySelector('#df-546eea61-de5c-4249-b6b7-03b98afdb6f0');\n",
              "          const dataTable =\n",
              "            await google.colab.kernel.invokeFunction('convertToInteractive',\n",
              "                                                     [key], {});\n",
              "          if (!dataTable) return;\n",
              "\n",
              "          const docLinkHtml = 'Like what you see? Visit the ' +\n",
              "            '<a target=\"_blank\" href=https://colab.research.google.com/notebooks/data_table.ipynb>data table notebook</a>'\n",
              "            + ' to learn more about interactive tables.';\n",
              "          element.innerHTML = '';\n",
              "          dataTable['output_type'] = 'display_data';\n",
              "          await google.colab.output.renderOutput(dataTable, element);\n",
              "          const docLink = document.createElement('div');\n",
              "          docLink.innerHTML = docLinkHtml;\n",
              "          element.appendChild(docLink);\n",
              "        }\n",
              "      </script>\n",
              "    </div>\n",
              "  </div>\n",
              "  "
            ]
          },
          "metadata": {},
          "execution_count": 11
        }
      ]
    },
    {
      "cell_type": "code",
      "metadata": {
        "id": "Xz1-htTsSGM8",
        "outputId": "c15a7319-4e50-4e0e-d759-f71a3b8daeb2",
        "colab": {
          "base_uri": "https://localhost:8080/"
        }
      },
      "source": [
        "# No. of unique tags\n",
        "len(tags_df['Tag'].unique())"
      ],
      "execution_count": null,
      "outputs": [
        {
          "output_type": "execute_result",
          "data": {
            "text/plain": [
              "1315"
            ]
          },
          "metadata": {},
          "execution_count": 12
        }
      ]
    },
    {
      "cell_type": "markdown",
      "metadata": {
        "id": "5nQjFYQtTNH6"
      },
      "source": [
        "# 2. Dataset Preparation"
      ]
    },
    {
      "cell_type": "markdown",
      "metadata": {
        "id": "--FBzpS7y2t7"
      },
      "source": [
        "## 2.1 Merge Tags with Questions"
      ]
    },
    {
      "cell_type": "code",
      "metadata": {
        "id": "UKoRHljISb83"
      },
      "source": [
        "# remove \"-\" from the tags\n",
        "tags_df['Tag'] = tags_df['Tag'].apply(lambda x:re.sub(\"-\",\" \",x))"
      ],
      "execution_count": null,
      "outputs": []
    },
    {
      "cell_type": "code",
      "metadata": {
        "id": "mWQyeoa4ScDz",
        "outputId": "8b590310-acf6-4a89-f9ff-df3ea0676d8a",
        "colab": {
          "base_uri": "https://localhost:8080/",
          "height": 206
        }
      },
      "source": [
        "# group tags Id wise\n",
        "tags_df = tags_df.groupby('Id').apply(lambda x:x['Tag'].values).reset_index(name='tags')\n",
        "tags_df.head()"
      ],
      "execution_count": null,
      "outputs": [
        {
          "output_type": "execute_result",
          "data": {
            "text/plain": [
              "   Id                                       tags\n",
              "0   1             [bayesian, prior, elicitation]\n",
              "1   2                 [distributions, normality]\n",
              "2   3                    [software, open source]\n",
              "3   4  [distributions, statistical significance]\n",
              "4   6                         [machine learning]"
            ],
            "text/html": [
              "\n",
              "  <div id=\"df-74d02b52-0f37-496f-a8ce-c6844f396103\">\n",
              "    <div class=\"colab-df-container\">\n",
              "      <div>\n",
              "<style scoped>\n",
              "    .dataframe tbody tr th:only-of-type {\n",
              "        vertical-align: middle;\n",
              "    }\n",
              "\n",
              "    .dataframe tbody tr th {\n",
              "        vertical-align: top;\n",
              "    }\n",
              "\n",
              "    .dataframe thead th {\n",
              "        text-align: right;\n",
              "    }\n",
              "</style>\n",
              "<table border=\"1\" class=\"dataframe\">\n",
              "  <thead>\n",
              "    <tr style=\"text-align: right;\">\n",
              "      <th></th>\n",
              "      <th>Id</th>\n",
              "      <th>tags</th>\n",
              "    </tr>\n",
              "  </thead>\n",
              "  <tbody>\n",
              "    <tr>\n",
              "      <th>0</th>\n",
              "      <td>1</td>\n",
              "      <td>[bayesian, prior, elicitation]</td>\n",
              "    </tr>\n",
              "    <tr>\n",
              "      <th>1</th>\n",
              "      <td>2</td>\n",
              "      <td>[distributions, normality]</td>\n",
              "    </tr>\n",
              "    <tr>\n",
              "      <th>2</th>\n",
              "      <td>3</td>\n",
              "      <td>[software, open source]</td>\n",
              "    </tr>\n",
              "    <tr>\n",
              "      <th>3</th>\n",
              "      <td>4</td>\n",
              "      <td>[distributions, statistical significance]</td>\n",
              "    </tr>\n",
              "    <tr>\n",
              "      <th>4</th>\n",
              "      <td>6</td>\n",
              "      <td>[machine learning]</td>\n",
              "    </tr>\n",
              "  </tbody>\n",
              "</table>\n",
              "</div>\n",
              "      <button class=\"colab-df-convert\" onclick=\"convertToInteractive('df-74d02b52-0f37-496f-a8ce-c6844f396103')\"\n",
              "              title=\"Convert this dataframe to an interactive table.\"\n",
              "              style=\"display:none;\">\n",
              "        \n",
              "  <svg xmlns=\"http://www.w3.org/2000/svg\" height=\"24px\"viewBox=\"0 0 24 24\"\n",
              "       width=\"24px\">\n",
              "    <path d=\"M0 0h24v24H0V0z\" fill=\"none\"/>\n",
              "    <path d=\"M18.56 5.44l.94 2.06.94-2.06 2.06-.94-2.06-.94-.94-2.06-.94 2.06-2.06.94zm-11 1L8.5 8.5l.94-2.06 2.06-.94-2.06-.94L8.5 2.5l-.94 2.06-2.06.94zm10 10l.94 2.06.94-2.06 2.06-.94-2.06-.94-.94-2.06-.94 2.06-2.06.94z\"/><path d=\"M17.41 7.96l-1.37-1.37c-.4-.4-.92-.59-1.43-.59-.52 0-1.04.2-1.43.59L10.3 9.45l-7.72 7.72c-.78.78-.78 2.05 0 2.83L4 21.41c.39.39.9.59 1.41.59.51 0 1.02-.2 1.41-.59l7.78-7.78 2.81-2.81c.8-.78.8-2.07 0-2.86zM5.41 20L4 18.59l7.72-7.72 1.47 1.35L5.41 20z\"/>\n",
              "  </svg>\n",
              "      </button>\n",
              "      \n",
              "  <style>\n",
              "    .colab-df-container {\n",
              "      display:flex;\n",
              "      flex-wrap:wrap;\n",
              "      gap: 12px;\n",
              "    }\n",
              "\n",
              "    .colab-df-convert {\n",
              "      background-color: #E8F0FE;\n",
              "      border: none;\n",
              "      border-radius: 50%;\n",
              "      cursor: pointer;\n",
              "      display: none;\n",
              "      fill: #1967D2;\n",
              "      height: 32px;\n",
              "      padding: 0 0 0 0;\n",
              "      width: 32px;\n",
              "    }\n",
              "\n",
              "    .colab-df-convert:hover {\n",
              "      background-color: #E2EBFA;\n",
              "      box-shadow: 0px 1px 2px rgba(60, 64, 67, 0.3), 0px 1px 3px 1px rgba(60, 64, 67, 0.15);\n",
              "      fill: #174EA6;\n",
              "    }\n",
              "\n",
              "    [theme=dark] .colab-df-convert {\n",
              "      background-color: #3B4455;\n",
              "      fill: #D2E3FC;\n",
              "    }\n",
              "\n",
              "    [theme=dark] .colab-df-convert:hover {\n",
              "      background-color: #434B5C;\n",
              "      box-shadow: 0px 1px 3px 1px rgba(0, 0, 0, 0.15);\n",
              "      filter: drop-shadow(0px 1px 2px rgba(0, 0, 0, 0.3));\n",
              "      fill: #FFFFFF;\n",
              "    }\n",
              "  </style>\n",
              "\n",
              "      <script>\n",
              "        const buttonEl =\n",
              "          document.querySelector('#df-74d02b52-0f37-496f-a8ce-c6844f396103 button.colab-df-convert');\n",
              "        buttonEl.style.display =\n",
              "          google.colab.kernel.accessAllowed ? 'block' : 'none';\n",
              "\n",
              "        async function convertToInteractive(key) {\n",
              "          const element = document.querySelector('#df-74d02b52-0f37-496f-a8ce-c6844f396103');\n",
              "          const dataTable =\n",
              "            await google.colab.kernel.invokeFunction('convertToInteractive',\n",
              "                                                     [key], {});\n",
              "          if (!dataTable) return;\n",
              "\n",
              "          const docLinkHtml = 'Like what you see? Visit the ' +\n",
              "            '<a target=\"_blank\" href=https://colab.research.google.com/notebooks/data_table.ipynb>data table notebook</a>'\n",
              "            + ' to learn more about interactive tables.';\n",
              "          element.innerHTML = '';\n",
              "          dataTable['output_type'] = 'display_data';\n",
              "          await google.colab.output.renderOutput(dataTable, element);\n",
              "          const docLink = document.createElement('div');\n",
              "          docLink.innerHTML = docLinkHtml;\n",
              "          element.appendChild(docLink);\n",
              "        }\n",
              "      </script>\n",
              "    </div>\n",
              "  </div>\n",
              "  "
            ]
          },
          "metadata": {},
          "execution_count": 14
        }
      ]
    },
    {
      "cell_type": "code",
      "metadata": {
        "id": "EB8sYYOrScCC"
      },
      "source": [
        "# merge tags and questions\n",
        "df = pd.merge(questions_df,tags_df,how='inner',on='Id')"
      ],
      "execution_count": null,
      "outputs": []
    },
    {
      "cell_type": "code",
      "metadata": {
        "id": "pD7UD9yNSmk1"
      },
      "source": [
        "# fetch required columns\n",
        "df = df[['Id','Body','tags']]"
      ],
      "execution_count": null,
      "outputs": []
    },
    {
      "cell_type": "code",
      "metadata": {
        "id": "zZEEr2B5eosb",
        "outputId": "a1c820f8-e53c-4210-a47e-55635df3d6ce",
        "colab": {
          "base_uri": "https://localhost:8080/",
          "height": 320
        }
      },
      "source": [
        "#first 5 rows\n",
        "df.head()"
      ],
      "execution_count": null,
      "outputs": [
        {
          "output_type": "execute_result",
          "data": {
            "text/plain": [
              "   Id  \\\n",
              "0   6   \n",
              "1  21   \n",
              "2  22   \n",
              "3  31   \n",
              "4  36   \n",
              "\n",
              "                                                                                                                                                                                                      Body  \\\n",
              "0  <p>Last year, I read a blog post from <a href=\"http://anyall.org/\">Brendan O'Connor</a> entitled <a href=\"http://anyall.org/blog/2008/12/statistics-vs-machine-learning-fight/\">\"Statistics vs. Mach...   \n",
              "1  <p>What are some of the ways to forecast demographic census with some validation and calibration techniques?</p>\\n\\n<p>Some of the concerns:</p>\\n\\n<ul>\\n<li>Census blocks vary in sizes as rural\\n...   \n",
              "2                                                                               <p>How would you describe in plain English the characteristics that distinguish Bayesian from Frequentist reasoning?</p>\\n   \n",
              "3  <p>After taking a statistics course and then trying to help fellow students, I noticed one subject that inspires much head-desk banging is interpreting the results of statistical hypothesis tests....   \n",
              "4  <p>There is an old saying: \"Correlation does not mean causation\". When I teach, I tend to use the following standard examples to illustrate this point:</p>\\n\\n<ol>\\n<li>number of storks and birth ...   \n",
              "\n",
              "                                                               tags  \n",
              "0                                                [machine learning]  \n",
              "1                                 [forecasting, population, census]  \n",
              "2                                           [bayesian, frequentist]  \n",
              "3  [hypothesis testing, t test, p value, interpretation, intuition]  \n",
              "4                                           [correlation, teaching]  "
            ],
            "text/html": [
              "\n",
              "  <div id=\"df-c2c62f96-0288-46d3-a39d-85d25d8abcef\">\n",
              "    <div class=\"colab-df-container\">\n",
              "      <div>\n",
              "<style scoped>\n",
              "    .dataframe tbody tr th:only-of-type {\n",
              "        vertical-align: middle;\n",
              "    }\n",
              "\n",
              "    .dataframe tbody tr th {\n",
              "        vertical-align: top;\n",
              "    }\n",
              "\n",
              "    .dataframe thead th {\n",
              "        text-align: right;\n",
              "    }\n",
              "</style>\n",
              "<table border=\"1\" class=\"dataframe\">\n",
              "  <thead>\n",
              "    <tr style=\"text-align: right;\">\n",
              "      <th></th>\n",
              "      <th>Id</th>\n",
              "      <th>Body</th>\n",
              "      <th>tags</th>\n",
              "    </tr>\n",
              "  </thead>\n",
              "  <tbody>\n",
              "    <tr>\n",
              "      <th>0</th>\n",
              "      <td>6</td>\n",
              "      <td>&lt;p&gt;Last year, I read a blog post from &lt;a href=\"http://anyall.org/\"&gt;Brendan O'Connor&lt;/a&gt; entitled &lt;a href=\"http://anyall.org/blog/2008/12/statistics-vs-machine-learning-fight/\"&gt;\"Statistics vs. Mach...</td>\n",
              "      <td>[machine learning]</td>\n",
              "    </tr>\n",
              "    <tr>\n",
              "      <th>1</th>\n",
              "      <td>21</td>\n",
              "      <td>&lt;p&gt;What are some of the ways to forecast demographic census with some validation and calibration techniques?&lt;/p&gt;\\n\\n&lt;p&gt;Some of the concerns:&lt;/p&gt;\\n\\n&lt;ul&gt;\\n&lt;li&gt;Census blocks vary in sizes as rural\\n...</td>\n",
              "      <td>[forecasting, population, census]</td>\n",
              "    </tr>\n",
              "    <tr>\n",
              "      <th>2</th>\n",
              "      <td>22</td>\n",
              "      <td>&lt;p&gt;How would you describe in plain English the characteristics that distinguish Bayesian from Frequentist reasoning?&lt;/p&gt;\\n</td>\n",
              "      <td>[bayesian, frequentist]</td>\n",
              "    </tr>\n",
              "    <tr>\n",
              "      <th>3</th>\n",
              "      <td>31</td>\n",
              "      <td>&lt;p&gt;After taking a statistics course and then trying to help fellow students, I noticed one subject that inspires much head-desk banging is interpreting the results of statistical hypothesis tests....</td>\n",
              "      <td>[hypothesis testing, t test, p value, interpretation, intuition]</td>\n",
              "    </tr>\n",
              "    <tr>\n",
              "      <th>4</th>\n",
              "      <td>36</td>\n",
              "      <td>&lt;p&gt;There is an old saying: \"Correlation does not mean causation\". When I teach, I tend to use the following standard examples to illustrate this point:&lt;/p&gt;\\n\\n&lt;ol&gt;\\n&lt;li&gt;number of storks and birth ...</td>\n",
              "      <td>[correlation, teaching]</td>\n",
              "    </tr>\n",
              "  </tbody>\n",
              "</table>\n",
              "</div>\n",
              "      <button class=\"colab-df-convert\" onclick=\"convertToInteractive('df-c2c62f96-0288-46d3-a39d-85d25d8abcef')\"\n",
              "              title=\"Convert this dataframe to an interactive table.\"\n",
              "              style=\"display:none;\">\n",
              "        \n",
              "  <svg xmlns=\"http://www.w3.org/2000/svg\" height=\"24px\"viewBox=\"0 0 24 24\"\n",
              "       width=\"24px\">\n",
              "    <path d=\"M0 0h24v24H0V0z\" fill=\"none\"/>\n",
              "    <path d=\"M18.56 5.44l.94 2.06.94-2.06 2.06-.94-2.06-.94-.94-2.06-.94 2.06-2.06.94zm-11 1L8.5 8.5l.94-2.06 2.06-.94-2.06-.94L8.5 2.5l-.94 2.06-2.06.94zm10 10l.94 2.06.94-2.06 2.06-.94-2.06-.94-.94-2.06-.94 2.06-2.06.94z\"/><path d=\"M17.41 7.96l-1.37-1.37c-.4-.4-.92-.59-1.43-.59-.52 0-1.04.2-1.43.59L10.3 9.45l-7.72 7.72c-.78.78-.78 2.05 0 2.83L4 21.41c.39.39.9.59 1.41.59.51 0 1.02-.2 1.41-.59l7.78-7.78 2.81-2.81c.8-.78.8-2.07 0-2.86zM5.41 20L4 18.59l7.72-7.72 1.47 1.35L5.41 20z\"/>\n",
              "  </svg>\n",
              "      </button>\n",
              "      \n",
              "  <style>\n",
              "    .colab-df-container {\n",
              "      display:flex;\n",
              "      flex-wrap:wrap;\n",
              "      gap: 12px;\n",
              "    }\n",
              "\n",
              "    .colab-df-convert {\n",
              "      background-color: #E8F0FE;\n",
              "      border: none;\n",
              "      border-radius: 50%;\n",
              "      cursor: pointer;\n",
              "      display: none;\n",
              "      fill: #1967D2;\n",
              "      height: 32px;\n",
              "      padding: 0 0 0 0;\n",
              "      width: 32px;\n",
              "    }\n",
              "\n",
              "    .colab-df-convert:hover {\n",
              "      background-color: #E2EBFA;\n",
              "      box-shadow: 0px 1px 2px rgba(60, 64, 67, 0.3), 0px 1px 3px 1px rgba(60, 64, 67, 0.15);\n",
              "      fill: #174EA6;\n",
              "    }\n",
              "\n",
              "    [theme=dark] .colab-df-convert {\n",
              "      background-color: #3B4455;\n",
              "      fill: #D2E3FC;\n",
              "    }\n",
              "\n",
              "    [theme=dark] .colab-df-convert:hover {\n",
              "      background-color: #434B5C;\n",
              "      box-shadow: 0px 1px 3px 1px rgba(0, 0, 0, 0.15);\n",
              "      filter: drop-shadow(0px 1px 2px rgba(0, 0, 0, 0.3));\n",
              "      fill: #FFFFFF;\n",
              "    }\n",
              "  </style>\n",
              "\n",
              "      <script>\n",
              "        const buttonEl =\n",
              "          document.querySelector('#df-c2c62f96-0288-46d3-a39d-85d25d8abcef button.colab-df-convert');\n",
              "        buttonEl.style.display =\n",
              "          google.colab.kernel.accessAllowed ? 'block' : 'none';\n",
              "\n",
              "        async function convertToInteractive(key) {\n",
              "          const element = document.querySelector('#df-c2c62f96-0288-46d3-a39d-85d25d8abcef');\n",
              "          const dataTable =\n",
              "            await google.colab.kernel.invokeFunction('convertToInteractive',\n",
              "                                                     [key], {});\n",
              "          if (!dataTable) return;\n",
              "\n",
              "          const docLinkHtml = 'Like what you see? Visit the ' +\n",
              "            '<a target=\"_blank\" href=https://colab.research.google.com/notebooks/data_table.ipynb>data table notebook</a>'\n",
              "            + ' to learn more about interactive tables.';\n",
              "          element.innerHTML = '';\n",
              "          dataTable['output_type'] = 'display_data';\n",
              "          await google.colab.output.renderOutput(dataTable, element);\n",
              "          const docLink = document.createElement('div');\n",
              "          docLink.innerHTML = docLinkHtml;\n",
              "          element.appendChild(docLink);\n",
              "        }\n",
              "      </script>\n",
              "    </div>\n",
              "  </div>\n",
              "  "
            ]
          },
          "metadata": {},
          "execution_count": 17
        }
      ]
    },
    {
      "cell_type": "code",
      "metadata": {
        "id": "J28FYn8xSmqM",
        "outputId": "cd987da1-147d-4a29-80e6-e3a8593e3fb3",
        "colab": {
          "base_uri": "https://localhost:8080/"
        }
      },
      "source": [
        "#shape of the dataset\n",
        "df.shape"
      ],
      "execution_count": null,
      "outputs": [
        {
          "output_type": "execute_result",
          "data": {
            "text/plain": [
              "(85085, 3)"
            ]
          },
          "metadata": {},
          "execution_count": 18
        }
      ]
    },
    {
      "cell_type": "markdown",
      "metadata": {
        "id": "Y1ZvB-t9TYKh"
      },
      "source": [
        "## 2.2 Filter Questions with respect to Top-10 Tags"
      ]
    },
    {
      "cell_type": "code",
      "metadata": {
        "id": "n9XRjQ_wSmvh"
      },
      "source": [
        "# check occurence of each tag\n",
        "freq={}\n",
        "for i in df['tags']:\n",
        "  for j in i:\n",
        "    if j in freq.keys():\n",
        "      freq[j] = freq[j] + 1\n",
        "    else:\n",
        "      freq[j] = 1"
      ],
      "execution_count": null,
      "outputs": []
    },
    {
      "cell_type": "code",
      "metadata": {
        "id": "DSVPSJnCSvUt"
      },
      "source": [
        "# sort the dictionary in descending order\n",
        "freq = dict(sorted(freq.items(), key=lambda x:x[1],reverse=True))"
      ],
      "execution_count": null,
      "outputs": []
    },
    {
      "cell_type": "code",
      "metadata": {
        "id": "PxDCpuGFSvhH",
        "outputId": "3b177e07-6169-4c83-899e-8371e03cc4da",
        "colab": {
          "base_uri": "https://localhost:8080/"
        }
      },
      "source": [
        "# Top 10 most frequent tags\n",
        "common_tags = list(freq.keys())[:10]\n",
        "print(common_tags)"
      ],
      "execution_count": null,
      "outputs": [
        {
          "output_type": "stream",
          "name": "stdout",
          "text": [
            "['r', 'regression', 'machine learning', 'time series', 'probability', 'hypothesis testing', 'self study', 'distributions', 'logistic', 'classification']\n"
          ]
        }
      ]
    },
    {
      "cell_type": "markdown",
      "metadata": {
        "id": "OPC21Z5aTkB8"
      },
      "source": [
        "We will use only those questions/queries that are associated with the top 10 tags."
      ]
    },
    {
      "cell_type": "code",
      "metadata": {
        "id": "YNksVjF6SvqS"
      },
      "source": [
        "#finding queries associated with common tags\n",
        "x=[]\n",
        "y=[]\n",
        "\n",
        "for i in range(len(df['tags'])):  \n",
        "\n",
        "  temp=[]\n",
        "  for j in df['tags'][i]:\n",
        "    if j in common_tags:\n",
        "      temp.append(j)\n",
        "  \n",
        "  #if common tags are more than 1\n",
        "  if(len(temp)>1):\n",
        "    x.append(df['Body'][i])\n",
        "    y.append(temp)"
      ],
      "execution_count": null,
      "outputs": []
    },
    {
      "cell_type": "code",
      "metadata": {
        "id": "Ck6w3DsfS82D",
        "outputId": "5c8fac6e-75ba-4919-adc1-945d9b9c484b",
        "colab": {
          "base_uri": "https://localhost:8080/"
        }
      },
      "source": [
        "# number of questions left\n",
        "len(x)"
      ],
      "execution_count": null,
      "outputs": [
        {
          "output_type": "execute_result",
          "data": {
            "text/plain": [
              "11106"
            ]
          },
          "metadata": {},
          "execution_count": 23
        }
      ]
    },
    {
      "cell_type": "code",
      "metadata": {
        "id": "2tLZqaHQ-4Bz",
        "outputId": "54ce3df0-e0a1-44fe-aa9d-56a334ed5709",
        "colab": {
          "base_uri": "https://localhost:8080/"
        }
      },
      "source": [
        "#first 5 tags\n",
        "y[:5]"
      ],
      "execution_count": null,
      "outputs": [
        {
          "output_type": "execute_result",
          "data": {
            "text/plain": [
              "[['r', 'time series'],\n",
              " ['regression', 'distributions'],\n",
              " ['distributions', 'probability', 'hypothesis testing'],\n",
              " ['hypothesis testing', 'self study'],\n",
              " ['r', 'regression', 'time series']]"
            ]
          },
          "metadata": {},
          "execution_count": 24
        }
      ]
    },
    {
      "cell_type": "code",
      "metadata": {
        "id": "AfTeISu8A3KT"
      },
      "source": [
        "#combining the labels by space\n",
        "y = [ \",\".join([str(j) for j in i ]) for i in y]"
      ],
      "execution_count": null,
      "outputs": []
    },
    {
      "cell_type": "code",
      "metadata": {
        "id": "LnceeB6B_Tbd",
        "outputId": "41370ba7-7087-4713-8c76-cdb0437bc402",
        "colab": {
          "base_uri": "https://localhost:8080/"
        }
      },
      "source": [
        "#labels after converting to string\n",
        "y[:5]"
      ],
      "execution_count": null,
      "outputs": [
        {
          "output_type": "execute_result",
          "data": {
            "text/plain": [
              "['r,time series',\n",
              " 'regression,distributions',\n",
              " 'distributions,probability,hypothesis testing',\n",
              " 'hypothesis testing,self study',\n",
              " 'r,regression,time series']"
            ]
          },
          "metadata": {},
          "execution_count": 26
        }
      ]
    },
    {
      "cell_type": "code",
      "metadata": {
        "id": "ZYblHXWVgt_S"
      },
      "source": [
        "#save to dataframe\n",
        "dframe = pd.DataFrame({'query':x,'tags':y})"
      ],
      "execution_count": null,
      "outputs": []
    },
    {
      "cell_type": "code",
      "metadata": {
        "id": "fGUumAqqBpDa",
        "outputId": "1985fdb6-6df7-4908-e484-c60b326154a3",
        "colab": {
          "base_uri": "https://localhost:8080/",
          "height": 320
        }
      },
      "source": [
        "#first 5 rows\n",
        "dframe.head()"
      ],
      "execution_count": null,
      "outputs": [
        {
          "output_type": "execute_result",
          "data": {
            "text/plain": [
              "                                                                                                                                                                                                     query  \\\n",
              "0  <p>I recently started working for a tuberculosis clinic.  We meet periodically to discuss the number of TB cases we're currently treating, the number of tests administered, etc.  I'd like to start...   \n",
              "1                                                <p>Am I looking for a better behaved distribution for the independent variable in question, or to reduce the effect of outliers, or something else?</p>\\n   \n",
              "2  <p>There are many ways to measure how similar two probability distributions are.  Among methods which are popular (in different circles) are:</p>\\n\\n<ol>\\n<li><p>the Kolmogorov distance: the sup-d...   \n",
              "3  <blockquote>\\n  <p>A Lab has been asked to evaluate the claim that drinking water in a\\n  local restaurant has a lead concentration of 6 parts per billion\\n  (ppb). Repeated measurements follow a ...   \n",
              "4  <p>How would we measure the predictive power of predictors in time series models. For e.g. in linear regression we have the magnitude and direction of the regression co-efficients and their p-valu...   \n",
              "\n",
              "                                           tags  \n",
              "0                                 r,time series  \n",
              "1                      regression,distributions  \n",
              "2  distributions,probability,hypothesis testing  \n",
              "3                 hypothesis testing,self study  \n",
              "4                      r,regression,time series  "
            ],
            "text/html": [
              "\n",
              "  <div id=\"df-7be5058a-7135-44d2-befb-e514129550f5\">\n",
              "    <div class=\"colab-df-container\">\n",
              "      <div>\n",
              "<style scoped>\n",
              "    .dataframe tbody tr th:only-of-type {\n",
              "        vertical-align: middle;\n",
              "    }\n",
              "\n",
              "    .dataframe tbody tr th {\n",
              "        vertical-align: top;\n",
              "    }\n",
              "\n",
              "    .dataframe thead th {\n",
              "        text-align: right;\n",
              "    }\n",
              "</style>\n",
              "<table border=\"1\" class=\"dataframe\">\n",
              "  <thead>\n",
              "    <tr style=\"text-align: right;\">\n",
              "      <th></th>\n",
              "      <th>query</th>\n",
              "      <th>tags</th>\n",
              "    </tr>\n",
              "  </thead>\n",
              "  <tbody>\n",
              "    <tr>\n",
              "      <th>0</th>\n",
              "      <td>&lt;p&gt;I recently started working for a tuberculosis clinic.  We meet periodically to discuss the number of TB cases we're currently treating, the number of tests administered, etc.  I'd like to start...</td>\n",
              "      <td>r,time series</td>\n",
              "    </tr>\n",
              "    <tr>\n",
              "      <th>1</th>\n",
              "      <td>&lt;p&gt;Am I looking for a better behaved distribution for the independent variable in question, or to reduce the effect of outliers, or something else?&lt;/p&gt;\\n</td>\n",
              "      <td>regression,distributions</td>\n",
              "    </tr>\n",
              "    <tr>\n",
              "      <th>2</th>\n",
              "      <td>&lt;p&gt;There are many ways to measure how similar two probability distributions are.  Among methods which are popular (in different circles) are:&lt;/p&gt;\\n\\n&lt;ol&gt;\\n&lt;li&gt;&lt;p&gt;the Kolmogorov distance: the sup-d...</td>\n",
              "      <td>distributions,probability,hypothesis testing</td>\n",
              "    </tr>\n",
              "    <tr>\n",
              "      <th>3</th>\n",
              "      <td>&lt;blockquote&gt;\\n  &lt;p&gt;A Lab has been asked to evaluate the claim that drinking water in a\\n  local restaurant has a lead concentration of 6 parts per billion\\n  (ppb). Repeated measurements follow a ...</td>\n",
              "      <td>hypothesis testing,self study</td>\n",
              "    </tr>\n",
              "    <tr>\n",
              "      <th>4</th>\n",
              "      <td>&lt;p&gt;How would we measure the predictive power of predictors in time series models. For e.g. in linear regression we have the magnitude and direction of the regression co-efficients and their p-valu...</td>\n",
              "      <td>r,regression,time series</td>\n",
              "    </tr>\n",
              "  </tbody>\n",
              "</table>\n",
              "</div>\n",
              "      <button class=\"colab-df-convert\" onclick=\"convertToInteractive('df-7be5058a-7135-44d2-befb-e514129550f5')\"\n",
              "              title=\"Convert this dataframe to an interactive table.\"\n",
              "              style=\"display:none;\">\n",
              "        \n",
              "  <svg xmlns=\"http://www.w3.org/2000/svg\" height=\"24px\"viewBox=\"0 0 24 24\"\n",
              "       width=\"24px\">\n",
              "    <path d=\"M0 0h24v24H0V0z\" fill=\"none\"/>\n",
              "    <path d=\"M18.56 5.44l.94 2.06.94-2.06 2.06-.94-2.06-.94-.94-2.06-.94 2.06-2.06.94zm-11 1L8.5 8.5l.94-2.06 2.06-.94-2.06-.94L8.5 2.5l-.94 2.06-2.06.94zm10 10l.94 2.06.94-2.06 2.06-.94-2.06-.94-.94-2.06-.94 2.06-2.06.94z\"/><path d=\"M17.41 7.96l-1.37-1.37c-.4-.4-.92-.59-1.43-.59-.52 0-1.04.2-1.43.59L10.3 9.45l-7.72 7.72c-.78.78-.78 2.05 0 2.83L4 21.41c.39.39.9.59 1.41.59.51 0 1.02-.2 1.41-.59l7.78-7.78 2.81-2.81c.8-.78.8-2.07 0-2.86zM5.41 20L4 18.59l7.72-7.72 1.47 1.35L5.41 20z\"/>\n",
              "  </svg>\n",
              "      </button>\n",
              "      \n",
              "  <style>\n",
              "    .colab-df-container {\n",
              "      display:flex;\n",
              "      flex-wrap:wrap;\n",
              "      gap: 12px;\n",
              "    }\n",
              "\n",
              "    .colab-df-convert {\n",
              "      background-color: #E8F0FE;\n",
              "      border: none;\n",
              "      border-radius: 50%;\n",
              "      cursor: pointer;\n",
              "      display: none;\n",
              "      fill: #1967D2;\n",
              "      height: 32px;\n",
              "      padding: 0 0 0 0;\n",
              "      width: 32px;\n",
              "    }\n",
              "\n",
              "    .colab-df-convert:hover {\n",
              "      background-color: #E2EBFA;\n",
              "      box-shadow: 0px 1px 2px rgba(60, 64, 67, 0.3), 0px 1px 3px 1px rgba(60, 64, 67, 0.15);\n",
              "      fill: #174EA6;\n",
              "    }\n",
              "\n",
              "    [theme=dark] .colab-df-convert {\n",
              "      background-color: #3B4455;\n",
              "      fill: #D2E3FC;\n",
              "    }\n",
              "\n",
              "    [theme=dark] .colab-df-convert:hover {\n",
              "      background-color: #434B5C;\n",
              "      box-shadow: 0px 1px 3px 1px rgba(0, 0, 0, 0.15);\n",
              "      filter: drop-shadow(0px 1px 2px rgba(0, 0, 0, 0.3));\n",
              "      fill: #FFFFFF;\n",
              "    }\n",
              "  </style>\n",
              "\n",
              "      <script>\n",
              "        const buttonEl =\n",
              "          document.querySelector('#df-7be5058a-7135-44d2-befb-e514129550f5 button.colab-df-convert');\n",
              "        buttonEl.style.display =\n",
              "          google.colab.kernel.accessAllowed ? 'block' : 'none';\n",
              "\n",
              "        async function convertToInteractive(key) {\n",
              "          const element = document.querySelector('#df-7be5058a-7135-44d2-befb-e514129550f5');\n",
              "          const dataTable =\n",
              "            await google.colab.kernel.invokeFunction('convertToInteractive',\n",
              "                                                     [key], {});\n",
              "          if (!dataTable) return;\n",
              "\n",
              "          const docLinkHtml = 'Like what you see? Visit the ' +\n",
              "            '<a target=\"_blank\" href=https://colab.research.google.com/notebooks/data_table.ipynb>data table notebook</a>'\n",
              "            + ' to learn more about interactive tables.';\n",
              "          element.innerHTML = '';\n",
              "          dataTable['output_type'] = 'display_data';\n",
              "          await google.colab.output.renderOutput(dataTable, element);\n",
              "          const docLink = document.createElement('div');\n",
              "          docLink.innerHTML = docLinkHtml;\n",
              "          element.appendChild(docLink);\n",
              "        }\n",
              "      </script>\n",
              "    </div>\n",
              "  </div>\n",
              "  "
            ]
          },
          "metadata": {},
          "execution_count": 28
        }
      ]
    },
    {
      "cell_type": "code",
      "metadata": {
        "id": "27-gnDPi60yg"
      },
      "source": [
        "#save to csv\n",
        "dframe.to_csv('stack.csv',index=False)"
      ],
      "execution_count": null,
      "outputs": []
    },
    {
      "cell_type": "markdown",
      "metadata": {
        "id": "F5E3gvtJ0_eC"
      },
      "source": [
        "# 3. Text Preprocessing"
      ]
    },
    {
      "cell_type": "markdown",
      "metadata": {
        "id": "Je87HHtQA6bO"
      },
      "source": [
        "Now, we will see the one of the most important library in PyTorch for handling text data - TorchText \n",
        "\n",
        "\n",
        "\n",
        "**TorchText** is a Natural Language Processing (NLP) library in PyTorch. This library contains the scripts for preprocessing text and data sources of few popular NLP datasets to test out the scripts."
      ]
    },
    {
      "cell_type": "markdown",
      "metadata": {
        "id": "HLmFzuLDCH0d"
      },
      "source": [
        "TorchText understands and operates on text data in terms of Field objects, and then Field objects are used to define the steps for text preprocessing\n",
        "\n",
        "There are 2 different types of field objects – **Field** and **LabelField**. \n",
        "\n",
        "* **Field**: Field object is used to specify preprocessing steps for each column in the dataset.\n",
        "\n",
        "* **LabelField**: LabelField object is a special case of Field object which is used only for the preprocessing of label column. \n",
        "\n",
        "Before we use Field, let us look at the different parameters of Field and what are they used for.\n",
        "\n",
        "**Parameters of Field**:\n",
        "\n",
        "* **Tokenize**: It specifies the way of tokenizing the sentence i.e. converting sentence to words. By default, it tokenizes with respect to spaces\n",
        "\n",
        "    * *Note*: It can be replaced by the preprocessing function as well.\n",
        "\n",
        "* **Lower**: It converts text to lowercase\n",
        "\n",
        "* **batch_first**: The first dimension of input and output is always batch size\n",
        "\n",
        "* **fix_length**: Maximum length of a sentence\n",
        "\n",
        "* **unk_token**: The string token used to represent OOV words. By default, this value is \"UNK\""
      ]
    },
    {
      "cell_type": "markdown",
      "metadata": {
        "id": "IM2i7pJ-1RLm"
      },
      "source": [
        "## 3.1 Text Cleaning"
      ]
    },
    {
      "cell_type": "code",
      "metadata": {
        "id": "ruV5khtmAiDU"
      },
      "source": [
        "def cleaner(text):\n",
        "\n",
        "  text = BeautifulSoup(text).get_text()\n",
        "  \n",
        "  # fetch alphabetic characters\n",
        "  text = re.sub(\"[^a-zA-Z]\", \" \", text)\n",
        "\n",
        "  # convert text to lower case\n",
        "  text = text.lower()\n",
        "\n",
        "  # split text into tokens to remove whitespaces\n",
        "  tokens = text.split()\n",
        "  \n",
        "  return tokens"
      ],
      "execution_count": null,
      "outputs": []
    },
    {
      "cell_type": "code",
      "metadata": {
        "id": "SW0eN1UnrchO"
      },
      "source": [
        "from torchtext.legacy import data\n",
        "#define field object for query\n",
        "max_len = 100\n",
        "TEXT = data.Field(tokenize=cleaner, batch_first=True, fix_length=max_len)"
      ],
      "execution_count": null,
      "outputs": []
    },
    {
      "cell_type": "code",
      "metadata": {
        "id": "Z9PfZ04R8NkK"
      },
      "source": [
        "#define field object for label\n",
        "LABEL = data.LabelField(batch_first=True)"
      ],
      "execution_count": null,
      "outputs": []
    },
    {
      "cell_type": "markdown",
      "metadata": {
        "id": "zlM-zyeSEkEi"
      },
      "source": [
        "Next we are going to create a list of tuples where first value in every tuple contains a column name and second value is a field object. Furthermore we will arrange each tuple in the order of the columns of csv.\n",
        "\n",
        "Let us read only required columns – query and tags"
      ]
    },
    {
      "cell_type": "code",
      "metadata": {
        "id": "GFoE3QDb8NfI"
      },
      "source": [
        "#define a list of tuple with field objects\n",
        "fields = [('query',TEXT),('tags', LABEL)]"
      ],
      "execution_count": null,
      "outputs": []
    },
    {
      "cell_type": "markdown",
      "metadata": {
        "id": "BtZKZJZVEvCS"
      },
      "source": [
        "Now, we will load the custom dataset by defining the list of tuples. For this we use TabularDataset class\n",
        "\n",
        "**Parameters of TabularDataset**:\n",
        "\n",
        "* **path**: set the path of dataset\n",
        "\n",
        "* **format**: provide extension of file. \n",
        "    * **Note**: There are a limited number of extensions accepted by TorchText. Read the docs for more details\n",
        "\n",
        "* **fields**: give tuple of user defined fields which data would have\n",
        "\n",
        "* **skip_header**: boolean value; if set to true - ignores the first line of the data file"
      ]
    },
    {
      "cell_type": "code",
      "metadata": {
        "id": "ZpOti-uNS8z_"
      },
      "source": [
        "#reading the dataset\n",
        "training_data = data.TabularDataset(path = 'stack.csv', format = 'csv', fields = fields, skip_header = True)"
      ],
      "execution_count": null,
      "outputs": []
    },
    {
      "cell_type": "markdown",
      "metadata": {
        "id": "nDXopkVgS9vy"
      },
      "source": [
        "Let see whether we can see examples of training data or not"
      ]
    },
    {
      "cell_type": "code",
      "metadata": {
        "id": "w_U5N4OsS_ZI",
        "outputId": "b4e00b8e-9820-477b-914e-96b724a68645",
        "colab": {
          "base_uri": "https://localhost:8080/"
        }
      },
      "source": [
        "print(training_data)"
      ],
      "execution_count": null,
      "outputs": [
        {
          "output_type": "stream",
          "name": "stdout",
          "text": [
            "<torchtext.legacy.data.dataset.TabularDataset object at 0x7f7c12bd5390>\n"
          ]
        }
      ]
    },
    {
      "cell_type": "markdown",
      "metadata": {
        "id": "_hvxo_fyTKPE"
      },
      "source": [
        "Now, we will see how to print the examples of training data"
      ]
    },
    {
      "cell_type": "code",
      "metadata": {
        "id": "t_imud4VBcGP",
        "outputId": "b9d03370-0d0e-4ccb-93a5-ca684ce96485",
        "colab": {
          "base_uri": "https://localhost:8080/"
        }
      },
      "source": [
        "#print preprocessed text\n",
        "print(vars(training_data.examples[0]))"
      ],
      "execution_count": null,
      "outputs": [
        {
          "output_type": "stream",
          "name": "stdout",
          "text": [
            "{'query': ['i', 'recently', 'started', 'working', 'for', 'a', 'tuberculosis', 'clinic', 'we', 'meet', 'periodically', 'to', 'discuss', 'the', 'number', 'of', 'tb', 'cases', 'we', 're', 'currently', 'treating', 'the', 'number', 'of', 'tests', 'administered', 'etc', 'i', 'd', 'like', 'to', 'start', 'modeling', 'these', 'counts', 'so', 'that', 'we', 're', 'not', 'just', 'guessing', 'whether', 'something', 'is', 'unusual', 'or', 'not', 'unfortunately', 'i', 've', 'had', 'very', 'little', 'training', 'in', 'time', 'series', 'and', 'most', 'of', 'my', 'exposure', 'has', 'been', 'to', 'models', 'for', 'very', 'continuous', 'data', 'stock', 'prices', 'or', 'very', 'large', 'numbers', 'of', 'counts', 'influenza', 'but', 'we', 'deal', 'with', 'cases', 'per', 'month', 'mean', 'median', 'var', 'which', 'are', 'distributed', 'like', 'this', 'image', 'lost', 'to', 'the', 'mists', 'of', 'time', 'image', 'eaten', 'by', 'a', 'grue', 'i', 've', 'found', 'a', 'few', 'articles', 'that', 'address', 'models', 'like', 'this', 'but', 'i', 'd', 'greatly', 'appreciate', 'hearing', 'suggestions', 'from', 'you', 'both', 'for', 'approaches', 'and', 'for', 'r', 'packages', 'that', 'i', 'could', 'use', 'to', 'implement', 'those', 'approaches', 'edit', 'mbq', 's', 'answer', 'has', 'forced', 'me', 'to', 'think', 'more', 'carefully', 'about', 'what', 'i', 'm', 'asking', 'here', 'i', 'got', 'too', 'hung', 'up', 'on', 'the', 'monthly', 'counts', 'and', 'lost', 'the', 'actual', 'focus', 'of', 'the', 'question', 'what', 'i', 'd', 'like', 'to', 'know', 'is', 'does', 'the', 'fairly', 'visible', 'decline', 'from', 'say', 'onward', 'reflect', 'a', 'downward', 'trend', 'in', 'the', 'overall', 'number', 'of', 'cases', 'it', 'looks', 'to', 'me', 'like', 'the', 'number', 'of', 'cases', 'monthly', 'from', 'reflects', 'a', 'stable', 'process', 'maybe', 'some', 'seasonality', 'but', 'overall', 'stable', 'from', 'through', 'the', 'present', 'it', 'looks', 'like', 'that', 'process', 'is', 'changing', 'the', 'overall', 'number', 'of', 'cases', 'is', 'declining', 'even', 'though', 'the', 'monthly', 'counts', 'might', 'wobble', 'up', 'and', 'down', 'due', 'to', 'randomness', 'and', 'seasonality', 'how', 'can', 'i', 'test', 'if', 'there', 's', 'a', 'real', 'change', 'in', 'the', 'process', 'and', 'if', 'i', 'can', 'identify', 'a', 'decline', 'how', 'could', 'i', 'use', 'that', 'trend', 'and', 'whatever', 'seasonality', 'there', 'might', 'be', 'to', 'estimate', 'the', 'number', 'of', 'cases', 'we', 'might', 'see', 'in', 'the', 'upcoming', 'months', 'whew', 'thanks', 'for', 'bearing', 'with', 'me'], 'tags': 'r,time series'}\n"
          ]
        }
      ]
    },
    {
      "cell_type": "markdown",
      "metadata": {
        "id": "T-QfgorLFIqF"
      },
      "source": [
        "As you can see here, the output is the cleaned text\n",
        "\n",
        "**Note**: *cleaning is done based on the field object defined* "
      ]
    },
    {
      "cell_type": "markdown",
      "metadata": {
        "id": "aZIK_ogyFmQz"
      },
      "source": [
        "Split the dataset into training and validation now"
      ]
    },
    {
      "cell_type": "code",
      "metadata": {
        "id": "40EZTlPsBVVA"
      },
      "source": [
        "train_data, valid_data = training_data.split(split_ratio=0.8, random_state = random.seed(32))"
      ],
      "execution_count": null,
      "outputs": []
    },
    {
      "cell_type": "markdown",
      "metadata": {
        "id": "d0DyjPap1elw"
      },
      "source": [
        "## 3.2 Text Representation"
      ]
    },
    {
      "cell_type": "markdown",
      "metadata": {
        "id": "KBOJBsu0F32-"
      },
      "source": [
        "The next step is to build the vocabulary for the text. For this we use *build_vocab* function on field object to construct a vocab object for the field\n",
        "\n",
        "Below are the important parameters for build_vocab:\n",
        "\n",
        "**Parameter**:\n",
        "\n",
        "* **Dataset object**: which is used to specify the data on which vocabulary has to be created\n",
        "\n",
        "* **min_freq**: Ignores the words in vocabulary which has frequency less than or equal to specified one and map it to unknown token."
      ]
    },
    {
      "cell_type": "code",
      "metadata": {
        "id": "cB5kUf-g9fV8"
      },
      "source": [
        "#preparing the vocabulary for the text\n",
        "TEXT.build_vocab(train_data, min_freq=3)"
      ],
      "execution_count": null,
      "outputs": []
    },
    {
      "cell_type": "code",
      "metadata": {
        "id": "t9HPCTmUjvvd",
        "outputId": "fcd98fb8-2a73-43ca-dc0b-73da1dab7736",
        "colab": {
          "base_uri": "https://localhost:8080/"
        }
      },
      "source": [
        "#No. of unique words\n",
        "len(TEXT.vocab)"
      ],
      "execution_count": null,
      "outputs": [
        {
          "output_type": "execute_result",
          "data": {
            "text/plain": [
              "12483"
            ]
          },
          "metadata": {},
          "execution_count": 41
        }
      ]
    },
    {
      "cell_type": "code",
      "metadata": {
        "id": "BivXzGMDEUMv",
        "outputId": "80e9c76c-1192-4f37-c652-e6e80ea3f730",
        "colab": {
          "base_uri": "https://localhost:8080/"
        }
      },
      "source": [
        "#word index\n",
        "list(TEXT.vocab.stoi.items())[:10]"
      ],
      "execution_count": null,
      "outputs": [
        {
          "output_type": "execute_result",
          "data": {
            "text/plain": [
              "[('<unk>', 0),\n",
              " ('<pad>', 1),\n",
              " ('the', 2),\n",
              " ('i', 3),\n",
              " ('to', 4),\n",
              " ('a', 5),\n",
              " ('of', 6),\n",
              " ('is', 7),\n",
              " ('and', 8),\n",
              " ('in', 9)]"
            ]
          },
          "metadata": {},
          "execution_count": 42
        }
      ]
    },
    {
      "cell_type": "markdown",
      "metadata": {
        "id": "gjvP5RUw97NX"
      },
      "source": [
        "\n",
        "***Note***: Two special tokens known as unknown and padding will be added to the vocabulary by default\n",
        "\n",
        "* **Unknown token** is used to handle Out Of Vocabulary words. By default, the index of unknown token is 0\n",
        "* **Padding token** is used to make input sequences of same length. By default, the padding token is added at index 1"
      ]
    },
    {
      "cell_type": "code",
      "metadata": {
        "id": "KH4Hr9bsHAD-"
      },
      "source": [
        "def fetch_text(examples):\n",
        "\n",
        "  text=[]\n",
        "  for example in examples:\n",
        "    query = vars(example)['query']\n",
        "    text.append(query)\n",
        "    \n",
        "  return text"
      ],
      "execution_count": null,
      "outputs": []
    },
    {
      "cell_type": "code",
      "metadata": {
        "id": "fP6tbe1YXhcT"
      },
      "source": [
        "train_text = fetch_text(train_data)\n",
        "valid_text = fetch_text(valid_data)"
      ],
      "execution_count": null,
      "outputs": []
    },
    {
      "cell_type": "code",
      "metadata": {
        "id": "JCmD_tscB8Tc"
      },
      "source": [
        "def convert2seq(text):\n",
        "  \n",
        "  #padding\n",
        "  text = TEXT.pad(text)\n",
        "  \n",
        "  #converting to numbers\n",
        "  text = TEXT.numericalize(text)\n",
        "  \n",
        "  return text"
      ],
      "execution_count": null,
      "outputs": []
    },
    {
      "cell_type": "code",
      "metadata": {
        "id": "gy0jLpHk-gEy"
      },
      "source": [
        "X_train = convert2seq(train_text)\n",
        "X_valid = convert2seq(valid_text)"
      ],
      "execution_count": null,
      "outputs": []
    },
    {
      "cell_type": "code",
      "metadata": {
        "id": "D9-AU-oUj9Uq",
        "outputId": "59f5f840-53cb-456a-be2b-ae6fb8da4493",
        "colab": {
          "base_uri": "https://localhost:8080/"
        }
      },
      "source": [
        "X_train[0]"
      ],
      "execution_count": null,
      "outputs": [
        {
          "output_type": "execute_result",
          "data": {
            "text/plain": [
              "tensor([    3,    17,     2,    15,    98,    33,    86,     3,   250,     4,\n",
              "          520,     2,    94,    40,    21,    50,   193,    74,   294,   635,\n",
              "           65,     9, 12271,     3,    17,   266,   283,    78,    26,  2481,\n",
              "         3593,    33,    13,     7,  1877,    12,   103,    21,  2365,  1163,\n",
              "           15,   276,   841,     6,    62,  9865,   460,     0,   460,     0,\n",
              "          460,     0,   460,     0,   460,     0,   927,  4131,   460, 12271,\n",
              "          460,     0,   460,     0,   460,     0,   460,     0,  8616,   286,\n",
              "          286,   286,   286,   286,   286,     0,   460, 10035,   460,   329,\n",
              "            7,    65,  1163,   286,    24,    15,   117,    32,  1374,    66,\n",
              "           65,    69,    70,   598,   681,   104,   681,  1163, 10035,     0])"
            ]
          },
          "metadata": {},
          "execution_count": 47
        }
      ]
    },
    {
      "cell_type": "code",
      "metadata": {
        "id": "5_kAvrkbP6KU",
        "outputId": "b9d204ae-fe0a-4fb3-d6c3-08c7be46eaff",
        "colab": {
          "base_uri": "https://localhost:8080/"
        }
      },
      "source": [
        "X_train.shape, X_valid.shape"
      ],
      "execution_count": null,
      "outputs": [
        {
          "output_type": "execute_result",
          "data": {
            "text/plain": [
              "(torch.Size([8885, 100]), torch.Size([2221, 100]))"
            ]
          },
          "metadata": {},
          "execution_count": 48
        }
      ]
    },
    {
      "cell_type": "code",
      "metadata": {
        "id": "Vl_S6Ql2fwjh"
      },
      "source": [
        "def fetch_tags(data):\n",
        "  tags=[]\n",
        "  for example in data.examples:\n",
        "    tags.append(vars(example)['tags'])\n",
        "  return tags"
      ],
      "execution_count": null,
      "outputs": []
    },
    {
      "cell_type": "code",
      "metadata": {
        "id": "2L4V-Zdwf1FT"
      },
      "source": [
        "train_tags = fetch_tags(train_data)\n",
        "valid_tags = fetch_tags(valid_data)"
      ],
      "execution_count": null,
      "outputs": []
    },
    {
      "cell_type": "code",
      "metadata": {
        "id": "RwcyVXZE_1MW",
        "outputId": "d802b60d-a9b5-484f-cd6a-a5dce3d0b35e",
        "colab": {
          "base_uri": "https://localhost:8080/"
        }
      },
      "source": [
        "train_tags[:5]"
      ],
      "execution_count": null,
      "outputs": [
        {
          "output_type": "execute_result",
          "data": {
            "text/plain": [
              "['r,logistic',\n",
              " 'machine learning,classification',\n",
              " 'r,time series',\n",
              " 'r,time series',\n",
              " 'probability,distributions']"
            ]
          },
          "metadata": {},
          "execution_count": 51
        }
      ]
    },
    {
      "cell_type": "code",
      "metadata": {
        "id": "WmT2dgfvOaGw"
      },
      "source": [
        "#preparing the output labels \n",
        "train_tags_list=[i.split(\",\") for i in train_tags]\n",
        "valid_tags_list=[i.split(\",\") for i in valid_tags]"
      ],
      "execution_count": null,
      "outputs": []
    },
    {
      "cell_type": "code",
      "metadata": {
        "id": "DWwlKMXc_R4S",
        "outputId": "e0c5966d-8d81-4a02-a265-4cec0e0ed491",
        "colab": {
          "base_uri": "https://localhost:8080/"
        }
      },
      "source": [
        "mlb= MultiLabelBinarizer()\n",
        "mlb.fit(train_tags_list)"
      ],
      "execution_count": null,
      "outputs": [
        {
          "output_type": "execute_result",
          "data": {
            "text/plain": [
              "MultiLabelBinarizer()"
            ]
          },
          "metadata": {},
          "execution_count": 53
        }
      ]
    },
    {
      "cell_type": "code",
      "metadata": {
        "id": "yc4QfBrX_Ryl",
        "outputId": "e975206a-10a0-4cf5-bf7e-c227a291e5af",
        "colab": {
          "base_uri": "https://localhost:8080/"
        }
      },
      "source": [
        "mlb.classes_"
      ],
      "execution_count": null,
      "outputs": [
        {
          "output_type": "execute_result",
          "data": {
            "text/plain": [
              "array(['classification', 'distributions', 'hypothesis testing',\n",
              "       'logistic', 'machine learning', 'probability', 'r', 'regression',\n",
              "       'self study', 'time series'], dtype=object)"
            ]
          },
          "metadata": {},
          "execution_count": 54
        }
      ]
    },
    {
      "cell_type": "code",
      "metadata": {
        "id": "t6bHhjjsO0oA"
      },
      "source": [
        "y_train  = mlb.transform(train_tags_list)\n",
        "y_valid  = mlb.transform(valid_tags_list)"
      ],
      "execution_count": null,
      "outputs": []
    },
    {
      "cell_type": "code",
      "metadata": {
        "id": "RbhTziq7O0iT",
        "outputId": "95339311-8696-4619-ab9a-d4f0ea8f1bd8",
        "colab": {
          "base_uri": "https://localhost:8080/"
        }
      },
      "source": [
        "y_train.shape, y_valid.shape"
      ],
      "execution_count": null,
      "outputs": [
        {
          "output_type": "execute_result",
          "data": {
            "text/plain": [
              "((8885, 10), (2221, 10))"
            ]
          },
          "metadata": {},
          "execution_count": 56
        }
      ]
    },
    {
      "cell_type": "code",
      "metadata": {
        "id": "R1QdDTe1pKcY",
        "outputId": "7195d06f-3e22-4ec9-a734-96299bb611a6",
        "colab": {
          "base_uri": "https://localhost:8080/"
        }
      },
      "source": [
        "type(y_train)"
      ],
      "execution_count": null,
      "outputs": [
        {
          "output_type": "execute_result",
          "data": {
            "text/plain": [
              "numpy.ndarray"
            ]
          },
          "metadata": {},
          "execution_count": 57
        }
      ]
    },
    {
      "cell_type": "code",
      "metadata": {
        "id": "JS0y7u8MQNxf"
      },
      "source": [
        "y_train = torch.FloatTensor(y_train)\n",
        "y_valid = torch.FloatTensor(y_valid)"
      ],
      "execution_count": null,
      "outputs": []
    },
    {
      "cell_type": "code",
      "metadata": {
        "id": "PnpswpTgQXuK",
        "outputId": "ee9db49b-7d2a-42f3-84b5-d0b4bd390bbf",
        "colab": {
          "base_uri": "https://localhost:8080/"
        }
      },
      "source": [
        "type(y_train)"
      ],
      "execution_count": null,
      "outputs": [
        {
          "output_type": "execute_result",
          "data": {
            "text/plain": [
              "torch.Tensor"
            ]
          },
          "metadata": {},
          "execution_count": 59
        }
      ]
    },
    {
      "cell_type": "markdown",
      "metadata": {
        "id": "f1QO2V5C1q0c"
      },
      "source": [
        "# 4. Model Building"
      ]
    },
    {
      "cell_type": "markdown",
      "metadata": {
        "id": "wwPA0UEV1sdy"
      },
      "source": [
        " ## 4.1 Model Architecture"
      ]
    },
    {
      "cell_type": "markdown",
      "metadata": {
        "id": "AohYMQDYjf5J"
      },
      "source": [
        "Prior to defining a RNN architecture, we will understand the how RNN layer is defined in pytorch, what are the input and output shapes of an RNN layer in PyTorch\n",
        "\n",
        "As you might remember, preprocessed text data is at first passed through Embedding Layer, then the output of this embedding layer is passed through the RNN layer\n",
        "\n",
        "Lets see what the parameters of Embedding Layer are\n",
        "\n",
        "* **num_embeddings**: Actual feature dimensions of input\n",
        "* **embedding_dim**: Number of embedding dimensions; this is set by the user"
      ]
    },
    {
      "cell_type": "code",
      "metadata": {
        "id": "I-Hu3YNxhx5Z"
      },
      "source": [
        "# define embedding layer\n",
        "emb = Embedding(num_embeddings=len(TEXT.vocab), embedding_dim=50)"
      ],
      "execution_count": null,
      "outputs": []
    },
    {
      "cell_type": "code",
      "metadata": {
        "id": "jHL606DglJxs",
        "outputId": "208a4745-5edd-4c6e-b157-37bf085eb959",
        "colab": {
          "base_uri": "https://localhost:8080/"
        }
      },
      "source": [
        "X_train[:1].shape"
      ],
      "execution_count": null,
      "outputs": [
        {
          "output_type": "execute_result",
          "data": {
            "text/plain": [
              "torch.Size([1, 100])"
            ]
          },
          "metadata": {},
          "execution_count": 61
        }
      ]
    },
    {
      "cell_type": "code",
      "metadata": {
        "id": "9qU_qVYah4sZ"
      },
      "source": [
        "# check sample input\n",
        "sample_embedding = emb(X_train[:1])"
      ],
      "execution_count": null,
      "outputs": []
    },
    {
      "cell_type": "code",
      "metadata": {
        "id": "qRqMsYe_jJzW",
        "outputId": "2b97f5db-22d1-4518-88a8-c33168d1898b",
        "colab": {
          "base_uri": "https://localhost:8080/"
        }
      },
      "source": [
        "sample_embedding.shape"
      ],
      "execution_count": null,
      "outputs": [
        {
          "output_type": "execute_result",
          "data": {
            "text/plain": [
              "torch.Size([1, 100, 50])"
            ]
          },
          "metadata": {},
          "execution_count": 63
        }
      ]
    },
    {
      "cell_type": "markdown",
      "metadata": {
        "id": "S1nf8tfeInil"
      },
      "source": [
        "In Pytorch, you can easily define RNN layers with same hyperparameters using the RNN module of torch.nn \n",
        "\n",
        "Parameters of RNN layer:\n",
        "\n",
        "* **input_size**: Number of inputs to the RNN\n",
        "* **hidden_size**: Number of neurons in RNN layer.\n",
        "* **batch_first**: Set first dimension to batch size\n",
        "* **nonlinearity**: Activation function on RNN layer"
      ]
    },
    {
      "cell_type": "code",
      "metadata": {
        "id": "7GNiEeVSzNqg"
      },
      "source": [
        "#define a rnn\n",
        "rnn = RNN(input_size=50, hidden_size=128, batch_first=True, nonlinearity='relu')"
      ],
      "execution_count": null,
      "outputs": []
    },
    {
      "cell_type": "code",
      "metadata": {
        "id": "BWWNM7emrESx"
      },
      "source": [
        "#pass the input to rnn\n",
        "hidden_states,last_hidden_state = rnn(sample_embedding)"
      ],
      "execution_count": null,
      "outputs": []
    },
    {
      "cell_type": "code",
      "metadata": {
        "id": "b2UOiZpIrEOV",
        "outputId": "25d92c4f-39ae-49ee-bea3-b2c9fd40ed65",
        "colab": {
          "base_uri": "https://localhost:8080/"
        }
      },
      "source": [
        "#Hidden state of every timestep (Batch, seq_len, no. of hidden neurons)\n",
        "hidden_states.shape"
      ],
      "execution_count": null,
      "outputs": [
        {
          "output_type": "execute_result",
          "data": {
            "text/plain": [
              "torch.Size([1, 100, 128])"
            ]
          },
          "metadata": {},
          "execution_count": 66
        }
      ]
    },
    {
      "cell_type": "code",
      "metadata": {
        "id": "5X-Sh0Hfsndv",
        "outputId": "f2c7fa72-0f4f-4077-ee64-c6ad09f0a85b",
        "colab": {
          "base_uri": "https://localhost:8080/"
        }
      },
      "source": [
        "#output shape of last hidden timestep\n",
        "last_hidden_state.shape"
      ],
      "execution_count": null,
      "outputs": [
        {
          "output_type": "execute_result",
          "data": {
            "text/plain": [
              "torch.Size([1, 1, 128])"
            ]
          },
          "metadata": {},
          "execution_count": 67
        }
      ]
    },
    {
      "cell_type": "code",
      "metadata": {
        "id": "_CR_ZH74oMKU",
        "outputId": "2a08ae89-ee60-40c3-8c4f-6b3ea123997d",
        "colab": {
          "base_uri": "https://localhost:8080/"
        }
      },
      "source": [
        "#reshaping the hidden states\n",
        "reshaped = hidden_states.reshape(hidden_states.size(0),-1)\n",
        "reshaped.shape"
      ],
      "execution_count": null,
      "outputs": [
        {
          "output_type": "execute_result",
          "data": {
            "text/plain": [
              "torch.Size([1, 12800])"
            ]
          },
          "metadata": {},
          "execution_count": 68
        }
      ]
    },
    {
      "cell_type": "code",
      "metadata": {
        "id": "ak9rPTehSv0F"
      },
      "source": [
        "# Define Model Architecture\n",
        "\n",
        "# Input\n",
        "# Embedding(embedding_dim=50)\n",
        "# RNN(128)\n",
        "# Linear(128, 'relu')\n",
        "# Linear(10, 'sigmoid')\n",
        "\n",
        "class Net(nn.Module):\n",
        "    \n",
        "    #define all the layers used in model\n",
        "    def __init__(self):\n",
        "        \n",
        "        #Constructor\n",
        "        super(Net, self).__init__()   \n",
        "        \n",
        "        self.rnn_layer = nn.Sequential(\n",
        "            \n",
        "            #embedding layer [batch_size,vocab_size]\n",
        "            Embedding(num_embeddings=len(TEXT.vocab), embedding_dim=50),\n",
        "        \n",
        "            #rnn layer [batch_size,100,128]\n",
        "            RNN(input_size=50, hidden_size=128, nonlinearity='relu',batch_first=True)\n",
        "          \n",
        "            )\n",
        "\n",
        "        self.dense_layer = nn.Sequential(\n",
        "            \n",
        "            #[batch_size,100*128]\n",
        "            Linear(12800, 128),\n",
        "\n",
        "            ReLU(),\n",
        "\n",
        "            #[batch_size,128]\n",
        "            Linear(128,10),\n",
        "            \n",
        "            #[batch_size,10]\n",
        "            Sigmoid()\n",
        "\n",
        "        )\n",
        "\n",
        "    def forward(self, x):\n",
        "        \n",
        "        #rnn layer\n",
        "        hidden_states, last_hidden_state = self.rnn_layer(x)\n",
        "\n",
        "        #reshaping\n",
        "        hidden_states = hidden_states.reshape(hidden_states.size(0),-1)\n",
        "\n",
        "        #dense layer\n",
        "        outputs=self.dense_layer(hidden_states)\n",
        "        \n",
        "        return outputs"
      ],
      "execution_count": null,
      "outputs": []
    },
    {
      "cell_type": "code",
      "metadata": {
        "id": "0YJHLpi4Sv5j"
      },
      "source": [
        "#define the model\n",
        "model = Net()"
      ],
      "execution_count": null,
      "outputs": []
    },
    {
      "cell_type": "code",
      "metadata": {
        "id": "L4U_4YfbSv_A",
        "outputId": "1c76c635-4aeb-4b4d-b7f9-41879ae3ce51",
        "colab": {
          "base_uri": "https://localhost:8080/"
        }
      },
      "source": [
        "#model layers\n",
        "model"
      ],
      "execution_count": null,
      "outputs": [
        {
          "output_type": "execute_result",
          "data": {
            "text/plain": [
              "Net(\n",
              "  (rnn_layer): Sequential(\n",
              "    (0): Embedding(12483, 50)\n",
              "    (1): RNN(50, 128, batch_first=True)\n",
              "  )\n",
              "  (dense_layer): Sequential(\n",
              "    (0): Linear(in_features=12800, out_features=128, bias=True)\n",
              "    (1): ReLU()\n",
              "    (2): Linear(in_features=128, out_features=10, bias=True)\n",
              "    (3): Sigmoid()\n",
              "  )\n",
              ")"
            ]
          },
          "metadata": {},
          "execution_count": 71
        }
      ]
    },
    {
      "cell_type": "code",
      "metadata": {
        "id": "D06A21xv6JaN",
        "outputId": "a707cc01-fc7e-4f48-f248-eb1eafe8b26c",
        "colab": {
          "base_uri": "https://localhost:8080/"
        }
      },
      "source": [
        "#pass an text to the model to understand the output\n",
        "#deactivates autograd\n",
        "with torch.no_grad():\n",
        "  pred = model(X_train[:1])\n",
        "  print(pred)"
      ],
      "execution_count": null,
      "outputs": [
        {
          "output_type": "stream",
          "name": "stdout",
          "text": [
            "tensor([[0.4906, 0.4727, 0.4717, 0.4754, 0.5288, 0.4884, 0.4936, 0.4944, 0.4973,\n",
            "         0.4983]])\n"
          ]
        }
      ]
    },
    {
      "cell_type": "code",
      "metadata": {
        "id": "liHnnKIFjmRj"
      },
      "source": [
        "#define optimizer and loss\n",
        "optimizer = torch.optim.Adam(model.parameters())\n",
        "criterion = BCELoss()\n",
        "\n",
        "# checking if GPU is available\n",
        "if torch.cuda.is_available():\n",
        "    model = model.cuda()\n",
        "    criterion = criterion.cuda()"
      ],
      "execution_count": null,
      "outputs": []
    },
    {
      "cell_type": "markdown",
      "metadata": {
        "id": "LleGoa8918PF"
      },
      "source": [
        "## 4.2 Model Training"
      ]
    },
    {
      "cell_type": "code",
      "metadata": {
        "id": "p_v08HY6Sv84"
      },
      "source": [
        "# define training function\n",
        "def train(X,y,batch_size):\n",
        "\n",
        "  #activate training phase\n",
        "  model.train()\n",
        "  \n",
        "  #initialization\n",
        "  epoch_loss= 0\n",
        "  no_of_batches = 0\n",
        "\n",
        "  #randomly create indices\n",
        "  indices= torch.randperm(len(X))\n",
        "  \n",
        "  #loading in batches\n",
        "  for i in range(0,len(indices),batch_size):\n",
        "    \n",
        "    #indices for a batch\n",
        "    ind = indices[i:i+batch_size]\n",
        "  \n",
        "    #batch  \n",
        "    batch_x=X[ind]\n",
        "    batch_y=y[ind]\n",
        "    \n",
        "    #push to cuda\n",
        "    if torch.cuda.is_available():\n",
        "        batch_x, batch_y = batch_x.cuda(), batch_y.cuda()\n",
        "\n",
        "    #clear gradients\n",
        "    optimizer.zero_grad()\n",
        "          \n",
        "    #forward pass\n",
        "    outputs = model(batch_x)\n",
        "\n",
        "    #converting to a 1 dimensional tensor\n",
        "    outputs = outputs.squeeze()\n",
        "\n",
        "    #calculate loss and accuracy\n",
        "    loss = criterion(outputs, batch_y)\n",
        "    \n",
        "    #Backward pass\n",
        "    loss.backward()\n",
        "    \n",
        "    #Update weights\n",
        "    optimizer.step()\n",
        "\n",
        "    #Keep track of the loss and accuracy of a epoch\n",
        "    epoch_loss = epoch_loss + loss.item()\n",
        "\n",
        "    #No. of batches\n",
        "    no_of_batches = no_of_batches+1\n",
        "\n",
        "  return epoch_loss/no_of_batches"
      ],
      "execution_count": null,
      "outputs": []
    },
    {
      "cell_type": "code",
      "metadata": {
        "id": "FeCtfkgoSvx8"
      },
      "source": [
        "# define evaluation function\n",
        "def evaluate(X,y,batch_size):\n",
        "\n",
        "  #deactivate training phase\n",
        "  model.eval()\n",
        "\n",
        "  #initialization\n",
        "  epoch_loss = 0\n",
        "  no_of_batches = 0\n",
        "\n",
        "  #randomly create indices\n",
        "  indices= torch.randperm(len(X))\n",
        "\n",
        "  #deactivates autograd\n",
        "  with torch.no_grad():\n",
        "    \n",
        "    #loading in batches\n",
        "    for i in range(0,len(indices),batch_size):\n",
        "      \n",
        "      #indices for a batch\n",
        "      ind = indices[i:i+batch_size]\n",
        "  \n",
        "      #batch  \n",
        "      batch_x= X[ind]\n",
        "      batch_y= y[ind]\n",
        "\n",
        "      #push to cuda\n",
        "      if torch.cuda.is_available():\n",
        "          batch_x, batch_y = batch_x.cuda(), batch_y.cuda()\n",
        "        \n",
        "      #Forward pass\n",
        "      outputs = model(batch_x)\n",
        "\n",
        "      #converting the output to 1 Dimensional tensor\n",
        "      outputs = outputs.squeeze()\n",
        "\n",
        "      # Calculate loss and accuracy\n",
        "      loss = criterion(outputs, batch_y)\n",
        "      \n",
        "      #keep track of loss and accuracy of an epoch\n",
        "      epoch_loss = epoch_loss + loss.item()\n",
        "\n",
        "      #no. of batches\n",
        "      no_of_batches = no_of_batches + 1\n",
        "\n",
        "    return epoch_loss/no_of_batches"
      ],
      "execution_count": null,
      "outputs": []
    },
    {
      "cell_type": "code",
      "metadata": {
        "id": "73CuJpFUYvDM"
      },
      "source": [
        "# define prediction function\n",
        "def predict(X,batch_size):\n",
        "  \n",
        "  #deactivate training phase\n",
        "  model.eval()\n",
        "\n",
        "  # initialization \n",
        "  predictions = []\n",
        "\n",
        "  # create indices\n",
        "  indices = torch.arange(len(X))\n",
        "\n",
        "  #deactivates autograd\n",
        "  with torch.no_grad():\n",
        "      \n",
        "      for i in range(0, len(X), batch_size):\n",
        "        \n",
        "        #indices for a batch\n",
        "        ind = indices[i:i+batch_size]\n",
        "\n",
        "        # batch\n",
        "        batch_x = X[ind]\n",
        "\n",
        "        #push to cuda\n",
        "        if torch.cuda.is_available():\n",
        "            batch_x = batch_x.cuda()\n",
        "\n",
        "        #Forward pass\n",
        "        outputs = model(batch_x)\n",
        "\n",
        "        #converting the output to 1 Dimensional tensor\n",
        "        outputs = outputs.squeeze()\n",
        "\n",
        "        # convert to numpy array\n",
        "        prediction = outputs.data.cpu().numpy()\n",
        "        predictions.append(prediction)\n",
        "    \n",
        "  # convert to single numpy array\n",
        "  predictions = np.concatenate(predictions, axis=0)\n",
        "    \n",
        "  return predictions"
      ],
      "execution_count": null,
      "outputs": []
    },
    {
      "cell_type": "code",
      "metadata": {
        "id": "Z5bch29mSve6",
        "outputId": "cb9721ea-3ad0-41d7-fdc8-fa1be676f51e",
        "colab": {
          "base_uri": "https://localhost:8080/"
        }
      },
      "source": [
        "N_EPOCHS = 10\n",
        "batch_size = 32\n",
        "\n",
        "# intialization\n",
        "best_valid_loss = float('inf')\n",
        "\n",
        "for epoch in range(N_EPOCHS):\n",
        "     \n",
        "    #train the model\n",
        "    train_loss   = train(X_train, y_train, batch_size)\n",
        "    \n",
        "    #evaluate the model\n",
        "    valid_loss   = evaluate(X_valid, y_valid, batch_size)\n",
        "\n",
        "    print('\\nEpoch :',epoch,\n",
        "          'Training loss:',round(train_loss,4),\n",
        "          '\\tValidation loss:',round(valid_loss,4))\n",
        "\n",
        "    #save the best model\n",
        "    if best_valid_loss >= valid_loss:\n",
        "        best_valid_loss = valid_loss\n",
        "        torch.save(model.state_dict(), 'saved_weights.pt') \n",
        "        print(\"\\n----------------------------------------------------Saved best model------------------------------------------------------------------\")   "
      ],
      "execution_count": null,
      "outputs": [
        {
          "output_type": "stream",
          "name": "stdout",
          "text": [
            "\n",
            "Epoch : 0 Training loss: 0.4235 \tValidation loss: 0.3586\n",
            "\n",
            "----------------------------------------------------Saved best model------------------------------------------------------------------\n",
            "\n",
            "Epoch : 1 Training loss: 0.291 \tValidation loss: 0.3369\n",
            "\n",
            "----------------------------------------------------Saved best model------------------------------------------------------------------\n",
            "\n",
            "Epoch : 2 Training loss: 0.1979 \tValidation loss: 0.3643\n",
            "\n",
            "Epoch : 3 Training loss: 0.1095 \tValidation loss: 0.4289\n",
            "\n",
            "Epoch : 4 Training loss: 0.0472 \tValidation loss: 0.5454\n",
            "\n",
            "Epoch : 5 Training loss: 0.0175 \tValidation loss: 0.6691\n",
            "\n",
            "Epoch : 6 Training loss: 0.0059 \tValidation loss: 0.777\n",
            "\n",
            "Epoch : 7 Training loss: 0.003 \tValidation loss: 0.8685\n",
            "\n",
            "Epoch : 8 Training loss: 0.0013 \tValidation loss: 0.9673\n",
            "\n",
            "Epoch : 9 Training loss: 0.001 \tValidation loss: 0.9995\n"
          ]
        }
      ]
    },
    {
      "cell_type": "markdown",
      "metadata": {
        "id": "iPD3sYkO2C8k"
      },
      "source": [
        "# 5. Model Evaluation"
      ]
    },
    {
      "cell_type": "markdown",
      "metadata": {
        "id": "45blbQAZ2M8O"
      },
      "source": [
        "## 5.1 Check Performance"
      ]
    },
    {
      "cell_type": "markdown",
      "metadata": {
        "id": "Do5YNpepVXE3"
      },
      "source": [
        "Load the best model weights and now, the model is ready for the predictions"
      ]
    },
    {
      "cell_type": "code",
      "metadata": {
        "id": "Gdj5mP2EYZVz",
        "outputId": "eb79fc0c-9e5c-4f8b-9e58-da99b6fc8115",
        "colab": {
          "base_uri": "https://localhost:8080/"
        }
      },
      "source": [
        "#load weights of best model\n",
        "path='saved_weights.pt'\n",
        "model.load_state_dict(torch.load(path))"
      ],
      "execution_count": null,
      "outputs": [
        {
          "output_type": "execute_result",
          "data": {
            "text/plain": [
              "<All keys matched successfully>"
            ]
          },
          "metadata": {},
          "execution_count": 78
        }
      ]
    },
    {
      "cell_type": "code",
      "metadata": {
        "id": "AbV0Y8dXYsv2"
      },
      "source": [
        "#predict probabilities\n",
        "y_pred_prob = predict(X_valid, batch_size)"
      ],
      "execution_count": null,
      "outputs": []
    },
    {
      "cell_type": "code",
      "metadata": {
        "id": "0_K7FERpSvZL",
        "outputId": "e116d7c0-047c-45e7-b62f-d3f96e20518c",
        "colab": {
          "base_uri": "https://localhost:8080/"
        }
      },
      "source": [
        "y_pred_prob[0]"
      ],
      "execution_count": null,
      "outputs": [
        {
          "output_type": "execute_result",
          "data": {
            "text/plain": [
              "array([0.00971062, 0.7285845 , 0.23532042, 0.0244341 , 0.02204334,\n",
              "       0.18712567, 0.3193065 , 0.45460236, 0.16807698, 0.00086572],\n",
              "      dtype=float32)"
            ]
          },
          "metadata": {},
          "execution_count": 80
        }
      ]
    },
    {
      "cell_type": "code",
      "metadata": {
        "id": "AdpKdmTvbEeu"
      },
      "source": [
        "#actual tags\n",
        "y_true = y_valid.cpu().numpy()"
      ],
      "execution_count": null,
      "outputs": []
    },
    {
      "cell_type": "markdown",
      "metadata": {
        "id": "Q_8v15zo_9D0"
      },
      "source": [
        "The predictions are in terms of probabilities for each of the 10 tags. Hence we need to have a threshold value to convert these probabilities to 0 or 1. Let's specify a set of candidate threshold values. We will select the threshold value that performs the best for the validation set."
      ]
    },
    {
      "cell_type": "code",
      "metadata": {
        "id": "eoyr5wlbSmfI",
        "outputId": "cdd22d1c-83ba-48cc-f157-f3eb2ba3dbd8",
        "colab": {
          "base_uri": "https://localhost:8080/"
        }
      },
      "source": [
        "#define candidate threshold values\n",
        "threshold  = np.arange(0,0.5,0.01)\n",
        "print(threshold)"
      ],
      "execution_count": null,
      "outputs": [
        {
          "output_type": "stream",
          "name": "stdout",
          "text": [
            "[0.   0.01 0.02 0.03 0.04 0.05 0.06 0.07 0.08 0.09 0.1  0.11 0.12 0.13\n",
            " 0.14 0.15 0.16 0.17 0.18 0.19 0.2  0.21 0.22 0.23 0.24 0.25 0.26 0.27\n",
            " 0.28 0.29 0.3  0.31 0.32 0.33 0.34 0.35 0.36 0.37 0.38 0.39 0.4  0.41\n",
            " 0.42 0.43 0.44 0.45 0.46 0.47 0.48 0.49]\n"
          ]
        }
      ]
    },
    {
      "cell_type": "markdown",
      "metadata": {
        "id": "G39D2TISVhfO"
      },
      "source": [
        "Let's define a function that takes a threshold value and uses it to convert probabilities into 1 or 0."
      ]
    },
    {
      "cell_type": "code",
      "metadata": {
        "id": "bvcm8hxPSb3e"
      },
      "source": [
        "# convert probabilities into classes or tags based on a threshold value\n",
        "def classify(y_pred_prob, thresh):\n",
        "  \n",
        "  y_pred = []\n",
        "\n",
        "  for i in y_pred_prob:\n",
        "    temp=[]\n",
        "      \n",
        "    for j in i:\n",
        "      if j>=thresh:\n",
        "        temp.append(1)\n",
        "      else:\n",
        "        temp.append(0)\n",
        "    \n",
        "    y_pred.append(temp)\n",
        "\n",
        "  return np.array(y_pred)"
      ],
      "execution_count": null,
      "outputs": []
    },
    {
      "cell_type": "markdown",
      "metadata": {
        "id": "WaH6P-FHhf2Z"
      },
      "source": [
        "We will evaluate the performance of model for each candidate threshold"
      ]
    },
    {
      "cell_type": "code",
      "metadata": {
        "id": "gG8OFwSuSb0m"
      },
      "source": [
        "score=[]\n",
        "\n",
        "for thresh in threshold:\n",
        "    \n",
        "    #classes for each threshold\n",
        "    y_pred = classify(y_pred_prob, thresh) \n",
        "\n",
        "    #convert to 1d array\n",
        "    y_pred_1d    =  y_pred.ravel()\n",
        "    y_true_1d    =  y_true.ravel()\n",
        " \n",
        "    score.append(metrics.f1_score(y_true_1d, y_pred_1d))"
      ],
      "execution_count": null,
      "outputs": []
    },
    {
      "cell_type": "code",
      "metadata": {
        "id": "XBZxqkmSR_8i",
        "outputId": "16705501-6af0-4ce7-e0c6-9b7c31a04990",
        "colab": {
          "base_uri": "https://localhost:8080/"
        }
      },
      "source": [
        "# find the optimal threshold\n",
        "opt = threshold[score.index(max(score))]\n",
        "print(opt)"
      ],
      "execution_count": null,
      "outputs": [
        {
          "output_type": "stream",
          "name": "stdout",
          "text": [
            "0.35000000000000003\n"
          ]
        }
      ]
    },
    {
      "cell_type": "code",
      "metadata": {
        "id": "eD2l-uNwR7o3"
      },
      "source": [
        "#predictions for optimal threshold\n",
        "y_pred = classify(y_pred_prob, opt)"
      ],
      "execution_count": null,
      "outputs": []
    },
    {
      "cell_type": "code",
      "metadata": {
        "id": "MdHB_HaJR7m2",
        "outputId": "a2a918d4-61a2-41b1-a8b4-54ecaac13e94",
        "colab": {
          "base_uri": "https://localhost:8080/"
        }
      },
      "source": [
        "#converting to 1D\n",
        "y_pred_1d = y_pred.ravel()\n",
        "\n",
        "#Classification report\n",
        "print(metrics.classification_report(y_true_1d, y_pred_1d))"
      ],
      "execution_count": null,
      "outputs": [
        {
          "output_type": "stream",
          "name": "stdout",
          "text": [
            "              precision    recall  f1-score   support\n",
            "\n",
            "         0.0       0.91      0.90      0.90     17478\n",
            "         1.0       0.64      0.67      0.65      4732\n",
            "\n",
            "    accuracy                           0.85     22210\n",
            "   macro avg       0.77      0.78      0.78     22210\n",
            "weighted avg       0.85      0.85      0.85     22210\n",
            "\n"
          ]
        }
      ]
    },
    {
      "cell_type": "code",
      "metadata": {
        "id": "YY-z8S42XTBB",
        "outputId": "16fb6586-6c37-415f-9629-9afcd28a67ba",
        "colab": {
          "base_uri": "https://localhost:8080/",
          "height": 337
        }
      },
      "source": [
        "#convert back to tags\n",
        "y_pred_label = mlb.inverse_transform(np.array(y_pred))\n",
        "y_true_label = mlb.inverse_transform(np.array(y_true))\n",
        "\n",
        "# get all validation text\n",
        "queries = [\" \".join(i) for i in valid_text]\n",
        "\n",
        "# create a dataframe to show the data and prediction side by side\n",
        "df = pd.DataFrame({'Questions':queries,'Actual Tags':y_true_label,'Predicted Tags':y_pred_label})\n",
        "\n",
        "# print first five rows\n",
        "df.head()"
      ],
      "execution_count": null,
      "outputs": [
        {
          "output_type": "execute_result",
          "data": {
            "text/plain": [
              "                                                                                                                                                                                                 Questions  \\\n",
              "0  consider the following model y if g x beta u and y otherwise where u is iid according to some distribution function f i want to recover the distribution f without making too many assumptions that ...   \n",
              "1  i am encountering the following problems and i don t really know which model a should pick all model selection criteria indicate that i should take the model with lag after building the var model ...   \n",
              "2  basically i m attempting to recreate the results of an example from class in r what i m trying to do is decide whether it s best to use a single regression line for an entire data set or two lines...   \n",
              "3  in general i standardize my independent variables in regressions in order to properly compare the coefficients this way they have the same units standard deviations however with panel longitudinal...   \n",
              "4  let v to be forecasted value for periods through t and v t be its forecasted value at time t we express v t as the sum of two terms its mean at time t and its deviation from the mean at time t eps...   \n",
              "\n",
              "                         Actual Tags  \\\n",
              "0             (logistic, regression)   \n",
              "1  (hypothesis testing, time series)   \n",
              "2                    (r, regression)   \n",
              "3                    (r, regression)   \n",
              "4                   (r, time series)   \n",
              "\n",
              "                                     Predicted Tags  \n",
              "0                       (distributions, regression)  \n",
              "1                                   (r, regression)  \n",
              "2                                   (r, regression)  \n",
              "3                                   (r, regression)  \n",
              "4  (hypothesis testing, r, self study, time series)  "
            ],
            "text/html": [
              "\n",
              "  <div id=\"df-082bbfd6-9682-4e92-b05b-6127b8f37830\">\n",
              "    <div class=\"colab-df-container\">\n",
              "      <div>\n",
              "<style scoped>\n",
              "    .dataframe tbody tr th:only-of-type {\n",
              "        vertical-align: middle;\n",
              "    }\n",
              "\n",
              "    .dataframe tbody tr th {\n",
              "        vertical-align: top;\n",
              "    }\n",
              "\n",
              "    .dataframe thead th {\n",
              "        text-align: right;\n",
              "    }\n",
              "</style>\n",
              "<table border=\"1\" class=\"dataframe\">\n",
              "  <thead>\n",
              "    <tr style=\"text-align: right;\">\n",
              "      <th></th>\n",
              "      <th>Questions</th>\n",
              "      <th>Actual Tags</th>\n",
              "      <th>Predicted Tags</th>\n",
              "    </tr>\n",
              "  </thead>\n",
              "  <tbody>\n",
              "    <tr>\n",
              "      <th>0</th>\n",
              "      <td>consider the following model y if g x beta u and y otherwise where u is iid according to some distribution function f i want to recover the distribution f without making too many assumptions that ...</td>\n",
              "      <td>(logistic, regression)</td>\n",
              "      <td>(distributions, regression)</td>\n",
              "    </tr>\n",
              "    <tr>\n",
              "      <th>1</th>\n",
              "      <td>i am encountering the following problems and i don t really know which model a should pick all model selection criteria indicate that i should take the model with lag after building the var model ...</td>\n",
              "      <td>(hypothesis testing, time series)</td>\n",
              "      <td>(r, regression)</td>\n",
              "    </tr>\n",
              "    <tr>\n",
              "      <th>2</th>\n",
              "      <td>basically i m attempting to recreate the results of an example from class in r what i m trying to do is decide whether it s best to use a single regression line for an entire data set or two lines...</td>\n",
              "      <td>(r, regression)</td>\n",
              "      <td>(r, regression)</td>\n",
              "    </tr>\n",
              "    <tr>\n",
              "      <th>3</th>\n",
              "      <td>in general i standardize my independent variables in regressions in order to properly compare the coefficients this way they have the same units standard deviations however with panel longitudinal...</td>\n",
              "      <td>(r, regression)</td>\n",
              "      <td>(r, regression)</td>\n",
              "    </tr>\n",
              "    <tr>\n",
              "      <th>4</th>\n",
              "      <td>let v to be forecasted value for periods through t and v t be its forecasted value at time t we express v t as the sum of two terms its mean at time t and its deviation from the mean at time t eps...</td>\n",
              "      <td>(r, time series)</td>\n",
              "      <td>(hypothesis testing, r, self study, time series)</td>\n",
              "    </tr>\n",
              "  </tbody>\n",
              "</table>\n",
              "</div>\n",
              "      <button class=\"colab-df-convert\" onclick=\"convertToInteractive('df-082bbfd6-9682-4e92-b05b-6127b8f37830')\"\n",
              "              title=\"Convert this dataframe to an interactive table.\"\n",
              "              style=\"display:none;\">\n",
              "        \n",
              "  <svg xmlns=\"http://www.w3.org/2000/svg\" height=\"24px\"viewBox=\"0 0 24 24\"\n",
              "       width=\"24px\">\n",
              "    <path d=\"M0 0h24v24H0V0z\" fill=\"none\"/>\n",
              "    <path d=\"M18.56 5.44l.94 2.06.94-2.06 2.06-.94-2.06-.94-.94-2.06-.94 2.06-2.06.94zm-11 1L8.5 8.5l.94-2.06 2.06-.94-2.06-.94L8.5 2.5l-.94 2.06-2.06.94zm10 10l.94 2.06.94-2.06 2.06-.94-2.06-.94-.94-2.06-.94 2.06-2.06.94z\"/><path d=\"M17.41 7.96l-1.37-1.37c-.4-.4-.92-.59-1.43-.59-.52 0-1.04.2-1.43.59L10.3 9.45l-7.72 7.72c-.78.78-.78 2.05 0 2.83L4 21.41c.39.39.9.59 1.41.59.51 0 1.02-.2 1.41-.59l7.78-7.78 2.81-2.81c.8-.78.8-2.07 0-2.86zM5.41 20L4 18.59l7.72-7.72 1.47 1.35L5.41 20z\"/>\n",
              "  </svg>\n",
              "      </button>\n",
              "      \n",
              "  <style>\n",
              "    .colab-df-container {\n",
              "      display:flex;\n",
              "      flex-wrap:wrap;\n",
              "      gap: 12px;\n",
              "    }\n",
              "\n",
              "    .colab-df-convert {\n",
              "      background-color: #E8F0FE;\n",
              "      border: none;\n",
              "      border-radius: 50%;\n",
              "      cursor: pointer;\n",
              "      display: none;\n",
              "      fill: #1967D2;\n",
              "      height: 32px;\n",
              "      padding: 0 0 0 0;\n",
              "      width: 32px;\n",
              "    }\n",
              "\n",
              "    .colab-df-convert:hover {\n",
              "      background-color: #E2EBFA;\n",
              "      box-shadow: 0px 1px 2px rgba(60, 64, 67, 0.3), 0px 1px 3px 1px rgba(60, 64, 67, 0.15);\n",
              "      fill: #174EA6;\n",
              "    }\n",
              "\n",
              "    [theme=dark] .colab-df-convert {\n",
              "      background-color: #3B4455;\n",
              "      fill: #D2E3FC;\n",
              "    }\n",
              "\n",
              "    [theme=dark] .colab-df-convert:hover {\n",
              "      background-color: #434B5C;\n",
              "      box-shadow: 0px 1px 3px 1px rgba(0, 0, 0, 0.15);\n",
              "      filter: drop-shadow(0px 1px 2px rgba(0, 0, 0, 0.3));\n",
              "      fill: #FFFFFF;\n",
              "    }\n",
              "  </style>\n",
              "\n",
              "      <script>\n",
              "        const buttonEl =\n",
              "          document.querySelector('#df-082bbfd6-9682-4e92-b05b-6127b8f37830 button.colab-df-convert');\n",
              "        buttonEl.style.display =\n",
              "          google.colab.kernel.accessAllowed ? 'block' : 'none';\n",
              "\n",
              "        async function convertToInteractive(key) {\n",
              "          const element = document.querySelector('#df-082bbfd6-9682-4e92-b05b-6127b8f37830');\n",
              "          const dataTable =\n",
              "            await google.colab.kernel.invokeFunction('convertToInteractive',\n",
              "                                                     [key], {});\n",
              "          if (!dataTable) return;\n",
              "\n",
              "          const docLinkHtml = 'Like what you see? Visit the ' +\n",
              "            '<a target=\"_blank\" href=https://colab.research.google.com/notebooks/data_table.ipynb>data table notebook</a>'\n",
              "            + ' to learn more about interactive tables.';\n",
              "          element.innerHTML = '';\n",
              "          dataTable['output_type'] = 'display_data';\n",
              "          await google.colab.output.renderOutput(dataTable, element);\n",
              "          const docLink = document.createElement('div');\n",
              "          docLink.innerHTML = docLinkHtml;\n",
              "          element.appendChild(docLink);\n",
              "        }\n",
              "      </script>\n",
              "    </div>\n",
              "  </div>\n",
              "  "
            ]
          },
          "metadata": {},
          "execution_count": 88
        }
      ]
    },
    {
      "cell_type": "markdown",
      "metadata": {
        "id": "Ib-fPuHqx2cu"
      },
      "source": [
        "## 5.2 Show Inference"
      ]
    },
    {
      "cell_type": "code",
      "metadata": {
        "id": "x-xFfFHVdVz5"
      },
      "source": [
        "#raw text\n",
        "text = \"For example, in the case of logistic regression, the learning function is a Sigmoid function that tries to separate the 2 classes\""
      ],
      "execution_count": null,
      "outputs": []
    },
    {
      "cell_type": "code",
      "metadata": {
        "id": "BzCbTh8_dWJa",
        "outputId": "a588c419-98ce-426f-f85d-db907fc794e5",
        "colab": {
          "base_uri": "https://localhost:8080/"
        }
      },
      "source": [
        "#cleaning text\n",
        "tokens = cleaner(text)\n",
        "tokens[:5]"
      ],
      "execution_count": null,
      "outputs": [
        {
          "output_type": "execute_result",
          "data": {
            "text/plain": [
              "['for', 'example', 'in', 'the', 'case']"
            ]
          },
          "metadata": {},
          "execution_count": 90
        }
      ]
    },
    {
      "cell_type": "code",
      "metadata": {
        "id": "gqoqyJVtfUbP",
        "outputId": "2165c41d-7bc5-4885-d8c0-e1710e9d0468",
        "colab": {
          "base_uri": "https://localhost:8080/"
        }
      },
      "source": [
        "#first argument to the model is no. of samples\n",
        "tokens = np.array(tokens).reshape(-1,len(tokens))\n",
        "tokens.shape"
      ],
      "execution_count": null,
      "outputs": [
        {
          "output_type": "execute_result",
          "data": {
            "text/plain": [
              "(1, 21)"
            ]
          },
          "metadata": {},
          "execution_count": 91
        }
      ]
    },
    {
      "cell_type": "code",
      "metadata": {
        "id": "2Tb27oqsdWGH",
        "outputId": "afa9224c-3462-49bf-ec8c-7d05ac322b83",
        "colab": {
          "base_uri": "https://localhost:8080/"
        }
      },
      "source": [
        "#converting text to integer sequences\n",
        "seq = convert2seq(tokens)\n",
        "seq"
      ],
      "execution_count": null,
      "outputs": [
        {
          "output_type": "execute_result",
          "data": {
            "text/plain": [
              "tensor([[  12,  107,    9,    2,  151,    6,   94,   40,    2,  226,   74,    7,\n",
              "            5, 1570,   74,   13, 2927,    4,  960,    2,  373,    1,    1,    1,\n",
              "            1,    1,    1,    1,    1,    1,    1,    1,    1,    1,    1,    1,\n",
              "            1,    1,    1,    1,    1,    1,    1,    1,    1,    1,    1,    1,\n",
              "            1,    1,    1,    1,    1,    1,    1,    1,    1,    1,    1,    1,\n",
              "            1,    1,    1,    1,    1,    1,    1,    1,    1,    1,    1,    1,\n",
              "            1,    1,    1,    1,    1,    1,    1,    1,    1,    1,    1,    1,\n",
              "            1,    1,    1,    1,    1,    1,    1,    1,    1,    1,    1,    1,\n",
              "            1,    1,    1,    1]])"
            ]
          },
          "metadata": {},
          "execution_count": 92
        }
      ]
    },
    {
      "cell_type": "code",
      "metadata": {
        "id": "c49lZSl4dWDE",
        "outputId": "d37b92d7-0353-46b2-872b-55bcc471f129",
        "colab": {
          "base_uri": "https://localhost:8080/"
        }
      },
      "source": [
        "#predictions\n",
        "with torch.no_grad():\n",
        "  if torch.cuda.is_available():\n",
        "    seq = seq.cuda()\n",
        "  pred_prob= model(seq)\n",
        "  print(pred_prob)"
      ],
      "execution_count": null,
      "outputs": [
        {
          "output_type": "stream",
          "name": "stdout",
          "text": [
            "tensor([[0.3116, 0.0099, 0.0150, 0.9164, 0.4654, 0.0517, 0.0805, 0.4233, 0.0167,\n",
            "         0.0020]])\n"
          ]
        }
      ]
    },
    {
      "cell_type": "code",
      "metadata": {
        "id": "ZeH965i2dVud",
        "outputId": "3d9f83c5-0099-4195-e0ad-e76adc360b7b",
        "colab": {
          "base_uri": "https://localhost:8080/"
        }
      },
      "source": [
        "#classify\n",
        "pred = classify(pred_prob,opt)\n",
        "pred"
      ],
      "execution_count": null,
      "outputs": [
        {
          "output_type": "execute_result",
          "data": {
            "text/plain": [
              "array([[0, 0, 0, 1, 1, 0, 0, 1, 0, 0]])"
            ]
          },
          "metadata": {},
          "execution_count": 94
        }
      ]
    },
    {
      "cell_type": "code",
      "metadata": {
        "id": "qCf__xiIfFU9",
        "outputId": "9ef7f5c3-2cd7-4c9c-9ed2-c9f0d28e4e44",
        "colab": {
          "base_uri": "https://localhost:8080/"
        }
      },
      "source": [
        "tags  = mlb.inverse_transform(pred)[0]\n",
        "tags"
      ],
      "execution_count": null,
      "outputs": [
        {
          "output_type": "execute_result",
          "data": {
            "text/plain": [
              "('logistic', 'machine learning', 'regression')"
            ]
          },
          "metadata": {},
          "execution_count": 95
        }
      ]
    },
    {
      "cell_type": "code",
      "metadata": {
        "id": "Nk_3cC8tfFdy"
      },
      "source": [
        "def predict_tags(text):\n",
        "  \n",
        "  tokens = cleaner(text)\n",
        "  \n",
        "  tokens = np.array(tokens).reshape(-1,len(tokens))\n",
        "  \n",
        "  seq = convert2seq(tokens)\n",
        "  \n",
        "  with torch.no_grad():\n",
        "    if torch.cuda.is_available():\n",
        "      seq = seq.cuda()\n",
        "\n",
        "  pred_prob= model(seq)\n",
        "  pred = classify(pred_prob,opt)\n",
        "  \n",
        "  tags  = mlb.inverse_transform(pred)[0]\n",
        "  \n",
        "  return tags"
      ],
      "execution_count": null,
      "outputs": []
    },
    {
      "cell_type": "code",
      "metadata": {
        "id": "B0Jxz5kmeyEm",
        "outputId": "f25cc192-a20b-480e-da8c-4f5842212925",
        "colab": {
          "base_uri": "https://localhost:8080/"
        }
      },
      "source": [
        "text = \"For example, in the case of logistic regression, the learning function is a Sigmoid function that tries to separate the 2 classes\"\n",
        "\n",
        "tags = predict_tags(text)\n",
        "print(\"Query: \", text)\n",
        "print(\"Predicted tags:\",tags)"
      ],
      "execution_count": null,
      "outputs": [
        {
          "output_type": "stream",
          "name": "stdout",
          "text": [
            "Query:  For example, in the case of logistic regression, the learning function is a Sigmoid function that tries to separate the 2 classes\n",
            "Predicted tags: ('logistic', 'machine learning', 'regression')\n"
          ]
        }
      ]
    },
    {
      "cell_type": "markdown",
      "metadata": {
        "id": "8cN7_48hWIGA"
      },
      "source": [
        "# 6. Model Building for LSTM"
      ]
    },
    {
      "cell_type": "markdown",
      "metadata": {
        "id": "oVOOA6rFq7jc"
      },
      "source": [
        "In Pytorch, you can easily define LSTM layer using the LSTM module of torch.nn \n",
        "\n",
        "Parameters of LSTM layer:\n",
        "\n",
        "* **input_size**: Number of inputs to the LSTM\n",
        "* **hidden_size**: Number of neurons in LSTM layer.\n",
        "* **batch_first**: Set first dimension to batch size"
      ]
    },
    {
      "cell_type": "code",
      "metadata": {
        "id": "_QazqtX4Fc-c",
        "outputId": "1a11b276-4c7a-402d-86a9-03e5060defcd",
        "colab": {
          "base_uri": "https://localhost:8080/"
        }
      },
      "source": [
        "sample_embedding.shape"
      ],
      "execution_count": null,
      "outputs": [
        {
          "output_type": "execute_result",
          "data": {
            "text/plain": [
              "torch.Size([1, 100, 50])"
            ]
          },
          "metadata": {},
          "execution_count": 98
        }
      ]
    },
    {
      "cell_type": "code",
      "metadata": {
        "id": "BQdkmPaPrfXK"
      },
      "source": [
        "#define an LSTM\n",
        "lstm_layer = LSTM(input_size=50, hidden_size=128, batch_first=True)"
      ],
      "execution_count": null,
      "outputs": []
    },
    {
      "cell_type": "code",
      "metadata": {
        "id": "8ZfiG6PQ-6HI"
      },
      "source": [
        "#pass the input to LSTM\n",
        "hidden_states, (last_hidden_state,last_cell_state) = lstm_layer(sample_embedding)"
      ],
      "execution_count": null,
      "outputs": []
    },
    {
      "cell_type": "code",
      "metadata": {
        "id": "_iipOXzw_Gss",
        "outputId": "6d3edbcf-d711-4126-c8ba-0637b02f93d7",
        "colab": {
          "base_uri": "https://localhost:8080/"
        }
      },
      "source": [
        "#Hidden state of every timestep (Batch, seq_len, no. of hidden neurons)\n",
        "hidden_states.shape"
      ],
      "execution_count": null,
      "outputs": [
        {
          "output_type": "execute_result",
          "data": {
            "text/plain": [
              "torch.Size([1, 100, 128])"
            ]
          },
          "metadata": {},
          "execution_count": 101
        }
      ]
    },
    {
      "cell_type": "code",
      "metadata": {
        "id": "drJDL9gB_Iq7",
        "outputId": "5e805eae-7847-49df-ecb7-a94041bce603",
        "colab": {
          "base_uri": "https://localhost:8080/"
        }
      },
      "source": [
        "#output shape of last hidden timestep\n",
        "last_hidden_state.shape"
      ],
      "execution_count": null,
      "outputs": [
        {
          "output_type": "execute_result",
          "data": {
            "text/plain": [
              "torch.Size([1, 1, 128])"
            ]
          },
          "metadata": {},
          "execution_count": 102
        }
      ]
    },
    {
      "cell_type": "code",
      "metadata": {
        "id": "0WB6t5Dl_aoI",
        "outputId": "dfedff1a-65ca-4e6d-f3dd-10ab641c4adb",
        "colab": {
          "base_uri": "https://localhost:8080/"
        }
      },
      "source": [
        "#output shape of last cell state\n",
        "last_cell_state.shape"
      ],
      "execution_count": null,
      "outputs": [
        {
          "output_type": "execute_result",
          "data": {
            "text/plain": [
              "torch.Size([1, 1, 128])"
            ]
          },
          "metadata": {},
          "execution_count": 103
        }
      ]
    },
    {
      "cell_type": "code",
      "metadata": {
        "id": "zO_vOTns_KNW",
        "outputId": "d981d25d-3454-403e-a979-88725a4d1342",
        "colab": {
          "base_uri": "https://localhost:8080/"
        }
      },
      "source": [
        "#reshaping the hidden states\n",
        "reshaped = hidden_states.reshape(hidden_states.size(0),-1)\n",
        "reshaped.shape"
      ],
      "execution_count": null,
      "outputs": [
        {
          "output_type": "execute_result",
          "data": {
            "text/plain": [
              "torch.Size([1, 12800])"
            ]
          },
          "metadata": {},
          "execution_count": 104
        }
      ]
    },
    {
      "cell_type": "code",
      "metadata": {
        "id": "9pOsmRHSQYuN"
      },
      "source": [
        "# Define Model Architecture\n",
        "\n",
        "# Input\n",
        "# Embedding(embedding_dim=100)\n",
        "# LSTM(128)\n",
        "# Linear(128, 'relu')\n",
        "# Linear(10, 'sigmoid')\n",
        "\n",
        "class Net(nn.Module):\n",
        "    \n",
        "    #Constructor\n",
        "    def __init__(self):\n",
        "\n",
        "        #Constructor\n",
        "        super(Net, self).__init__()   \n",
        "  \n",
        "        #rnn block\n",
        "        self.lstm_layer = Sequential(\n",
        "            \n",
        "            #embedding layer\n",
        "            Embedding(num_embeddings=len(TEXT.vocab), embedding_dim=100),\n",
        "        \n",
        "            #lstm layer\n",
        "            LSTM(input_size=100, hidden_size=128, batch_first=True)\n",
        "          \n",
        "            )\n",
        "\n",
        "        #dense block\n",
        "        self.dense_layer = Sequential(\n",
        "            \n",
        "            Linear(12800,128),\n",
        "\n",
        "            ReLU(),\n",
        "\n",
        "            Linear(128,10),\n",
        "            \n",
        "            Sigmoid()\n",
        "\n",
        "        )\n",
        "    \n",
        "    #forward pass\n",
        "    def forward(self, x):\n",
        "        \n",
        "        #rnn layer\n",
        "        hidden_states, (last_hidden_state,last_cell_state) = self.lstm_layer(x)\n",
        "\n",
        "        #flattening\n",
        "        hidden_states = hidden_states.reshape(hidden_states.size(0),-1)\n",
        "        \n",
        "        #dense layer\n",
        "        outputs=self.dense_layer(hidden_states)\n",
        "        \n",
        "        return outputs"
      ],
      "execution_count": null,
      "outputs": []
    },
    {
      "cell_type": "code",
      "metadata": {
        "id": "HUU13yvgQY1G"
      },
      "source": [
        "#define the model\n",
        "model = Net()"
      ],
      "execution_count": null,
      "outputs": []
    },
    {
      "cell_type": "code",
      "metadata": {
        "id": "-RBtZlDJuu-1",
        "outputId": "49fbb404-424f-4213-c95e-06c96f6572c5",
        "colab": {
          "base_uri": "https://localhost:8080/"
        }
      },
      "source": [
        "#layers of the model\n",
        "model"
      ],
      "execution_count": null,
      "outputs": [
        {
          "output_type": "execute_result",
          "data": {
            "text/plain": [
              "Net(\n",
              "  (lstm_layer): Sequential(\n",
              "    (0): Embedding(12483, 100)\n",
              "    (1): LSTM(100, 128, batch_first=True)\n",
              "  )\n",
              "  (dense_layer): Sequential(\n",
              "    (0): Linear(in_features=12800, out_features=128, bias=True)\n",
              "    (1): ReLU()\n",
              "    (2): Linear(in_features=128, out_features=10, bias=True)\n",
              "    (3): Sigmoid()\n",
              "  )\n",
              ")"
            ]
          },
          "metadata": {},
          "execution_count": 107
        }
      ]
    },
    {
      "cell_type": "code",
      "metadata": {
        "id": "4q01g37DbW1n",
        "outputId": "e1989012-24c6-4df4-dec5-a1a5177bd4ba",
        "colab": {
          "base_uri": "https://localhost:8080/"
        }
      },
      "source": [
        "#pass an text to the model to understand the output\n",
        "\n",
        "#deactivates autograd\n",
        "with torch.no_grad():\n",
        "  pred = model(X_train[:1])\n",
        "  print(pred)"
      ],
      "execution_count": null,
      "outputs": [
        {
          "output_type": "stream",
          "name": "stdout",
          "text": [
            "tensor([[0.5049, 0.4826, 0.4872, 0.5087, 0.5084, 0.5036, 0.4972, 0.4842, 0.5184,\n",
            "         0.4984]])\n"
          ]
        }
      ]
    },
    {
      "cell_type": "code",
      "metadata": {
        "id": "UDxhclMZvUHT"
      },
      "source": [
        "#define optimizer and loss\n",
        "optimizer = torch.optim.Adam(model.parameters())\n",
        "criterion = BCELoss()\n",
        "\n",
        "# checking if GPU is available\n",
        "if torch.cuda.is_available():\n",
        "    model = model.cuda()\n",
        "    criterion = criterion.cuda()"
      ],
      "execution_count": null,
      "outputs": []
    },
    {
      "cell_type": "code",
      "metadata": {
        "id": "JlSsG3LQvUNl",
        "outputId": "252f6247-1a26-4c30-951f-ab7ec534f5e5",
        "colab": {
          "base_uri": "https://localhost:8080/"
        }
      },
      "source": [
        "N_EPOCHS = 10\n",
        "batch_size = 32\n",
        "\n",
        "# intialization\n",
        "best_valid_loss = float('inf')\n",
        "\n",
        "for epoch in range(N_EPOCHS):\n",
        "     \n",
        "    #train the model\n",
        "    train_loss   = train(X_train, y_train, batch_size)\n",
        "    \n",
        "    #evaluate the model\n",
        "    valid_loss   = evaluate(X_valid, y_valid, batch_size)\n",
        "\n",
        "    print('\\nEpoch :',epoch,\n",
        "          'Training loss:',round(train_loss,4),\n",
        "          '\\tValidation loss:',round(valid_loss,4))\n",
        "\n",
        "    #save the best model \n",
        "    if best_valid_loss >= valid_loss:\n",
        "        best_valid_loss = valid_loss\n",
        "        torch.save(model.state_dict(), 'saved_weights.pt') \n",
        "        print(\"\\n----------------------------------------------------Saved best model------------------------------------------------------------------\")   \n",
        "\n"
      ],
      "execution_count": null,
      "outputs": [
        {
          "output_type": "stream",
          "name": "stdout",
          "text": [
            "\n",
            "Epoch : 0 Training loss: 0.3796 \tValidation loss: 0.3228\n",
            "\n",
            "----------------------------------------------------Saved best model------------------------------------------------------------------\n",
            "\n",
            "Epoch : 1 Training loss: 0.2371 \tValidation loss: 0.3178\n",
            "\n",
            "----------------------------------------------------Saved best model------------------------------------------------------------------\n",
            "\n",
            "Epoch : 2 Training loss: 0.1287 \tValidation loss: 0.3804\n",
            "\n",
            "Epoch : 3 Training loss: 0.0425 \tValidation loss: 0.4839\n",
            "\n",
            "Epoch : 4 Training loss: 0.0112 \tValidation loss: 0.633\n",
            "\n",
            "Epoch : 5 Training loss: 0.0031 \tValidation loss: 0.7314\n",
            "\n",
            "Epoch : 6 Training loss: 0.0015 \tValidation loss: 0.8188\n",
            "\n",
            "Epoch : 7 Training loss: 0.0013 \tValidation loss: 0.8409\n",
            "\n",
            "Epoch : 8 Training loss: 0.0006 \tValidation loss: 0.9134\n",
            "\n",
            "Epoch : 9 Training loss: 0.0004 \tValidation loss: 0.9571\n"
          ]
        }
      ]
    },
    {
      "cell_type": "markdown",
      "metadata": {
        "id": "qWU2ZDir2q0j"
      },
      "source": [
        "# 7. Model Evaluation for LSTM"
      ]
    },
    {
      "cell_type": "markdown",
      "metadata": {
        "id": "pYLfWSpqvniv"
      },
      "source": [
        "Load the best model weights and now, the model is ready for the predictions"
      ]
    },
    {
      "cell_type": "code",
      "metadata": {
        "id": "K_jPYFKzvUUq",
        "outputId": "8d8f0bbf-667a-4be7-d112-cdae3e826189",
        "colab": {
          "base_uri": "https://localhost:8080/"
        }
      },
      "source": [
        "#load weights of best model\n",
        "path='saved_weights.pt'\n",
        "model.load_state_dict(torch.load(path))"
      ],
      "execution_count": null,
      "outputs": [
        {
          "output_type": "execute_result",
          "data": {
            "text/plain": [
              "<All keys matched successfully>"
            ]
          },
          "metadata": {},
          "execution_count": 111
        }
      ]
    },
    {
      "cell_type": "code",
      "metadata": {
        "id": "tCLWSfuXQYy9"
      },
      "source": [
        "#predict probabilities\n",
        "y_pred_prob = predict(X_valid, batch_size)"
      ],
      "execution_count": null,
      "outputs": []
    },
    {
      "cell_type": "code",
      "metadata": {
        "id": "srL5tr77hAfP",
        "outputId": "61d4b55f-00f7-4766-98a8-1b7976eee241",
        "colab": {
          "base_uri": "https://localhost:8080/"
        }
      },
      "source": [
        "y_pred_prob[0]"
      ],
      "execution_count": null,
      "outputs": [
        {
          "output_type": "execute_result",
          "data": {
            "text/plain": [
              "array([0.00166943, 0.4573244 , 0.04337844, 0.00339019, 0.05468298,\n",
              "       0.02365901, 0.08897918, 0.9925591 , 0.57881564, 0.00395588],\n",
              "      dtype=float32)"
            ]
          },
          "metadata": {},
          "execution_count": 113
        }
      ]
    },
    {
      "cell_type": "code",
      "metadata": {
        "id": "p0d3ubp2hAdA"
      },
      "source": [
        "score=[]\n",
        "\n",
        "for thresh in threshold:\n",
        "    \n",
        "    #classes for each threshold\n",
        "    y_pred = classify(y_pred_prob, thresh) \n",
        "\n",
        "    #convert to 1d array\n",
        "    y_pred_1d    =  y_pred.ravel()\n",
        "    y_true_1d    =  y_true.ravel()\n",
        " \n",
        "    score.append(metrics.f1_score(y_true_1d, y_pred_1d))"
      ],
      "execution_count": null,
      "outputs": []
    },
    {
      "cell_type": "code",
      "metadata": {
        "id": "FxFk7Gg3hAa8",
        "outputId": "5b3ff59b-8116-4056-dc83-4ff5fc9a3bdb",
        "colab": {
          "base_uri": "https://localhost:8080/"
        }
      },
      "source": [
        "# find the optimal threshold\n",
        "opt = threshold[score.index(max(score))]\n",
        "print(opt)"
      ],
      "execution_count": null,
      "outputs": [
        {
          "output_type": "stream",
          "name": "stdout",
          "text": [
            "0.35000000000000003\n"
          ]
        }
      ]
    },
    {
      "cell_type": "code",
      "metadata": {
        "id": "_E8xaA0BhAXy"
      },
      "source": [
        "#predictions for optimal threshold\n",
        "y_pred = classify(y_pred_prob, opt)"
      ],
      "execution_count": null,
      "outputs": []
    },
    {
      "cell_type": "code",
      "metadata": {
        "id": "tyr-2stWhAVB",
        "outputId": "ba771cfb-030f-407d-e9e9-7b289c1e4217",
        "colab": {
          "base_uri": "https://localhost:8080/"
        }
      },
      "source": [
        "#converting to 1D\n",
        "y_pred_1d = y_pred.ravel()\n",
        "\n",
        "#Classification report\n",
        "print(metrics.classification_report(y_true_1d, y_pred_1d))"
      ],
      "execution_count": null,
      "outputs": [
        {
          "output_type": "stream",
          "name": "stdout",
          "text": [
            "              precision    recall  f1-score   support\n",
            "\n",
            "         0.0       0.92      0.90      0.91     17478\n",
            "         1.0       0.66      0.71      0.69      4732\n",
            "\n",
            "    accuracy                           0.86     22210\n",
            "   macro avg       0.79      0.81      0.80     22210\n",
            "weighted avg       0.87      0.86      0.86     22210\n",
            "\n"
          ]
        }
      ]
    },
    {
      "cell_type": "code",
      "metadata": {
        "id": "FHxsCTdNhAR2"
      },
      "source": [
        "y_pred_label = mlb.inverse_transform(np.array(y_pred))"
      ],
      "execution_count": null,
      "outputs": []
    },
    {
      "cell_type": "code",
      "metadata": {
        "id": "0hAUPQFNhAP-"
      },
      "source": [
        "df = pd.DataFrame({'comment':queries,'actual':y_true_label,'predictions':y_pred_label})"
      ],
      "execution_count": null,
      "outputs": []
    },
    {
      "cell_type": "code",
      "metadata": {
        "id": "Fd_7LeiDhAM6",
        "outputId": "fc27ac43-37b9-4fea-a7e3-fec45e56de0b",
        "colab": {
          "base_uri": "https://localhost:8080/",
          "height": 337
        }
      },
      "source": [
        "df.head()"
      ],
      "execution_count": null,
      "outputs": [
        {
          "output_type": "execute_result",
          "data": {
            "text/plain": [
              "                                                                                                                                                                                                   comment  \\\n",
              "0  consider the following model y if g x beta u and y otherwise where u is iid according to some distribution function f i want to recover the distribution f without making too many assumptions that ...   \n",
              "1  i am encountering the following problems and i don t really know which model a should pick all model selection criteria indicate that i should take the model with lag after building the var model ...   \n",
              "2  basically i m attempting to recreate the results of an example from class in r what i m trying to do is decide whether it s best to use a single regression line for an entire data set or two lines...   \n",
              "3  in general i standardize my independent variables in regressions in order to properly compare the coefficients this way they have the same units standard deviations however with panel longitudinal...   \n",
              "4  let v to be forecasted value for periods through t and v t be its forecasted value at time t we express v t as the sum of two terms its mean at time t and its deviation from the mean at time t eps...   \n",
              "\n",
              "                              actual  \\\n",
              "0             (logistic, regression)   \n",
              "1  (hypothesis testing, time series)   \n",
              "2                    (r, regression)   \n",
              "3                    (r, regression)   \n",
              "4                   (r, time series)   \n",
              "\n",
              "                                       predictions  \n",
              "0          (distributions, regression, self study)  \n",
              "1  (hypothesis testing, r, regression, self study)  \n",
              "2                                  (r, regression)  \n",
              "3                                  (r, regression)  \n",
              "4                        (self study, time series)  "
            ],
            "text/html": [
              "\n",
              "  <div id=\"df-bc1821d7-9827-490d-bd73-f3c5fa510f78\">\n",
              "    <div class=\"colab-df-container\">\n",
              "      <div>\n",
              "<style scoped>\n",
              "    .dataframe tbody tr th:only-of-type {\n",
              "        vertical-align: middle;\n",
              "    }\n",
              "\n",
              "    .dataframe tbody tr th {\n",
              "        vertical-align: top;\n",
              "    }\n",
              "\n",
              "    .dataframe thead th {\n",
              "        text-align: right;\n",
              "    }\n",
              "</style>\n",
              "<table border=\"1\" class=\"dataframe\">\n",
              "  <thead>\n",
              "    <tr style=\"text-align: right;\">\n",
              "      <th></th>\n",
              "      <th>comment</th>\n",
              "      <th>actual</th>\n",
              "      <th>predictions</th>\n",
              "    </tr>\n",
              "  </thead>\n",
              "  <tbody>\n",
              "    <tr>\n",
              "      <th>0</th>\n",
              "      <td>consider the following model y if g x beta u and y otherwise where u is iid according to some distribution function f i want to recover the distribution f without making too many assumptions that ...</td>\n",
              "      <td>(logistic, regression)</td>\n",
              "      <td>(distributions, regression, self study)</td>\n",
              "    </tr>\n",
              "    <tr>\n",
              "      <th>1</th>\n",
              "      <td>i am encountering the following problems and i don t really know which model a should pick all model selection criteria indicate that i should take the model with lag after building the var model ...</td>\n",
              "      <td>(hypothesis testing, time series)</td>\n",
              "      <td>(hypothesis testing, r, regression, self study)</td>\n",
              "    </tr>\n",
              "    <tr>\n",
              "      <th>2</th>\n",
              "      <td>basically i m attempting to recreate the results of an example from class in r what i m trying to do is decide whether it s best to use a single regression line for an entire data set or two lines...</td>\n",
              "      <td>(r, regression)</td>\n",
              "      <td>(r, regression)</td>\n",
              "    </tr>\n",
              "    <tr>\n",
              "      <th>3</th>\n",
              "      <td>in general i standardize my independent variables in regressions in order to properly compare the coefficients this way they have the same units standard deviations however with panel longitudinal...</td>\n",
              "      <td>(r, regression)</td>\n",
              "      <td>(r, regression)</td>\n",
              "    </tr>\n",
              "    <tr>\n",
              "      <th>4</th>\n",
              "      <td>let v to be forecasted value for periods through t and v t be its forecasted value at time t we express v t as the sum of two terms its mean at time t and its deviation from the mean at time t eps...</td>\n",
              "      <td>(r, time series)</td>\n",
              "      <td>(self study, time series)</td>\n",
              "    </tr>\n",
              "  </tbody>\n",
              "</table>\n",
              "</div>\n",
              "      <button class=\"colab-df-convert\" onclick=\"convertToInteractive('df-bc1821d7-9827-490d-bd73-f3c5fa510f78')\"\n",
              "              title=\"Convert this dataframe to an interactive table.\"\n",
              "              style=\"display:none;\">\n",
              "        \n",
              "  <svg xmlns=\"http://www.w3.org/2000/svg\" height=\"24px\"viewBox=\"0 0 24 24\"\n",
              "       width=\"24px\">\n",
              "    <path d=\"M0 0h24v24H0V0z\" fill=\"none\"/>\n",
              "    <path d=\"M18.56 5.44l.94 2.06.94-2.06 2.06-.94-2.06-.94-.94-2.06-.94 2.06-2.06.94zm-11 1L8.5 8.5l.94-2.06 2.06-.94-2.06-.94L8.5 2.5l-.94 2.06-2.06.94zm10 10l.94 2.06.94-2.06 2.06-.94-2.06-.94-.94-2.06-.94 2.06-2.06.94z\"/><path d=\"M17.41 7.96l-1.37-1.37c-.4-.4-.92-.59-1.43-.59-.52 0-1.04.2-1.43.59L10.3 9.45l-7.72 7.72c-.78.78-.78 2.05 0 2.83L4 21.41c.39.39.9.59 1.41.59.51 0 1.02-.2 1.41-.59l7.78-7.78 2.81-2.81c.8-.78.8-2.07 0-2.86zM5.41 20L4 18.59l7.72-7.72 1.47 1.35L5.41 20z\"/>\n",
              "  </svg>\n",
              "      </button>\n",
              "      \n",
              "  <style>\n",
              "    .colab-df-container {\n",
              "      display:flex;\n",
              "      flex-wrap:wrap;\n",
              "      gap: 12px;\n",
              "    }\n",
              "\n",
              "    .colab-df-convert {\n",
              "      background-color: #E8F0FE;\n",
              "      border: none;\n",
              "      border-radius: 50%;\n",
              "      cursor: pointer;\n",
              "      display: none;\n",
              "      fill: #1967D2;\n",
              "      height: 32px;\n",
              "      padding: 0 0 0 0;\n",
              "      width: 32px;\n",
              "    }\n",
              "\n",
              "    .colab-df-convert:hover {\n",
              "      background-color: #E2EBFA;\n",
              "      box-shadow: 0px 1px 2px rgba(60, 64, 67, 0.3), 0px 1px 3px 1px rgba(60, 64, 67, 0.15);\n",
              "      fill: #174EA6;\n",
              "    }\n",
              "\n",
              "    [theme=dark] .colab-df-convert {\n",
              "      background-color: #3B4455;\n",
              "      fill: #D2E3FC;\n",
              "    }\n",
              "\n",
              "    [theme=dark] .colab-df-convert:hover {\n",
              "      background-color: #434B5C;\n",
              "      box-shadow: 0px 1px 3px 1px rgba(0, 0, 0, 0.15);\n",
              "      filter: drop-shadow(0px 1px 2px rgba(0, 0, 0, 0.3));\n",
              "      fill: #FFFFFF;\n",
              "    }\n",
              "  </style>\n",
              "\n",
              "      <script>\n",
              "        const buttonEl =\n",
              "          document.querySelector('#df-bc1821d7-9827-490d-bd73-f3c5fa510f78 button.colab-df-convert');\n",
              "        buttonEl.style.display =\n",
              "          google.colab.kernel.accessAllowed ? 'block' : 'none';\n",
              "\n",
              "        async function convertToInteractive(key) {\n",
              "          const element = document.querySelector('#df-bc1821d7-9827-490d-bd73-f3c5fa510f78');\n",
              "          const dataTable =\n",
              "            await google.colab.kernel.invokeFunction('convertToInteractive',\n",
              "                                                     [key], {});\n",
              "          if (!dataTable) return;\n",
              "\n",
              "          const docLinkHtml = 'Like what you see? Visit the ' +\n",
              "            '<a target=\"_blank\" href=https://colab.research.google.com/notebooks/data_table.ipynb>data table notebook</a>'\n",
              "            + ' to learn more about interactive tables.';\n",
              "          element.innerHTML = '';\n",
              "          dataTable['output_type'] = 'display_data';\n",
              "          await google.colab.output.renderOutput(dataTable, element);\n",
              "          const docLink = document.createElement('div');\n",
              "          docLink.innerHTML = docLinkHtml;\n",
              "          element.appendChild(docLink);\n",
              "        }\n",
              "      </script>\n",
              "    </div>\n",
              "  </div>\n",
              "  "
            ]
          },
          "metadata": {},
          "execution_count": 120
        }
      ]
    },
    {
      "cell_type": "code",
      "metadata": {
        "id": "x4kI46Z4hAJ8",
        "outputId": "11dfe7aa-65a9-462a-f4a3-b66a6fe6d6b4",
        "colab": {
          "base_uri": "https://localhost:8080/"
        }
      },
      "source": [
        "text = \"For example, in the case of logistic regression, the learning function is a Sigmoid function that tries to separate the 2 classes\"\n",
        "\n",
        "tags = predict_tags(text)\n",
        "print(\"Query: \",text)\n",
        "print(\"Predicted tags:\",tags)"
      ],
      "execution_count": null,
      "outputs": [
        {
          "output_type": "stream",
          "name": "stdout",
          "text": [
            "Query:  For example, in the case of logistic regression, the learning function is a Sigmoid function that tries to separate the 2 classes\n",
            "Predicted tags: ('logistic', 'machine learning', 'regression')\n"
          ]
        }
      ]
    },
    {
      "cell_type": "code",
      "metadata": {
        "id": "EASR-WztmqMO"
      },
      "source": [],
      "execution_count": null,
      "outputs": []
    }
  ]
}