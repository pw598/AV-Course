{
  "nbformat": 4,
  "nbformat_minor": 5,
  "metadata": {
    "kernelspec": {
      "display_name": "Python 3",
      "language": "python",
      "name": "python3"
    },
    "language_info": {
      "codemirror_mode": {
        "name": "ipython",
        "version": 3
      },
      "file_extension": ".py",
      "mimetype": "text/x-python",
      "name": "python",
      "nbconvert_exporter": "python",
      "pygments_lexer": "ipython3",
      "version": "3.8.5"
    },
    "colab": {
      "name": "Exception Handling.ipynb",
      "provenance": []
    }
  },
  "cells": [
    {
      "cell_type": "markdown",
      "metadata": {
        "id": "vulnerable-dodge"
      },
      "source": [
        "## Exception Handling"
      ],
      "id": "vulnerable-dodge"
    },
    {
      "cell_type": "code",
      "metadata": {
        "id": "ahead-tuning"
      },
      "source": [
        "%load_ext lab_black"
      ],
      "id": "ahead-tuning",
      "execution_count": null,
      "outputs": []
    },
    {
      "cell_type": "markdown",
      "metadata": {
        "id": "given-birthday"
      },
      "source": [
        "## Simple try and except"
      ],
      "id": "given-birthday"
    },
    {
      "cell_type": "markdown",
      "metadata": {
        "id": "wicked-positive"
      },
      "source": [
        "### Signalling the exception"
      ],
      "id": "wicked-positive"
    },
    {
      "cell_type": "code",
      "metadata": {
        "id": "reliable-turner"
      },
      "source": [
        "def divisor():\n",
        "    \"\"\"\n",
        "    Asks for two numbers as input and prints the the quotient\n",
        "    \"\"\"\n",
        "    try:\n",
        "        a = int(input(\"Tell me a number\"))\n",
        "        b = int(input(\"Tell me another number\"))\n",
        "        print(a / b)\n",
        "        print(\"Division was successful\")\n",
        "    except:\n",
        "        print(\"Some bug appeared\")"
      ],
      "id": "reliable-turner",
      "execution_count": null,
      "outputs": []
    },
    {
      "cell_type": "code",
      "metadata": {
        "id": "portuguese-questionnaire",
        "outputId": "cb2c9c36-7712-4dc1-ff38-22f689d1a93a"
      },
      "source": [
        "divisor() # 5,5"
      ],
      "id": "portuguese-questionnaire",
      "execution_count": null,
      "outputs": [
        {
          "name": "stdin",
          "output_type": "stream",
          "text": [
            "Tell me a number 5\n",
            "Tell me another number 0\n"
          ]
        },
        {
          "name": "stdout",
          "output_type": "stream",
          "text": [
            "Some bug appeared\n"
          ]
        }
      ]
    },
    {
      "cell_type": "code",
      "metadata": {
        "id": "occupied-helen",
        "outputId": "cc24fd48-e15d-42c0-c9d6-956c02d0b2db"
      },
      "source": [
        "divisor() # 5,0"
      ],
      "id": "occupied-helen",
      "execution_count": null,
      "outputs": [
        {
          "name": "stdin",
          "output_type": "stream",
          "text": [
            "Tell me a number 5\n",
            "Tell me another number 5\n"
          ]
        },
        {
          "name": "stdout",
          "output_type": "stream",
          "text": [
            "1.0\n",
            "Division was successful\n"
          ]
        }
      ]
    },
    {
      "cell_type": "markdown",
      "metadata": {
        "id": "pressed-machinery"
      },
      "source": [
        "* In the above construct, if anything goes wrong, the signal is printed. But there is no specification that what kind of error or unexpected condition."
      ],
      "id": "pressed-machinery"
    },
    {
      "cell_type": "markdown",
      "metadata": {
        "id": "spare-underground"
      },
      "source": [
        "### Specifying exception type\n",
        " *  If we know what kind of error/exception is likely to occur, we can breakdown the error/exception message accordingly. This will also narrow down to which TRY block rasied the error"
      ],
      "id": "spare-underground"
    },
    {
      "cell_type": "code",
      "metadata": {
        "id": "everyday-carol"
      },
      "source": [
        "def divisor():\n",
        "    \"\"\"\n",
        "    Asks for two numbers as input and prints the the quotient\n",
        "    \"\"\"\n",
        "    try:\n",
        "        a = int(input(\"Tell me a number\"))\n",
        "        b = int(input(\"Tell me another number\"))\n",
        "    except ValueError:  # (5,a)\n",
        "        print(\"Input could not be converted to a number\")\n",
        "    try:\n",
        "        print(a / b)\n",
        "    except ZeroDivisionError:  # (5,0)\n",
        "        print(\"Can not divide by zero\")"
      ],
      "id": "everyday-carol",
      "execution_count": null,
      "outputs": []
    },
    {
      "cell_type": "code",
      "metadata": {
        "id": "optimum-hundred",
        "outputId": "9311cd87-db20-444f-959c-ffcee8b272ec"
      },
      "source": [
        "divisor() # 5,5"
      ],
      "id": "optimum-hundred",
      "execution_count": null,
      "outputs": [
        {
          "name": "stdin",
          "output_type": "stream",
          "text": [
            "Tell me a number 5\n",
            "Tell me another number 5\n"
          ]
        },
        {
          "name": "stdout",
          "output_type": "stream",
          "text": [
            "1.0\n",
            "Division was successful\n"
          ]
        }
      ]
    },
    {
      "cell_type": "code",
      "metadata": {
        "id": "featured-workshop",
        "outputId": "ffac02f8-512e-487c-c840-fff3bd12faad"
      },
      "source": [
        "divisor() # 5,0"
      ],
      "id": "featured-workshop",
      "execution_count": null,
      "outputs": [
        {
          "name": "stdin",
          "output_type": "stream",
          "text": [
            "Tell me a number 5\n",
            "Tell me another number 0\n"
          ]
        },
        {
          "name": "stdout",
          "output_type": "stream",
          "text": [
            "Can not divide by zero\n"
          ]
        }
      ]
    },
    {
      "cell_type": "code",
      "metadata": {
        "id": "muslim-artwork",
        "outputId": "f6310e1e-11f2-4939-f60c-3aec027fed43"
      },
      "source": [
        "divisor() # 5,\"a\""
      ],
      "id": "muslim-artwork",
      "execution_count": null,
      "outputs": [
        {
          "name": "stdin",
          "output_type": "stream",
          "text": [
            "Tell me a number 5\n",
            "Tell me another number 5\n"
          ]
        },
        {
          "name": "stdout",
          "output_type": "stream",
          "text": [
            "1.0\n",
            "Division was successful\n"
          ]
        }
      ]
    },
    {
      "cell_type": "markdown",
      "metadata": {
        "id": "ignored-identifier"
      },
      "source": [
        "### Technical Specifics of error\n",
        "* This method can be used to print the technical aspect of *what exactly* went wrong, to the user."
      ],
      "id": "ignored-identifier"
    },
    {
      "cell_type": "code",
      "metadata": {
        "id": "adaptive-elimination"
      },
      "source": [
        "def divisor():\n",
        "    \"\"\"\n",
        "    Asks for two numbers as input and prints the the quotient\n",
        "    \"\"\"\n",
        "    try:\n",
        "        a = int(input(\"Tell me a number\"))\n",
        "        b = int(input(\"Tell me another number\"))\n",
        "    except ValueError as ve:  # (5,a)\n",
        "        print(\"Input could not be converted to a number: \", ve)\n",
        "    try:\n",
        "        print(a / b)\n",
        "    except ZeroDivisionError as zde:  # (5,0)\n",
        "        print(\"Can not divide by zero: \", zde)"
      ],
      "id": "adaptive-elimination",
      "execution_count": null,
      "outputs": []
    },
    {
      "cell_type": "code",
      "metadata": {
        "id": "experimental-consistency",
        "outputId": "37474bf0-a3d1-4d96-e316-9d43f9201d23"
      },
      "source": [
        "divisor() # (5,5)"
      ],
      "id": "experimental-consistency",
      "execution_count": null,
      "outputs": [
        {
          "name": "stdin",
          "output_type": "stream",
          "text": [
            "Tell me a number 5\n",
            "Tell me another number 5\n"
          ]
        },
        {
          "name": "stdout",
          "output_type": "stream",
          "text": [
            "1.0\n"
          ]
        }
      ]
    },
    {
      "cell_type": "code",
      "metadata": {
        "id": "aggressive-czech",
        "outputId": "fd260038-4ce5-45e9-f984-4b00d1121203"
      },
      "source": [
        "divisor() # (5,'a')"
      ],
      "id": "aggressive-czech",
      "execution_count": null,
      "outputs": [
        {
          "name": "stdin",
          "output_type": "stream",
          "text": [
            "Tell me a number 5\n",
            "Tell me another number \"a\"\n"
          ]
        },
        {
          "name": "stdout",
          "output_type": "stream",
          "text": [
            "Input could not be converted to a number:  invalid literal for int() with base 10: '\"a\"'\n"
          ]
        },
        {
          "ename": "UnboundLocalError",
          "evalue": "local variable 'b' referenced before assignment",
          "output_type": "error",
          "traceback": [
            "\u001b[0;31m---------------------------------------------------------------------------\u001b[0m",
            "\u001b[0;31mUnboundLocalError\u001b[0m                         Traceback (most recent call last)",
            "\u001b[0;32m<ipython-input-22-00664b7001df>\u001b[0m in \u001b[0;36m<module>\u001b[0;34m\u001b[0m\n\u001b[0;32m----> 1\u001b[0;31m \u001b[0mdivisor\u001b[0m\u001b[0;34m(\u001b[0m\u001b[0;34m)\u001b[0m\u001b[0;34m\u001b[0m\u001b[0;34m\u001b[0m\u001b[0m\n\u001b[0m",
            "\u001b[0;32m<ipython-input-20-11e676a8c695>\u001b[0m in \u001b[0;36mdivisor\u001b[0;34m()\u001b[0m\n\u001b[1;32m      9\u001b[0m         \u001b[0mprint\u001b[0m\u001b[0;34m(\u001b[0m\u001b[0;34m\"Input could not be converted to a number: \"\u001b[0m\u001b[0;34m,\u001b[0m\u001b[0mve\u001b[0m\u001b[0;34m)\u001b[0m\u001b[0;34m\u001b[0m\u001b[0;34m\u001b[0m\u001b[0m\n\u001b[1;32m     10\u001b[0m     \u001b[0;32mtry\u001b[0m\u001b[0;34m:\u001b[0m\u001b[0;34m\u001b[0m\u001b[0;34m\u001b[0m\u001b[0m\n\u001b[0;32m---> 11\u001b[0;31m         \u001b[0mprint\u001b[0m\u001b[0;34m(\u001b[0m\u001b[0ma\u001b[0m \u001b[0;34m/\u001b[0m \u001b[0mb\u001b[0m\u001b[0;34m)\u001b[0m\u001b[0;34m\u001b[0m\u001b[0;34m\u001b[0m\u001b[0m\n\u001b[0m\u001b[1;32m     12\u001b[0m     \u001b[0;32mexcept\u001b[0m \u001b[0mZeroDivisionError\u001b[0m \u001b[0;32mas\u001b[0m \u001b[0mzde\u001b[0m\u001b[0;34m:\u001b[0m  \u001b[0;31m# (5,0)\u001b[0m\u001b[0;34m\u001b[0m\u001b[0;34m\u001b[0m\u001b[0m\n\u001b[1;32m     13\u001b[0m         \u001b[0mprint\u001b[0m\u001b[0;34m(\u001b[0m\u001b[0;34m\"Can not divide by zero:\"\u001b[0m\u001b[0;34m,\u001b[0m \u001b[0mzde\u001b[0m\u001b[0;34m)\u001b[0m\u001b[0;34m\u001b[0m\u001b[0;34m\u001b[0m\u001b[0m\n",
            "\u001b[0;31mUnboundLocalError\u001b[0m: local variable 'b' referenced before assignment"
          ]
        }
      ]
    },
    {
      "cell_type": "code",
      "metadata": {
        "id": "changed-curve"
      },
      "source": [
        "divisor() # (5,0)"
      ],
      "id": "changed-curve",
      "execution_count": null,
      "outputs": []
    },
    {
      "cell_type": "markdown",
      "metadata": {
        "id": "manufactured-symphony"
      },
      "source": [
        "## More useful Exception Handling"
      ],
      "id": "manufactured-symphony"
    },
    {
      "cell_type": "markdown",
      "metadata": {
        "id": "democratic-mining"
      },
      "source": [
        "### Asking for input until user inputs right value"
      ],
      "id": "democratic-mining"
    },
    {
      "cell_type": "code",
      "metadata": {
        "id": "adverse-pharmaceutical"
      },
      "source": [
        "def persuasive_divisor():\n",
        "    \"\"\"\n",
        "    Asks for two numbers as input and prints the the quotient, persuades user until some valid input is given\n",
        "    \"\"\"\n",
        "    while True:\n",
        "        try:\n",
        "            a = int(input(\"Tell me a number\"))\n",
        "            b = int(input(\"Tell me another number\"))\n",
        "        except ValueError as ve:  # (5,a)\n",
        "            print(\"Input could not be converted to a number: \", ve)\n",
        "        try:\n",
        "            print(a / b)\n",
        "            break\n",
        "        except ZeroDivisionError as zde:  # (5,0)\n",
        "            print(\"Can not divide by zero: \", zde)\n",
        "        except UnboundLocalError as ule:\n",
        "            print(\"could not perform division because of bad inputs: \")"
      ],
      "id": "adverse-pharmaceutical",
      "execution_count": null,
      "outputs": []
    },
    {
      "cell_type": "code",
      "metadata": {
        "id": "italian-hanging",
        "outputId": "11ec00a7-f0da-49c8-c95a-1d10a5e9e06d"
      },
      "source": [
        "persuasive_divisor() "
      ],
      "id": "italian-hanging",
      "execution_count": null,
      "outputs": [
        {
          "name": "stdin",
          "output_type": "stream",
          "text": [
            "Tell me a number 5\n",
            "Tell me another number 'a'\n"
          ]
        },
        {
          "name": "stdout",
          "output_type": "stream",
          "text": [
            "Input could not be converted to a number:  invalid literal for int() with base 10: \"'a'\"\n",
            "could not perform division because of bad inputs:  local variable 'b' referenced before assignment\n"
          ]
        },
        {
          "name": "stdin",
          "output_type": "stream",
          "text": [
            "Tell me a number 5\n",
            "Tell me another number 0\n"
          ]
        },
        {
          "name": "stdout",
          "output_type": "stream",
          "text": [
            "Can not divide by zero:  division by zero\n"
          ]
        },
        {
          "name": "stdin",
          "output_type": "stream",
          "text": [
            "Tell me a number 5\n",
            "Tell me another number 5\n"
          ]
        },
        {
          "name": "stdout",
          "output_type": "stream",
          "text": [
            "1.0\n"
          ]
        }
      ]
    },
    {
      "cell_type": "markdown",
      "metadata": {
        "id": "sharing-mayor"
      },
      "source": [
        "## Circumventing unexpected condition"
      ],
      "id": "sharing-mayor"
    },
    {
      "cell_type": "code",
      "metadata": {
        "id": "orange-universal"
      },
      "source": [
        "def strange_operation(iterable):\n",
        "    \"\"\"Returns ratio of Variance to Standard Deviation multiplied to every element of iterable\n",
        "\n",
        "    iterable(pandas.Series): a series of numerical values\n",
        "\n",
        "    returns(float): pd.Series with strange operation implemented\n",
        "    \"\"\"\n",
        "    variance = iterable.var()\n",
        "    standard_deviation = iterable.std()\n",
        "    ratio = variance/standard_deviation\n",
        "    return iterable.map(lambda x: x * ratio)"
      ],
      "id": "orange-universal",
      "execution_count": null,
      "outputs": []
    },
    {
      "cell_type": "code",
      "metadata": {
        "id": "nutritional-cinema",
        "outputId": "eed5b1d3-ba79-4528-9f80-559f814c3d31"
      },
      "source": [
        "import pandas as pd\n",
        "import numpy as np\n",
        "\n",
        "strange_operation(pd.Series([1, 2, 3, 4, 5]))"
      ],
      "id": "nutritional-cinema",
      "execution_count": null,
      "outputs": [
        {
          "data": {
            "text/plain": [
              "0    1.581139\n",
              "1    3.162278\n",
              "2    4.743416\n",
              "3    6.324555\n",
              "4    7.905694\n",
              "dtype: float64"
            ]
          },
          "execution_count": 9,
          "metadata": {},
          "output_type": "execute_result"
        }
      ]
    },
    {
      "cell_type": "code",
      "metadata": {
        "id": "mighty-bailey",
        "outputId": "7d3ce7a5-3d5f-4e78-da77-573ef66ec618"
      },
      "source": [
        "strange_operation([1, 2, 3, 4, 5])"
      ],
      "id": "mighty-bailey",
      "execution_count": null,
      "outputs": [
        {
          "ename": "AttributeError",
          "evalue": "'list' object has no attribute 'var'",
          "output_type": "error",
          "traceback": [
            "\u001b[0;31m---------------------------------------------------------------------------\u001b[0m",
            "\u001b[0;31mAttributeError\u001b[0m                            Traceback (most recent call last)",
            "\u001b[0;32m<ipython-input-10-dbb900273227>\u001b[0m in \u001b[0;36m<module>\u001b[0;34m\u001b[0m\n\u001b[0;32m----> 1\u001b[0;31m \u001b[0mstrange_operation\u001b[0m\u001b[0;34m(\u001b[0m\u001b[0;34m[\u001b[0m\u001b[0;36m1\u001b[0m\u001b[0;34m,\u001b[0m \u001b[0;36m2\u001b[0m\u001b[0;34m,\u001b[0m \u001b[0;36m3\u001b[0m\u001b[0;34m,\u001b[0m \u001b[0;36m4\u001b[0m\u001b[0;34m,\u001b[0m \u001b[0;36m5\u001b[0m\u001b[0;34m]\u001b[0m\u001b[0;34m)\u001b[0m\u001b[0;34m\u001b[0m\u001b[0;34m\u001b[0m\u001b[0m\n\u001b[0m",
            "\u001b[0;32m<ipython-input-8-b35e2d20da8d>\u001b[0m in \u001b[0;36mstrange_operation\u001b[0;34m(iterable)\u001b[0m\n\u001b[1;32m      6\u001b[0m     \u001b[0mreturns\u001b[0m\u001b[0;34m(\u001b[0m\u001b[0mfloat\u001b[0m\u001b[0;34m)\u001b[0m\u001b[0;34m:\u001b[0m \u001b[0mpd\u001b[0m\u001b[0;34m.\u001b[0m\u001b[0mSeries\u001b[0m \u001b[0;32mwith\u001b[0m \u001b[0mstrange\u001b[0m \u001b[0moperation\u001b[0m \u001b[0mimplemented\u001b[0m\u001b[0;34m\u001b[0m\u001b[0;34m\u001b[0m\u001b[0m\n\u001b[1;32m      7\u001b[0m     \"\"\"\n\u001b[0;32m----> 8\u001b[0;31m     \u001b[0mvariance\u001b[0m \u001b[0;34m=\u001b[0m \u001b[0miterable\u001b[0m\u001b[0;34m.\u001b[0m\u001b[0mvar\u001b[0m\u001b[0;34m(\u001b[0m\u001b[0;34m)\u001b[0m\u001b[0;34m\u001b[0m\u001b[0;34m\u001b[0m\u001b[0m\n\u001b[0m\u001b[1;32m      9\u001b[0m     \u001b[0mstandard_deviation\u001b[0m \u001b[0;34m=\u001b[0m \u001b[0miterable\u001b[0m\u001b[0;34m.\u001b[0m\u001b[0mstd\u001b[0m\u001b[0;34m(\u001b[0m\u001b[0;34m)\u001b[0m\u001b[0;34m\u001b[0m\u001b[0;34m\u001b[0m\u001b[0m\n\u001b[1;32m     10\u001b[0m     \u001b[0mratio\u001b[0m \u001b[0;34m=\u001b[0m \u001b[0mvariance\u001b[0m\u001b[0;34m/\u001b[0m\u001b[0mstandard_deviation\u001b[0m\u001b[0;34m\u001b[0m\u001b[0;34m\u001b[0m\u001b[0m\n",
            "\u001b[0;31mAttributeError\u001b[0m: 'list' object has no attribute 'var'"
          ]
        }
      ]
    },
    {
      "cell_type": "code",
      "metadata": {
        "id": "fleet-account"
      },
      "source": [
        "def robust_strange_operation(iterable):\n",
        "    \"\"\"Returns ratio of Variance to Standard Deviation multiplied to every element of iterable\n",
        "\n",
        "    iterable(pandas.Series): a series of numerical values\n",
        "\n",
        "    returns(float): pd.Series with strange operation implemented\n",
        "    \"\"\"\n",
        "    try:\n",
        "        variance = iterable.var()\n",
        "        standard_deviation = iterable.std()\n",
        "    except AttributeError as ae:\n",
        "        print(\"Input not in pandas.Series format, Trying to convert: \", ae)\n",
        "        assert type(iterable) in (pd.Series,list), \"input not convertible either\"\n",
        "        iterable = pd.Series(iterable)\n",
        "        variance = iterable.var()\n",
        "        standard_deviation = iterable.std()\n",
        "    \n",
        "    finally:\n",
        "        ratio = variance/standard_deviation\n",
        "        return iterable.map(lambda x: x * ratio)\n"
      ],
      "id": "fleet-account",
      "execution_count": null,
      "outputs": []
    },
    {
      "cell_type": "code",
      "metadata": {
        "id": "collect-singer",
        "outputId": "d218f71a-793a-4706-c563-4cfb27d89616"
      },
      "source": [
        "robust_strange_operation(pd.Series([1, 2, 3, 4, 5]))"
      ],
      "id": "collect-singer",
      "execution_count": null,
      "outputs": [
        {
          "data": {
            "text/plain": [
              "0    1.581139\n",
              "1    3.162278\n",
              "2    4.743416\n",
              "3    6.324555\n",
              "4    7.905694\n",
              "dtype: float64"
            ]
          },
          "execution_count": 26,
          "metadata": {},
          "output_type": "execute_result"
        }
      ]
    },
    {
      "cell_type": "code",
      "metadata": {
        "id": "accomplished-billy",
        "outputId": "7ee12acb-65d8-4b94-e099-a28761ab17ac"
      },
      "source": [
        "robust_strange_operation([1, 2, 3, 4, 5])"
      ],
      "id": "accomplished-billy",
      "execution_count": null,
      "outputs": [
        {
          "name": "stdout",
          "output_type": "stream",
          "text": [
            "Input not in pandas.Series format, Trying to convert:  'list' object has no attribute 'var'\n"
          ]
        },
        {
          "data": {
            "text/plain": [
              "0    1.581139\n",
              "1    3.162278\n",
              "2    4.743416\n",
              "3    6.324555\n",
              "4    7.905694\n",
              "dtype: float64"
            ]
          },
          "execution_count": 27,
          "metadata": {},
          "output_type": "execute_result"
        }
      ]
    },
    {
      "cell_type": "code",
      "metadata": {
        "id": "bulgarian-consequence",
        "outputId": "77038a1a-fee5-4ad9-ea3f-cf007e607008"
      },
      "source": [
        "robust_strange_operation(np.array([1, 2, 3, 4, 5]))"
      ],
      "id": "bulgarian-consequence",
      "execution_count": null,
      "outputs": [
        {
          "ename": "AttributeError",
          "evalue": "'numpy.ndarray' object has no attribute 'map'",
          "output_type": "error",
          "traceback": [
            "\u001b[0;31m---------------------------------------------------------------------------\u001b[0m",
            "\u001b[0;31mAttributeError\u001b[0m                            Traceback (most recent call last)",
            "\u001b[0;32m<ipython-input-22-8844e651a5af>\u001b[0m in \u001b[0;36m<module>\u001b[0;34m\u001b[0m\n\u001b[0;32m----> 1\u001b[0;31m \u001b[0mrobust_strange_operation\u001b[0m\u001b[0;34m(\u001b[0m\u001b[0mnp\u001b[0m\u001b[0;34m.\u001b[0m\u001b[0marray\u001b[0m\u001b[0;34m(\u001b[0m\u001b[0;34m[\u001b[0m\u001b[0;36m1\u001b[0m\u001b[0;34m,\u001b[0m \u001b[0;36m2\u001b[0m\u001b[0;34m,\u001b[0m \u001b[0;36m3\u001b[0m\u001b[0;34m,\u001b[0m \u001b[0;36m4\u001b[0m\u001b[0;34m,\u001b[0m \u001b[0;36m5\u001b[0m\u001b[0;34m]\u001b[0m\u001b[0;34m)\u001b[0m\u001b[0;34m)\u001b[0m\u001b[0;34m\u001b[0m\u001b[0;34m\u001b[0m\u001b[0m\n\u001b[0m",
            "\u001b[0;32m<ipython-input-19-a46c91be82de>\u001b[0m in \u001b[0;36mrobust_strange_operation\u001b[0;34m(iterable)\u001b[0m\n\u001b[1;32m     18\u001b[0m     \u001b[0;32mfinally\u001b[0m\u001b[0;34m:\u001b[0m\u001b[0;34m\u001b[0m\u001b[0;34m\u001b[0m\u001b[0m\n\u001b[1;32m     19\u001b[0m         \u001b[0mratio\u001b[0m \u001b[0;34m=\u001b[0m \u001b[0mvariance\u001b[0m\u001b[0;34m/\u001b[0m\u001b[0mstandard_deviation\u001b[0m\u001b[0;34m\u001b[0m\u001b[0;34m\u001b[0m\u001b[0m\n\u001b[0;32m---> 20\u001b[0;31m         \u001b[0;32mreturn\u001b[0m \u001b[0miterable\u001b[0m\u001b[0;34m.\u001b[0m\u001b[0mmap\u001b[0m\u001b[0;34m(\u001b[0m\u001b[0;32mlambda\u001b[0m \u001b[0mx\u001b[0m\u001b[0;34m:\u001b[0m \u001b[0mx\u001b[0m \u001b[0;34m*\u001b[0m \u001b[0mratio\u001b[0m\u001b[0;34m)\u001b[0m\u001b[0;34m\u001b[0m\u001b[0;34m\u001b[0m\u001b[0m\n\u001b[0m",
            "\u001b[0;31mAttributeError\u001b[0m: 'numpy.ndarray' object has no attribute 'map'"
          ]
        }
      ]
    },
    {
      "cell_type": "markdown",
      "metadata": {
        "id": "structural-conservation"
      },
      "source": [
        "* Note that np.array is still not operable with this function. Try and resolve it on your own using exception handling."
      ],
      "id": "structural-conservation"
    }
  ]
}