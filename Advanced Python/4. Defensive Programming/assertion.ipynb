{
  "nbformat": 4,
  "nbformat_minor": 0,
  "metadata": {
    "kernelspec": {
      "display_name": "Python 3",
      "language": "python",
      "name": "python3"
    },
    "language_info": {
      "codemirror_mode": {
        "name": "ipython",
        "version": 3
      },
      "file_extension": ".py",
      "mimetype": "text/x-python",
      "name": "python",
      "nbconvert_exporter": "python",
      "pygments_lexer": "ipython3",
      "version": "3.8.5"
    },
    "colab": {
      "name": "assertion.ipynb",
      "provenance": []
    }
  },
  "cells": [
    {
      "cell_type": "code",
      "metadata": {
        "id": "knnTu2Kl6L43"
      },
      "source": [
        "%load_ext lab_black"
      ],
      "execution_count": null,
      "outputs": []
    },
    {
      "cell_type": "markdown",
      "metadata": {
        "id": "cY7egNMn6L44"
      },
      "source": [
        "## Assertions as assumption checker"
      ]
    },
    {
      "cell_type": "code",
      "metadata": {
        "id": "vNniTVkq6L46"
      },
      "source": [
        "def better_greatest_of_two(value1, value2):\n",
        "    \"\"\"Returns whichever value is greater, assuming they are not equal\n",
        "\n",
        "    params:\n",
        "    value1(float): First number for comparison\n",
        "    value2(float): Second number for comparison\n",
        "\n",
        "    returns(float): greatest among two values\n",
        "    \"\"\"\n",
        "    # if values not equal, do nothing : Else return prompt\n",
        "    assert value1 != value2, \"The two values must not be equal\"\n",
        "\n",
        "    if value1 > value2:\n",
        "        return value1\n",
        "    else:\n",
        "        return value2"
      ],
      "execution_count": null,
      "outputs": []
    },
    {
      "cell_type": "code",
      "metadata": {
        "id": "LBAkTCx26L46",
        "outputId": "ba4d50c3-07d5-4b35-f040-599de1f7106f"
      },
      "source": [
        "better_greatest_of_two(10,9)"
      ],
      "execution_count": null,
      "outputs": [
        {
          "data": {
            "text/plain": [
              "10"
            ]
          },
          "execution_count": 11,
          "metadata": {},
          "output_type": "execute_result"
        }
      ]
    },
    {
      "cell_type": "code",
      "metadata": {
        "id": "-_28RQXE6L47",
        "outputId": "46c9a2fd-e796-467b-da44-747236aaf503"
      },
      "source": [
        "better_greatest_of_two(10,10)"
      ],
      "execution_count": null,
      "outputs": [
        {
          "ename": "AssertionError",
          "evalue": "The two values must not be equal",
          "output_type": "error",
          "traceback": [
            "\u001b[0;31m---------------------------------------------------------------------------\u001b[0m",
            "\u001b[0;31mAssertionError\u001b[0m                            Traceback (most recent call last)",
            "\u001b[0;32m<ipython-input-12-cd7eca3e8841>\u001b[0m in \u001b[0;36m<module>\u001b[0;34m\u001b[0m\n\u001b[0;32m----> 1\u001b[0;31m \u001b[0mbetter_greatest_of_two\u001b[0m\u001b[0;34m(\u001b[0m\u001b[0;36m10\u001b[0m\u001b[0;34m,\u001b[0m\u001b[0;36m10\u001b[0m\u001b[0;34m)\u001b[0m\u001b[0;34m\u001b[0m\u001b[0;34m\u001b[0m\u001b[0m\n\u001b[0m",
            "\u001b[0;32m<ipython-input-10-c3e8154f68a4>\u001b[0m in \u001b[0;36mbetter_greatest_of_two\u001b[0;34m(value1, value2)\u001b[0m\n\u001b[1;32m      9\u001b[0m     \"\"\"\n\u001b[1;32m     10\u001b[0m     \u001b[0;31m# if values not equal, do nothing : Else return prompt\u001b[0m\u001b[0;34m\u001b[0m\u001b[0;34m\u001b[0m\u001b[0;34m\u001b[0m\u001b[0m\n\u001b[0;32m---> 11\u001b[0;31m     \u001b[0;32massert\u001b[0m \u001b[0mvalue1\u001b[0m \u001b[0;34m!=\u001b[0m \u001b[0mvalue2\u001b[0m\u001b[0;34m,\u001b[0m \u001b[0;34m\"The two values must not be equal\"\u001b[0m\u001b[0;34m\u001b[0m\u001b[0;34m\u001b[0m\u001b[0m\n\u001b[0m\u001b[1;32m     12\u001b[0m \u001b[0;34m\u001b[0m\u001b[0m\n\u001b[1;32m     13\u001b[0m     \u001b[0;32mif\u001b[0m \u001b[0mvalue1\u001b[0m \u001b[0;34m>\u001b[0m \u001b[0mvalue2\u001b[0m\u001b[0;34m:\u001b[0m\u001b[0;34m\u001b[0m\u001b[0;34m\u001b[0m\u001b[0m\n",
            "\u001b[0;31mAssertionError\u001b[0m: The two values must not be equal"
          ]
        }
      ]
    },
    {
      "cell_type": "code",
      "metadata": {
        "id": "pI7dGe6h6L47"
      },
      "source": [
        "def whole_number_divisor(divident, divisor):\n",
        "    \"\"\"Returns the integer quotient when divident is divided by divisor\n",
        "\n",
        "    params:\n",
        "    divident(float): the number which will be divided\n",
        "    devisor(float): the number which will be used to divide\n",
        "\n",
        "    returns(int): integer quotient of the operation\n",
        "    \"\"\"\n",
        "    assert divisor!=0, 'divisor cannot be Zero'\n",
        "    quotient = divident//divisor\n",
        "    return quotient"
      ],
      "execution_count": null,
      "outputs": []
    },
    {
      "cell_type": "code",
      "metadata": {
        "id": "XELOe6X06L47",
        "outputId": "a668fb0c-888b-48e1-d4ac-b869af1ec870"
      },
      "source": [
        "whole_number_divisor(10,7)"
      ],
      "execution_count": null,
      "outputs": [
        {
          "data": {
            "text/plain": [
              "1"
            ]
          },
          "execution_count": 14,
          "metadata": {},
          "output_type": "execute_result"
        }
      ]
    },
    {
      "cell_type": "code",
      "metadata": {
        "id": "2YoN2iwi6L48",
        "outputId": "1d9ea5a5-1c6e-4536-c308-81397426b132"
      },
      "source": [
        "whole_number_divisor(10,0)"
      ],
      "execution_count": null,
      "outputs": [
        {
          "ename": "AssertionError",
          "evalue": "divisor cannot be Zero",
          "output_type": "error",
          "traceback": [
            "\u001b[0;31m---------------------------------------------------------------------------\u001b[0m",
            "\u001b[0;31mAssertionError\u001b[0m                            Traceback (most recent call last)",
            "\u001b[0;32m<ipython-input-15-c7f1d240d30a>\u001b[0m in \u001b[0;36m<module>\u001b[0;34m\u001b[0m\n\u001b[0;32m----> 1\u001b[0;31m \u001b[0mwhole_number_divisor\u001b[0m\u001b[0;34m(\u001b[0m\u001b[0;36m10\u001b[0m\u001b[0;34m,\u001b[0m\u001b[0;36m0\u001b[0m\u001b[0;34m)\u001b[0m\u001b[0;34m\u001b[0m\u001b[0;34m\u001b[0m\u001b[0m\n\u001b[0m",
            "\u001b[0;32m<ipython-input-13-4462629b5ff8>\u001b[0m in \u001b[0;36mwhole_number_divisor\u001b[0;34m(divident, divisor)\u001b[0m\n\u001b[1;32m      8\u001b[0m     \u001b[0mreturns\u001b[0m\u001b[0;34m(\u001b[0m\u001b[0mint\u001b[0m\u001b[0;34m)\u001b[0m\u001b[0;34m:\u001b[0m \u001b[0minteger\u001b[0m \u001b[0mquotient\u001b[0m \u001b[0mof\u001b[0m \u001b[0mthe\u001b[0m \u001b[0moperation\u001b[0m\u001b[0;34m\u001b[0m\u001b[0;34m\u001b[0m\u001b[0m\n\u001b[1;32m      9\u001b[0m     \"\"\"\n\u001b[0;32m---> 10\u001b[0;31m     \u001b[0;32massert\u001b[0m \u001b[0mdivisor\u001b[0m\u001b[0;34m!=\u001b[0m\u001b[0;36m0\u001b[0m\u001b[0;34m,\u001b[0m \u001b[0;34m'divisor cannot be Zero'\u001b[0m\u001b[0;34m\u001b[0m\u001b[0;34m\u001b[0m\u001b[0m\n\u001b[0m\u001b[1;32m     11\u001b[0m     \u001b[0mquotient\u001b[0m \u001b[0;34m=\u001b[0m \u001b[0mdivident\u001b[0m\u001b[0;34m//\u001b[0m\u001b[0mdivisor\u001b[0m\u001b[0;34m\u001b[0m\u001b[0;34m\u001b[0m\u001b[0m\n\u001b[1;32m     12\u001b[0m     \u001b[0;32mreturn\u001b[0m \u001b[0mquotient\u001b[0m\u001b[0;34m\u001b[0m\u001b[0;34m\u001b[0m\u001b[0m\n",
            "\u001b[0;31mAssertionError\u001b[0m: divisor cannot be Zero"
          ]
        }
      ]
    },
    {
      "cell_type": "markdown",
      "metadata": {
        "id": "06PBhO0q6L48"
      },
      "source": [
        "## Assertion as Input Checker"
      ]
    },
    {
      "cell_type": "code",
      "metadata": {
        "id": "lWAu3XHa6L48"
      },
      "source": [
        "def even_better_greatest_of_two(value1, value2):\n",
        "    \"\"\"Returns whichever value is greater, assuming they are not equal\n",
        "\n",
        "    params:\n",
        "    value1(float): First number for comparison\n",
        "    value2(float): Second number for comparison\n",
        "\n",
        "    returns(float): greatest among two values\n",
        "    \"\"\"\n",
        "    assert type(value1) in (int, float) and type(value2) in (int,float), \"unexpected input values, should be int or float\"\n",
        "    assert value1 != value2, \"The two values must not be equal\"\n",
        "    if value1 > value2:\n",
        "        return value1\n",
        "    else:\n",
        "        return value2"
      ],
      "execution_count": null,
      "outputs": []
    },
    {
      "cell_type": "code",
      "metadata": {
        "id": "D8tvbiGR6L48",
        "outputId": "596c8dfa-c5c6-478a-a391-f7092129fc42"
      },
      "source": [
        "even_better_greatest_of_two(5, \"a\")"
      ],
      "execution_count": null,
      "outputs": [
        {
          "ename": "AssertionError",
          "evalue": "unexpected input values, should be int or float",
          "output_type": "error",
          "traceback": [
            "\u001b[0;31m---------------------------------------------------------------------------\u001b[0m",
            "\u001b[0;31mAssertionError\u001b[0m                            Traceback (most recent call last)",
            "\u001b[0;32m<ipython-input-17-4933f945dc03>\u001b[0m in \u001b[0;36m<module>\u001b[0;34m\u001b[0m\n\u001b[0;32m----> 1\u001b[0;31m \u001b[0meven_better_greatest_of_two\u001b[0m\u001b[0;34m(\u001b[0m\u001b[0;36m5\u001b[0m\u001b[0;34m,\u001b[0m \u001b[0;34m\"a\"\u001b[0m\u001b[0;34m)\u001b[0m\u001b[0;34m\u001b[0m\u001b[0;34m\u001b[0m\u001b[0m\n\u001b[0m",
            "\u001b[0;32m<ipython-input-16-422b9d647523>\u001b[0m in \u001b[0;36meven_better_greatest_of_two\u001b[0;34m(value1, value2)\u001b[0m\n\u001b[1;32m      8\u001b[0m     \u001b[0mreturns\u001b[0m\u001b[0;34m(\u001b[0m\u001b[0mfloat\u001b[0m\u001b[0;34m)\u001b[0m\u001b[0;34m:\u001b[0m \u001b[0mgreatest\u001b[0m \u001b[0mamong\u001b[0m \u001b[0mtwo\u001b[0m \u001b[0mvalues\u001b[0m\u001b[0;34m\u001b[0m\u001b[0;34m\u001b[0m\u001b[0m\n\u001b[1;32m      9\u001b[0m     \"\"\"\n\u001b[0;32m---> 10\u001b[0;31m     \u001b[0;32massert\u001b[0m \u001b[0mtype\u001b[0m\u001b[0;34m(\u001b[0m\u001b[0mvalue1\u001b[0m\u001b[0;34m)\u001b[0m \u001b[0;32min\u001b[0m \u001b[0;34m(\u001b[0m\u001b[0mint\u001b[0m\u001b[0;34m,\u001b[0m \u001b[0mfloat\u001b[0m\u001b[0;34m)\u001b[0m \u001b[0;32mand\u001b[0m \u001b[0mtype\u001b[0m\u001b[0;34m(\u001b[0m\u001b[0mvalue2\u001b[0m\u001b[0;34m)\u001b[0m \u001b[0;32min\u001b[0m \u001b[0;34m(\u001b[0m\u001b[0mint\u001b[0m\u001b[0;34m,\u001b[0m\u001b[0mfloat\u001b[0m\u001b[0;34m)\u001b[0m\u001b[0;34m,\u001b[0m \u001b[0;34m\"unexpected input values, should be int or float\"\u001b[0m\u001b[0;34m\u001b[0m\u001b[0;34m\u001b[0m\u001b[0m\n\u001b[0m\u001b[1;32m     11\u001b[0m     \u001b[0;32massert\u001b[0m \u001b[0mvalue1\u001b[0m \u001b[0;34m!=\u001b[0m \u001b[0mvalue2\u001b[0m\u001b[0;34m,\u001b[0m \u001b[0;34m\"The two values must not be equal\"\u001b[0m\u001b[0;34m\u001b[0m\u001b[0;34m\u001b[0m\u001b[0m\n\u001b[1;32m     12\u001b[0m     \u001b[0;32mif\u001b[0m \u001b[0mvalue1\u001b[0m \u001b[0;34m>\u001b[0m \u001b[0mvalue2\u001b[0m\u001b[0;34m:\u001b[0m\u001b[0;34m\u001b[0m\u001b[0;34m\u001b[0m\u001b[0m\n",
            "\u001b[0;31mAssertionError\u001b[0m: unexpected input values, should be int or float"
          ]
        }
      ]
    },
    {
      "cell_type": "code",
      "metadata": {
        "id": "T7xBjP176L49",
        "outputId": "abbb5f13-2a39-42d2-fda8-fb99463e28f5"
      },
      "source": [
        "even_better_greatest_of_two(5, 5)"
      ],
      "execution_count": null,
      "outputs": [
        {
          "ename": "AssertionError",
          "evalue": "The two values must not be equal",
          "output_type": "error",
          "traceback": [
            "\u001b[0;31m---------------------------------------------------------------------------\u001b[0m",
            "\u001b[0;31mAssertionError\u001b[0m                            Traceback (most recent call last)",
            "\u001b[0;32m<ipython-input-18-3a73d227f562>\u001b[0m in \u001b[0;36m<module>\u001b[0;34m\u001b[0m\n\u001b[0;32m----> 1\u001b[0;31m \u001b[0meven_better_greatest_of_two\u001b[0m\u001b[0;34m(\u001b[0m\u001b[0;36m5\u001b[0m\u001b[0;34m,\u001b[0m \u001b[0;36m5\u001b[0m\u001b[0;34m)\u001b[0m\u001b[0;34m\u001b[0m\u001b[0;34m\u001b[0m\u001b[0m\n\u001b[0m",
            "\u001b[0;32m<ipython-input-16-422b9d647523>\u001b[0m in \u001b[0;36meven_better_greatest_of_two\u001b[0;34m(value1, value2)\u001b[0m\n\u001b[1;32m      9\u001b[0m     \"\"\"\n\u001b[1;32m     10\u001b[0m     \u001b[0;32massert\u001b[0m \u001b[0mtype\u001b[0m\u001b[0;34m(\u001b[0m\u001b[0mvalue1\u001b[0m\u001b[0;34m)\u001b[0m \u001b[0;32min\u001b[0m \u001b[0;34m(\u001b[0m\u001b[0mint\u001b[0m\u001b[0;34m,\u001b[0m \u001b[0mfloat\u001b[0m\u001b[0;34m)\u001b[0m \u001b[0;32mand\u001b[0m \u001b[0mtype\u001b[0m\u001b[0;34m(\u001b[0m\u001b[0mvalue2\u001b[0m\u001b[0;34m)\u001b[0m \u001b[0;32min\u001b[0m \u001b[0;34m(\u001b[0m\u001b[0mint\u001b[0m\u001b[0;34m,\u001b[0m\u001b[0mfloat\u001b[0m\u001b[0;34m)\u001b[0m\u001b[0;34m,\u001b[0m \u001b[0;34m\"unexpected input values, should be int or float\"\u001b[0m\u001b[0;34m\u001b[0m\u001b[0;34m\u001b[0m\u001b[0m\n\u001b[0;32m---> 11\u001b[0;31m     \u001b[0;32massert\u001b[0m \u001b[0mvalue1\u001b[0m \u001b[0;34m!=\u001b[0m \u001b[0mvalue2\u001b[0m\u001b[0;34m,\u001b[0m \u001b[0;34m\"The two values must not be equal\"\u001b[0m\u001b[0;34m\u001b[0m\u001b[0;34m\u001b[0m\u001b[0m\n\u001b[0m\u001b[1;32m     12\u001b[0m     \u001b[0;32mif\u001b[0m \u001b[0mvalue1\u001b[0m \u001b[0;34m>\u001b[0m \u001b[0mvalue2\u001b[0m\u001b[0;34m:\u001b[0m\u001b[0;34m\u001b[0m\u001b[0;34m\u001b[0m\u001b[0m\n\u001b[1;32m     13\u001b[0m         \u001b[0;32mreturn\u001b[0m \u001b[0mvalue1\u001b[0m\u001b[0;34m\u001b[0m\u001b[0;34m\u001b[0m\u001b[0m\n",
            "\u001b[0;31mAssertionError\u001b[0m: The two values must not be equal"
          ]
        }
      ]
    },
    {
      "cell_type": "code",
      "metadata": {
        "id": "DO6NHqRU6L49",
        "outputId": "12c0e176-8eda-4f21-c87e-57f54a14cf56"
      },
      "source": [
        "even_better_greatest_of_two(5, 8)"
      ],
      "execution_count": null,
      "outputs": [
        {
          "data": {
            "text/plain": [
              "8"
            ]
          },
          "execution_count": 19,
          "metadata": {},
          "output_type": "execute_result"
        }
      ]
    },
    {
      "cell_type": "markdown",
      "metadata": {
        "id": "zgM5OOaI6L49"
      },
      "source": [
        "## Assertions as Return Checker"
      ]
    },
    {
      "cell_type": "code",
      "metadata": {
        "id": "ibMIIDmN6L49"
      },
      "source": [
        "def extending_list(list1, list2):\n",
        "    \"\"\"\n",
        "    Takes list1 and extends it with elements of list2\n",
        "    Such That:\n",
        "    length(result_list) = len(list1) + len(list2)\n",
        "\n",
        "    params:\n",
        "    list1(list): the original list to be extended\n",
        "    list2(list): list of elements to be added to original list\n",
        "\n",
        "    returns(list): result of extention of list1 using list2\n",
        "    \"\"\"\n",
        "    assert (type(list1) == list and type(list2) == list), \"Both inputs must be of type list only\"\n",
        "    new_list = list1[:]\n",
        "    new_list.append(list2)\n",
        "    assert len(new_list) == len(list1) + len(list2), \"The length of the resulting list is not as intended\"\n",
        "    return new_list"
      ],
      "execution_count": null,
      "outputs": []
    },
    {
      "cell_type": "code",
      "metadata": {
        "id": "fg9KAwHV6L49",
        "outputId": "bf02878a-d3d8-4837-aff8-e190774a3fcc"
      },
      "source": [
        "extending_list([1,2], [3,4])"
      ],
      "execution_count": null,
      "outputs": [
        {
          "ename": "AssertionError",
          "evalue": "The length of the resulting list is not as intended",
          "output_type": "error",
          "traceback": [
            "\u001b[0;31m---------------------------------------------------------------------------\u001b[0m",
            "\u001b[0;31mAssertionError\u001b[0m                            Traceback (most recent call last)",
            "\u001b[0;32m<ipython-input-4-07afd42a3047>\u001b[0m in \u001b[0;36m<module>\u001b[0;34m\u001b[0m\n\u001b[0;32m----> 1\u001b[0;31m \u001b[0mextending_list\u001b[0m\u001b[0;34m(\u001b[0m\u001b[0;34m[\u001b[0m\u001b[0;36m1\u001b[0m\u001b[0;34m,\u001b[0m\u001b[0;36m2\u001b[0m\u001b[0;34m]\u001b[0m\u001b[0;34m,\u001b[0m \u001b[0;34m[\u001b[0m\u001b[0;36m3\u001b[0m\u001b[0;34m,\u001b[0m\u001b[0;36m4\u001b[0m\u001b[0;34m]\u001b[0m\u001b[0;34m)\u001b[0m\u001b[0;34m\u001b[0m\u001b[0;34m\u001b[0m\u001b[0m\n\u001b[0m",
            "\u001b[0;32m<ipython-input-3-df473b12c620>\u001b[0m in \u001b[0;36mextending_list\u001b[0;34m(list1, list2)\u001b[0m\n\u001b[1;32m     14\u001b[0m     \u001b[0mnew_list\u001b[0m \u001b[0;34m=\u001b[0m \u001b[0mlist1\u001b[0m\u001b[0;34m[\u001b[0m\u001b[0;34m:\u001b[0m\u001b[0;34m]\u001b[0m\u001b[0;34m\u001b[0m\u001b[0;34m\u001b[0m\u001b[0m\n\u001b[1;32m     15\u001b[0m     \u001b[0mnew_list\u001b[0m\u001b[0;34m.\u001b[0m\u001b[0mappend\u001b[0m\u001b[0;34m(\u001b[0m\u001b[0mlist2\u001b[0m\u001b[0;34m)\u001b[0m\u001b[0;34m\u001b[0m\u001b[0;34m\u001b[0m\u001b[0m\n\u001b[0;32m---> 16\u001b[0;31m     \u001b[0;32massert\u001b[0m \u001b[0mlen\u001b[0m\u001b[0;34m(\u001b[0m\u001b[0mnew_list\u001b[0m\u001b[0;34m)\u001b[0m \u001b[0;34m==\u001b[0m \u001b[0mlen\u001b[0m\u001b[0;34m(\u001b[0m\u001b[0mlist1\u001b[0m\u001b[0;34m)\u001b[0m \u001b[0;34m+\u001b[0m \u001b[0mlen\u001b[0m\u001b[0;34m(\u001b[0m\u001b[0mlist2\u001b[0m\u001b[0;34m)\u001b[0m\u001b[0;34m,\u001b[0m \u001b[0;34m\"The length of the resulting list is not as intended\"\u001b[0m\u001b[0;34m\u001b[0m\u001b[0;34m\u001b[0m\u001b[0m\n\u001b[0m\u001b[1;32m     17\u001b[0m     \u001b[0;32mreturn\u001b[0m \u001b[0mnew_list\u001b[0m\u001b[0;34m\u001b[0m\u001b[0;34m\u001b[0m\u001b[0m\n",
            "\u001b[0;31mAssertionError\u001b[0m: The length of the resulting list is not as intended"
          ]
        }
      ]
    },
    {
      "cell_type": "markdown",
      "metadata": {
        "id": "WQwLzGkS6L4-"
      },
      "source": [
        "# Assertions can only signal unexpected conditions, not circumvent it"
      ]
    },
    {
      "cell_type": "code",
      "metadata": {
        "id": "IQMjjYa-6L4-"
      },
      "source": [
        ""
      ],
      "execution_count": null,
      "outputs": []
    }
  ]
}