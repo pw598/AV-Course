{
  "nbformat": 4,
  "nbformat_minor": 0,
  "metadata": {
    "colab": {
      "name": "Defining a class.ipynb",
      "provenance": []
    },
    "kernelspec": {
      "name": "python3",
      "display_name": "Python 3"
    }
  },
  "cells": [
    {
      "cell_type": "markdown",
      "metadata": {
        "id": "hMKiy4uJXLFi"
      },
      "source": [
        "# Defining a Class"
      ]
    },
    {
      "cell_type": "code",
      "metadata": {
        "id": "dQ88oaf4XJx6"
      },
      "source": [
        "# defining a class called 'Cars' \n",
        "class Cars:\n",
        "\n",
        "  # defining instance variables\n",
        "  def __init__(self, number, fuel_type, capacity, torque):\n",
        "\n",
        "    # initialize instance attributes\n",
        "    self.number = number\n",
        "    self.fuel_type = fuel_type\n",
        "    self.capacity = capacity\n",
        "    self.torque = torque"
      ],
      "execution_count": null,
      "outputs": []
    },
    {
      "cell_type": "code",
      "metadata": {
        "id": "Fka7Ec9VQ6hJ"
      },
      "source": [
        "car_1 = Cars(\"RJ06 1719\", \"Petrol\", \"35 Litres\", 200)"
      ],
      "execution_count": null,
      "outputs": []
    },
    {
      "cell_type": "markdown",
      "metadata": {
        "id": "MUXT9-KwSMdr"
      },
      "source": [
        "# Attributes"
      ]
    },
    {
      "cell_type": "markdown",
      "metadata": {
        "id": "wOkojfiPqPAo"
      },
      "source": [
        "## 1. Instance and Class Attributes"
      ]
    },
    {
      "cell_type": "code",
      "metadata": {
        "id": "fcLuVEpuprJf"
      },
      "source": [
        "# defining a class called 'Cars'\n",
        "class Cars:\n",
        "\n",
        "  # defining class variable and attribute\n",
        "  num_wheels = 4\n",
        "  year_manufacture = 2020\n",
        "\n",
        "  # defnining instance variables\n",
        "  def __init__(self, number, fuel_type, capacity, torque):\n",
        "\n",
        "    # initialize instance attributes\n",
        "    self.number = number\n",
        "    self.fuel_type = fuel_type\n",
        "    self.capacity = capacity\n",
        "    self.torque = torque"
      ],
      "execution_count": null,
      "outputs": []
    },
    {
      "cell_type": "code",
      "metadata": {
        "id": "dCjfD4iUZ00X"
      },
      "source": [
        "# creating car_1 and car_2 instances \n",
        "# defining instance attributes\n",
        "car_1 = Cars(\"RJ06 1719\", \"Petrol\", \"35 Litres\", 200)\n",
        "car_2 = Cars(\"DL09 2969\", \"Disel\", \"30 Litres\", 250)"
      ],
      "execution_count": null,
      "outputs": []
    },
    {
      "cell_type": "code",
      "metadata": {
        "colab": {
          "base_uri": "https://localhost:8080/",
          "height": 35
        },
        "id": "NZUA791kaJsu",
        "outputId": "6c9a2314-f843-45f7-ffbc-248d025ec6c1"
      },
      "source": [
        "car_1.fuel_type"
      ],
      "execution_count": null,
      "outputs": [
        {
          "output_type": "execute_result",
          "data": {
            "application/vnd.google.colaboratory.intrinsic+json": {
              "type": "string"
            },
            "text/plain": [
              "'Petrol'"
            ]
          },
          "metadata": {
            "tags": []
          },
          "execution_count": 4
        }
      ]
    },
    {
      "cell_type": "code",
      "metadata": {
        "colab": {
          "base_uri": "https://localhost:8080/",
          "height": 35
        },
        "id": "i_qEsDrJRuCX",
        "outputId": "5b61aed8-db9b-45d2-8261-1cfdbbc9b747"
      },
      "source": [
        "car_2.capacity"
      ],
      "execution_count": null,
      "outputs": [
        {
          "output_type": "execute_result",
          "data": {
            "application/vnd.google.colaboratory.intrinsic+json": {
              "type": "string"
            },
            "text/plain": [
              "'30 Litres'"
            ]
          },
          "metadata": {
            "tags": []
          },
          "execution_count": 5
        }
      ]
    },
    {
      "cell_type": "code",
      "metadata": {
        "colab": {
          "base_uri": "https://localhost:8080/"
        },
        "id": "1SH9MmQBqJCx",
        "outputId": "2ec01dc9-4e21-481a-a9b0-abb6fc00d9ce"
      },
      "source": [
        "car_2.num_wheels"
      ],
      "execution_count": null,
      "outputs": [
        {
          "output_type": "execute_result",
          "data": {
            "text/plain": [
              "4"
            ]
          },
          "metadata": {
            "tags": []
          },
          "execution_count": 6
        }
      ]
    },
    {
      "cell_type": "markdown",
      "metadata": {
        "id": "RZZEjgj0dPjE"
      },
      "source": [
        "# Methods"
      ]
    },
    {
      "cell_type": "markdown",
      "metadata": {
        "id": "tg1PxjKAqT8A"
      },
      "source": [
        "## 2.1 Regular Methods"
      ]
    },
    {
      "cell_type": "code",
      "metadata": {
        "id": "nwJIdtrUaNjk"
      },
      "source": [
        "# defining a class called 'Cars'\n",
        "class Cars:\n",
        "\n",
        "  # defining class variable and attribute\n",
        "  speed_rpm = 1800\n",
        "\n",
        "  # defnining instance variables\n",
        "  def __init__(self, number, fuel_type, capacity, torque):\n",
        "\n",
        "    # initialize instance attributes\n",
        "    self.number = number\n",
        "    self.fuel_type = fuel_type\n",
        "    self.capacity = capacity\n",
        "    self.torque = torque\n",
        "\n",
        "  # defining a method to calculate power\n",
        "  def power_calc(self):\n",
        "    return (self.torque *self.speed_rpm)/9550"
      ],
      "execution_count": null,
      "outputs": []
    },
    {
      "cell_type": "code",
      "metadata": {
        "id": "6Z2WuNsi23j1"
      },
      "source": [
        "car_1 = Cars(\"RJ06 1719\", \"Petrol\", \"35 Litres\", 200)"
      ],
      "execution_count": null,
      "outputs": []
    },
    {
      "cell_type": "code",
      "metadata": {
        "colab": {
          "base_uri": "https://localhost:8080/"
        },
        "id": "pXByVSRH3BvM",
        "outputId": "eabefeda-3e18-4f81-c928-dacf00a66083"
      },
      "source": [
        "car_1.power_calc()"
      ],
      "execution_count": null,
      "outputs": [
        {
          "output_type": "execute_result",
          "data": {
            "text/plain": [
              "37.696335078534034"
            ]
          },
          "metadata": {
            "tags": []
          },
          "execution_count": 9
        }
      ]
    },
    {
      "cell_type": "code",
      "metadata": {
        "id": "_Un1y89OOMaE"
      },
      "source": [
        "Cars.speed_rpm = 2000"
      ],
      "execution_count": null,
      "outputs": []
    },
    {
      "cell_type": "markdown",
      "metadata": {
        "id": "saX8ddcLYJfk"
      },
      "source": [
        "## 2.2 Class Methods"
      ]
    },
    {
      "cell_type": "code",
      "metadata": {
        "id": "ATWHeXmL3EiT"
      },
      "source": [
        "# defining a class called 'Cars'\n",
        "class Cars:\n",
        "\n",
        "  # defining class variable and attribute\n",
        "  speed_rpm = 1800\n",
        "\n",
        "  # defnining instance variables\n",
        "  def __init__(self, number, fuel_type, capacity, torque):\n",
        "\n",
        "  # initialize instance attributes\n",
        "    self.number = number\n",
        "    self.fuel_type = fuel_type\n",
        "    self.capacity = capacity\n",
        "    self.torque = torque\n",
        "\n",
        "  # defining a regular method to calculate power\n",
        "  def power_calc(self):\n",
        "    return (self.torque *self.speed_rpm)/9550\n",
        "  \n",
        "  # defining a class method to alter speed value\n",
        "  @classmethod\n",
        "  def set_speed(cls, speed):\n",
        "    cls.speed_rpm = speed"
      ],
      "execution_count": null,
      "outputs": []
    },
    {
      "cell_type": "code",
      "metadata": {
        "colab": {
          "base_uri": "https://localhost:8080/"
        },
        "id": "fYopG1_MQHPB",
        "outputId": "0c447332-e30d-4f84-b9f2-dc9d27211205"
      },
      "source": [
        "car_1 = Cars(\"RJ06 1719\", \"Petrol\", \"35 Litres\", 200)\n",
        "car_1.power_calc()"
      ],
      "execution_count": null,
      "outputs": [
        {
          "output_type": "execute_result",
          "data": {
            "text/plain": [
              "37.696335078534034"
            ]
          },
          "metadata": {
            "tags": []
          },
          "execution_count": 12
        }
      ]
    },
    {
      "cell_type": "code",
      "metadata": {
        "id": "DfW6EoReQOzX"
      },
      "source": [
        "Cars.set_speed(2100)"
      ],
      "execution_count": null,
      "outputs": []
    },
    {
      "cell_type": "code",
      "metadata": {
        "colab": {
          "base_uri": "https://localhost:8080/"
        },
        "id": "FeTcajoeTONL",
        "outputId": "dd3231de-f68b-46b8-ddc8-627dc1961f7c"
      },
      "source": [
        "car_1.power_calc()"
      ],
      "execution_count": null,
      "outputs": [
        {
          "output_type": "execute_result",
          "data": {
            "text/plain": [
              "43.97905759162304"
            ]
          },
          "metadata": {
            "tags": []
          },
          "execution_count": 14
        }
      ]
    },
    {
      "cell_type": "markdown",
      "metadata": {
        "id": "a9WEqU-CYkxZ"
      },
      "source": [
        "## 2.3 Static Methods"
      ]
    },
    {
      "cell_type": "code",
      "metadata": {
        "id": "SjxmjOGaTzkm"
      },
      "source": [
        "# defining a class called 'Cars'\n",
        "class Cars:\n",
        "\n",
        "  # defnining instance variables\n",
        "  def __init__(self, number, fuel_type, capacity, torque):\n",
        "\n",
        "      # initialize instance attributes\n",
        "        self.number = number\n",
        "        self.fuel_type = fuel_type\n",
        "        self.capacity = capacity\n",
        "        self.torque = torque\n",
        "\n",
        "  # defining a static method for price calculation\n",
        "  @staticmethod\n",
        "  def fuel_cost(price_per_litre, tank_capacity):\n",
        "    return price_per_litre*tank_capacity"
      ],
      "execution_count": null,
      "outputs": []
    },
    {
      "cell_type": "code",
      "metadata": {
        "id": "dNZd2CQTFIkv"
      },
      "source": [
        "car_1 = Cars(\"RJ06 1719\", \"Petrol\", \"35 Litres\", 200)"
      ],
      "execution_count": null,
      "outputs": []
    },
    {
      "cell_type": "code",
      "metadata": {
        "colab": {
          "base_uri": "https://localhost:8080/"
        },
        "id": "VRoX9BjxOtHs",
        "outputId": "81dfd1be-1b4f-4165-f65c-61e7d5996b43"
      },
      "source": [
        "print('Total Fuel price will be', Cars.fuel_cost(75, 30), 'Rs')"
      ],
      "execution_count": null,
      "outputs": [
        {
          "output_type": "stream",
          "text": [
            "Total Fuel price will be 2250 Rs\n"
          ],
          "name": "stdout"
        }
      ]
    },
    {
      "cell_type": "code",
      "metadata": {
        "id": "7o_yKiC0Zo5h"
      },
      "source": [
        ""
      ],
      "execution_count": null,
      "outputs": []
    },
    {
      "cell_type": "markdown",
      "metadata": {
        "id": "pt5k1QldZxm_"
      },
      "source": [
        "# Special Methods"
      ]
    },
    {
      "cell_type": "markdown",
      "metadata": {
        "id": "qrltSMQlcHmN"
      },
      "source": [
        "Defining special method"
      ]
    },
    {
      "cell_type": "code",
      "metadata": {
        "id": "ngwVaInuZz9n"
      },
      "source": [
        "# defining a class called 'Cars'\n",
        "class Cars:\n",
        "\n",
        "  # defnining instance variables\n",
        "  def __init__(self, owner, number, cost):\n",
        "\n",
        "  # initialize instance attributes\n",
        "    self.owner = owner\n",
        "    self.number = number\n",
        "    self.cost = cost\n",
        "\n",
        "  # special method to add costs\n",
        "  def __add__(first, second):\n",
        "    total_cost = first.cost + second.cost \n",
        "    # print('Total cost will be', total_cost, 'Rs')\n",
        "    # return cost here\n",
        "\n",
        "  def __len__(self):\n",
        "    return len(self.owner)"
      ],
      "execution_count": null,
      "outputs": []
    },
    {
      "cell_type": "code",
      "metadata": {
        "id": "9Vurkc8AQ9Os"
      },
      "source": [
        "# creating instances\n",
        "car_1 = Cars(\"Aishwarya\", \"RJ06 1719\", 500000)\n",
        "car_2 = Cars(\"Sharoon\", \"DL09 2969\", 750000)"
      ],
      "execution_count": null,
      "outputs": []
    },
    {
      "cell_type": "code",
      "metadata": {
        "colab": {
          "base_uri": "https://localhost:8080/"
        },
        "id": "xSQKV2-tZ2z7",
        "outputId": "4ca2b069-6d32-4e9d-c734-2689eba346ed"
      },
      "source": [
        "car_1 + car_2"
      ],
      "execution_count": null,
      "outputs": [
        {
          "output_type": "stream",
          "text": [
            "Total cost will be 1250000 Rs\n"
          ],
          "name": "stdout"
        }
      ]
    },
    {
      "cell_type": "code",
      "metadata": {
        "id": "pa1v5Qoq_3SF",
        "colab": {
          "base_uri": "https://localhost:8080/"
        },
        "outputId": "ad0b0979-81b8-416f-b079-3a71d8f52c98"
      },
      "source": [
        "len(car_1)"
      ],
      "execution_count": null,
      "outputs": [
        {
          "output_type": "execute_result",
          "data": {
            "text/plain": [
              "9"
            ]
          },
          "metadata": {
            "tags": []
          },
          "execution_count": 35
        }
      ]
    },
    {
      "cell_type": "code",
      "metadata": {
        "id": "wAVfqMbjRQ20"
      },
      "source": [
        ""
      ],
      "execution_count": null,
      "outputs": []
    }
  ]
}