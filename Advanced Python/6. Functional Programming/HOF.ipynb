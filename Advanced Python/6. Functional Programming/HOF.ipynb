{
  "nbformat": 4,
  "nbformat_minor": 5,
  "metadata": {
    "kernelspec": {
      "display_name": "Python 3",
      "language": "python",
      "name": "python3"
    },
    "language_info": {
      "codemirror_mode": {
        "name": "ipython",
        "version": 3
      },
      "file_extension": ".py",
      "mimetype": "text/x-python",
      "name": "python",
      "nbconvert_exporter": "python",
      "pygments_lexer": "ipython3",
      "version": "3.8.5"
    },
    "colab": {
      "name": "HOF.ipynb",
      "provenance": [],
      "collapsed_sections": []
    }
  },
  "cells": [
    {
      "cell_type": "markdown",
      "metadata": {
        "id": "informal-fruit"
      },
      "source": [
        "# Higher order functions"
      ],
      "id": "informal-fruit"
    },
    {
      "cell_type": "code",
      "metadata": {
        "id": "visible-insulation",
        "outputId": "beb50025-edb3-4198-e795-989b2c075675"
      },
      "source": [
        "%load_ext lab_black"
      ],
      "id": "visible-insulation",
      "execution_count": null,
      "outputs": [
        {
          "output_type": "stream",
          "text": [
            "The lab_black extension is already loaded. To reload it, use:\n",
            "  %reload_ext lab_black\n"
          ],
          "name": "stdout"
        }
      ]
    },
    {
      "cell_type": "markdown",
      "metadata": {
        "id": "later-winner"
      },
      "source": [
        "## Function as parameter"
      ],
      "id": "later-winner"
    },
    {
      "cell_type": "markdown",
      "metadata": {
        "id": "medieval-guinea"
      },
      "source": [
        "### map(*function, iterable*)"
      ],
      "id": "medieval-guinea"
    },
    {
      "cell_type": "code",
      "metadata": {
        "colab": {
          "base_uri": "https://localhost:8080/"
        },
        "id": "industrial-attribute",
        "outputId": "761e6587-c467-497e-b32d-595f3d04d85a"
      },
      "source": [
        "def squared(value):\n",
        "    return value ** 2\n",
        "\n",
        "\n",
        "iterable = [[1, 2, 3, 4, 5]]\n",
        "new_list = list(map(squared, iterable))\n",
        "\n",
        "new_list"
      ],
      "id": "industrial-attribute",
      "execution_count": null,
      "outputs": [
        {
          "output_type": "execute_result",
          "data": {
            "text/plain": [
              "[0, 1, 4, 9, 16, 25, 36, 49, 64, 81]"
            ]
          },
          "metadata": {
            "tags": []
          },
          "execution_count": 1
        }
      ]
    },
    {
      "cell_type": "code",
      "metadata": {
        "id": "racial-consequence",
        "outputId": "767e342a-9f26-4d0d-8a62-183e0ae942a9"
      },
      "source": [
        "squared = lambda value: value ** 2\n",
        "\n",
        "iterable = [1, 2, 3, 4, 5]\n",
        "new_list = list(map(squared, iterable))\n",
        "\n",
        "new_list"
      ],
      "id": "racial-consequence",
      "execution_count": null,
      "outputs": [
        {
          "output_type": "execute_result",
          "data": {
            "text/plain": [
              "[1, 4, 9, 16, 25]"
            ]
          },
          "metadata": {
            "tags": []
          },
          "execution_count": 14
        }
      ]
    },
    {
      "cell_type": "code",
      "metadata": {
        "id": "attended-hawaii"
      },
      "source": [
        "iterable = [1, 2, 3, 4, 5]\n",
        "new_list = list(map(lambda value: value ** 2, iterable))\n",
        "\n",
        "new_list"
      ],
      "id": "attended-hawaii",
      "execution_count": null,
      "outputs": []
    },
    {
      "cell_type": "markdown",
      "metadata": {
        "id": "wound-singapore"
      },
      "source": [
        "### filter(*function, iterable*)"
      ],
      "id": "wound-singapore"
    },
    {
      "cell_type": "code",
      "metadata": {
        "id": "german-terry",
        "outputId": "b20f79f3-e824-44cd-f054-93745015f265"
      },
      "source": [
        "def even(value):\n",
        "    return value % 2 == 0\n",
        "\n",
        "\n",
        "iterable = [1, 2, 3, 4, 5]\n",
        "new_list = list(filter(even, iterable))\n",
        "\n",
        "new_list"
      ],
      "id": "german-terry",
      "execution_count": null,
      "outputs": [
        {
          "output_type": "execute_result",
          "data": {
            "text/plain": [
              "[2, 4]"
            ]
          },
          "metadata": {
            "tags": []
          },
          "execution_count": 27
        }
      ]
    },
    {
      "cell_type": "code",
      "metadata": {
        "id": "reverse-advisory",
        "outputId": "e7494f2c-1e77-48bf-9442-8067c1e495de"
      },
      "source": [
        "even = lambda value: value % 2 == 0\n",
        "\n",
        "iterable = [1, 2, 3, 4, 5]\n",
        "new_list = list(filter(even, iterable))\n",
        "\n",
        "new_list"
      ],
      "id": "reverse-advisory",
      "execution_count": null,
      "outputs": [
        {
          "output_type": "execute_result",
          "data": {
            "text/plain": [
              "[2, 4]"
            ]
          },
          "metadata": {
            "tags": []
          },
          "execution_count": 29
        }
      ]
    },
    {
      "cell_type": "code",
      "metadata": {
        "id": "referenced-quantum",
        "outputId": "66d6fd05-9c09-400a-a690-1d13bb088c46"
      },
      "source": [
        "iterable = [1, 2, 3, 4, 5]\n",
        "new_list = list(filter(lambda value: value % 2 == 0, iterable))\n",
        "\n",
        "new_list"
      ],
      "id": "referenced-quantum",
      "execution_count": null,
      "outputs": [
        {
          "output_type": "execute_result",
          "data": {
            "text/plain": [
              "[2, 4]"
            ]
          },
          "metadata": {
            "tags": []
          },
          "execution_count": 31
        }
      ]
    },
    {
      "cell_type": "markdown",
      "metadata": {
        "id": "ernMpVu6Tjfz"
      },
      "source": [
        "### functools.reduce(*function, iterable*)"
      ],
      "id": "ernMpVu6Tjfz"
    },
    {
      "cell_type": "code",
      "metadata": {
        "id": "fdTMdciAUWRG"
      },
      "source": [
        "from functools import reduce\n",
        "\n",
        "iterable = [1,2,3,4,5]"
      ],
      "id": "fdTMdciAUWRG",
      "execution_count": null,
      "outputs": []
    },
    {
      "cell_type": "code",
      "metadata": {
        "colab": {
          "base_uri": "https://localhost:8080/"
        },
        "id": "u6hLRDDoUfV5",
        "outputId": "7a3d57e3-0cc3-42ef-a355-cf88fcdeec4b"
      },
      "source": [
        "multiplier = lambda x,y: x*y\n",
        "\n",
        "\n",
        "factorial = reduce(multiplier,iterable )\n",
        "factorial"
      ],
      "id": "u6hLRDDoUfV5",
      "execution_count": null,
      "outputs": [
        {
          "output_type": "execute_result",
          "data": {
            "text/plain": [
              "120"
            ]
          },
          "metadata": {
            "tags": []
          },
          "execution_count": 5
        }
      ]
    },
    {
      "cell_type": "code",
      "metadata": {
        "colab": {
          "base_uri": "https://localhost:8080/"
        },
        "id": "CW_GncY4VFtP",
        "outputId": "a4ea7fa8-a569-4ce3-8f3c-202c34c45b36"
      },
      "source": [
        "adder = lambda x,y:x+y\n",
        "\n",
        "\n",
        "cum_sum = reduce(cum_sum, iterable)\n",
        "cum_sum"
      ],
      "id": "CW_GncY4VFtP",
      "execution_count": null,
      "outputs": [
        {
          "output_type": "execute_result",
          "data": {
            "text/plain": [
              "15"
            ]
          },
          "metadata": {
            "tags": []
          },
          "execution_count": 8
        }
      ]
    },
    {
      "cell_type": "code",
      "metadata": {
        "id": "tqHRHSrPVn5E"
      },
      "source": [
        ""
      ],
      "id": "tqHRHSrPVn5E",
      "execution_count": null,
      "outputs": []
    },
    {
      "cell_type": "markdown",
      "metadata": {
        "id": "active-understanding"
      },
      "source": [
        "## Function as a return of another function"
      ],
      "id": "active-understanding"
    },
    {
      "cell_type": "markdown",
      "metadata": {
        "id": "X4X3_HCLppRj"
      },
      "source": [
        "In this example, *adding* is the main function to which values are passed (either 2 or 3 values).\n",
        "\n",
        "*appropriate_adder* is used to determine whether a sum of two numbers is to be carried out or a sum of three numbers. Returns the appropriate function.\n",
        "\n"
      ],
      "id": "X4X3_HCLppRj"
    },
    {
      "cell_type": "code",
      "metadata": {
        "id": "adjustable-gateway"
      },
      "source": [
        "def add_two_nums(x, y):\n",
        "    return x + y\n",
        "\n",
        "\n",
        "def add_three_nums(x, y, z):\n",
        "    return x + y + z\n",
        "\n",
        "\n",
        "def appropriate_adder(values):\n",
        "    \"\"\"Finds out whether there are two number or three numbers to add, returns corresponding function\"\"\"\n",
        "    assert len(values) in (2,3), \"Invalid number of values, Only enter two or 3 digits\"\n",
        "    if len(values) == 3:\n",
        "        return add_three_nums\n",
        "    else:\n",
        "        return add_two_nums\n",
        "\n",
        "\n",
        "def adding(*values):\n",
        "    \"\"\"Will only work for two or three values\"\"\"\n",
        "    adder = appropriate_adder(values)\n",
        "    return adder(*values)"
      ],
      "id": "adjustable-gateway",
      "execution_count": null,
      "outputs": []
    },
    {
      "cell_type": "code",
      "metadata": {
        "colab": {
          "base_uri": "https://localhost:8080/"
        },
        "id": "chief-beverage",
        "outputId": "d3017bd3-2621-423f-d4c9-b6f99ada0656"
      },
      "source": [
        "adding(5, 7)"
      ],
      "id": "chief-beverage",
      "execution_count": null,
      "outputs": [
        {
          "output_type": "execute_result",
          "data": {
            "text/plain": [
              "12"
            ]
          },
          "metadata": {
            "tags": []
          },
          "execution_count": 10
        }
      ]
    },
    {
      "cell_type": "code",
      "metadata": {
        "colab": {
          "base_uri": "https://localhost:8080/"
        },
        "id": "loved-thread",
        "outputId": "89b489c2-fde1-4479-9bcf-7fba0202c4d8"
      },
      "source": [
        "adding(2, 4, 61)"
      ],
      "id": "loved-thread",
      "execution_count": null,
      "outputs": [
        {
          "output_type": "execute_result",
          "data": {
            "text/plain": [
              "67"
            ]
          },
          "metadata": {
            "tags": []
          },
          "execution_count": 11
        }
      ]
    },
    {
      "cell_type": "code",
      "metadata": {
        "colab": {
          "base_uri": "https://localhost:8080/",
          "height": 306
        },
        "id": "CDe0sghfYUxa",
        "outputId": "b9473711-cf95-4985-e7a4-b2099ce14944"
      },
      "source": [
        ""
      ],
      "id": "CDe0sghfYUxa",
      "execution_count": null,
      "outputs": [
        {
          "output_type": "error",
          "ename": "AssertionError",
          "evalue": "ignored",
          "traceback": [
            "\u001b[0;31m---------------------------------------------------------------------------\u001b[0m",
            "\u001b[0;31mAssertionError\u001b[0m                            Traceback (most recent call last)",
            "\u001b[0;32m<ipython-input-12-8f4f9f86c558>\u001b[0m in \u001b[0;36m<module>\u001b[0;34m()\u001b[0m\n\u001b[0;32m----> 1\u001b[0;31m \u001b[0madding\u001b[0m\u001b[0;34m(\u001b[0m\u001b[0;34m)\u001b[0m\u001b[0;34m\u001b[0m\u001b[0;34m\u001b[0m\u001b[0m\n\u001b[0m",
            "\u001b[0;32m<ipython-input-9-4bc2e0bd1ae8>\u001b[0m in \u001b[0;36madding\u001b[0;34m(*values)\u001b[0m\n\u001b[1;32m     17\u001b[0m \u001b[0;34m\u001b[0m\u001b[0m\n\u001b[1;32m     18\u001b[0m \u001b[0;32mdef\u001b[0m \u001b[0madding\u001b[0m\u001b[0;34m(\u001b[0m\u001b[0;34m*\u001b[0m\u001b[0mvalues\u001b[0m\u001b[0;34m)\u001b[0m\u001b[0;34m:\u001b[0m\u001b[0;34m\u001b[0m\u001b[0;34m\u001b[0m\u001b[0m\n\u001b[0;32m---> 19\u001b[0;31m     \u001b[0madder\u001b[0m \u001b[0;34m=\u001b[0m \u001b[0mappropriate_adder\u001b[0m\u001b[0;34m(\u001b[0m\u001b[0mvalues\u001b[0m\u001b[0;34m)\u001b[0m\u001b[0;34m\u001b[0m\u001b[0;34m\u001b[0m\u001b[0m\n\u001b[0m\u001b[1;32m     20\u001b[0m     \u001b[0;32mreturn\u001b[0m \u001b[0madder\u001b[0m\u001b[0;34m(\u001b[0m\u001b[0;34m*\u001b[0m\u001b[0mvalues\u001b[0m\u001b[0;34m)\u001b[0m\u001b[0;34m\u001b[0m\u001b[0;34m\u001b[0m\u001b[0m\n",
            "\u001b[0;32m<ipython-input-9-4bc2e0bd1ae8>\u001b[0m in \u001b[0;36mappropriate_adder\u001b[0;34m(values)\u001b[0m\n\u001b[1;32m      9\u001b[0m \u001b[0;32mdef\u001b[0m \u001b[0mappropriate_adder\u001b[0m\u001b[0;34m(\u001b[0m\u001b[0mvalues\u001b[0m\u001b[0;34m)\u001b[0m\u001b[0;34m:\u001b[0m\u001b[0;34m\u001b[0m\u001b[0;34m\u001b[0m\u001b[0m\n\u001b[1;32m     10\u001b[0m     \u001b[0;34m\"\"\"Finds out whether there are two number or three numbers to add, returns corresponding function\"\"\"\u001b[0m\u001b[0;34m\u001b[0m\u001b[0;34m\u001b[0m\u001b[0m\n\u001b[0;32m---> 11\u001b[0;31m     \u001b[0;32massert\u001b[0m \u001b[0mlen\u001b[0m\u001b[0;34m(\u001b[0m\u001b[0mvalues\u001b[0m\u001b[0;34m)\u001b[0m \u001b[0;32min\u001b[0m \u001b[0;34m(\u001b[0m\u001b[0;36m2\u001b[0m\u001b[0;34m,\u001b[0m\u001b[0;36m3\u001b[0m\u001b[0;34m)\u001b[0m\u001b[0;34m,\u001b[0m \u001b[0;34m\"Invalid number of values, Only enter two or 3 digits\"\u001b[0m\u001b[0;34m\u001b[0m\u001b[0;34m\u001b[0m\u001b[0m\n\u001b[0m\u001b[1;32m     12\u001b[0m     \u001b[0;32mif\u001b[0m \u001b[0mlen\u001b[0m\u001b[0;34m(\u001b[0m\u001b[0mvalues\u001b[0m\u001b[0;34m)\u001b[0m \u001b[0;34m==\u001b[0m \u001b[0;36m3\u001b[0m\u001b[0;34m:\u001b[0m\u001b[0;34m\u001b[0m\u001b[0;34m\u001b[0m\u001b[0m\n\u001b[1;32m     13\u001b[0m         \u001b[0;32mreturn\u001b[0m \u001b[0madd_three_nums\u001b[0m\u001b[0;34m\u001b[0m\u001b[0;34m\u001b[0m\u001b[0m\n",
            "\u001b[0;31mAssertionError\u001b[0m: Invalid number of values, Only enter two or 3 digits"
          ]
        }
      ]
    },
    {
      "cell_type": "markdown",
      "metadata": {
        "id": "csOIagCiquJ_"
      },
      "source": [
        "**Can you gess which of the following functions used above is a Higher Order Function?**"
      ],
      "id": "csOIagCiquJ_"
    }
  ]
}