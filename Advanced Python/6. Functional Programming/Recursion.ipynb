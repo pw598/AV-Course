{
  "nbformat": 4,
  "nbformat_minor": 5,
  "metadata": {
    "kernelspec": {
      "display_name": "Python 3",
      "language": "python",
      "name": "python3"
    },
    "language_info": {
      "codemirror_mode": {
        "name": "ipython",
        "version": 3
      },
      "file_extension": ".py",
      "mimetype": "text/x-python",
      "name": "python",
      "nbconvert_exporter": "python",
      "pygments_lexer": "ipython3",
      "version": "3.8.5"
    },
    "colab": {
      "name": "Recursion.ipynb",
      "provenance": [],
      "collapsed_sections": []
    }
  },
  "cells": [
    {
      "cell_type": "markdown",
      "metadata": {
        "id": "cLsEYFguMlzU"
      },
      "source": [
        "## Recursion"
      ],
      "id": "cLsEYFguMlzU"
    },
    {
      "cell_type": "code",
      "metadata": {
        "id": "considered-certificate"
      },
      "source": [
        "%load_ext lab_black"
      ],
      "id": "considered-certificate",
      "execution_count": null,
      "outputs": []
    },
    {
      "cell_type": "markdown",
      "metadata": {
        "id": "acrUgH8wNVaj"
      },
      "source": [
        "### Factorial Example"
      ],
      "id": "acrUgH8wNVaj"
    },
    {
      "cell_type": "code",
      "metadata": {
        "id": "excess-villa"
      },
      "source": [
        "def imperative_factorial(value):\n",
        "    \"\"\"Calculates and returns factorial of a number\n",
        "\n",
        "    Parameters:\n",
        "    value(int): value to calculate factorial of\n",
        "\n",
        "    returns(int): final resulting factorial\n",
        "    \"\"\"\n",
        "    final_factorial = 1\n",
        "    for number in range(1,value+1):\n",
        "        final_factorial = number * final_factorial\n",
        "    return final_factorial"
      ],
      "id": "excess-villa",
      "execution_count": null,
      "outputs": []
    },
    {
      "cell_type": "markdown",
      "metadata": {
        "id": "Qj09cA_vMYje"
      },
      "source": [
        "**Note the assignment statements, variable final_factorial is being mutated every iteration**"
      ],
      "id": "Qj09cA_vMYje"
    },
    {
      "cell_type": "code",
      "metadata": {
        "colab": {
          "base_uri": "https://localhost:8080/"
        },
        "id": "ciofpr7FMk9A",
        "outputId": "93e19153-2607-454d-b749-42e7e0f10771"
      },
      "source": [
        "imperative_factorial(6)"
      ],
      "id": "ciofpr7FMk9A",
      "execution_count": null,
      "outputs": [
        {
          "output_type": "execute_result",
          "data": {
            "text/plain": [
              "720"
            ]
          },
          "metadata": {
            "tags": []
          },
          "execution_count": 17
        }
      ]
    },
    {
      "cell_type": "code",
      "metadata": {
        "id": "southeast-strengthening"
      },
      "source": [
        "def functional_factorial(value):\n",
        "    \"\"\"Calculates and returns factorial of a number\n",
        "\n",
        "    Parameters:\n",
        "    value(int): value to calculate factorial of\n",
        "\n",
        "    returns(int): final resulting factorial\n",
        "    \"\"\"\n",
        "    if value <= 1:\n",
        "        return 1\n",
        "    else:\n",
        "        return value * functional_factorial(value - 1)"
      ],
      "id": "southeast-strengthening",
      "execution_count": null,
      "outputs": []
    },
    {
      "cell_type": "markdown",
      "metadata": {
        "id": "8NiZzBqYNEVy"
      },
      "source": [
        "**In case of functional_factorial**\n",
        "* we can see that there is no assignment operator being used, which means there is no overwriting of variables happening.\n",
        "* Moreover, the code looks cleaner and simpler."
      ],
      "id": "8NiZzBqYNEVy"
    },
    {
      "cell_type": "code",
      "metadata": {
        "colab": {
          "base_uri": "https://localhost:8080/"
        },
        "id": "-7c3AEZ8NT5X",
        "outputId": "ca4a8b96-e201-4be5-b4b3-9e748b4ef406"
      },
      "source": [
        "functional_factorial(6)"
      ],
      "id": "-7c3AEZ8NT5X",
      "execution_count": null,
      "outputs": [
        {
          "output_type": "execute_result",
          "data": {
            "text/plain": [
              "720"
            ]
          },
          "metadata": {
            "tags": []
          },
          "execution_count": 18
        }
      ]
    },
    {
      "cell_type": "markdown",
      "metadata": {
        "id": "certain-ultimate"
      },
      "source": [
        "### Fibonacchi Numbers\n",
        "The Fibonacci numbers are the numbers in the following integer sequence.\n",
        "0, 1, 1, 2, 3, 5, 8, 13, 21, 34, 55, 89, 144, ……..\n",
        "\n",
        "where every nth term is a sum of previous two terms."
      ],
      "id": "certain-ultimate"
    },
    {
      "cell_type": "code",
      "metadata": {
        "id": "dramatic-sculpture"
      },
      "source": [
        "def imperative_fibonacchi(n_terms):\n",
        "    n1, n2 = 0, 1\n",
        "    count = 0\n",
        "    output = []\n",
        "    if n_terms == 1:\n",
        "        print(n1)\n",
        "    else:\n",
        "        while count < n_terms:\n",
        "            output.append(n1)\n",
        "            nth = n1 + n2\n",
        "            # update values\n",
        "            n1 = n2\n",
        "            n2 = nth\n",
        "            count += 1\n",
        "    print(output)"
      ],
      "id": "dramatic-sculpture",
      "execution_count": null,
      "outputs": []
    },
    {
      "cell_type": "code",
      "metadata": {
        "colab": {
          "base_uri": "https://localhost:8080/"
        },
        "id": "atlantic-celtic",
        "outputId": "fcd6ecc9-4c91-4fd1-a041-9b1c625a7f74"
      },
      "source": [
        "imperative_fibonacchi(7)"
      ],
      "id": "atlantic-celtic",
      "execution_count": null,
      "outputs": [
        {
          "output_type": "stream",
          "text": [
            "[0, 1, 1, 2, 3, 5, 8]\n"
          ],
          "name": "stdout"
        }
      ]
    },
    {
      "cell_type": "markdown",
      "metadata": {
        "id": "zAFhkuppY0zc"
      },
      "source": [
        "**Note the number of mutations and complexity of code**"
      ],
      "id": "zAFhkuppY0zc"
    },
    {
      "cell_type": "code",
      "metadata": {
        "id": "challenging-oriental"
      },
      "source": [
        "def functional_fibonacchi(n_terms):\n",
        "    if n_terms <= 1:\n",
        "        return n_terms\n",
        "    else:\n",
        "        return(functional_fibonacchi(n_terms-1) + functional_fibonacchi(n_terms-2))\n"
      ],
      "id": "challenging-oriental",
      "execution_count": null,
      "outputs": []
    },
    {
      "cell_type": "code",
      "metadata": {
        "colab": {
          "base_uri": "https://localhost:8080/"
        },
        "id": "broad-accent",
        "outputId": "9f07983b-9cee-4814-9e3a-4a7792ce3091"
      },
      "source": [
        "[functional_fibonacchi(i) for i in range(0,7)]"
      ],
      "id": "broad-accent",
      "execution_count": null,
      "outputs": [
        {
          "output_type": "execute_result",
          "data": {
            "text/plain": [
              "[0, 1, 1, 2, 3, 5, 8]"
            ]
          },
          "metadata": {
            "tags": []
          },
          "execution_count": 22
        }
      ]
    },
    {
      "cell_type": "markdown",
      "metadata": {
        "id": "7NKRCtOeZJ55"
      },
      "source": [
        "**Note the simplistic nature of recursion**\n",
        "\n",
        "**No mutations are taking place**"
      ],
      "id": "7NKRCtOeZJ55"
    }
  ]
}