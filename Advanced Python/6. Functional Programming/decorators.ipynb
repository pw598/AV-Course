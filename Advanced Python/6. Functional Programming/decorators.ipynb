{
  "nbformat": 4,
  "nbformat_minor": 0,
  "metadata": {
    "colab": {
      "name": "decorators",
      "provenance": []
    },
    "kernelspec": {
      "name": "python3",
      "display_name": "Python 3"
    },
    "language_info": {
      "name": "python"
    }
  },
  "cells": [
    {
      "cell_type": "markdown",
      "metadata": {
        "id": "CpGrqJI0z4pE"
      },
      "source": [
        "##Decorators"
      ]
    },
    {
      "cell_type": "code",
      "metadata": {
        "id": "0Lp2zXdS1Tht"
      },
      "source": [
        "%load_ext lab_black"
      ],
      "execution_count": null,
      "outputs": []
    },
    {
      "cell_type": "markdown",
      "metadata": {
        "id": "S04lAdFzz8rt"
      },
      "source": [
        "###Syntax implementation"
      ]
    },
    {
      "cell_type": "code",
      "metadata": {
        "id": "-fpci9z2z6__"
      },
      "source": [
        "def decorator_function(existing_function):\n",
        "  def wrapper_function():\n",
        "    print(\"Doing something before existing function\")\n",
        "    existing_function()\n",
        "    print(\"Doing something after existing function\")\n",
        "  return wrapper_function"
      ],
      "execution_count": null,
      "outputs": []
    },
    {
      "cell_type": "markdown",
      "metadata": {
        "id": "dLSfOcku17et"
      },
      "source": [
        "### Decorating a simple function"
      ]
    },
    {
      "cell_type": "markdown",
      "metadata": {
        "id": "9SNXIxq9Dw3n"
      },
      "source": [
        "#### Method 1"
      ]
    },
    {
      "cell_type": "markdown",
      "metadata": {
        "id": "gDMg8QDv8Hg2"
      },
      "source": [
        "This method is used when we are trying to decorate a predefined function. **This does not change the existing function**"
      ]
    },
    {
      "cell_type": "code",
      "metadata": {
        "id": "VaPdq_os1Xyw"
      },
      "source": [
        "def speak():\n",
        "  print(\"*****Python is pretty easy to learn*****\")"
      ],
      "execution_count": null,
      "outputs": []
    },
    {
      "cell_type": "code",
      "metadata": {
        "id": "yIW86taf2Lr_",
        "colab": {
          "base_uri": "https://localhost:8080/"
        },
        "outputId": "a73d12b5-841b-4931-e4c6-778e95160c7d"
      },
      "source": [
        "resultant_function = decorator_function(speak)\n",
        "\n",
        "resultant_function()"
      ],
      "execution_count": null,
      "outputs": [
        {
          "output_type": "stream",
          "text": [
            "Doing something before existing function\n",
            "*****Python is pretty easy to learn*****\n",
            "Doing something after existing function\n"
          ],
          "name": "stdout"
        }
      ]
    },
    {
      "cell_type": "markdown",
      "metadata": {
        "id": "rcjtW9nz3f0Y"
      },
      "source": [
        "#### Method 2"
      ]
    },
    {
      "cell_type": "markdown",
      "metadata": {
        "id": "2Gs3YCGEDjbU"
      },
      "source": [
        "Decorating and calling the predefined function on the go. **This does not change the existing function**"
      ]
    },
    {
      "cell_type": "code",
      "metadata": {
        "id": "YYB9YVLLDWDi",
        "colab": {
          "base_uri": "https://localhost:8080/"
        },
        "outputId": "d6a13216-7a63-4967-f928-e73888c19024"
      },
      "source": [
        "decorator_function(speak)()"
      ],
      "execution_count": null,
      "outputs": [
        {
          "output_type": "stream",
          "text": [
            "Doing something before existing function\n",
            "*****Python is pretty easy to learn*****\n",
            "Doing something after existing function\n"
          ],
          "name": "stdout"
        }
      ]
    },
    {
      "cell_type": "markdown",
      "metadata": {
        "id": "hF3vOwJ_DWfk"
      },
      "source": [
        "#### Method 3"
      ]
    },
    {
      "cell_type": "markdown",
      "metadata": {
        "id": "8uZb8Z-6D-fu"
      },
      "source": [
        "Decorating the definition of a function. **This adds to the existing function**"
      ]
    },
    {
      "cell_type": "code",
      "metadata": {
        "id": "OEhZMjFK2qO_",
        "colab": {
          "base_uri": "https://localhost:8080/"
        },
        "outputId": "701342d1-5d1d-4cd1-f911-4c39b778a13c"
      },
      "source": [
        "@decorator_function\n",
        "def speak():\n",
        "  print(\"*****Python is pretty easy to learn*****\")\n",
        "  return\n",
        "\n",
        "speak()"
      ],
      "execution_count": null,
      "outputs": [
        {
          "output_type": "stream",
          "text": [
            "Doing something before existing function\n",
            "*****Python is pretty easy to learn*****\n",
            "Doing something after existing function\n"
          ],
          "name": "stdout"
        }
      ]
    },
    {
      "cell_type": "markdown",
      "metadata": {
        "id": "AoppMIF035V9"
      },
      "source": [
        "### Decorating functions with parameters"
      ]
    },
    {
      "cell_type": "markdown",
      "metadata": {
        "id": "kDKHAiOzFaCv"
      },
      "source": [
        "**Note the aguements in wrapper function**"
      ]
    },
    {
      "cell_type": "code",
      "metadata": {
        "id": "oNw7vZm-FQA_"
      },
      "source": [
        "def greet(name):\n",
        "  print(\"Hey {}, Python is easy to learn\".format(name))\n",
        "\n",
        "\n",
        "def decorator_function(existing_function):\n",
        "  def wrapper_function(*params):\n",
        "    print(\"Doing something before existing function\")\n",
        "    existing_function(*params)\n",
        "    print(\"Doing something after existing function\")\n",
        "  return wrapper_function"
      ],
      "execution_count": null,
      "outputs": []
    },
    {
      "cell_type": "markdown",
      "metadata": {
        "id": "Gv-erTElEPxK"
      },
      "source": [
        "#### Method 1\n",
        "\n",
        "pre-existing function with parameters. "
      ]
    },
    {
      "cell_type": "code",
      "metadata": {
        "id": "Cj-jcEJMEfse",
        "colab": {
          "base_uri": "https://localhost:8080/"
        },
        "outputId": "e3a24be0-7d79-4204-b1cb-578d94375c73"
      },
      "source": [
        "resultant_function = decorator_function(greet)\n",
        "\n",
        "resultant_function(\"Aishwarya\")"
      ],
      "execution_count": null,
      "outputs": [
        {
          "output_type": "stream",
          "text": [
            "Doing something before existing function\n",
            "Hey Aishwarya, Python is easy to learn\n",
            "Doing something after existing function\n"
          ],
          "name": "stdout"
        }
      ]
    },
    {
      "cell_type": "markdown",
      "metadata": {
        "id": "KOQZlEUKFjsP"
      },
      "source": [
        "#### Method 2"
      ]
    },
    {
      "cell_type": "markdown",
      "metadata": {
        "id": "-xqlZweEFnK-"
      },
      "source": [
        "Decorating and calling function on the go.\n",
        "\n",
        "Syntax:\n",
        "\n",
        "*decorator_name(function_to_be_decorated)(parameters_expected)*"
      ]
    },
    {
      "cell_type": "code",
      "metadata": {
        "id": "vKf7T46EFm4e",
        "colab": {
          "base_uri": "https://localhost:8080/"
        },
        "outputId": "4676bba3-a45a-4112-9216-861105811c68"
      },
      "source": [
        "decorator_function(greet)(\"Aishwarya\")"
      ],
      "execution_count": null,
      "outputs": [
        {
          "output_type": "stream",
          "text": [
            "Doing something before existing function\n",
            "Hey Aishwarya, Python is easy to learn\n",
            "Doing something after existing function\n"
          ],
          "name": "stdout"
        }
      ]
    },
    {
      "cell_type": "markdown",
      "metadata": {
        "id": "eVvdNIeAGJlf"
      },
      "source": [
        "#### Method 3"
      ]
    },
    {
      "cell_type": "markdown",
      "metadata": {
        "id": "w4W-SxaMGWqw"
      },
      "source": [
        "Decorating the definition of a function with parameters."
      ]
    },
    {
      "cell_type": "code",
      "metadata": {
        "id": "Q7RUzxRD3tF0"
      },
      "source": [
        "def decorator_function(existing_function):\n",
        "  def wrapper_function(*params):\n",
        "    print(\"Doing something before existing function\")\n",
        "    existing_function(*params)\n",
        "    print(\"Doing something after existing function\")\n",
        "  return wrapper_function"
      ],
      "execution_count": null,
      "outputs": []
    },
    {
      "cell_type": "code",
      "metadata": {
        "id": "s_F-sbAi4J1F",
        "colab": {
          "base_uri": "https://localhost:8080/"
        },
        "outputId": "5795c41b-2d6c-411d-da05-bde8ffb6d56e"
      },
      "source": [
        "# Method 1\n",
        "@decorator_function\n",
        "def greet(name):\n",
        "  print(\"Hey {}, Python is easy to learn\".format(name))\n",
        "\n",
        "greet(\"Aishwarya\")"
      ],
      "execution_count": null,
      "outputs": [
        {
          "output_type": "stream",
          "text": [
            "Doing something before existing function\n",
            "Hey Aishwarya, Python is easy to learn\n",
            "Doing something after existing function\n"
          ],
          "name": "stdout"
        }
      ]
    },
    {
      "cell_type": "code",
      "metadata": {
        "id": "F7VZHBAe78ho"
      },
      "source": [
        ""
      ],
      "execution_count": null,
      "outputs": []
    }
  ]
}