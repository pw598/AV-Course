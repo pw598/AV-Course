{
  "nbformat": 4,
  "nbformat_minor": 5,
  "metadata": {
    "kernelspec": {
      "display_name": "Python 3",
      "language": "python",
      "name": "python3"
    },
    "language_info": {
      "codemirror_mode": {
        "name": "ipython",
        "version": 3
      },
      "file_extension": ".py",
      "mimetype": "text/x-python",
      "name": "python",
      "nbconvert_exporter": "python",
      "pygments_lexer": "ipython3",
      "version": "3.8.5"
    },
    "colab": {
      "name": "Computation graph.ipynb",
      "provenance": [],
      "collapsed_sections": []
    }
  },
  "cells": [
    {
      "cell_type": "markdown",
      "metadata": {
        "id": "associate-china"
      },
      "source": [
        "<img src=\"https://i.ibb.co/WPbQ756/graph.png\">\n"
      ],
      "id": "associate-china"
    },
    {
      "cell_type": "code",
      "metadata": {
        "id": "suspended-witness",
        "outputId": "43d5f861-a0c2-4034-bf4e-fbeefab26a7c"
      },
      "source": [
        "%load_ext lab_black"
      ],
      "id": "suspended-witness",
      "execution_count": null,
      "outputs": [
        {
          "output_type": "stream",
          "text": [
            "The lab_black extension is already loaded. To reload it, use:\n",
            "  %reload_ext lab_black\n"
          ],
          "name": "stdout"
        }
      ]
    },
    {
      "cell_type": "markdown",
      "metadata": {
        "id": "rural-registration"
      },
      "source": [
        "### Defining fundamental operations"
      ],
      "id": "rural-registration"
    },
    {
      "cell_type": "code",
      "metadata": {
        "id": "square-salad"
      },
      "source": [
        "def adder(a, b):\n",
        "    return a + b"
      ],
      "id": "square-salad",
      "execution_count": null,
      "outputs": []
    },
    {
      "cell_type": "code",
      "metadata": {
        "id": "located-password"
      },
      "source": [
        "def divider(a, b):\n",
        "    return a / b"
      ],
      "id": "located-password",
      "execution_count": null,
      "outputs": []
    },
    {
      "cell_type": "code",
      "metadata": {
        "id": "baking-lloyd"
      },
      "source": [
        "def subtractor(a, b):\n",
        "    return a - b"
      ],
      "id": "baking-lloyd",
      "execution_count": null,
      "outputs": []
    },
    {
      "cell_type": "code",
      "metadata": {
        "id": "lonely-tomato"
      },
      "source": [
        "def multiplier(a, b):\n",
        "    return a * b"
      ],
      "id": "lonely-tomato",
      "execution_count": null,
      "outputs": []
    },
    {
      "cell_type": "code",
      "metadata": {
        "id": "flying-pointer"
      },
      "source": [
        "def sqrt(a):\n",
        "    return a ** (0.5)"
      ],
      "id": "flying-pointer",
      "execution_count": null,
      "outputs": []
    },
    {
      "cell_type": "markdown",
      "metadata": {
        "id": "invalid-teaching"
      },
      "source": [
        "### Constructing operation specific to Herons Formula"
      ],
      "id": "invalid-teaching"
    },
    {
      "cell_type": "code",
      "metadata": {
        "id": "apparent-despite"
      },
      "source": [
        "from functools import reduce, partial"
      ],
      "id": "apparent-despite",
      "execution_count": null,
      "outputs": []
    },
    {
      "cell_type": "code",
      "metadata": {
        "id": "engaged-ordinance"
      },
      "source": [
        "def heron_adder(*values):\n",
        "  \"\"\"Can sum any number of values (3 in case of Heron's formula)\"\"\"\n",
        "    return reduce(adder, values)"
      ],
      "id": "engaged-ordinance",
      "execution_count": null,
      "outputs": []
    },
    {
      "cell_type": "code",
      "metadata": {
        "id": "patient-death"
      },
      "source": [
        "def heron_multiplier(values):\n",
        "    \"\"\"Can multiply any number of values (4 in case of Heron's formula)\"\"\"\n",
        "    return reduce(multiplier, values)"
      ],
      "id": "patient-death",
      "execution_count": null,
      "outputs": []
    },
    {
      "cell_type": "markdown",
      "metadata": {
        "id": "electronic-majority"
      },
      "source": [
        "### Function to perform Heron's Formula"
      ],
      "id": "electronic-majority"
    },
    {
      "cell_type": "code",
      "metadata": {
        "id": "concerned-english"
      },
      "source": [
        "def herons_formula(a, b, c):\n",
        "    \"\"\"Computes area of triangle using heron's formula\n",
        "\n",
        "    Parameters:\n",
        "    a(float): first side of a triangle\n",
        "    b(float): second side of a triangle\n",
        "    c(float): third side of a triangle\n",
        "\n",
        "    returns(float): area of triangle\n",
        "    \"\"\"\n",
        "    semi_perimeter = divider(heron_adder(a, b, c), 2)\n",
        "    a_difference = subtractor(semi_perimeter, a)\n",
        "    b_difference = subtractor(semi_perimeter, b)\n",
        "    c_difference = subtractor(semi_perimeter, c)\n",
        "    insider_product = heron_multiplier([a_difference, b_difference, c_difference, semi_perimeter])\n",
        "    final_area = sqrt(insider_product)\n",
        "    return final_area"
      ],
      "id": "concerned-english",
      "execution_count": null,
      "outputs": []
    },
    {
      "cell_type": "code",
      "metadata": {
        "id": "bulgarian-colony",
        "outputId": "e51dc0da-b90f-4fe4-b98e-340659cfcf38"
      },
      "source": [
        "herons_formula(3, 4, 5)"
      ],
      "id": "bulgarian-colony",
      "execution_count": null,
      "outputs": [
        {
          "output_type": "execute_result",
          "data": {
            "text/plain": [
              "6.0"
            ]
          },
          "metadata": {
            "tags": []
          },
          "execution_count": 24
        }
      ]
    }
  ]
}