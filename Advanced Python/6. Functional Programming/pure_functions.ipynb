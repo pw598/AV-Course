{
  "nbformat": 4,
  "nbformat_minor": 5,
  "metadata": {
    "kernelspec": {
      "display_name": "Python 3",
      "language": "python",
      "name": "python3"
    },
    "language_info": {
      "codemirror_mode": {
        "name": "ipython",
        "version": 3
      },
      "file_extension": ".py",
      "mimetype": "text/x-python",
      "name": "python",
      "nbconvert_exporter": "python",
      "pygments_lexer": "ipython3",
      "version": "3.8.5"
    },
    "colab": {
      "name": "pure_functions.ipynb",
      "provenance": [],
      "collapsed_sections": [
        "WG0TI1M4C8V0"
      ]
    }
  },
  "cells": [
    {
      "cell_type": "markdown",
      "metadata": {
        "id": "WG0TI1M4C8V0"
      },
      "source": [
        "## Pure Functions"
      ],
      "id": "WG0TI1M4C8V0"
    },
    {
      "cell_type": "code",
      "metadata": {
        "id": "authorized-spelling"
      },
      "source": [
        "%load_ext lab_black"
      ],
      "id": "authorized-spelling",
      "execution_count": null,
      "outputs": []
    },
    {
      "cell_type": "code",
      "metadata": {
        "id": "5LeWbyiKEFIp"
      },
      "source": [
        "iterable = [1, 2, 3, 4]"
      ],
      "id": "5LeWbyiKEFIp",
      "execution_count": null,
      "outputs": []
    },
    {
      "cell_type": "code",
      "metadata": {
        "colab": {
          "base_uri": "https://localhost:8080/"
        },
        "id": "protective-houston",
        "outputId": "b339d2e6-721c-4094-fcdc-943d366b4759"
      },
      "source": [
        "def impure_function(iterable):\n",
        "    \"\"\"Bad function that mutates the input parameter\"\"\"\n",
        "    iterable.append(\"mutation\")\n",
        "\n",
        "\n",
        "impure_function(iterable)\n",
        "iterable"
      ],
      "id": "protective-houston",
      "execution_count": null,
      "outputs": [
        {
          "output_type": "execute_result",
          "data": {
            "text/plain": [
              "[1, 2, 3, 4, 'mutation', 'mutation', 'mutation', 'mutation', 'mutation']"
            ]
          },
          "metadata": {
            "tags": []
          },
          "execution_count": 24
        }
      ]
    },
    {
      "cell_type": "markdown",
      "metadata": {
        "id": "ZdaooZ5UDGby"
      },
      "source": [
        "**In the above code**\n",
        "\n",
        "We can see that if we run the function several number of times, the output would come out to be different, since the function is mutating the parameter passed to it.\n",
        "\n",
        "**What we can do?**\n",
        "\n",
        "Let's avoid passing the parameter to function and avoid mutation of the iterable."
      ],
      "id": "ZdaooZ5UDGby"
    },
    {
      "cell_type": "code",
      "metadata": {
        "id": "bftc2jKnFnxa"
      },
      "source": [
        "iterable = [1, 2, 3, 4]"
      ],
      "id": "bftc2jKnFnxa",
      "execution_count": null,
      "outputs": []
    },
    {
      "cell_type": "code",
      "metadata": {
        "colab": {
          "base_uri": "https://localhost:8080/"
        },
        "id": "roman-yemen",
        "outputId": "9bc84273-bc48-47c5-ca1f-a3e5757916b5"
      },
      "source": [
        "def pure_function():\n",
        "    \"\"\"Function that avoids mutation of input parameters\"\"\"\n",
        "    new_list = iterable[:]\n",
        "    new_list.append(\"mutation\")\n",
        "    return new_list\n",
        "\n",
        "\n",
        "iterable, pure_function()"
      ],
      "id": "roman-yemen",
      "execution_count": null,
      "outputs": [
        {
          "output_type": "execute_result",
          "data": {
            "text/plain": [
              "([1, 2, 3, 4], [1, 2, 3, 4, 'mutation'])"
            ]
          },
          "metadata": {
            "tags": []
          },
          "execution_count": 36
        }
      ]
    },
    {
      "cell_type": "markdown",
      "metadata": {
        "id": "15ehSG9DF2XC"
      },
      "source": [
        "**The above code does not mutate the imput parameter and the result is same everytime the fuction is run**\n",
        "\n",
        "**But function is still accessing the iterable which is defined outside the function boundaries**"
      ],
      "id": "15ehSG9DF2XC"
    },
    {
      "cell_type": "code",
      "metadata": {
        "id": "Ko6j9BjXGOec"
      },
      "source": [
        "iterable = [1, 2, 3, 4]"
      ],
      "id": "Ko6j9BjXGOec",
      "execution_count": null,
      "outputs": []
    },
    {
      "cell_type": "code",
      "metadata": {
        "id": "secret-portland",
        "outputId": "55ef7a8f-4475-4488-a6a5-de7f8ae74a3b"
      },
      "source": [
        "def actual_pure_function(iterable):\n",
        "    \"\"\"A function that avoids muatation of input parameter, works within the function\"\"\"\n",
        "    new_list = iterable[:]\n",
        "    new_list.append(\"mutation\")\n",
        "\n",
        "\n",
        "iterable, actual_pure_function(iterable)"
      ],
      "id": "secret-portland",
      "execution_count": null,
      "outputs": [
        {
          "output_type": "execute_result",
          "data": {
            "text/plain": [
              "[1, 2, 3, 4]"
            ]
          },
          "metadata": {
            "tags": []
          },
          "execution_count": 16
        }
      ]
    },
    {
      "cell_type": "markdown",
      "metadata": {
        "id": "FnJLRX4-Icj9"
      },
      "source": [
        "This function only works with what is being given to that function, Moreover, it does not mutate the input parameters."
      ],
      "id": "FnJLRX4-Icj9"
    }
  ]
}