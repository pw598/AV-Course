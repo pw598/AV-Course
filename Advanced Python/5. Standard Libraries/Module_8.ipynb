{
  "nbformat": 4,
  "nbformat_minor": 0,
  "metadata": {
    "colab": {
      "name": "Module 8.ipynb",
      "provenance": [],
      "collapsed_sections": []
    },
    "kernelspec": {
      "name": "python3",
      "display_name": "Python 3"
    }
  },
  "cells": [
    {
      "cell_type": "markdown",
      "metadata": {
        "id": "gYcZkRu9PQoy"
      },
      "source": [
        "### Procedural Programming"
      ]
    },
    {
      "cell_type": "code",
      "metadata": {
        "id": "uzb2jGjPPQFF"
      },
      "source": [
        "salary = [50000,  30000,  35000,  20000]"
      ],
      "execution_count": null,
      "outputs": []
    },
    {
      "cell_type": "code",
      "metadata": {
        "colab": {
          "base_uri": "https://localhost:8080/"
        },
        "id": "xa23NO5aO_5K",
        "outputId": "d934e546-5523-4116-9fac-a04e784c7132"
      },
      "source": [
        "salary_sum = 0\n",
        "for x in salary:\n",
        "  salary_sum += x\n",
        "\n",
        "print(salary_sum)"
      ],
      "execution_count": null,
      "outputs": [
        {
          "output_type": "stream",
          "text": [
            "135000\n"
          ],
          "name": "stdout"
        }
      ]
    },
    {
      "cell_type": "markdown",
      "metadata": {
        "id": "YdEFRIzNQ2F5"
      },
      "source": [
        "### Functional Programming"
      ]
    },
    {
      "cell_type": "code",
      "metadata": {
        "id": "FSqiQmuhQD13",
        "colab": {
          "base_uri": "https://localhost:8080/"
        },
        "outputId": "79cd78e2-fe35-4843-cb4c-57a1eb917dcb"
      },
      "source": [
        "import functools\n",
        "\n",
        "salary = [50000,  30000,  35000,  20000]\n",
        "\n",
        "salary_sum = functools.reduce(lambda x, y: x + y, salary)\n",
        "\n",
        "print(salary_sum)"
      ],
      "execution_count": null,
      "outputs": [
        {
          "output_type": "stream",
          "text": [
            "135000\n"
          ],
          "name": "stdout"
        }
      ]
    },
    {
      "cell_type": "code",
      "metadata": {
        "id": "om7SicpJgJ3j"
      },
      "source": [
        "def calc_sum(a,b):\n",
        "  return a+b\n",
        "\n",
        "\n",
        "def cal_product(a,b):\n",
        "  return a*b\n",
        "\n",
        "\n",
        "def calc_adiff(a,b):\n",
        "  return abs(a-b)"
      ],
      "execution_count": null,
      "outputs": []
    },
    {
      "cell_type": "code",
      "metadata": {
        "id": "Uj3QCzZoherw"
      },
      "source": [
        "def Cal_Herons(s,a,b,c):\n",
        "  \n",
        "  \n",
        "  return\n"
      ],
      "execution_count": null,
      "outputs": []
    },
    {
      "cell_type": "code",
      "metadata": {
        "id": "Eihv4h_whKSb"
      },
      "source": [
        ""
      ],
      "execution_count": null,
      "outputs": []
    },
    {
      "cell_type": "markdown",
      "metadata": {
        "id": "aZZO21zRYKoJ"
      },
      "source": [
        "### Object Oriented Programming"
      ]
    },
    {
      "cell_type": "code",
      "metadata": {
        "id": "YrHzO4-ASv0d"
      },
      "source": [
        "class ListOperations:\n",
        "   def __init__(self, salary_list):\n",
        "      self.salary_list = salary_list\n",
        "\n",
        "   def add_values(self):\n",
        "      return sum(self.salary_list)"
      ],
      "execution_count": null,
      "outputs": []
    },
    {
      "cell_type": "code",
      "metadata": {
        "id": "aE7xZyqzYPf-"
      },
      "source": [
        "salary = [50000,  30000,  35000,  20000]"
      ],
      "execution_count": null,
      "outputs": []
    },
    {
      "cell_type": "code",
      "metadata": {
        "id": "vCTE_YWuZ506"
      },
      "source": [
        "sum_values = ListOperations(salary)\n",
        "sum_values.add_values()"
      ],
      "execution_count": null,
      "outputs": []
    },
    {
      "cell_type": "code",
      "metadata": {
        "id": "XL5u08KAZ6cR"
      },
      "source": [
        ""
      ],
      "execution_count": null,
      "outputs": []
    }
  ]
}