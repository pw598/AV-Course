{
 "cells": [
  {
   "cell_type": "markdown",
   "metadata": {
    "id": "3DuZXt_nkCo5"
   },
   "source": [
    "# Lemmatization in spaCy"
   ]
  },
  {
   "cell_type": "code",
   "execution_count": null,
   "metadata": {
    "id": "XE244nhmkCo7"
   },
   "outputs": [],
   "source": [
    "# Defining the string\n",
    "text=\"The sky is clear and the stars are twinkling.\""
   ]
  },
  {
   "cell_type": "code",
   "execution_count": null,
   "metadata": {
    "id": "YYEvC2bAkCpF"
   },
   "outputs": [],
   "source": [
    "import spacy"
   ]
  },
  {
   "cell_type": "code",
   "execution_count": null,
   "metadata": {
    "id": "xh54WXLCkCpM"
   },
   "outputs": [],
   "source": [
    "# Loading spacy model\n",
    "nlp=spacy.load('en_core_web_sm')"
   ]
  },
  {
   "cell_type": "code",
   "execution_count": null,
   "metadata": {
    "id": "6v42AYrMkCpU"
   },
   "outputs": [],
   "source": [
    "# Creating doc object\n",
    "doc=nlp(text)"
   ]
  },
  {
   "cell_type": "code",
   "execution_count": null,
   "metadata": {
    "colab": {
     "base_uri": "https://localhost:8080/"
    },
    "id": "vZjxGGdtkCpc",
    "outputId": "a025fb8c-1c1e-48b7-c194-0873a52777a8"
   },
   "outputs": [
    {
     "data": {
      "text/plain": [
       "[('The', 'the'),\n",
       " ('sky', 'sky'),\n",
       " ('is', 'be'),\n",
       " ('clear', 'clear'),\n",
       " ('and', 'and'),\n",
       " ('the', 'the'),\n",
       " ('stars', 'star'),\n",
       " ('are', 'be'),\n",
       " ('twinkling', 'twinkle'),\n",
       " ('.', '.')]"
      ]
     },
     "execution_count": 5,
     "metadata": {},
     "output_type": "execute_result"
    }
   ],
   "source": [
    "# Lemmatizing the text\n",
    "[(token.text,token.lemma_) for token in doc]"
   ]
  },
  {
   "cell_type": "code",
   "execution_count": null,
   "metadata": {
    "colab": {
     "base_uri": "https://localhost:8080/"
    },
    "id": "GKv3PEmKkCpk",
    "outputId": "0eaf3a46-a1ea-4c8b-f650-eda02a9375fd"
   },
   "outputs": [
    {
     "data": {
      "text/plain": [
       "[('The', 'the'),\n",
       " ('moon', 'moon'),\n",
       " ('looks', 'look'),\n",
       " ('beautiful', 'beautiful'),\n",
       " ('at', 'at'),\n",
       " ('night', 'night'),\n",
       " ('.', '.'),\n",
       " ('It', 'it'),\n",
       " (\"'s\", 'be'),\n",
       " ('hard', 'hard'),\n",
       " ('to', 'to'),\n",
       " ('resist', 'resist'),\n",
       " ('its', 'its'),\n",
       " ('beauty', 'beauty'),\n",
       " ('.', '.')]"
      ]
     },
     "execution_count": 6,
     "metadata": {},
     "output_type": "execute_result"
    }
   ],
   "source": [
    "text=\"The moon looks beautiful at night. It's hard to resist its beauty.\"\n",
    "\n",
    "# Creating doc object\n",
    "doc=nlp(text)\n",
    "\n",
    "# Lemmatizing the text\n",
    "[(token.text,token.lemma_) for token in doc]"
   ]
  },
  {
   "cell_type": "code",
   "execution_count": null,
   "metadata": {
    "id": "yT-SVRVGIS2m"
   },
   "outputs": [],
   "source": [
    "with open('switzerland.txt', 'r') as f:\n",
    "  content = f.read()"
   ]
  },
  {
   "cell_type": "code",
   "execution_count": null,
   "metadata": {
    "id": "WOyjX9LG1HGU"
   },
   "outputs": [],
   "source": [
    "content"
   ]
  },
  {
   "cell_type": "code",
   "execution_count": null,
   "metadata": {
    "id": "jXhDPtyA1ILy"
   },
   "outputs": [],
   "source": [
    "doc = nlp(content)"
   ]
  },
  {
   "cell_type": "code",
   "execution_count": null,
   "metadata": {
    "id": "sAKrh_vt1L3W"
   },
   "outputs": [],
   "source": [
    "[(token.text, token.lemma_) for token in doc]"
   ]
  },
  {
   "cell_type": "code",
   "execution_count": null,
   "metadata": {
    "id": "DmoZL1B01RgS"
   },
   "outputs": [],
   "source": []
  }
 ],
 "metadata": {
  "colab": {
   "provenance": []
  },
  "kernelspec": {
   "display_name": "Python 3 (ipykernel)",
   "language": "python",
   "name": "python3"
  },
  "language_info": {
   "codemirror_mode": {
    "name": "ipython",
    "version": 3
   },
   "file_extension": ".py",
   "mimetype": "text/x-python",
   "name": "python",
   "nbconvert_exporter": "python",
   "pygments_lexer": "ipython3",
   "version": "3.11.4"
  }
 },
 "nbformat": 4,
 "nbformat_minor": 4
}
