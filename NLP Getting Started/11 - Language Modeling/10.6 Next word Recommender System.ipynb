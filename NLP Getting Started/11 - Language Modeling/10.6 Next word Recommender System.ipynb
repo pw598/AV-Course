{
 "cells": [
  {
   "cell_type": "markdown",
   "metadata": {
    "colab_type": "text",
    "id": "YLY8P4_--fVu"
   },
   "source": [
    "## Steps to build the next word recommender system\n",
    "\n",
    "1. Loading and exploring the dataset\n",
    "2. Creating N-grams of the dialogue\n",
    "3. Building the N-gram Language Model\n",
    "4. Predicting the next word using N-gram Language Model"
   ]
  },
  {
   "cell_type": "markdown",
   "metadata": {
    "colab_type": "text",
    "id": "8TiUr03yo6ce"
   },
   "source": [
    "## 1. Loading and exploring the dataset"
   ]
  },
  {
   "cell_type": "code",
   "execution_count": 1,
   "metadata": {
    "colab": {},
    "colab_type": "code",
    "executionInfo": {
     "elapsed": 1047,
     "status": "ok",
     "timestamp": 1598706283506,
     "user": {
      "displayName": "Aishwarya Singh",
      "photoUrl": "https://lh3.googleusercontent.com/a-/AOh14GgeJwfn4BdBDCAplWi_kdtB9FRssOpXO7T_aMgg=s64",
      "userId": "01105858832371513140"
     },
     "user_tz": -330
    },
    "id": "p7C44E64-jZQ"
   },
   "outputs": [],
   "source": [
    "# loading the required libraries\n",
    "import pandas as pd\n",
    "import numpy as np\n",
    "import re\n",
    "import pickle\n",
    "import random\n",
    "from tqdm import tqdm"
   ]
  },
  {
   "cell_type": "code",
   "execution_count": 2,
   "metadata": {
    "colab": {
     "base_uri": "https://localhost:8080/",
     "height": 124
    },
    "colab_type": "code",
    "executionInfo": {
     "elapsed": 30161,
     "status": "ok",
     "timestamp": 1598706431003,
     "user": {
      "displayName": "Aishwarya Singh",
      "photoUrl": "https://lh3.googleusercontent.com/a-/AOh14GgeJwfn4BdBDCAplWi_kdtB9FRssOpXO7T_aMgg=s64",
      "userId": "01105858832371513140"
     },
     "user_tz": -330
    },
    "id": "Rg5Ewq_O_Hld",
    "outputId": "676f318a-fc22-4356-afa2-280ab2750db7"
   },
   "outputs": [
    {
     "name": "stdout",
     "output_type": "stream",
     "text": [
      "Go to this URL in a browser: https://accounts.google.com/o/oauth2/auth?client_id=947318989803-6bn6qk8qdgf4n4g3pfee6491hc0brc4i.apps.googleusercontent.com&redirect_uri=urn%3aietf%3awg%3aoauth%3a2.0%3aoob&scope=email%20https%3a%2f%2fwww.googleapis.com%2fauth%2fdocs.test%20https%3a%2f%2fwww.googleapis.com%2fauth%2fdrive%20https%3a%2f%2fwww.googleapis.com%2fauth%2fdrive.photos.readonly%20https%3a%2f%2fwww.googleapis.com%2fauth%2fpeopleapi.readonly&response_type=code\n",
      "\n",
      "Enter your authorization code:\n",
      "··········\n",
      "Mounted at /content/drive\n"
     ]
    }
   ],
   "source": [
    "# mounting the drive\n",
    "from google.colab import drive\n",
    "drive.mount('/content/drive')"
   ]
  },
  {
   "cell_type": "code",
   "execution_count": 3,
   "metadata": {
    "colab": {},
    "colab_type": "code",
    "executionInfo": {
     "elapsed": 1085,
     "status": "ok",
     "timestamp": 1598706613707,
     "user": {
      "displayName": "Aishwarya Singh",
      "photoUrl": "https://lh3.googleusercontent.com/a-/AOh14GgeJwfn4BdBDCAplWi_kdtB9FRssOpXO7T_aMgg=s64",
      "userId": "01105858832371513140"
     },
     "user_tz": -330
    },
    "id": "eozclI6Z-jV9"
   },
   "outputs": [],
   "source": [
    "# open text file and read in data\n",
    "with open(\"drive/My Drive/dialogs_dataset\", \"rb\") as f:\n",
    "    dialogs = pickle.load(f)"
   ]
  },
  {
   "cell_type": "code",
   "execution_count": 4,
   "metadata": {
    "colab": {
     "base_uri": "https://localhost:8080/",
     "height": 34
    },
    "colab_type": "code",
    "executionInfo": {
     "elapsed": 1180,
     "status": "ok",
     "timestamp": 1598706619558,
     "user": {
      "displayName": "Aishwarya Singh",
      "photoUrl": "https://lh3.googleusercontent.com/a-/AOh14GgeJwfn4BdBDCAplWi_kdtB9FRssOpXO7T_aMgg=s64",
      "userId": "01105858832371513140"
     },
     "user_tz": -330
    },
    "id": "a_cGRamP_xYL",
    "outputId": "1f431c1c-fe07-4e75-e8f4-b9c605615bf0"
   },
   "outputs": [
    {
     "data": {
      "text/plain": [
       "64776"
      ]
     },
     "execution_count": 4,
     "metadata": {
      "tags": []
     },
     "output_type": "execute_result"
    }
   ],
   "source": [
    "# number of text sequences\n",
    "len(dialogs)"
   ]
  },
  {
   "cell_type": "code",
   "execution_count": 5,
   "metadata": {
    "colab": {
     "base_uri": "https://localhost:8080/",
     "height": 191
    },
    "colab_type": "code",
    "executionInfo": {
     "elapsed": 1288,
     "status": "ok",
     "timestamp": 1598706632047,
     "user": {
      "displayName": "Aishwarya Singh",
      "photoUrl": "https://lh3.googleusercontent.com/a-/AOh14GgeJwfn4BdBDCAplWi_kdtB9FRssOpXO7T_aMgg=s64",
      "userId": "01105858832371513140"
     },
     "user_tz": -330
    },
    "id": "tE2YroM2_zqH",
    "outputId": "0723f33d-f170-44c3-d619-a6709498ef50"
   },
   "outputs": [
    {
     "data": {
      "text/plain": [
       "['What gets me there the fastest?',\n",
       " 'A Iced Starbucks Blonde flat white',\n",
       " ' So be it, it will do',\n",
       " \"No, I didn't like their work last time\",\n",
       " ' I’ll need two high chairs and four booster seats',\n",
       " \"We're feeling like some southern food I guess\",\n",
       " \"I think you should too! Plus I hear it's taster than the leading brand\",\n",
       " ' Make sure they are able to serve gluten free dishes',\n",
       " ' I guess we can do that',\n",
       " 'Ok, how about bacon?']"
      ]
     },
     "execution_count": 5,
     "metadata": {
      "tags": []
     },
     "output_type": "execute_result"
    }
   ],
   "source": [
    "# print 10 random dialogs\n",
    "random.sample(dialogs, 10)"
   ]
  },
  {
   "cell_type": "code",
   "execution_count": 6,
   "metadata": {
    "colab": {},
    "colab_type": "code",
    "executionInfo": {
     "elapsed": 2699,
     "status": "ok",
     "timestamp": 1598706695481,
     "user": {
      "displayName": "Aishwarya Singh",
      "photoUrl": "https://lh3.googleusercontent.com/a-/AOh14GgeJwfn4BdBDCAplWi_kdtB9FRssOpXO7T_aMgg=s64",
      "userId": "01105858832371513140"
     },
     "user_tz": -330
    },
    "id": "Vs74DQZy_-EM"
   },
   "outputs": [],
   "source": [
    "# text cleaning\n",
    "dialogs_clean = []\n",
    "\n",
    "for i in dialogs:\n",
    "  # remove everything except alphabets, ' and white spaces\n",
    "  i = re.sub(\"[^a-zA-Z' ]\", \"\", i)\n",
    "  # convert text to lowercase\n",
    "  i = i.lower()\n",
    "  # add cleaned text to the list\n",
    "  dialogs_clean.append(i)"
   ]
  },
  {
   "cell_type": "code",
   "execution_count": 7,
   "metadata": {
    "colab": {
     "base_uri": "https://localhost:8080/",
     "height": 191
    },
    "colab_type": "code",
    "executionInfo": {
     "elapsed": 1213,
     "status": "ok",
     "timestamp": 1598706698640,
     "user": {
      "displayName": "Aishwarya Singh",
      "photoUrl": "https://lh3.googleusercontent.com/a-/AOh14GgeJwfn4BdBDCAplWi_kdtB9FRssOpXO7T_aMgg=s64",
      "userId": "01105858832371513140"
     },
     "user_tz": -330
    },
    "id": "KSnSOUsT__a-",
    "outputId": "b47fd610-0036-4bd3-d5b9-63cc30104465"
   },
   "outputs": [
    {
     "data": {
      "text/plain": [
       "['that would be fine as well',\n",
       " 'well the tires keep losing air for one',\n",
       " 'ok can you deliver it ',\n",
       " ' can i get you to swing by and get me a coffee on the way back to the house please ',\n",
       " ' just wanted to be sure',\n",
       " 'hi i need to order a coffee',\n",
       " 'what are the price estimation for lux and xl compare together',\n",
       " 'no thats it',\n",
       " 'i am gonna to cancel this',\n",
       " ' that was the last thing']"
      ]
     },
     "execution_count": 7,
     "metadata": {
      "tags": []
     },
     "output_type": "execute_result"
    }
   ],
   "source": [
    "random.sample(dialogs_clean, 10)"
   ]
  },
  {
   "cell_type": "code",
   "execution_count": 8,
   "metadata": {
    "colab": {},
    "colab_type": "code",
    "executionInfo": {
     "elapsed": 1022,
     "status": "ok",
     "timestamp": 1598706787995,
     "user": {
      "displayName": "Aishwarya Singh",
      "photoUrl": "https://lh3.googleusercontent.com/a-/AOh14GgeJwfn4BdBDCAplWi_kdtB9FRssOpXO7T_aMgg=s64",
      "userId": "01105858832371513140"
     },
     "user_tz": -330
    },
    "id": "8WxrCVDitqbl"
   },
   "outputs": [],
   "source": [
    "# creating the vocabulary\n",
    "# get list of all the words\n",
    "all_words = \" \".join(dialogs_clean).split()\n",
    "\n",
    "words_dict = {}\n",
    "\n",
    "# add word-count pair to the dictionary\n",
    "for word in all_words:   \n",
    "    # check if the word is already in dictionary \n",
    "    if word in words_dict:\n",
    "        # increment count of word by 1 \n",
    "        words_dict[word] = words_dict[word] + 1\n",
    "    else:\n",
    "        # add the word to dictionary with count 1 \n",
    "        words_dict[word] = 1"
   ]
  },
  {
   "cell_type": "code",
   "execution_count": 9,
   "metadata": {
    "colab": {
     "base_uri": "https://localhost:8080/",
     "height": 1000
    },
    "colab_type": "code",
    "executionInfo": {
     "elapsed": 1065,
     "status": "ok",
     "timestamp": 1598706791694,
     "user": {
      "displayName": "Aishwarya Singh",
      "photoUrl": "https://lh3.googleusercontent.com/a-/AOh14GgeJwfn4BdBDCAplWi_kdtB9FRssOpXO7T_aMgg=s64",
      "userId": "01105858832371513140"
     },
     "user_tz": -330
    },
    "id": "jZOZ6AHrCEF2",
    "outputId": "c03322a3-b617-463e-ac5d-804695b4d4a8"
   },
   "outputs": [
    {
     "data": {
      "text/plain": [
       "{'hi': 1472,\n",
       " \"i'm\": 2042,\n",
       " 'looking': 490,\n",
       " 'to': 14000,\n",
       " 'book': 1218,\n",
       " 'a': 13380,\n",
       " 'table': 662,\n",
       " 'for': 7709,\n",
       " 'korean': 15,\n",
       " 'fod': 1,\n",
       " 'somewhere': 119,\n",
       " 'in': 4433,\n",
       " 'southern': 6,\n",
       " 'nyc': 16,\n",
       " 'maybe': 233,\n",
       " 'the': 15406,\n",
       " 'east': 46,\n",
       " 'village': 21,\n",
       " 'we': 1355,\n",
       " \"don't\": 786,\n",
       " 'want': 3408,\n",
       " 'sit': 134,\n",
       " 'at': 2851,\n",
       " 'bar': 197,\n",
       " 'but': 976,\n",
       " 'anywhere': 42,\n",
       " 'else': 335,\n",
       " 'is': 6936,\n",
       " 'fine': 1589,\n",
       " 'what': 3400,\n",
       " 'times': 334,\n",
       " 'are': 2175,\n",
       " 'available': 878,\n",
       " 'yikes': 6,\n",
       " \"can't\": 173,\n",
       " 'do': 3571,\n",
       " 'those': 305,\n",
       " 'let': 575,\n",
       " 'me': 5843,\n",
       " 'check': 533,\n",
       " 'great': 2262,\n",
       " \"let's\": 860,\n",
       " 'that': 8048,\n",
       " 'no': 4073,\n",
       " \"that's\": 2710,\n",
       " 'it': 7737,\n",
       " 'just': 2464,\n",
       " 'i': 19654,\n",
       " 'would': 4047,\n",
       " 'like': 5275,\n",
       " 'see': 1537,\n",
       " 'if': 1533,\n",
       " 'movie': 1097,\n",
       " 'men': 23,\n",
       " 'playing': 116,\n",
       " 'here': 368,\n",
       " 'yes': 4644,\n",
       " 'and': 6534,\n",
       " 'friend': 302,\n",
       " 'so': 2224,\n",
       " 'two': 1292,\n",
       " 'tickets': 1505,\n",
       " 'please': 4036,\n",
       " 'time': 1297,\n",
       " 'moving': 5,\n",
       " 'today': 818,\n",
       " 'about': 1511,\n",
       " 'oh': 954,\n",
       " 'can': 5653,\n",
       " 'you': 11909,\n",
       " 'recommend': 70,\n",
       " 'anything': 470,\n",
       " 'well': 1139,\n",
       " 'movies': 134,\n",
       " 'funny': 60,\n",
       " 'action': 28,\n",
       " 'as': 1583,\n",
       " 'okay': 1997,\n",
       " 'get': 3278,\n",
       " 'how': 2463,\n",
       " 'much': 2419,\n",
       " 'will': 3783,\n",
       " 'this': 1461,\n",
       " 'cost': 404,\n",
       " 'bring': 238,\n",
       " 'my': 4445,\n",
       " 'own': 54,\n",
       " 'food': 320,\n",
       " 'theater': 377,\n",
       " 'watch': 176,\n",
       " 'avengers': 24,\n",
       " 'endgame': 9,\n",
       " 'bangkok': 3,\n",
       " 'close': 206,\n",
       " 'hotel': 126,\n",
       " 'currently': 58,\n",
       " 'staying': 25,\n",
       " 'another': 258,\n",
       " 'then': 1368,\n",
       " 'train': 56,\n",
       " 'your': 1076,\n",
       " 'dragon': 51,\n",
       " 'one': 2553,\n",
       " 'neither': 7,\n",
       " 'choices': 52,\n",
       " 'am': 1220,\n",
       " 'longer': 26,\n",
       " 'interested': 55,\n",
       " 'watching': 19,\n",
       " 'order': 3939,\n",
       " 'pizza': 3354,\n",
       " 'from': 2226,\n",
       " 'bertuccis': 4,\n",
       " 'chelmsford': 1,\n",
       " 'ma': 11,\n",
       " 'large': 1272,\n",
       " 'sporkie': 1,\n",
       " 'thank': 3637,\n",
       " \"i'd\": 1888,\n",
       " 'pizzas': 353,\n",
       " \"i'll\": 1582,\n",
       " 'have': 4649,\n",
       " 'hawaiian': 87,\n",
       " 'meat': 168,\n",
       " 'lover': 9,\n",
       " 'buffalo': 61,\n",
       " 'chicken': 268,\n",
       " 'hand': 104,\n",
       " 'tossed': 74,\n",
       " 'also': 683,\n",
       " \"it's\": 1073,\n",
       " 'john': 92,\n",
       " 'doe': 14,\n",
       " 'hey': 1124,\n",
       " 'chuck': 5,\n",
       " 'hop': 4,\n",
       " 'online': 125,\n",
       " 'latte': 567,\n",
       " 'starbucks': 1196,\n",
       " 'make': 1852,\n",
       " 'stop': 98,\n",
       " 'there': 2125,\n",
       " 'on': 3054,\n",
       " 'way': 383,\n",
       " 'back': 376,\n",
       " 'russell': 2,\n",
       " 'invest': 1,\n",
       " 'grab': 82,\n",
       " 'out': 808,\n",
       " 'pick': 832,\n",
       " 'up': 1520,\n",
       " 'before': 287,\n",
       " 'head': 64,\n",
       " 'into': 166,\n",
       " 'light': 253,\n",
       " 'rail': 2,\n",
       " 'station': 38,\n",
       " 'really': 780,\n",
       " 'need': 3679,\n",
       " 'cut': 30,\n",
       " 'down': 189,\n",
       " 'calories': 43,\n",
       " 'go': 2002,\n",
       " 'with': 3361,\n",
       " 'standard': 133,\n",
       " 'cafe': 122,\n",
       " 'tall': 146,\n",
       " 'be': 3919,\n",
       " 'ordered': 52,\n",
       " 'venti': 296,\n",
       " 'last': 157,\n",
       " 'week': 95,\n",
       " 'regretted': 1,\n",
       " 'four': 165,\n",
       " \"o'clock\": 9,\n",
       " 'awake': 3,\n",
       " 'almond': 332,\n",
       " \"i've\": 197,\n",
       " 'been': 277,\n",
       " 'lately': 19,\n",
       " 'keep': 103,\n",
       " 'plain': 44,\n",
       " 'still': 171,\n",
       " 'holidays': 2,\n",
       " 'walk': 37,\n",
       " 'off': 337,\n",
       " 'wanna': 70,\n",
       " 'carbon': 1,\n",
       " 'footprint': 1,\n",
       " 'over': 219,\n",
       " 'plant': 1,\n",
       " 'backside': 1,\n",
       " \"you're\": 217,\n",
       " 'incredibly': 2,\n",
       " 'unhelpful': 1,\n",
       " 'wellintentioned': 1,\n",
       " 'alright': 293,\n",
       " 'thing': 114,\n",
       " 'use': 437,\n",
       " 'expense': 5,\n",
       " 'account': 375,\n",
       " 'very': 520,\n",
       " 'good': 1976,\n",
       " 'sir': 19,\n",
       " 'page': 7,\n",
       " 'open': 130,\n",
       " 'tell': 476,\n",
       " 'calorie': 1,\n",
       " 'count': 7,\n",
       " 'had': 126,\n",
       " 'add': 659,\n",
       " 'little': 251,\n",
       " 'detail': 10,\n",
       " \"didn't\": 56,\n",
       " 'something': 649,\n",
       " 'bosses': 10,\n",
       " 'put': 372,\n",
       " 'an': 3118,\n",
       " 'small': 154,\n",
       " 'thin': 189,\n",
       " 'crust': 489,\n",
       " 'black': 408,\n",
       " 'olives': 285,\n",
       " 'pepperoni': 749,\n",
       " 'only': 248,\n",
       " 'them': 1162,\n",
       " 'extra': 901,\n",
       " 'cheese': 546,\n",
       " 'thanks': 1888,\n",
       " 'any': 963,\n",
       " 'coupons': 19,\n",
       " 'under': 146,\n",
       " 'name': 281,\n",
       " 'perfect': 777,\n",
       " 'help': 954,\n",
       " 'driving': 181,\n",
       " 'set': 218,\n",
       " 'appointment': 1134,\n",
       " 'intelligent': 870,\n",
       " 'auto': 1000,\n",
       " 'solutions': 851,\n",
       " 'brakes': 123,\n",
       " 'changed': 63,\n",
       " 'oil': 244,\n",
       " 'general': 20,\n",
       " 'tuneup': 16,\n",
       " 'done': 189,\n",
       " 'pretty': 131,\n",
       " 'urgent': 94,\n",
       " 'when': 956,\n",
       " 'earliest': 66,\n",
       " 'wow': 137,\n",
       " 'leave': 129,\n",
       " 'trip': 92,\n",
       " 'tomorrow': 492,\n",
       " 'too': 880,\n",
       " 'late': 241,\n",
       " 'bacon': 301,\n",
       " 'sausage': 448,\n",
       " 'ham': 202,\n",
       " 'pineapples': 37,\n",
       " 'sounds': 1507,\n",
       " 'better': 254,\n",
       " 'peppers': 342,\n",
       " 'credit': 154,\n",
       " 'card': 330,\n",
       " 'file': 145,\n",
       " 'charge': 189,\n",
       " 'uber': 1181,\n",
       " 'going': 770,\n",
       " 'mission': 12,\n",
       " 'chinese': 59,\n",
       " 'depends': 18,\n",
       " 'vs': 1,\n",
       " 'pool': 123,\n",
       " 'ok': 2209,\n",
       " 'long': 643,\n",
       " 'take': 1428,\n",
       " 'slow': 24,\n",
       " 'running': 45,\n",
       " 'regular': 397,\n",
       " 'call': 388,\n",
       " 'start': 100,\n",
       " 'walking': 12,\n",
       " 'pickup': 193,\n",
       " 'location': 267,\n",
       " 'some': 1228,\n",
       " 'papa': 134,\n",
       " 'johns': 65,\n",
       " 'yeah': 737,\n",
       " 'cool': 73,\n",
       " 'nope': 311,\n",
       " 'awesome': 318,\n",
       " 'instead': 545,\n",
       " 'complete': 39,\n",
       " 'until': 88,\n",
       " 'ready': 354,\n",
       " 'stony': 5,\n",
       " 'brook': 7,\n",
       " 'green': 266,\n",
       " 'onion': 84,\n",
       " 'they': 2590,\n",
       " 'other': 616,\n",
       " 'kind': 267,\n",
       " 'of': 3115,\n",
       " 'nah': 62,\n",
       " 'trying': 107,\n",
       " 'weight': 5,\n",
       " 'enough': 124,\n",
       " 'nothing': 98,\n",
       " 'night': 332,\n",
       " 'us': 464,\n",
       " 'los': 46,\n",
       " 'angeles': 41,\n",
       " 'where': 257,\n",
       " 'should': 550,\n",
       " 'nearest': 60,\n",
       " 'jhons': 1,\n",
       " 'ya': 31,\n",
       " 'ahead': 374,\n",
       " 'veggie': 67,\n",
       " 'garden': 87,\n",
       " 'party': 99,\n",
       " 'ask': 334,\n",
       " 'omit': 3,\n",
       " 'portobello': 1,\n",
       " 'mushrooms': 290,\n",
       " 'more': 342,\n",
       " 'their': 327,\n",
       " 'famous': 5,\n",
       " 'tomato': 63,\n",
       " 'sauce': 293,\n",
       " 'thats': 427,\n",
       " 'all': 1633,\n",
       " 'birthday': 94,\n",
       " 'eve': 1,\n",
       " 'placing': 10,\n",
       " 'delivered': 33,\n",
       " 'home': 293,\n",
       " 'payment': 48,\n",
       " 'via': 28,\n",
       " 'visa': 29,\n",
       " 'ride': 897,\n",
       " 'poeple': 1,\n",
       " 'hollywood': 30,\n",
       " 'bowl': 15,\n",
       " 'glendale': 10,\n",
       " 'galleria': 20,\n",
       " 'price': 294,\n",
       " 'schedule': 430,\n",
       " 'mechanic': 124,\n",
       " 'car': 1655,\n",
       " 'pontiac': 2,\n",
       " 'making': 214,\n",
       " 'weird': 63,\n",
       " 'noises': 27,\n",
       " 'reverse': 11,\n",
       " 'later': 295,\n",
       " 'openings': 33,\n",
       " 'inspection': 77,\n",
       " 'place': 773,\n",
       " 'empire': 7,\n",
       " 'build': 11,\n",
       " 'canadian': 63,\n",
       " 'does': 460,\n",
       " 'each': 84,\n",
       " 'topping': 114,\n",
       " \"we're\": 119,\n",
       " 'seeing': 41,\n",
       " 'tacoma': 5,\n",
       " 'adults': 30,\n",
       " \"what's\": 336,\n",
       " 'not': 1178,\n",
       " 'far': 125,\n",
       " 'confirming': 2,\n",
       " 'creed': 4,\n",
       " 'ii': 5,\n",
       " 'tonight': 1036,\n",
       " 'earlier': 144,\n",
       " 'show': 117,\n",
       " 'ticket': 149,\n",
       " 'rating': 54,\n",
       " 'age': 3,\n",
       " 'limit': 4,\n",
       " \"children's\": 10,\n",
       " 'type': 75,\n",
       " 'seating': 295,\n",
       " 'middle': 108,\n",
       " 'end': 64,\n",
       " 'row': 60,\n",
       " 'got': 428,\n",
       " 'text': 156,\n",
       " 'confirmation': 95,\n",
       " 'eat': 189,\n",
       " 'sushi': 71,\n",
       " 'try': 501,\n",
       " 'jiro': 3,\n",
       " 'though': 118,\n",
       " 'heard': 102,\n",
       " 'hard': 50,\n",
       " 'reservation': 781,\n",
       " 'short': 29,\n",
       " 'notice': 15,\n",
       " 'wait': 410,\n",
       " 'list': 44,\n",
       " 'month': 14,\n",
       " 'lunch': 135,\n",
       " 'dinner': 579,\n",
       " 'next': 272,\n",
       " 'meal': 29,\n",
       " 'switch': 51,\n",
       " 'restaurant': 917,\n",
       " 'japan': 4,\n",
       " 'soon': 610,\n",
       " 'request': 127,\n",
       " 'x': 175,\n",
       " 'school': 20,\n",
       " 'gvsu': 2,\n",
       " 'main': 112,\n",
       " 'campus': 21,\n",
       " 'fulton': 4,\n",
       " 'amway': 1,\n",
       " 'grand': 44,\n",
       " 'formal': 16,\n",
       " 'couple': 127,\n",
       " 'people': 192,\n",
       " 'bad': 184,\n",
       " 'supposed': 35,\n",
       " 'god': 18,\n",
       " 'damn': 16,\n",
       " 'expensive': 115,\n",
       " 'immediately': 27,\n",
       " 'probably': 79,\n",
       " \"'lux'\": 1,\n",
       " 'driver': 84,\n",
       " 'around': 153,\n",
       " 'right': 975,\n",
       " 'now': 850,\n",
       " 'kelly': 14,\n",
       " 'doing': 76,\n",
       " 'awful': 10,\n",
       " 'drunk': 4,\n",
       " 'wrecked': 2,\n",
       " 'know': 1061,\n",
       " 'first': 200,\n",
       " 'year': 17,\n",
       " 'model': 10,\n",
       " 'number': 138,\n",
       " 'wrong': 47,\n",
       " 'opening': 20,\n",
       " 'friday': 167,\n",
       " 'hello': 764,\n",
       " 'through': 59,\n",
       " 'lyft': 393,\n",
       " 'providence': 10,\n",
       " 'mall': 224,\n",
       " 'ri': 3,\n",
       " 'persimmon': 1,\n",
       " 'hope': 67,\n",
       " 'street': 282,\n",
       " 'information': 169,\n",
       " 'eta': 19,\n",
       " 'mauro': 1,\n",
       " 'favor': 87,\n",
       " 'asking': 29,\n",
       " 'big': 137,\n",
       " 'family': 161,\n",
       " 'wife': 103,\n",
       " 'bye': 218,\n",
       " 'buy': 320,\n",
       " 'glass': 91,\n",
       " 'harkins': 12,\n",
       " 'cerritos': 5,\n",
       " 'current': 26,\n",
       " 'showtimes': 52,\n",
       " 'reserve': 131,\n",
       " 'seats': 174,\n",
       " 'f': 8,\n",
       " 'prefer': 277,\n",
       " 'closest': 175,\n",
       " 'proceed': 6,\n",
       " 'checkout': 6,\n",
       " 'pay': 178,\n",
       " 'associated': 4,\n",
       " 'walmart': 22,\n",
       " 'napa': 7,\n",
       " 'kohls': 1,\n",
       " 'than': 187,\n",
       " 'uberx': 212,\n",
       " 'correct': 715,\n",
       " 'grande': 438,\n",
       " 'caramel': 409,\n",
       " 'cloud': 119,\n",
       " 'macchiato': 231,\n",
       " 'near': 304,\n",
       " 'w': 3,\n",
       " 'broad': 10,\n",
       " 'lcation': 1,\n",
       " 'was': 659,\n",
       " 'coffee': 1019,\n",
       " 'could': 973,\n",
       " 'assist': 16,\n",
       " 'log': 9,\n",
       " 'believe': 65,\n",
       " 'reward': 9,\n",
       " 'free': 157,\n",
       " 'drink': 446,\n",
       " 'craving': 61,\n",
       " 'hot': 151,\n",
       " 'love': 178,\n",
       " 'strong': 11,\n",
       " 'without': 103,\n",
       " 'flavors': 32,\n",
       " 'almost': 45,\n",
       " 'forgot': 88,\n",
       " 'sure': 916,\n",
       " 'milk': 1043,\n",
       " 'or': 649,\n",
       " 'lactose': 8,\n",
       " 'by': 364,\n",
       " 'sorry': 115,\n",
       " 'think': 1387,\n",
       " 'feel': 104,\n",
       " 'spinach': 123,\n",
       " 'egg': 11,\n",
       " 'white': 263,\n",
       " 'feta': 31,\n",
       " 'wrap': 4,\n",
       " 'enjoy': 48,\n",
       " 'nice': 358,\n",
       " 'day': 423,\n",
       " 'holly': 2,\n",
       " 'fayettville': 1,\n",
       " 'rd': 24,\n",
       " 'iced': 467,\n",
       " 'whole': 242,\n",
       " 'double': 82,\n",
       " 'shot': 144,\n",
       " 'expresso': 13,\n",
       " 'send': 250,\n",
       " 'copy': 13,\n",
       " 'receipt': 210,\n",
       " 'phone': 178,\n",
       " \"giovanni's\": 4,\n",
       " 'xl': 293,\n",
       " 'mediterranean': 10,\n",
       " \"here's\": 5,\n",
       " 'cash': 42,\n",
       " 'change': 335,\n",
       " 'favorite': 66,\n",
       " 'part': 27,\n",
       " 'okask': 1,\n",
       " 'substitute': 58,\n",
       " 'matcha': 14,\n",
       " 'tea': 32,\n",
       " 'creme': 20,\n",
       " 'picking': 46,\n",
       " 'charleston': 11,\n",
       " 'lamb': 6,\n",
       " 'blonde': 72,\n",
       " 'flat': 43,\n",
       " 'added': 37,\n",
       " 'chai': 32,\n",
       " 'cinnamon': 197,\n",
       " 'powder': 9,\n",
       " 'mushroom': 113,\n",
       " 'welcome': 20,\n",
       " 'texted': 11,\n",
       " 'whenever': 25,\n",
       " 'quick': 58,\n",
       " 'turn': 106,\n",
       " 'wheels': 6,\n",
       " 'slide': 1,\n",
       " 'bit': 152,\n",
       " 'possible': 675,\n",
       " 'murphys': 3,\n",
       " 'cowboy': 7,\n",
       " 'valentines': 7,\n",
       " 'heart': 13,\n",
       " 'course': 97,\n",
       " 'everyone': 43,\n",
       " 'loves': 15,\n",
       " 'onions': 241,\n",
       " 'breath': 3,\n",
       " 'mints': 1,\n",
       " 'size': 202,\n",
       " 'biggest': 26,\n",
       " 'work': 777,\n",
       " 'did': 273,\n",
       " 'lots': 26,\n",
       " 'yep': 137,\n",
       " 'ovens': 1,\n",
       " 'because': 152,\n",
       " 'such': 21,\n",
       " 'assistant': 288,\n",
       " 'donna': 28,\n",
       " 'greta': 20,\n",
       " 'theaters': 78,\n",
       " 'bff': 1,\n",
       " 'mike': 13,\n",
       " 'bethesda': 1,\n",
       " 'since': 154,\n",
       " 'eating': 39,\n",
       " 'town': 131,\n",
       " 'hmmm': 33,\n",
       " 'may': 116,\n",
       " 'few': 152,\n",
       " 'minutes': 66,\n",
       " 'away': 125,\n",
       " 'hate': 38,\n",
       " 'previews': 2,\n",
       " 'purchase': 108,\n",
       " 'using': 36,\n",
       " 'amc': 140,\n",
       " 'points': 15,\n",
       " 'personal': 86,\n",
       " 'look': 265,\n",
       " 'rotten': 2,\n",
       " 'tomatoes': 72,\n",
       " 'score': 3,\n",
       " 'ah': 41,\n",
       " 'willing': 12,\n",
       " 'chance': 30,\n",
       " 'piano': 5,\n",
       " 'teacher': 1,\n",
       " 'again': 428,\n",
       " 'best': 319,\n",
       " 'mind': 167,\n",
       " 'ordering': 94,\n",
       " 'hmm': 109,\n",
       " \"jalapeno's\": 4,\n",
       " 'pineapple': 232,\n",
       " 'catching': 5,\n",
       " 'haha': 30,\n",
       " 'red': 131,\n",
       " 'yup': 48,\n",
       " 'dough': 10,\n",
       " 'alternative': 2,\n",
       " 'yuck': 5,\n",
       " 'dont': 90,\n",
       " 'healthy': 6,\n",
       " 'guess': 396,\n",
       " 'likes': 24,\n",
       " 'leftover': 3,\n",
       " \"mariano's\": 1,\n",
       " 'anniversary': 38,\n",
       " 'reservations': 185,\n",
       " 'both': 235,\n",
       " 'sitting': 25,\n",
       " 'hightops': 1,\n",
       " 'booth': 234,\n",
       " \"couldn't\": 11,\n",
       " 'hickory': 7,\n",
       " 'creek': 15,\n",
       " 'teasley': 1,\n",
       " 'denton': 1,\n",
       " 'tx': 17,\n",
       " 'chocolate': 202,\n",
       " 'syrup': 104,\n",
       " 'drizzled': 1,\n",
       " 'top': 154,\n",
       " 'jonestown': 2,\n",
       " 'winston': 1,\n",
       " 'salem': 5,\n",
       " 'nc': 21,\n",
       " 'machitto': 1,\n",
       " 'store': 94,\n",
       " 'app': 53,\n",
       " 'cart': 2,\n",
       " 'vegetarian': 63,\n",
       " 'specialty': 96,\n",
       " 'option': 164,\n",
       " 'comes': 44,\n",
       " 'peets': 85,\n",
       " 'golden': 46,\n",
       " 'caffe': 168,\n",
       " 'touch': 16,\n",
       " 'turmeric': 2,\n",
       " 'honey': 80,\n",
       " 'ginger': 5,\n",
       " 'pastry': 4,\n",
       " 'along': 33,\n",
       " 'cherry': 55,\n",
       " 'danish': 9,\n",
       " 'everything': 181,\n",
       " 'same': 223,\n",
       " 'huron': 17,\n",
       " 'hold': 73,\n",
       " 'total': 147,\n",
       " 'leaving': 26,\n",
       " 'shortly': 15,\n",
       " 'wanting': 55,\n",
       " 'mocha': 490,\n",
       " 'whipped': 343,\n",
       " 'cream': 514,\n",
       " 'repeat': 36,\n",
       " 'godfather': 1,\n",
       " 'discount': 21,\n",
       " 'ill': 117,\n",
       " 'cooked': 11,\n",
       " 'pie': 91,\n",
       " 'italian': 311,\n",
       " 'beef': 56,\n",
       " 'combo': 10,\n",
       " 'who': 62,\n",
       " 'boulder': 5,\n",
       " 'harmony': 1,\n",
       " 'music': 34,\n",
       " 'house': 230,\n",
       " 'broadway': 19,\n",
       " 'mountain': 17,\n",
       " 'sun': 9,\n",
       " 'pearls': 1,\n",
       " 'actually': 436,\n",
       " 'skis': 4,\n",
       " 'ski': 2,\n",
       " 'rack': 4,\n",
       " \"isn't\": 114,\n",
       " 'suv': 64,\n",
       " 'seems': 103,\n",
       " 'pricey': 20,\n",
       " 'blocks': 4,\n",
       " 'shoot': 26,\n",
       " 'outside': 250,\n",
       " 'find': 386,\n",
       " 'lighthearted': 1,\n",
       " 'comedy': 18,\n",
       " 'older': 5,\n",
       " 'past': 26,\n",
       " 'ten': 32,\n",
       " 'years': 10,\n",
       " 'give': 344,\n",
       " 'suggestion': 14,\n",
       " 'watched': 6,\n",
       " 'airplane': 3,\n",
       " 'recently': 11,\n",
       " 'suggest': 35,\n",
       " 'choice': 52,\n",
       " 'bowling': 12,\n",
       " 'alley': 5,\n",
       " 'alone': 30,\n",
       " 'worried': 45,\n",
       " 'fair': 38,\n",
       " 'asap': 119,\n",
       " 'meet': 43,\n",
       " 'drive': 228,\n",
       " 'douglas': 7,\n",
       " 'called': 128,\n",
       " 'pistol': 1,\n",
       " 'pirate': 1,\n",
       " 'corner': 63,\n",
       " 'makepeace': 1,\n",
       " 'warrington': 3,\n",
       " 'public': 6,\n",
       " 'library': 19,\n",
       " 'hackamoore': 1,\n",
       " 'towncar': 3,\n",
       " 'quicker': 12,\n",
       " 'gathering': 5,\n",
       " 'usually': 65,\n",
       " 'la': 47,\n",
       " \"bella's\": 1,\n",
       " 'wonder': 30,\n",
       " 'giving': 9,\n",
       " 'thinking': 353,\n",
       " 'definitely': 89,\n",
       " \"that'll\": 141,\n",
       " 'getting': 132,\n",
       " 'hungry': 85,\n",
       " 'medium': 240,\n",
       " 'parmesan': 28,\n",
       " 'gorgonzola': 2,\n",
       " 'mood': 94,\n",
       " 'motion': 4,\n",
       " 'picture': 5,\n",
       " 'viewin': 1,\n",
       " 'experience': 20,\n",
       " 'old': 43,\n",
       " 'fashioned': 2,\n",
       " \"'us'\": 3,\n",
       " 'early': 127,\n",
       " 'seven': 51,\n",
       " 'thirty': 15,\n",
       " \"there's\": 121,\n",
       " 'preffred': 1,\n",
       " 'comfort': 4,\n",
       " \"we'll\": 133,\n",
       " 'latter': 2,\n",
       " 'captain': 117,\n",
       " 'marvel': 124,\n",
       " 'saturday': 91,\n",
       " 'lets': 322,\n",
       " 'tire': 84,\n",
       " 'pressure': 16,\n",
       " 'starting': 39,\n",
       " 'run': 46,\n",
       " 'low': 32,\n",
       " 'repair': 180,\n",
       " 'preferably': 61,\n",
       " 'serviced': 24,\n",
       " 'yea': 92,\n",
       " 'shop': 233,\n",
       " 'quote': 9,\n",
       " 'im': 215,\n",
       " 'mediumonions': 1,\n",
       " 'kale': 1,\n",
       " 'mcuh': 1,\n",
       " 'johnson': 8,\n",
       " 'busy': 89,\n",
       " 'options': 359,\n",
       " 'offer': 118,\n",
       " 'soy': 176,\n",
       " 'lot': 231,\n",
       " 'cold': 143,\n",
       " 'pursuit': 13,\n",
       " 'denver': 24,\n",
       " 'colorado': 23,\n",
       " 'which': 296,\n",
       " 'picky': 12,\n",
       " 'showing': 159,\n",
       " 'rest': 37,\n",
       " 'fix': 49,\n",
       " 'west': 61,\n",
       " 'boston': 47,\n",
       " 'mass': 4,\n",
       " 'headlights': 14,\n",
       " 'replaced': 30,\n",
       " 'alita': 48,\n",
       " 'battle': 35,\n",
       " 'angel': 36,\n",
       " 'planning': 18,\n",
       " 'cheektowaga': 1,\n",
       " 'taking': 100,\n",
       " 'restaurants': 131,\n",
       " 'new': 351,\n",
       " 'york': 87,\n",
       " 'airport': 216,\n",
       " 'serve': 93,\n",
       " 'traditional': 28,\n",
       " 'dessert': 28,\n",
       " 'reach': 10,\n",
       " 'hakkasan': 2,\n",
       " 'holiday': 14,\n",
       " 'inn': 36,\n",
       " 'chicagotinley': 1,\n",
       " 'parkconv': 1,\n",
       " 'ctr': 1,\n",
       " 'convention': 17,\n",
       " 'center': 151,\n",
       " 'tinley': 1,\n",
       " 'park': 119,\n",
       " 'il': 30,\n",
       " 'governors': 1,\n",
       " 'highway': 22,\n",
       " 'richton': 1,\n",
       " 'types': 47,\n",
       " 'cars': 43,\n",
       " 'difference': 112,\n",
       " 'cheapest': 87,\n",
       " 'level': 5,\n",
       " 'fastest': 8,\n",
       " 'jennifer': 5,\n",
       " \"joe's\": 19,\n",
       " \"you'll\": 9,\n",
       " \"doesn't\": 102,\n",
       " 'deliver': 30,\n",
       " 'remember': 69,\n",
       " 'person': 45,\n",
       " 'confused': 3,\n",
       " 'remind': 29,\n",
       " 'menu': 164,\n",
       " 'computer': 10,\n",
       " \"they're\": 56,\n",
       " 'ridiculously': 1,\n",
       " 'huge': 30,\n",
       " 'life': 41,\n",
       " 'saver': 32,\n",
       " 'seriously': 6,\n",
       " 'ridiculous': 8,\n",
       " 'lovers': 65,\n",
       " 'bohemian': 19,\n",
       " 'rahpsody': 1,\n",
       " 'burbank': 3,\n",
       " 'california': 62,\n",
       " 'evening': 241,\n",
       " 'service': 144,\n",
       " 'mobile': 26,\n",
       " 'made': 75,\n",
       " 'easy': 27,\n",
       " 'wan': 5,\n",
       " 'weekend': 71,\n",
       " 'different': 125,\n",
       " 'office': 201,\n",
       " 'shelby': 6,\n",
       " 'twp': 1,\n",
       " 'pet': 72,\n",
       " 'semetary': 21,\n",
       " 'looks': 65,\n",
       " 'wasamazing': 1,\n",
       " 'mostly': 7,\n",
       " 'why': 114,\n",
       " 'measures': 1,\n",
       " 'mark': 16,\n",
       " 'either': 154,\n",
       " 'willowbrook': 3,\n",
       " 'clarendon': 1,\n",
       " 'hills': 22,\n",
       " 'appreciate': 235,\n",
       " 'linda': 17,\n",
       " 'plaza': 39,\n",
       " 'ocala': 3,\n",
       " 'samamtary': 1,\n",
       " 'after': 203,\n",
       " 'play': 19,\n",
       " 'dave': 10,\n",
       " 'he': 112,\n",
       " 'thinks': 2,\n",
       " 'shrek': 2,\n",
       " 'second': 117,\n",
       " 'thought': 63,\n",
       " 'skip': 25,\n",
       " 'reason': 21,\n",
       " 'least': 42,\n",
       " 'treat': 12,\n",
       " 'aunt': 3,\n",
       " 'garlic': 131,\n",
       " 'seasoning': 5,\n",
       " 'has': 366,\n",
       " 'cola': 5,\n",
       " 'these': 62,\n",
       " 'bbq': 85,\n",
       " 'napolis': 1,\n",
       " 'winter': 9,\n",
       " 'springs': 21,\n",
       " 'vegetables': 10,\n",
       " 'toppings': 145,\n",
       " 'sizes': 50,\n",
       " 'many': 123,\n",
       " 'slices': 7,\n",
       " 'stuffed': 67,\n",
       " 'crusts': 9,\n",
       " 'abour': 1,\n",
       " 'seasonings': 1,\n",
       " 'post': 7,\n",
       " 'road': 124,\n",
       " 'milford': 1,\n",
       " 'spiderman': 24,\n",
       " 'spiderverse': 17,\n",
       " 'ca': 51,\n",
       " 'lookup': 3,\n",
       " 'reclining': 24,\n",
       " 'chosen': 3,\n",
       " 'morning': 336,\n",
       " 'bertha': 1,\n",
       " 'power': 20,\n",
       " 'steering': 46,\n",
       " 'chevy': 12,\n",
       " 'response': 5,\n",
       " 'availabilities': 1,\n",
       " 'looked': 128,\n",
       " 'americano': 74,\n",
       " 'details': 126,\n",
       " 'room': 115,\n",
       " 'sugar': 174,\n",
       " 'perhaps': 13,\n",
       " 'never': 90,\n",
       " 'bringing': 26,\n",
       " 'lady': 11,\n",
       " 'dates': 5,\n",
       " 'air': 56,\n",
       " 'area': 182,\n",
       " 'vegan': 34,\n",
       " 'cause': 9,\n",
       " 'date': 76,\n",
       " \"how's\": 16,\n",
       " 'parking': 68,\n",
       " 'situation': 22,\n",
       " 'assume': 7,\n",
       " \"it'll\": 58,\n",
       " 'hectic': 4,\n",
       " 'rhapsody': 14,\n",
       " 'visiting': 24,\n",
       " 'mine': 29,\n",
       " 'irvine': 5,\n",
       " 'indeed': 14,\n",
       " 'towards': 18,\n",
       " 'case': 85,\n",
       " 'roseville': 12,\n",
       " 'paul': 5,\n",
       " 'martins': 1,\n",
       " 'travel': 23,\n",
       " 'sent': 42,\n",
       " 'info': 85,\n",
       " 'having': 199,\n",
       " 'problems': 44,\n",
       " 'heater': 3,\n",
       " 'working': 54,\n",
       " 'freezing': 4,\n",
       " 'estimate': 74,\n",
       " 'might': 137,\n",
       " ...}"
      ]
     },
     "execution_count": 9,
     "metadata": {
      "tags": []
     },
     "output_type": "execute_result"
    }
   ],
   "source": [
    "# word dictionary\n",
    "words_dict"
   ]
  },
  {
   "cell_type": "code",
   "execution_count": 10,
   "metadata": {
    "colab": {},
    "colab_type": "code",
    "executionInfo": {
     "elapsed": 1063,
     "status": "ok",
     "timestamp": 1598706894843,
     "user": {
      "displayName": "Aishwarya Singh",
      "photoUrl": "https://lh3.googleusercontent.com/a-/AOh14GgeJwfn4BdBDCAplWi_kdtB9FRssOpXO7T_aMgg=s64",
      "userId": "01105858832371513140"
     },
     "user_tz": -330
    },
    "id": "tgpVl3Mwt0By"
   },
   "outputs": [],
   "source": [
    "# prepare a dataframe\n",
    "words_df = pd.DataFrame({'word':list(words_dict.keys()), 'count':list(words_dict.values())})\n",
    "\n",
    "# sort words by their count in increasing order\n",
    "words_df = words_df.sort_values(by = ['count'])\n",
    "\n",
    "# reset dataframe index\n",
    "words_df.reset_index(inplace = True, drop=True)"
   ]
  },
  {
   "cell_type": "code",
   "execution_count": 11,
   "metadata": {
    "colab": {
     "base_uri": "https://localhost:8080/",
     "height": 206
    },
    "colab_type": "code",
    "executionInfo": {
     "elapsed": 1223,
     "status": "ok",
     "timestamp": 1598706899897,
     "user": {
      "displayName": "Aishwarya Singh",
      "photoUrl": "https://lh3.googleusercontent.com/a-/AOh14GgeJwfn4BdBDCAplWi_kdtB9FRssOpXO7T_aMgg=s64",
      "userId": "01105858832371513140"
     },
     "user_tz": -330
    },
    "id": "W8yDKK8nCRAE",
    "outputId": "a562dccc-a357-4226-e73f-675dfc88d3d5"
   },
   "outputs": [
    {
     "data": {
      "text/html": [
       "<div>\n",
       "<style scoped>\n",
       "    .dataframe tbody tr th:only-of-type {\n",
       "        vertical-align: middle;\n",
       "    }\n",
       "\n",
       "    .dataframe tbody tr th {\n",
       "        vertical-align: top;\n",
       "    }\n",
       "\n",
       "    .dataframe thead th {\n",
       "        text-align: right;\n",
       "    }\n",
       "</style>\n",
       "<table border=\"1\" class=\"dataframe\">\n",
       "  <thead>\n",
       "    <tr style=\"text-align: right;\">\n",
       "      <th></th>\n",
       "      <th>word</th>\n",
       "      <th>count</th>\n",
       "    </tr>\n",
       "  </thead>\n",
       "  <tbody>\n",
       "    <tr>\n",
       "      <th>0</th>\n",
       "      <td>uppermiddle</td>\n",
       "      <td>1</td>\n",
       "    </tr>\n",
       "    <tr>\n",
       "      <th>1</th>\n",
       "      <td>shoots</td>\n",
       "      <td>1</td>\n",
       "    </tr>\n",
       "    <tr>\n",
       "      <th>2</th>\n",
       "      <td>geesh</td>\n",
       "      <td>1</td>\n",
       "    </tr>\n",
       "    <tr>\n",
       "      <th>3</th>\n",
       "      <td>andrea</td>\n",
       "      <td>1</td>\n",
       "    </tr>\n",
       "    <tr>\n",
       "      <th>4</th>\n",
       "      <td>precice</td>\n",
       "      <td>1</td>\n",
       "    </tr>\n",
       "  </tbody>\n",
       "</table>\n",
       "</div>"
      ],
      "text/plain": [
       "          word  count\n",
       "0  uppermiddle      1\n",
       "1       shoots      1\n",
       "2        geesh      1\n",
       "3       andrea      1\n",
       "4      precice      1"
      ]
     },
     "execution_count": 11,
     "metadata": {
      "tags": []
     },
     "output_type": "execute_result"
    }
   ],
   "source": [
    "# words with least frequency\n",
    "words_df.head()"
   ]
  },
  {
   "cell_type": "code",
   "execution_count": 12,
   "metadata": {
    "colab": {
     "base_uri": "https://localhost:8080/",
     "height": 206
    },
    "colab_type": "code",
    "executionInfo": {
     "elapsed": 1405,
     "status": "ok",
     "timestamp": 1598706929830,
     "user": {
      "displayName": "Aishwarya Singh",
      "photoUrl": "https://lh3.googleusercontent.com/a-/AOh14GgeJwfn4BdBDCAplWi_kdtB9FRssOpXO7T_aMgg=s64",
      "userId": "01105858832371513140"
     },
     "user_tz": -330
    },
    "id": "Va4HAWrstz-I",
    "outputId": "6352de98-8454-4e18-e89d-78027579f00d"
   },
   "outputs": [
    {
     "data": {
      "text/html": [
       "<div>\n",
       "<style scoped>\n",
       "    .dataframe tbody tr th:only-of-type {\n",
       "        vertical-align: middle;\n",
       "    }\n",
       "\n",
       "    .dataframe tbody tr th {\n",
       "        vertical-align: top;\n",
       "    }\n",
       "\n",
       "    .dataframe thead th {\n",
       "        text-align: right;\n",
       "    }\n",
       "</style>\n",
       "<table border=\"1\" class=\"dataframe\">\n",
       "  <thead>\n",
       "    <tr style=\"text-align: right;\">\n",
       "      <th></th>\n",
       "      <th>word</th>\n",
       "      <th>count</th>\n",
       "    </tr>\n",
       "  </thead>\n",
       "  <tbody>\n",
       "    <tr>\n",
       "      <th>11142</th>\n",
       "      <td>you</td>\n",
       "      <td>11909</td>\n",
       "    </tr>\n",
       "    <tr>\n",
       "      <th>11143</th>\n",
       "      <td>a</td>\n",
       "      <td>13380</td>\n",
       "    </tr>\n",
       "    <tr>\n",
       "      <th>11144</th>\n",
       "      <td>to</td>\n",
       "      <td>14000</td>\n",
       "    </tr>\n",
       "    <tr>\n",
       "      <th>11145</th>\n",
       "      <td>the</td>\n",
       "      <td>15406</td>\n",
       "    </tr>\n",
       "    <tr>\n",
       "      <th>11146</th>\n",
       "      <td>i</td>\n",
       "      <td>19654</td>\n",
       "    </tr>\n",
       "  </tbody>\n",
       "</table>\n",
       "</div>"
      ],
      "text/plain": [
       "      word  count\n",
       "11142  you  11909\n",
       "11143    a  13380\n",
       "11144   to  14000\n",
       "11145  the  15406\n",
       "11146    i  19654"
      ]
     },
     "execution_count": 12,
     "metadata": {
      "tags": []
     },
     "output_type": "execute_result"
    }
   ],
   "source": [
    "# words with highest frequency\n",
    "words_df.tail()"
   ]
  },
  {
   "cell_type": "code",
   "execution_count": 13,
   "metadata": {
    "colab": {
     "base_uri": "https://localhost:8080/",
     "height": 34
    },
    "colab_type": "code",
    "executionInfo": {
     "elapsed": 994,
     "status": "ok",
     "timestamp": 1598706941454,
     "user": {
      "displayName": "Aishwarya Singh",
      "photoUrl": "https://lh3.googleusercontent.com/a-/AOh14GgeJwfn4BdBDCAplWi_kdtB9FRssOpXO7T_aMgg=s64",
      "userId": "01105858832371513140"
     },
     "user_tz": -330
    },
    "id": "xFrS1paat4ts",
    "outputId": "3329a974-fc13-466c-c05c-a6715b4450a9"
   },
   "outputs": [
    {
     "data": {
      "text/plain": [
       "11147"
      ]
     },
     "execution_count": 13,
     "metadata": {
      "tags": []
     },
     "output_type": "execute_result"
    }
   ],
   "source": [
    "# vocabulary size\n",
    "len(words_df)"
   ]
  },
  {
   "cell_type": "markdown",
   "metadata": {
    "colab_type": "text",
    "id": "gTD2YbKzChhv"
   },
   "source": [
    "## 2. Creating N-grams of the dialogue"
   ]
  },
  {
   "cell_type": "code",
   "execution_count": 14,
   "metadata": {
    "colab": {
     "base_uri": "https://localhost:8080/",
     "height": 677
    },
    "colab_type": "code",
    "executionInfo": {
     "elapsed": 1057,
     "status": "ok",
     "timestamp": 1598706986111,
     "user": {
      "displayName": "Aishwarya Singh",
      "photoUrl": "https://lh3.googleusercontent.com/a-/AOh14GgeJwfn4BdBDCAplWi_kdtB9FRssOpXO7T_aMgg=s64",
      "userId": "01105858832371513140"
     },
     "user_tz": -330
    },
    "id": "_omEAW4ZaZwl",
    "outputId": "0bec86f4-84e1-4dc4-e04a-7c7ec0f0ae3f"
   },
   "outputs": [
    {
     "data": {
      "text/html": [
       "<div>\n",
       "<style scoped>\n",
       "    .dataframe tbody tr th:only-of-type {\n",
       "        vertical-align: middle;\n",
       "    }\n",
       "\n",
       "    .dataframe tbody tr th {\n",
       "        vertical-align: top;\n",
       "    }\n",
       "\n",
       "    .dataframe thead th {\n",
       "        text-align: right;\n",
       "    }\n",
       "</style>\n",
       "<table border=\"1\" class=\"dataframe\">\n",
       "  <thead>\n",
       "    <tr style=\"text-align: right;\">\n",
       "      <th></th>\n",
       "      <th>Sentences</th>\n",
       "    </tr>\n",
       "  </thead>\n",
       "  <tbody>\n",
       "    <tr>\n",
       "      <th>0</th>\n",
       "      <td>hi i'm looking to book a table for korean fod</td>\n",
       "    </tr>\n",
       "    <tr>\n",
       "      <th>1</th>\n",
       "      <td>somewhere in southern nyc maybe the east village</td>\n",
       "    </tr>\n",
       "    <tr>\n",
       "      <th>2</th>\n",
       "      <td>we don't want to sit at the bar but anywhere ...</td>\n",
       "    </tr>\n",
       "    <tr>\n",
       "      <th>3</th>\n",
       "      <td>what times are available</td>\n",
       "    </tr>\n",
       "    <tr>\n",
       "      <th>4</th>\n",
       "      <td>yikes we can't do those times</td>\n",
       "    </tr>\n",
       "    <tr>\n",
       "      <th>5</th>\n",
       "      <td>let me check</td>\n",
       "    </tr>\n",
       "    <tr>\n",
       "      <th>6</th>\n",
       "      <td>great let's book that</td>\n",
       "    </tr>\n",
       "    <tr>\n",
       "      <th>7</th>\n",
       "      <td>no that's it just book</td>\n",
       "    </tr>\n",
       "    <tr>\n",
       "      <th>8</th>\n",
       "      <td>hi i would like to see if the movie what men w...</td>\n",
       "    </tr>\n",
       "    <tr>\n",
       "      <th>9</th>\n",
       "      <td>yes for me and a friend so two tickets please</td>\n",
       "    </tr>\n",
       "    <tr>\n",
       "      <th>10</th>\n",
       "      <td>what time is that moving playing today</td>\n",
       "    </tr>\n",
       "    <tr>\n",
       "      <th>11</th>\n",
       "      <td>what is that about</td>\n",
       "    </tr>\n",
       "    <tr>\n",
       "      <th>12</th>\n",
       "      <td>oh no can you recommend anything else</td>\n",
       "    </tr>\n",
       "    <tr>\n",
       "      <th>13</th>\n",
       "      <td>well i like movies that are funny</td>\n",
       "    </tr>\n",
       "    <tr>\n",
       "      <th>14</th>\n",
       "      <td>well no i like action as well</td>\n",
       "    </tr>\n",
       "    <tr>\n",
       "      <th>15</th>\n",
       "      <td>okay can i get two tickets for that</td>\n",
       "    </tr>\n",
       "    <tr>\n",
       "      <th>16</th>\n",
       "      <td>how much will this cost</td>\n",
       "    </tr>\n",
       "    <tr>\n",
       "      <th>17</th>\n",
       "      <td>yes can i bring my own food to theater</td>\n",
       "    </tr>\n",
       "    <tr>\n",
       "      <th>18</th>\n",
       "      <td>okay that is fine</td>\n",
       "    </tr>\n",
       "    <tr>\n",
       "      <th>19</th>\n",
       "      <td>i want to watch avengers endgame</td>\n",
       "    </tr>\n",
       "  </tbody>\n",
       "</table>\n",
       "</div>"
      ],
      "text/plain": [
       "                                            Sentences\n",
       "0       hi i'm looking to book a table for korean fod\n",
       "1    somewhere in southern nyc maybe the east village\n",
       "2    we don't want to sit at the bar but anywhere ...\n",
       "3                            what times are available\n",
       "4                       yikes we can't do those times\n",
       "5                                        let me check\n",
       "6                               great let's book that\n",
       "7                              no that's it just book\n",
       "8   hi i would like to see if the movie what men w...\n",
       "9       yes for me and a friend so two tickets please\n",
       "10             what time is that moving playing today\n",
       "11                                 what is that about\n",
       "12              oh no can you recommend anything else\n",
       "13                  well i like movies that are funny\n",
       "14                      well no i like action as well\n",
       "15               okay can i get two tickets for that \n",
       "16                            how much will this cost\n",
       "17             yes can i bring my own food to theater\n",
       "18                                  okay that is fine\n",
       "19                   i want to watch avengers endgame"
      ]
     },
     "execution_count": 14,
     "metadata": {
      "tags": []
     },
     "output_type": "execute_result"
    }
   ],
   "source": [
    "# creating an empty dataframe\n",
    "dataset = pd.DataFrame()\n",
    "\n",
    "# adding cleaned sentences in the dataframe\n",
    "dataset['Sentences'] = dialogs_clean\n",
    "\n",
    "# first 20 cleaned sentences\n",
    "dataset.head(20)"
   ]
  },
  {
   "cell_type": "code",
   "execution_count": 15,
   "metadata": {
    "colab": {
     "base_uri": "https://localhost:8080/",
     "height": 34
    },
    "colab_type": "code",
    "executionInfo": {
     "elapsed": 980,
     "status": "ok",
     "timestamp": 1598707026881,
     "user": {
      "displayName": "Aishwarya Singh",
      "photoUrl": "https://lh3.googleusercontent.com/a-/AOh14GgeJwfn4BdBDCAplWi_kdtB9FRssOpXO7T_aMgg=s64",
      "userId": "01105858832371513140"
     },
     "user_tz": -330
    },
    "id": "6MRE2yvXIWJD",
    "outputId": "26dd4cd7-5363-4326-b24b-9c44a1cebf2b"
   },
   "outputs": [
    {
     "data": {
      "text/plain": [
       "['hi', \"i'm\", 'looking', 'to', 'book', 'a', 'table', 'for', 'korean', 'fod']"
      ]
     },
     "execution_count": 15,
     "metadata": {
      "tags": []
     },
     "output_type": "execute_result"
    }
   ],
   "source": [
    "# using .split() to get tokens from the sentence\n",
    "dataset['Sentences'][0].split()"
   ]
  },
  {
   "cell_type": "code",
   "execution_count": 16,
   "metadata": {
    "colab": {},
    "colab_type": "code",
    "executionInfo": {
     "elapsed": 1065,
     "status": "ok",
     "timestamp": 1598707103985,
     "user": {
      "displayName": "Aishwarya Singh",
      "photoUrl": "https://lh3.googleusercontent.com/a-/AOh14GgeJwfn4BdBDCAplWi_kdtB9FRssOpXO7T_aMgg=s64",
      "userId": "01105858832371513140"
     },
     "user_tz": -330
    },
    "id": "B-ysbBqPxJsr"
   },
   "outputs": [],
   "source": [
    "# function to create unigrams\n",
    "# taking a sentence as input\n",
    "def create_unigram(sentence):\n",
    "    # creating tokens from the sentence\n",
    "    tokens = sentence.split()\n",
    "    # empty list to store the unigrams\n",
    "    unigram_list = []\n",
    "    # number of unigrams is equal to the number of tokens in the sentence\n",
    "    for i in range(len(tokens)):\n",
    "        # appending each unigram in the list\n",
    "        unigram_list.append(tokens[i:i+1])\n",
    "    # returning the unigram list for a sentence    \n",
    "    return unigram_list"
   ]
  },
  {
   "cell_type": "code",
   "execution_count": 17,
   "metadata": {
    "colab": {},
    "colab_type": "code",
    "executionInfo": {
     "elapsed": 965,
     "status": "ok",
     "timestamp": 1598707130784,
     "user": {
      "displayName": "Aishwarya Singh",
      "photoUrl": "https://lh3.googleusercontent.com/a-/AOh14GgeJwfn4BdBDCAplWi_kdtB9FRssOpXO7T_aMgg=s64",
      "userId": "01105858832371513140"
     },
     "user_tz": -330
    },
    "id": "jPB7I-6Mvpm6"
   },
   "outputs": [],
   "source": [
    "# function to create bigrams\n",
    "def create_bigram(sentence):\n",
    "    tokens = sentence.split()\n",
    "    bigram_list = []\n",
    "    # number of bigrams is one less than the number of tokens in the sentence\n",
    "    for i in range(len(tokens)-1):\n",
    "        bigram_list.append(tokens[i:i+2])\n",
    "    return bigram_list"
   ]
  },
  {
   "cell_type": "code",
   "execution_count": 18,
   "metadata": {
    "colab": {},
    "colab_type": "code",
    "executionInfo": {
     "elapsed": 947,
     "status": "ok",
     "timestamp": 1598707145983,
     "user": {
      "displayName": "Aishwarya Singh",
      "photoUrl": "https://lh3.googleusercontent.com/a-/AOh14GgeJwfn4BdBDCAplWi_kdtB9FRssOpXO7T_aMgg=s64",
      "userId": "01105858832371513140"
     },
     "user_tz": -330
    },
    "id": "glcziIAUxKWt"
   },
   "outputs": [],
   "source": [
    "# function to create trigrams\n",
    "def create_trigram(sentence):\n",
    "    tokens = sentence.split()\n",
    "    trigram_list = []\n",
    "    # number of trigrams is two less than the number of tokens in the sentence\n",
    "    for i in range(len(tokens)-2):\n",
    "        trigram_list.append(tokens[i:i+3])\n",
    "    return trigram_list"
   ]
  },
  {
   "cell_type": "code",
   "execution_count": 19,
   "metadata": {
    "colab": {},
    "colab_type": "code",
    "executionInfo": {
     "elapsed": 2502,
     "status": "ok",
     "timestamp": 1598707188560,
     "user": {
      "displayName": "Aishwarya Singh",
      "photoUrl": "https://lh3.googleusercontent.com/a-/AOh14GgeJwfn4BdBDCAplWi_kdtB9FRssOpXO7T_aMgg=s64",
      "userId": "01105858832371513140"
     },
     "user_tz": -330
    },
    "id": "GOJr8Wp592cL"
   },
   "outputs": [],
   "source": [
    "# creating unigrams for all the sentences in the dataset \n",
    "final_unigram = []\n",
    "# for each sentence\n",
    "for i in range(dataset.shape[0]):\n",
    "    # using the defined unigram function to create unigrams\n",
    "    final_unigram.append(create_unigram(dataset['Sentences'][i]))\n",
    "\n",
    "# adding the unigram in a seperate column in the dataset\n",
    "dataset['unigram'] = final_unigram"
   ]
  },
  {
   "cell_type": "code",
   "execution_count": 20,
   "metadata": {
    "colab": {},
    "colab_type": "code",
    "executionInfo": {
     "elapsed": 2447,
     "status": "ok",
     "timestamp": 1598707199928,
     "user": {
      "displayName": "Aishwarya Singh",
      "photoUrl": "https://lh3.googleusercontent.com/a-/AOh14GgeJwfn4BdBDCAplWi_kdtB9FRssOpXO7T_aMgg=s64",
      "userId": "01105858832371513140"
     },
     "user_tz": -330
    },
    "id": "EcUKRjKN7J0Z"
   },
   "outputs": [],
   "source": [
    "# creating bigrams for all the sentences in the dataset\n",
    "final_bigram = []\n",
    "for i in range(dataset.shape[0]):\n",
    "    final_bigram.append(create_bigram(dataset['Sentences'][i]))\n",
    "\n",
    "dataset['bigram'] = final_bigram"
   ]
  },
  {
   "cell_type": "code",
   "execution_count": 21,
   "metadata": {
    "colab": {},
    "colab_type": "code",
    "executionInfo": {
     "elapsed": 2314,
     "status": "ok",
     "timestamp": 1598707208028,
     "user": {
      "displayName": "Aishwarya Singh",
      "photoUrl": "https://lh3.googleusercontent.com/a-/AOh14GgeJwfn4BdBDCAplWi_kdtB9FRssOpXO7T_aMgg=s64",
      "userId": "01105858832371513140"
     },
     "user_tz": -330
    },
    "id": "1tOUIulh9u0M"
   },
   "outputs": [],
   "source": [
    "# creating trigrams for all the sentences in the dataset\n",
    "final_trigram = []\n",
    "for i in range(dataset.shape[0]):\n",
    "    final_trigram.append(create_trigram(dataset['Sentences'][i]))\n",
    "\n",
    "dataset['trigram'] = final_trigram"
   ]
  },
  {
   "cell_type": "code",
   "execution_count": 22,
   "metadata": {
    "colab": {
     "base_uri": "https://localhost:8080/",
     "height": 920
    },
    "colab_type": "code",
    "executionInfo": {
     "elapsed": 1086,
     "status": "ok",
     "timestamp": 1598707217873,
     "user": {
      "displayName": "Aishwarya Singh",
      "photoUrl": "https://lh3.googleusercontent.com/a-/AOh14GgeJwfn4BdBDCAplWi_kdtB9FRssOpXO7T_aMgg=s64",
      "userId": "01105858832371513140"
     },
     "user_tz": -330
    },
    "id": "e9_NbSlbwOKE",
    "outputId": "7467f228-780c-4d93-ebe7-016db416edd9"
   },
   "outputs": [
    {
     "data": {
      "text/html": [
       "<div>\n",
       "<style scoped>\n",
       "    .dataframe tbody tr th:only-of-type {\n",
       "        vertical-align: middle;\n",
       "    }\n",
       "\n",
       "    .dataframe tbody tr th {\n",
       "        vertical-align: top;\n",
       "    }\n",
       "\n",
       "    .dataframe thead th {\n",
       "        text-align: right;\n",
       "    }\n",
       "</style>\n",
       "<table border=\"1\" class=\"dataframe\">\n",
       "  <thead>\n",
       "    <tr style=\"text-align: right;\">\n",
       "      <th></th>\n",
       "      <th>Sentences</th>\n",
       "      <th>unigram</th>\n",
       "      <th>bigram</th>\n",
       "      <th>trigram</th>\n",
       "    </tr>\n",
       "  </thead>\n",
       "  <tbody>\n",
       "    <tr>\n",
       "      <th>0</th>\n",
       "      <td>hi i'm looking to book a table for korean fod</td>\n",
       "      <td>[[hi], [i'm], [looking], [to], [book], [a], [t...</td>\n",
       "      <td>[[hi, i'm], [i'm, looking], [looking, to], [to...</td>\n",
       "      <td>[[hi, i'm, looking], [i'm, looking, to], [look...</td>\n",
       "    </tr>\n",
       "    <tr>\n",
       "      <th>1</th>\n",
       "      <td>somewhere in southern nyc maybe the east village</td>\n",
       "      <td>[[somewhere], [in], [southern], [nyc], [maybe]...</td>\n",
       "      <td>[[somewhere, in], [in, southern], [southern, n...</td>\n",
       "      <td>[[somewhere, in, southern], [in, southern, nyc...</td>\n",
       "    </tr>\n",
       "    <tr>\n",
       "      <th>2</th>\n",
       "      <td>we don't want to sit at the bar but anywhere ...</td>\n",
       "      <td>[[we], [don't], [want], [to], [sit], [at], [th...</td>\n",
       "      <td>[[we, don't], [don't, want], [want, to], [to, ...</td>\n",
       "      <td>[[we, don't, want], [don't, want, to], [want, ...</td>\n",
       "    </tr>\n",
       "    <tr>\n",
       "      <th>3</th>\n",
       "      <td>what times are available</td>\n",
       "      <td>[[what], [times], [are], [available]]</td>\n",
       "      <td>[[what, times], [times, are], [are, available]]</td>\n",
       "      <td>[[what, times, are], [times, are, available]]</td>\n",
       "    </tr>\n",
       "    <tr>\n",
       "      <th>4</th>\n",
       "      <td>yikes we can't do those times</td>\n",
       "      <td>[[yikes], [we], [can't], [do], [those], [times]]</td>\n",
       "      <td>[[yikes, we], [we, can't], [can't, do], [do, t...</td>\n",
       "      <td>[[yikes, we, can't], [we, can't, do], [can't, ...</td>\n",
       "    </tr>\n",
       "    <tr>\n",
       "      <th>5</th>\n",
       "      <td>let me check</td>\n",
       "      <td>[[let], [me], [check]]</td>\n",
       "      <td>[[let, me], [me, check]]</td>\n",
       "      <td>[[let, me, check]]</td>\n",
       "    </tr>\n",
       "    <tr>\n",
       "      <th>6</th>\n",
       "      <td>great let's book that</td>\n",
       "      <td>[[great], [let's], [book], [that]]</td>\n",
       "      <td>[[great, let's], [let's, book], [book, that]]</td>\n",
       "      <td>[[great, let's, book], [let's, book, that]]</td>\n",
       "    </tr>\n",
       "    <tr>\n",
       "      <th>7</th>\n",
       "      <td>no that's it just book</td>\n",
       "      <td>[[no], [that's], [it], [just], [book]]</td>\n",
       "      <td>[[no, that's], [that's, it], [it, just], [just...</td>\n",
       "      <td>[[no, that's, it], [that's, it, just], [it, ju...</td>\n",
       "    </tr>\n",
       "    <tr>\n",
       "      <th>8</th>\n",
       "      <td>hi i would like to see if the movie what men w...</td>\n",
       "      <td>[[hi], [i], [would], [like], [to], [see], [if]...</td>\n",
       "      <td>[[hi, i], [i, would], [would, like], [like, to...</td>\n",
       "      <td>[[hi, i, would], [i, would, like], [would, lik...</td>\n",
       "    </tr>\n",
       "    <tr>\n",
       "      <th>9</th>\n",
       "      <td>yes for me and a friend so two tickets please</td>\n",
       "      <td>[[yes], [for], [me], [and], [a], [friend], [so...</td>\n",
       "      <td>[[yes, for], [for, me], [me, and], [and, a], [...</td>\n",
       "      <td>[[yes, for, me], [for, me, and], [me, and, a],...</td>\n",
       "    </tr>\n",
       "    <tr>\n",
       "      <th>10</th>\n",
       "      <td>what time is that moving playing today</td>\n",
       "      <td>[[what], [time], [is], [that], [moving], [play...</td>\n",
       "      <td>[[what, time], [time, is], [is, that], [that, ...</td>\n",
       "      <td>[[what, time, is], [time, is, that], [is, that...</td>\n",
       "    </tr>\n",
       "    <tr>\n",
       "      <th>11</th>\n",
       "      <td>what is that about</td>\n",
       "      <td>[[what], [is], [that], [about]]</td>\n",
       "      <td>[[what, is], [is, that], [that, about]]</td>\n",
       "      <td>[[what, is, that], [is, that, about]]</td>\n",
       "    </tr>\n",
       "    <tr>\n",
       "      <th>12</th>\n",
       "      <td>oh no can you recommend anything else</td>\n",
       "      <td>[[oh], [no], [can], [you], [recommend], [anyth...</td>\n",
       "      <td>[[oh, no], [no, can], [can, you], [you, recomm...</td>\n",
       "      <td>[[oh, no, can], [no, can, you], [can, you, rec...</td>\n",
       "    </tr>\n",
       "    <tr>\n",
       "      <th>13</th>\n",
       "      <td>well i like movies that are funny</td>\n",
       "      <td>[[well], [i], [like], [movies], [that], [are],...</td>\n",
       "      <td>[[well, i], [i, like], [like, movies], [movies...</td>\n",
       "      <td>[[well, i, like], [i, like, movies], [like, mo...</td>\n",
       "    </tr>\n",
       "    <tr>\n",
       "      <th>14</th>\n",
       "      <td>well no i like action as well</td>\n",
       "      <td>[[well], [no], [i], [like], [action], [as], [w...</td>\n",
       "      <td>[[well, no], [no, i], [i, like], [like, action...</td>\n",
       "      <td>[[well, no, i], [no, i, like], [i, like, actio...</td>\n",
       "    </tr>\n",
       "    <tr>\n",
       "      <th>15</th>\n",
       "      <td>okay can i get two tickets for that</td>\n",
       "      <td>[[okay], [can], [i], [get], [two], [tickets], ...</td>\n",
       "      <td>[[okay, can], [can, i], [i, get], [get, two], ...</td>\n",
       "      <td>[[okay, can, i], [can, i, get], [i, get, two],...</td>\n",
       "    </tr>\n",
       "    <tr>\n",
       "      <th>16</th>\n",
       "      <td>how much will this cost</td>\n",
       "      <td>[[how], [much], [will], [this], [cost]]</td>\n",
       "      <td>[[how, much], [much, will], [will, this], [thi...</td>\n",
       "      <td>[[how, much, will], [much, will, this], [will,...</td>\n",
       "    </tr>\n",
       "    <tr>\n",
       "      <th>17</th>\n",
       "      <td>yes can i bring my own food to theater</td>\n",
       "      <td>[[yes], [can], [i], [bring], [my], [own], [foo...</td>\n",
       "      <td>[[yes, can], [can, i], [i, bring], [bring, my]...</td>\n",
       "      <td>[[yes, can, i], [can, i, bring], [i, bring, my...</td>\n",
       "    </tr>\n",
       "    <tr>\n",
       "      <th>18</th>\n",
       "      <td>okay that is fine</td>\n",
       "      <td>[[okay], [that], [is], [fine]]</td>\n",
       "      <td>[[okay, that], [that, is], [is, fine]]</td>\n",
       "      <td>[[okay, that, is], [that, is, fine]]</td>\n",
       "    </tr>\n",
       "    <tr>\n",
       "      <th>19</th>\n",
       "      <td>i want to watch avengers endgame</td>\n",
       "      <td>[[i], [want], [to], [watch], [avengers], [endg...</td>\n",
       "      <td>[[i, want], [want, to], [to, watch], [watch, a...</td>\n",
       "      <td>[[i, want, to], [want, to, watch], [to, watch,...</td>\n",
       "    </tr>\n",
       "  </tbody>\n",
       "</table>\n",
       "</div>"
      ],
      "text/plain": [
       "                                            Sentences  ...                                            trigram\n",
       "0       hi i'm looking to book a table for korean fod  ...  [[hi, i'm, looking], [i'm, looking, to], [look...\n",
       "1    somewhere in southern nyc maybe the east village  ...  [[somewhere, in, southern], [in, southern, nyc...\n",
       "2    we don't want to sit at the bar but anywhere ...  ...  [[we, don't, want], [don't, want, to], [want, ...\n",
       "3                            what times are available  ...      [[what, times, are], [times, are, available]]\n",
       "4                       yikes we can't do those times  ...  [[yikes, we, can't], [we, can't, do], [can't, ...\n",
       "5                                        let me check  ...                                 [[let, me, check]]\n",
       "6                               great let's book that  ...        [[great, let's, book], [let's, book, that]]\n",
       "7                              no that's it just book  ...  [[no, that's, it], [that's, it, just], [it, ju...\n",
       "8   hi i would like to see if the movie what men w...  ...  [[hi, i, would], [i, would, like], [would, lik...\n",
       "9       yes for me and a friend so two tickets please  ...  [[yes, for, me], [for, me, and], [me, and, a],...\n",
       "10             what time is that moving playing today  ...  [[what, time, is], [time, is, that], [is, that...\n",
       "11                                 what is that about  ...              [[what, is, that], [is, that, about]]\n",
       "12              oh no can you recommend anything else  ...  [[oh, no, can], [no, can, you], [can, you, rec...\n",
       "13                  well i like movies that are funny  ...  [[well, i, like], [i, like, movies], [like, mo...\n",
       "14                      well no i like action as well  ...  [[well, no, i], [no, i, like], [i, like, actio...\n",
       "15               okay can i get two tickets for that   ...  [[okay, can, i], [can, i, get], [i, get, two],...\n",
       "16                            how much will this cost  ...  [[how, much, will], [much, will, this], [will,...\n",
       "17             yes can i bring my own food to theater  ...  [[yes, can, i], [can, i, bring], [i, bring, my...\n",
       "18                                  okay that is fine  ...               [[okay, that, is], [that, is, fine]]\n",
       "19                   i want to watch avengers endgame  ...  [[i, want, to], [want, to, watch], [to, watch,...\n",
       "\n",
       "[20 rows x 4 columns]"
      ]
     },
     "execution_count": 22,
     "metadata": {
      "tags": []
     },
     "output_type": "execute_result"
    }
   ],
   "source": [
    "# first 20 rows of the dataset\n",
    "dataset.head(20)"
   ]
  },
  {
   "cell_type": "code",
   "execution_count": 23,
   "metadata": {
    "colab": {
     "base_uri": "https://localhost:8080/",
     "height": 35
    },
    "colab_type": "code",
    "executionInfo": {
     "elapsed": 984,
     "status": "ok",
     "timestamp": 1598707235364,
     "user": {
      "displayName": "Aishwarya Singh",
      "photoUrl": "https://lh3.googleusercontent.com/a-/AOh14GgeJwfn4BdBDCAplWi_kdtB9FRssOpXO7T_aMgg=s64",
      "userId": "01105858832371513140"
     },
     "user_tz": -330
    },
    "id": "YZpJDtmtwOHe",
    "outputId": "895f75c2-43d5-4d89-d64a-746c3ac91a15"
   },
   "outputs": [
    {
     "data": {
      "application/vnd.google.colaboratory.intrinsic+json": {
       "type": "string"
      },
      "text/plain": [
       "\"hi i'm looking to book a table for korean fod\""
      ]
     },
     "execution_count": 23,
     "metadata": {
      "tags": []
     },
     "output_type": "execute_result"
    }
   ],
   "source": [
    "# sample sentence\n",
    "dataset['Sentences'][0]"
   ]
  },
  {
   "cell_type": "code",
   "execution_count": 24,
   "metadata": {
    "colab": {
     "base_uri": "https://localhost:8080/",
     "height": 191
    },
    "colab_type": "code",
    "executionInfo": {
     "elapsed": 1083,
     "status": "ok",
     "timestamp": 1598707243622,
     "user": {
      "displayName": "Aishwarya Singh",
      "photoUrl": "https://lh3.googleusercontent.com/a-/AOh14GgeJwfn4BdBDCAplWi_kdtB9FRssOpXO7T_aMgg=s64",
      "userId": "01105858832371513140"
     },
     "user_tz": -330
    },
    "id": "I_no7YcWxwe3",
    "outputId": "4486c86e-6e63-4957-bf28-afe73bb6abdf"
   },
   "outputs": [
    {
     "data": {
      "text/plain": [
       "[['hi'],\n",
       " [\"i'm\"],\n",
       " ['looking'],\n",
       " ['to'],\n",
       " ['book'],\n",
       " ['a'],\n",
       " ['table'],\n",
       " ['for'],\n",
       " ['korean'],\n",
       " ['fod']]"
      ]
     },
     "execution_count": 24,
     "metadata": {
      "tags": []
     },
     "output_type": "execute_result"
    }
   ],
   "source": [
    "# unigram of the sentence\n",
    "dataset['unigram'][0]"
   ]
  },
  {
   "cell_type": "code",
   "execution_count": 25,
   "metadata": {
    "colab": {
     "base_uri": "https://localhost:8080/",
     "height": 173
    },
    "colab_type": "code",
    "executionInfo": {
     "elapsed": 968,
     "status": "ok",
     "timestamp": 1598707252791,
     "user": {
      "displayName": "Aishwarya Singh",
      "photoUrl": "https://lh3.googleusercontent.com/a-/AOh14GgeJwfn4BdBDCAplWi_kdtB9FRssOpXO7T_aMgg=s64",
      "userId": "01105858832371513140"
     },
     "user_tz": -330
    },
    "id": "7gzONS2bwOEQ",
    "outputId": "c54dbf74-3a3a-4936-e164-285922d9fd51"
   },
   "outputs": [
    {
     "data": {
      "text/plain": [
       "[['hi', \"i'm\"],\n",
       " [\"i'm\", 'looking'],\n",
       " ['looking', 'to'],\n",
       " ['to', 'book'],\n",
       " ['book', 'a'],\n",
       " ['a', 'table'],\n",
       " ['table', 'for'],\n",
       " ['for', 'korean'],\n",
       " ['korean', 'fod']]"
      ]
     },
     "execution_count": 25,
     "metadata": {
      "tags": []
     },
     "output_type": "execute_result"
    }
   ],
   "source": [
    "# bigram of the sentence\n",
    "dataset['bigram'][0]"
   ]
  },
  {
   "cell_type": "code",
   "execution_count": 26,
   "metadata": {
    "colab": {
     "base_uri": "https://localhost:8080/",
     "height": 156
    },
    "colab_type": "code",
    "executionInfo": {
     "elapsed": 960,
     "status": "ok",
     "timestamp": 1598707271109,
     "user": {
      "displayName": "Aishwarya Singh",
      "photoUrl": "https://lh3.googleusercontent.com/a-/AOh14GgeJwfn4BdBDCAplWi_kdtB9FRssOpXO7T_aMgg=s64",
      "userId": "01105858832371513140"
     },
     "user_tz": -330
    },
    "id": "aloMTFGiyA5R",
    "outputId": "13cf6e84-41bb-4dd0-ea4d-8385ad905354"
   },
   "outputs": [
    {
     "data": {
      "text/plain": [
       "[['hi', \"i'm\", 'looking'],\n",
       " [\"i'm\", 'looking', 'to'],\n",
       " ['looking', 'to', 'book'],\n",
       " ['to', 'book', 'a'],\n",
       " ['book', 'a', 'table'],\n",
       " ['a', 'table', 'for'],\n",
       " ['table', 'for', 'korean'],\n",
       " ['for', 'korean', 'fod']]"
      ]
     },
     "execution_count": 26,
     "metadata": {
      "tags": []
     },
     "output_type": "execute_result"
    }
   ],
   "source": [
    "# trigram of the sentence\n",
    "dataset['trigram'][0]"
   ]
  },
  {
   "cell_type": "markdown",
   "metadata": {
    "colab_type": "text",
    "id": "ZA0RJvDXpEP7"
   },
   "source": [
    "## 3. Building the N-gram Language Model"
   ]
  },
  {
   "cell_type": "code",
   "execution_count": 27,
   "metadata": {
    "colab": {},
    "colab_type": "code",
    "executionInfo": {
     "elapsed": 2663,
     "status": "ok",
     "timestamp": 1598708142658,
     "user": {
      "displayName": "Aishwarya Singh",
      "photoUrl": "https://lh3.googleusercontent.com/a-/AOh14GgeJwfn4BdBDCAplWi_kdtB9FRssOpXO7T_aMgg=s64",
      "userId": "01105858832371513140"
     },
     "user_tz": -330
    },
    "id": "Qr3espYo-bYs"
   },
   "outputs": [],
   "source": [
    "# for defining the N-gram model\n",
    "from collections import Counter, defaultdict\n",
    "\n",
    "# Create a placeholder for model\n",
    "model = defaultdict(lambda: defaultdict(lambda: 0))\n",
    "\n",
    "# Count frequency of co-occurance  \n",
    "for i in range(dataset.shape[0]):\n",
    "    # for each trigram pair\n",
    "    for w1, w2, w3 in create_trigram(dataset['Sentences'][i]):\n",
    "        # count the occurance of word 3, given word 1 and word 2\n",
    "        model[(w1, w2)][w3] += 1"
   ]
  },
  {
   "cell_type": "code",
   "execution_count": null,
   "metadata": {
    "colab": {
     "base_uri": "https://localhost:8080/",
     "height": 1000
    },
    "colab_type": "code",
    "executionInfo": {
     "elapsed": 2226,
     "status": "ok",
     "timestamp": 1598708219167,
     "user": {
      "displayName": "Aishwarya Singh",
      "photoUrl": "https://lh3.googleusercontent.com/a-/AOh14GgeJwfn4BdBDCAplWi_kdtB9FRssOpXO7T_aMgg=s64",
      "userId": "01105858832371513140"
     },
     "user_tz": -330
    },
    "id": "7SCDHnMP-bW9",
    "outputId": "c32cb8a4-66c2-4cbd-f42e-32f1a432764b"
   },
   "outputs": [],
   "source": [
    "# defined model\n",
    "model"
   ]
  },
  {
   "cell_type": "markdown",
   "metadata": {
    "colab_type": "text",
    "id": "kFzRi-YGE77L"
   },
   "source": [
    "## 4. Predicting the next word using N-gram Language Model"
   ]
  },
  {
   "cell_type": "code",
   "execution_count": null,
   "metadata": {
    "colab": {
     "base_uri": "https://localhost:8080/",
     "height": 590
    },
    "colab_type": "code",
    "executionInfo": {
     "elapsed": 1378,
     "status": "ok",
     "timestamp": 1598708398439,
     "user": {
      "displayName": "Aishwarya Singh",
      "photoUrl": "https://lh3.googleusercontent.com/a-/AOh14GgeJwfn4BdBDCAplWi_kdtB9FRssOpXO7T_aMgg=s64",
      "userId": "01105858832371513140"
     },
     "user_tz": -330
    },
    "id": "e0UdT5ME-bVB",
    "outputId": "680f4696-2bc6-4c31-bdf5-2cfab8fa3310"
   },
   "outputs": [],
   "source": [
    "# predict the next word\n",
    "dict(model[\"to\", \"book\"])"
   ]
  },
  {
   "cell_type": "code",
   "execution_count": null,
   "metadata": {
    "colab": {
     "base_uri": "https://localhost:8080/",
     "height": 434
    },
    "colab_type": "code",
    "executionInfo": {
     "elapsed": 2856,
     "status": "ok",
     "timestamp": 1598708440040,
     "user": {
      "displayName": "Aishwarya Singh",
      "photoUrl": "https://lh3.googleusercontent.com/a-/AOh14GgeJwfn4BdBDCAplWi_kdtB9FRssOpXO7T_aMgg=s64",
      "userId": "01105858832371513140"
     },
     "user_tz": -330
    },
    "id": "tj53ABrpFDe3",
    "outputId": "15546538-2943-465b-e6f0-e84209c47f29"
   },
   "outputs": [],
   "source": [
    "# another example\n",
    "dict(model[\"my\", \"name\"])"
   ]
  },
  {
   "cell_type": "code",
   "execution_count": 32,
   "metadata": {
    "colab": {
     "base_uri": "https://localhost:8080/",
     "height": 34
    },
    "colab_type": "code",
    "executionInfo": {
     "elapsed": 973,
     "status": "ok",
     "timestamp": 1598708461614,
     "user": {
      "displayName": "Aishwarya Singh",
      "photoUrl": "https://lh3.googleusercontent.com/a-/AOh14GgeJwfn4BdBDCAplWi_kdtB9FRssOpXO7T_aMgg=s64",
      "userId": "01105858832371513140"
     },
     "user_tz": -330
    },
    "id": "wbZM3hu4FMZK",
    "outputId": "f92dc7e0-0841-4cb2-d77c-c20e349cb795"
   },
   "outputs": [
    {
     "data": {
      "text/plain": [
       "{'my': 1, 'the': 2, 'they': 2, 'we': 1, 'ya': 1, 'you': 62}"
      ]
     },
     "execution_count": 32,
     "metadata": {
      "tags": []
     },
     "output_type": "execute_result"
    }
   ],
   "source": [
    "# another example\n",
    "dict(model[\"how\", \"are\"])"
   ]
  },
  {
   "cell_type": "code",
   "execution_count": 33,
   "metadata": {
    "colab": {
     "base_uri": "https://localhost:8080/",
     "height": 208
    },
    "colab_type": "code",
    "executionInfo": {
     "elapsed": 1064,
     "status": "ok",
     "timestamp": 1598708481550,
     "user": {
      "displayName": "Aishwarya Singh",
      "photoUrl": "https://lh3.googleusercontent.com/a-/AOh14GgeJwfn4BdBDCAplWi_kdtB9FRssOpXO7T_aMgg=s64",
      "userId": "01105858832371513140"
     },
     "user_tz": -330
    },
    "id": "7Wiyawo-FRZo",
    "outputId": "b4ea15bc-69f0-4909-f473-d203ca3a9fe1"
   },
   "outputs": [
    {
     "data": {
      "text/plain": [
       "{'bring': 1,\n",
       " 'drive': 1,\n",
       " 'eat': 1,\n",
       " 'go': 10,\n",
       " 'hear': 6,\n",
       " 'know': 20,\n",
       " 'me': 56,\n",
       " 'pass': 1,\n",
       " 'the': 1,\n",
       " 'watch': 1,\n",
       " 'you': 2}"
      ]
     },
     "execution_count": 33,
     "metadata": {
      "tags": []
     },
     "output_type": "execute_result"
    }
   ],
   "source": [
    "# another example\n",
    "dict(model[\"good\", \"to\"])"
   ]
  },
  {
   "cell_type": "markdown",
   "metadata": {
    "colab_type": "text",
    "id": "tp2UfPq9FXqm"
   },
   "source": [
    "### Probabilistic Output"
   ]
  },
  {
   "cell_type": "code",
   "execution_count": 34,
   "metadata": {
    "colab": {
     "base_uri": "https://localhost:8080/",
     "height": 34
    },
    "colab_type": "code",
    "executionInfo": {
     "elapsed": 2449,
     "status": "ok",
     "timestamp": 1598708544797,
     "user": {
      "displayName": "Aishwarya Singh",
      "photoUrl": "https://lh3.googleusercontent.com/a-/AOh14GgeJwfn4BdBDCAplWi_kdtB9FRssOpXO7T_aMgg=s64",
      "userId": "01105858832371513140"
     },
     "user_tz": -330
    },
    "id": "oWZDMXOuMeA0",
    "outputId": "a1ff053a-8163-4d3a-a4e8-3f530e8d1d30"
   },
   "outputs": [
    {
     "name": "stderr",
     "output_type": "stream",
     "text": [
      "100%|██████████| 64776/64776 [00:01<00:00, 43901.32it/s]\n"
     ]
    }
   ],
   "source": [
    "# creating the unigram list\n",
    "unigram_dict = {}\n",
    "for i in tqdm(range(dataset.shape[0])):\n",
    "    # add word-count pair to the dictionary\n",
    "    for word in dataset['unigram'][i]:   \n",
    "        # check if the word is already in dictionary \n",
    "        if word[0] in unigram_dict:\n",
    "            # increment count of word by 1 \n",
    "            unigram_dict[word[0]] = unigram_dict[word[0]] + 1\n",
    "        else:\n",
    "            # add the word to dictionary with count 1 \n",
    "            unigram_dict[word[0]] = 1"
   ]
  },
  {
   "cell_type": "code",
   "execution_count": null,
   "metadata": {
    "colab": {
     "base_uri": "https://localhost:8080/",
     "height": 1000
    },
    "colab_type": "code",
    "executionInfo": {
     "elapsed": 1377,
     "status": "ok",
     "timestamp": 1598708546335,
     "user": {
      "displayName": "Aishwarya Singh",
      "photoUrl": "https://lh3.googleusercontent.com/a-/AOh14GgeJwfn4BdBDCAplWi_kdtB9FRssOpXO7T_aMgg=s64",
      "userId": "01105858832371513140"
     },
     "user_tz": -330
    },
    "id": "GasCzHLDFqiq",
    "outputId": "0edda3a0-3c71-4926-9391-79406e2ea478"
   },
   "outputs": [],
   "source": [
    "# unigram list\n",
    "unigram_dict"
   ]
  },
  {
   "cell_type": "code",
   "execution_count": null,
   "metadata": {
    "colab": {
     "base_uri": "https://localhost:8080/",
     "height": 1000
    },
    "colab_type": "code",
    "executionInfo": {
     "elapsed": 1034,
     "status": "ok",
     "timestamp": 1598708613109,
     "user": {
      "displayName": "Aishwarya Singh",
      "photoUrl": "https://lh3.googleusercontent.com/a-/AOh14GgeJwfn4BdBDCAplWi_kdtB9FRssOpXO7T_aMgg=s64",
      "userId": "01105858832371513140"
     },
     "user_tz": -330
    },
    "id": "_vnH44T5Fx97",
    "outputId": "c76d83d5-83c7-4785-8275-5373015a90dd"
   },
   "outputs": [],
   "source": [
    "# find the overall frequency of words in the corpus\n",
    "counts = Counter(unigram_dict)\n",
    "counts"
   ]
  },
  {
   "cell_type": "code",
   "execution_count": 37,
   "metadata": {
    "colab": {
     "base_uri": "https://localhost:8080/",
     "height": 34
    },
    "colab_type": "code",
    "executionInfo": {
     "elapsed": 2208,
     "status": "ok",
     "timestamp": 1598708625819,
     "user": {
      "displayName": "Aishwarya Singh",
      "photoUrl": "https://lh3.googleusercontent.com/a-/AOh14GgeJwfn4BdBDCAplWi_kdtB9FRssOpXO7T_aMgg=s64",
      "userId": "01105858832371513140"
     },
     "user_tz": -330
    },
    "id": "T81t2269Fys6",
    "outputId": "6ff23f46-493e-4d73-ef88-0d307b63583d"
   },
   "outputs": [
    {
     "data": {
      "text/plain": [
       "11147"
      ]
     },
     "execution_count": 37,
     "metadata": {
      "tags": []
     },
     "output_type": "execute_result"
    }
   ],
   "source": [
    "# vocabulary size\n",
    "total_count = len(unigram_dict)\n",
    "total_count"
   ]
  },
  {
   "cell_type": "code",
   "execution_count": null,
   "metadata": {
    "colab": {
     "base_uri": "https://localhost:8080/",
     "height": 1000
    },
    "colab_type": "code",
    "executionInfo": {
     "elapsed": 1075,
     "status": "ok",
     "timestamp": 1598708634114,
     "user": {
      "displayName": "Aishwarya Singh",
      "photoUrl": "https://lh3.googleusercontent.com/a-/AOh14GgeJwfn4BdBDCAplWi_kdtB9FRssOpXO7T_aMgg=s64",
      "userId": "01105858832371513140"
     },
     "user_tz": -330
    },
    "id": "kBorxm7TJOCp",
    "outputId": "523fc1a1-f04c-457e-a64d-8b41aa31c881"
   },
   "outputs": [],
   "source": [
    "# relative frequencies of each word\n",
    "for word in counts:\n",
    "    counts[word] /= float(total_count)\n",
    "\n",
    "counts"
   ]
  },
  {
   "cell_type": "code",
   "execution_count": 40,
   "metadata": {
    "colab": {},
    "colab_type": "code",
    "executionInfo": {
     "elapsed": 1036,
     "status": "ok",
     "timestamp": 1598708727177,
     "user": {
      "displayName": "Aishwarya Singh",
      "photoUrl": "https://lh3.googleusercontent.com/a-/AOh14GgeJwfn4BdBDCAplWi_kdtB9FRssOpXO7T_aMgg=s64",
      "userId": "01105858832371513140"
     },
     "user_tz": -330
    },
    "id": "EYowHiwjGKcC"
   },
   "outputs": [],
   "source": [
    "# Let's transform the counts to probabilities\n",
    "for w1_w2 in model:\n",
    "    total_count = float(sum(model[w1_w2].values()))\n",
    "    for w3 in model[w1_w2]:\n",
    "        model[w1_w2][w3] /= total_count"
   ]
  },
  {
   "cell_type": "code",
   "execution_count": 41,
   "metadata": {
    "colab": {
     "base_uri": "https://localhost:8080/",
     "height": 590
    },
    "colab_type": "code",
    "executionInfo": {
     "elapsed": 1062,
     "status": "ok",
     "timestamp": 1598708734879,
     "user": {
      "displayName": "Aishwarya Singh",
      "photoUrl": "https://lh3.googleusercontent.com/a-/AOh14GgeJwfn4BdBDCAplWi_kdtB9FRssOpXO7T_aMgg=s64",
      "userId": "01105858832371513140"
     },
     "user_tz": -330
    },
    "id": "7K2Mp1FqPT0Z",
    "outputId": "62c4a4a8-1897-4166-b902-8482bcd9adaf"
   },
   "outputs": [
    {
     "data": {
      "text/plain": [
       "{'a': 0.4547677261613695,\n",
       " 'an': 0.26161369193154055,\n",
       " 'and': 0.0024449877750611264,\n",
       " 'any': 0.0024449877750611264,\n",
       " 'anymore': 0.0024449877750611264,\n",
       " 'anything': 0.0024449877750611264,\n",
       " 'at': 0.02200488997555014,\n",
       " 'dinner': 0.0024449877750611264,\n",
       " 'flight': 0.0024449877750611264,\n",
       " 'for': 0.012224938875305633,\n",
       " 'four': 0.0024449877750611264,\n",
       " 'it': 0.02200488997555014,\n",
       " 'later': 0.0024449877750611264,\n",
       " 'me': 0.03911980440097802,\n",
       " 'movie': 0.009779951100244506,\n",
       " 'my': 0.004889975550122253,\n",
       " \"patty's\": 0.0024449877750611264,\n",
       " 'reservation': 0.0024449877750611264,\n",
       " 'reservations': 0.01466992665036676,\n",
       " 'shared': 0.0024449877750611264,\n",
       " 'some': 0.03178484107579465,\n",
       " 'something': 0.0024449877750611264,\n",
       " 'that': 0.00733496332518338,\n",
       " 'the': 0.02689486552567239,\n",
       " 'there': 0.00733496332518338,\n",
       " 'this': 0.00733496332518338,\n",
       " 'through': 0.0024449877750611264,\n",
       " 'tickets': 0.01466992665036676,\n",
       " 'two': 0.01466992665036676,\n",
       " 'uberxl': 0.0024449877750611264,\n",
       " 'us': 0.0024449877750611264,\n",
       " 'with': 0.004889975550122253,\n",
       " 'your': 0.00733496332518338}"
      ]
     },
     "execution_count": 41,
     "metadata": {
      "tags": []
     },
     "output_type": "execute_result"
    }
   ],
   "source": [
    "# predict the next word\n",
    "dict(model[\"to\", \"book\"])"
   ]
  },
  {
   "cell_type": "code",
   "execution_count": 42,
   "metadata": {
    "colab": {
     "base_uri": "https://localhost:8080/",
     "height": 121
    },
    "colab_type": "code",
    "executionInfo": {
     "elapsed": 1020,
     "status": "ok",
     "timestamp": 1598708762816,
     "user": {
      "displayName": "Aishwarya Singh",
      "photoUrl": "https://lh3.googleusercontent.com/a-/AOh14GgeJwfn4BdBDCAplWi_kdtB9FRssOpXO7T_aMgg=s64",
      "userId": "01105858832371513140"
     },
     "user_tz": -330
    },
    "id": "sE5CwKDrIl9J",
    "outputId": "a4d8d951-6ebd-40f6-d73a-a413861e8368"
   },
   "outputs": [
    {
     "data": {
      "text/plain": [
       "{'my': 0.014492753623188408,\n",
       " 'the': 0.028985507246376815,\n",
       " 'they': 0.028985507246376815,\n",
       " 'we': 0.014492753623188408,\n",
       " 'ya': 0.014492753623188408,\n",
       " 'you': 0.8985507246376813}"
      ]
     },
     "execution_count": 42,
     "metadata": {
      "tags": []
     },
     "output_type": "execute_result"
    }
   ],
   "source": [
    "# another example\n",
    "dict(model[\"how\", \"are\"])"
   ]
  },
  {
   "cell_type": "code",
   "execution_count": 43,
   "metadata": {
    "colab": {
     "base_uri": "https://localhost:8080/",
     "height": 208
    },
    "colab_type": "code",
    "executionInfo": {
     "elapsed": 1032,
     "status": "ok",
     "timestamp": 1598708772830,
     "user": {
      "displayName": "Aishwarya Singh",
      "photoUrl": "https://lh3.googleusercontent.com/a-/AOh14GgeJwfn4BdBDCAplWi_kdtB9FRssOpXO7T_aMgg=s64",
      "userId": "01105858832371513140"
     },
     "user_tz": -330
    },
    "id": "HVT38E8sIu51",
    "outputId": "09698a15-63e6-4a13-d0a4-5f193e940a2d"
   },
   "outputs": [
    {
     "data": {
      "text/plain": [
       "{'bring': 0.01,\n",
       " 'drive': 0.01,\n",
       " 'eat': 0.01,\n",
       " 'go': 0.1,\n",
       " 'hear': 0.06,\n",
       " 'know': 0.2,\n",
       " 'me': 0.56,\n",
       " 'pass': 0.01,\n",
       " 'the': 0.01,\n",
       " 'watch': 0.01,\n",
       " 'you': 0.02}"
      ]
     },
     "execution_count": 43,
     "metadata": {
      "tags": []
     },
     "output_type": "execute_result"
    }
   ],
   "source": [
    "# another example\n",
    "dict(model[\"good\", \"to\"])"
   ]
  },
  {
   "cell_type": "code",
   "execution_count": null,
   "metadata": {
    "colab": {},
    "colab_type": "code",
    "id": "gRuf0xBed8Xe"
   },
   "outputs": [],
   "source": []
  }
 ],
 "metadata": {
  "accelerator": "GPU",
  "colab": {
   "collapsed_sections": [],
   "name": "10.6 Next word Recommender System.ipynb",
   "provenance": [
    {
     "file_id": "1PmVAFYgvbgcF-rKTzMNog5Ke3LHsLmPY",
     "timestamp": 1596700467348
    }
   ]
  },
  "kernelspec": {
   "display_name": "Python 3 (ipykernel)",
   "language": "python",
   "name": "python3"
  },
  "language_info": {
   "codemirror_mode": {
    "name": "ipython",
    "version": 3
   },
   "file_extension": ".py",
   "mimetype": "text/x-python",
   "name": "python",
   "nbconvert_exporter": "python",
   "pygments_lexer": "ipython3",
   "version": "3.11.4"
  }
 },
 "nbformat": 4,
 "nbformat_minor": 4
}
