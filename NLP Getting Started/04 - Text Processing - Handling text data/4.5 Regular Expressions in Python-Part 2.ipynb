{
 "cells": [
  {
   "cell_type": "markdown",
   "metadata": {
    "colab_type": "text",
    "id": "oY2ol3TuA1tP"
   },
   "source": [
    "# Regular Expressions in Python\n",
    "### Table of contents:\n",
    "1. **match()**\n",
    "2. **search()**\n",
    "3. **findall()**\n",
    "4. **finditer()**\n",
    "5. **sub()**\n",
    "6. **split()**\n",
    "7. **Groups**"
   ]
  },
  {
   "cell_type": "code",
   "execution_count": 1,
   "metadata": {
    "colab": {},
    "colab_type": "code",
    "executionInfo": {
     "elapsed": 3309,
     "status": "ok",
     "timestamp": 1598462958206,
     "user": {
      "displayName": "Aishwarya Singh",
      "photoUrl": "https://lh3.googleusercontent.com/a-/AOh14GgeJwfn4BdBDCAplWi_kdtB9FRssOpXO7T_aMgg=s64",
      "userId": "01105858832371513140"
     },
     "user_tz": -330
    },
    "id": "w65YcZrUA1tT",
    "tags": []
   },
   "outputs": [],
   "source": [
    "import re"
   ]
  },
  {
   "cell_type": "markdown",
   "metadata": {
    "colab_type": "text",
    "id": "mTo7BrfvA1th"
   },
   "source": [
    "## 1. match()\n",
    "Checks for a match only at the beginning of the string"
   ]
  },
  {
   "cell_type": "code",
   "execution_count": 2,
   "metadata": {
    "_cell_guid": "b1076dfc-b9ad-4769-8c92-a6c4dae69d19",
    "_uuid": "8f2839f25d086af736a60e9eeb907d3b93b6e0e5",
    "colab": {
     "base_uri": "https://localhost:8080/",
     "height": 34
    },
    "colab_type": "code",
    "executionInfo": {
     "elapsed": 2159,
     "status": "ok",
     "timestamp": 1598462990697,
     "user": {
      "displayName": "Aishwarya Singh",
      "photoUrl": "https://lh3.googleusercontent.com/a-/AOh14GgeJwfn4BdBDCAplWi_kdtB9FRssOpXO7T_aMgg=s64",
      "userId": "01105858832371513140"
     },
     "user_tz": -330
    },
    "id": "x51ZeL5YA1tm",
    "outputId": "dcceec1a-31a2-475e-f704-34a3deee0d03",
    "scrolled": true,
    "tags": []
   },
   "outputs": [
    {
     "name": "stdout",
     "output_type": "stream",
     "text": [
      "<re.Match object; span=(0, 5), match='Tiger'>\n"
     ]
    }
   ],
   "source": [
    "# Defining a string\n",
    "string = \"Tiger is the national animal of India. Tiger lives in Forest.\"\n",
    "\n",
    "# Defining the pattern\n",
    "pattern = \"Tiger\"\n",
    "\n",
    "# Running match() on a string\n",
    "result = re.match(pattern, string)\n",
    "\n",
    "# Printing the result\n",
    "print(result)"
   ]
  },
  {
   "cell_type": "code",
   "execution_count": 3,
   "metadata": {
    "colab": {
     "base_uri": "https://localhost:8080/",
     "height": 34
    },
    "colab_type": "code",
    "executionInfo": {
     "elapsed": 1090,
     "status": "ok",
     "timestamp": 1598463114036,
     "user": {
      "displayName": "Aishwarya Singh",
      "photoUrl": "https://lh3.googleusercontent.com/a-/AOh14GgeJwfn4BdBDCAplWi_kdtB9FRssOpXO7T_aMgg=s64",
      "userId": "01105858832371513140"
     },
     "user_tz": -330
    },
    "id": "1hvbChN1A1tx",
    "outputId": "00eda4d3-681f-4e2c-9702-5ebfcabfd363",
    "tags": []
   },
   "outputs": [
    {
     "name": "stdout",
     "output_type": "stream",
     "text": [
      "Tiger\n"
     ]
    }
   ],
   "source": [
    "# Defining a string\n",
    "string = \"Tiger is the national animal of India. Tiger lives in Forest.\"\n",
    "\n",
    "# Defining the pattern\n",
    "pattern = \"Tiger\"\n",
    "\n",
    "# Extracting String from a match object\n",
    "result = re.match(pattern, string).group()\n",
    "\n",
    "# Printing the result\n",
    "print(result)"
   ]
  },
  {
   "cell_type": "code",
   "execution_count": 6,
   "metadata": {
    "colab": {
     "base_uri": "https://localhost:8080/",
     "height": 34
    },
    "colab_type": "code",
    "executionInfo": {
     "elapsed": 1213,
     "status": "ok",
     "timestamp": 1598463131548,
     "user": {
      "displayName": "Aishwarya Singh",
      "photoUrl": "https://lh3.googleusercontent.com/a-/AOh14GgeJwfn4BdBDCAplWi_kdtB9FRssOpXO7T_aMgg=s64",
      "userId": "01105858832371513140"
     },
     "user_tz": -330
    },
    "id": "E7jP27xLA1t6",
    "outputId": "10b25519-f82a-4472-d939-7d9f229f89e9",
    "scrolled": true,
    "tags": []
   },
   "outputs": [
    {
     "name": "stdout",
     "output_type": "stream",
     "text": [
      "None\n"
     ]
    }
   ],
   "source": [
    "string = \"The national animal of India is Tiger. Tiger lives in Forest.\"\n",
    "pattern = \"Tiger\"\n",
    "\n",
    "# Checking for match\n",
    "result = re.match(pattern, string)\n",
    "print(result)"
   ]
  },
  {
   "cell_type": "markdown",
   "metadata": {
    "colab_type": "text",
    "id": "6Yn2DE-EA1uE"
   },
   "source": [
    "## 2. search()\n",
    "Locates a sub-string matching the RegEx pattern anywhere in the string"
   ]
  },
  {
   "cell_type": "code",
   "execution_count": 5,
   "metadata": {
    "_cell_guid": "79c7e3d0-c299-4dcb-8224-4455121ee9b0",
    "_uuid": "d629ff2d2480ee46fbb7e2d37f6b5fab8052498a",
    "colab": {
     "base_uri": "https://localhost:8080/",
     "height": 34
    },
    "colab_type": "code",
    "executionInfo": {
     "elapsed": 954,
     "status": "ok",
     "timestamp": 1598463160439,
     "user": {
      "displayName": "Aishwarya Singh",
      "photoUrl": "https://lh3.googleusercontent.com/a-/AOh14GgeJwfn4BdBDCAplWi_kdtB9FRssOpXO7T_aMgg=s64",
      "userId": "01105858832371513140"
     },
     "user_tz": -330
    },
    "id": "XKpgamKVA1uF",
    "outputId": "15e173d5-1303-4e8e-f24b-5766b0fb8269"
   },
   "outputs": [
    {
     "name": "stdout",
     "output_type": "stream",
     "text": [
      "<_sre.SRE_Match object; span=(32, 37), match='Tiger'>\n"
     ]
    }
   ],
   "source": [
    "string = \"The national animal of India is Tiger. Tiger lives in Forest.\"\n",
    "pattern = \"Tiger\"\n",
    "\n",
    "# Searching a substring using search()\n",
    "result = re.search(pattern, string)\n",
    "print(result)"
   ]
  },
  {
   "cell_type": "code",
   "execution_count": 6,
   "metadata": {
    "colab": {
     "base_uri": "https://localhost:8080/",
     "height": 34
    },
    "colab_type": "code",
    "executionInfo": {
     "elapsed": 974,
     "status": "ok",
     "timestamp": 1598463179567,
     "user": {
      "displayName": "Aishwarya Singh",
      "photoUrl": "https://lh3.googleusercontent.com/a-/AOh14GgeJwfn4BdBDCAplWi_kdtB9FRssOpXO7T_aMgg=s64",
      "userId": "01105858832371513140"
     },
     "user_tz": -330
    },
    "id": "ldnqMaHVA1uN",
    "outputId": "c8876875-f8c0-42f0-e3d0-fecdfe6ee319"
   },
   "outputs": [
    {
     "name": "stdout",
     "output_type": "stream",
     "text": [
      "Tiger\n"
     ]
    }
   ],
   "source": [
    "string = \"The national animal of India is Tiger. Tiger lives in Forest.\"\n",
    "pattern = \"Tiger\"\n",
    "\n",
    "# Extracting searched string\n",
    "result = re.search(pattern, string).group()\n",
    "print(result)"
   ]
  },
  {
   "cell_type": "markdown",
   "metadata": {
    "colab_type": "text",
    "id": "5938aTk1A1uV"
   },
   "source": [
    "## 3. findall()\n",
    "Finds all the sub-strings matching the RegEx pattern"
   ]
  },
  {
   "cell_type": "code",
   "execution_count": 7,
   "metadata": {
    "_uuid": "d855bf8d6fe5b798eb03bb768b6ebc5b897a8d8d",
    "colab": {
     "base_uri": "https://localhost:8080/",
     "height": 34
    },
    "colab_type": "code",
    "executionInfo": {
     "elapsed": 1262,
     "status": "ok",
     "timestamp": 1598463231281,
     "user": {
      "displayName": "Aishwarya Singh",
      "photoUrl": "https://lh3.googleusercontent.com/a-/AOh14GgeJwfn4BdBDCAplWi_kdtB9FRssOpXO7T_aMgg=s64",
      "userId": "01105858832371513140"
     },
     "user_tz": -330
    },
    "id": "7DZgJFyuA1uX",
    "outputId": "471d0f17-6404-4d15-da02-bf140366ace8",
    "scrolled": true
   },
   "outputs": [
    {
     "name": "stdout",
     "output_type": "stream",
     "text": [
      "['Tiger', 'Tiger']\n"
     ]
    }
   ],
   "source": [
    "string = \"The national animal of India is Tiger. Tiger lives in Forest.\"\n",
    "pattern = \"Tiger\"\n",
    "\n",
    "# Using findall() on a string\n",
    "result = re.findall(pattern, string)\n",
    "print(result)"
   ]
  },
  {
   "cell_type": "code",
   "execution_count": 9,
   "metadata": {
    "_uuid": "0174d065ea3d943f1e07ce2a8bb3054de73f246e",
    "colab": {
     "base_uri": "https://localhost:8080/",
     "height": 34
    },
    "colab_type": "code",
    "executionInfo": {
     "elapsed": 1081,
     "status": "ok",
     "timestamp": 1598463323709,
     "user": {
      "displayName": "Aishwarya Singh",
      "photoUrl": "https://lh3.googleusercontent.com/a-/AOh14GgeJwfn4BdBDCAplWi_kdtB9FRssOpXO7T_aMgg=s64",
      "userId": "01105858832371513140"
     },
     "user_tz": -330
    },
    "id": "OpMfeQRPA1ud",
    "outputId": "15935327-c866-4cdc-b7b6-a4a90d584f82"
   },
   "outputs": [
    {
     "data": {
      "text/plain": [
       "['15-08-1947', '26-01-1950']"
      ]
     },
     "execution_count": 9,
     "metadata": {
      "tags": []
     },
     "output_type": "execute_result"
    }
   ],
   "source": [
    "# Defining the string\n",
    "text = \"India got freedom on 15-08-1947, and it is celebrated as Independence Day.\\\n",
    "        Indian Constitution came into effect on 26-01-1950, and it is celebrated as Republic Day.\"\n",
    "\n",
    "# Defining the pattern\n",
    "date_pattern = r'\\d{2}-\\d{2}-\\d{4}'\n",
    "\n",
    "# Extracting dates using findall()\n",
    "re.findall(date_pattern, text)"
   ]
  },
  {
   "cell_type": "markdown",
   "metadata": {
    "colab_type": "text",
    "id": "UbIaQpWmA1uk"
   },
   "source": [
    "## 4. finditer()\n",
    "Similar to findall() but returns an iterator"
   ]
  },
  {
   "cell_type": "code",
   "execution_count": 10,
   "metadata": {
    "colab": {
     "base_uri": "https://localhost:8080/",
     "height": 104
    },
    "colab_type": "code",
    "executionInfo": {
     "elapsed": 1165,
     "status": "ok",
     "timestamp": 1598463345069,
     "user": {
      "displayName": "Aishwarya Singh",
      "photoUrl": "https://lh3.googleusercontent.com/a-/AOh14GgeJwfn4BdBDCAplWi_kdtB9FRssOpXO7T_aMgg=s64",
      "userId": "01105858832371513140"
     },
     "user_tz": -330
    },
    "id": "Ml0mr66_A1um",
    "outputId": "620d422c-81e5-4b21-9b17-4daeb682f2dc"
   },
   "outputs": [
    {
     "name": "stdout",
     "output_type": "stream",
     "text": [
      "<callable_iterator object at 0x7f79f1704b00>\n",
      "<_sre.SRE_Match object; span=(32, 37), match='Tiger'>\n",
      "Start: 32  End: 37  Sub-string: Tiger\n",
      "<_sre.SRE_Match object; span=(39, 44), match='Tiger'>\n",
      "Start: 39  End: 44  Sub-string: Tiger\n"
     ]
    }
   ],
   "source": [
    "string = \"The national animal of India is Tiger. Tiger lives in Forest.\"\n",
    "pattern = \"Tiger\"\n",
    "\n",
    "# Using finditer() on a string\n",
    "result = re.finditer(pattern, string)\n",
    "print(result)\n",
    "\n",
    "# Iterating over the iterator\n",
    "for m in result:\n",
    "    # Printing match object\n",
    "    print(m)\n",
    "    # Printing starting and ending index with matched substring\n",
    "    print('Start:',m.start(),' End:',m.end(),' Sub-string:',m.group())"
   ]
  },
  {
   "cell_type": "markdown",
   "metadata": {
    "colab_type": "text",
    "id": "l4ZatWPxA1us"
   },
   "source": [
    "## 5. sub()\n",
    "Searches for a substring and replaces it with another string"
   ]
  },
  {
   "cell_type": "code",
   "execution_count": 11,
   "metadata": {
    "_uuid": "33fbc134ce0f031a1edad8ceb7cb1f59b5054c63",
    "colab": {
     "base_uri": "https://localhost:8080/",
     "height": 34
    },
    "colab_type": "code",
    "executionInfo": {
     "elapsed": 1127,
     "status": "ok",
     "timestamp": 1598463394101,
     "user": {
      "displayName": "Aishwarya Singh",
      "photoUrl": "https://lh3.googleusercontent.com/a-/AOh14GgeJwfn4BdBDCAplWi_kdtB9FRssOpXO7T_aMgg=s64",
      "userId": "01105858832371513140"
     },
     "user_tz": -330
    },
    "id": "TUyGHQMOA1ut",
    "outputId": "1b851ebe-1f6f-40c9-af41-4b468f1ddb94"
   },
   "outputs": [
    {
     "name": "stdout",
     "output_type": "stream",
     "text": [
      "Analytics Vidhya is largest Analytics community of the World.\n"
     ]
    }
   ],
   "source": [
    "text=\"Analytics Vidhya is largest Analytics community of India.\"\n",
    "\n",
    "# Replacing a substring using sub()\n",
    "result=re.sub('India', 'the World',text)\n",
    "print(result)"
   ]
  },
  {
   "cell_type": "markdown",
   "metadata": {
    "colab_type": "text",
    "id": "_bWP1kRFA1uz"
   },
   "source": [
    "## 6. split()\n",
    "Split the text by the given RegEx Pattern"
   ]
  },
  {
   "cell_type": "code",
   "execution_count": 12,
   "metadata": {
    "_uuid": "3c9c19a5a0c97d11d81c5eb0f27f19966f92c263",
    "colab": {
     "base_uri": "https://localhost:8080/",
     "height": 34
    },
    "colab_type": "code",
    "executionInfo": {
     "elapsed": 1353,
     "status": "ok",
     "timestamp": 1598463430454,
     "user": {
      "displayName": "Aishwarya Singh",
      "photoUrl": "https://lh3.googleusercontent.com/a-/AOh14GgeJwfn4BdBDCAplWi_kdtB9FRssOpXO7T_aMgg=s64",
      "userId": "01105858832371513140"
     },
     "user_tz": -330
    },
    "id": "frzMC9RSA1u0",
    "outputId": "90beee04-42fe-4a74-f01e-8494fb6a014c"
   },
   "outputs": [
    {
     "data": {
      "text/plain": [
       "['I have a big test tomorrow', \" I can't go out tonight.\"]"
      ]
     },
     "execution_count": 12,
     "metadata": {
      "tags": []
     },
     "output_type": "execute_result"
    }
   ],
   "source": [
    "line = \"I have a big test tomorrow; I can't go out tonight.\"\n",
    "\n",
    "# Splitting a string into multiple substrings\n",
    "re.split(r'[;]', line)"
   ]
  },
  {
   "cell_type": "markdown",
   "metadata": {
    "colab_type": "text",
    "id": "hQ5kACDYA1u8"
   },
   "source": [
    "## 7. Groups"
   ]
  },
  {
   "cell_type": "code",
   "execution_count": 13,
   "metadata": {
    "colab": {
     "base_uri": "https://localhost:8080/",
     "height": 34
    },
    "colab_type": "code",
    "executionInfo": {
     "elapsed": 1073,
     "status": "ok",
     "timestamp": 1598463578860,
     "user": {
      "displayName": "Aishwarya Singh",
      "photoUrl": "https://lh3.googleusercontent.com/a-/AOh14GgeJwfn4BdBDCAplWi_kdtB9FRssOpXO7T_aMgg=s64",
      "userId": "01105858832371513140"
     },
     "user_tz": -330
    },
    "id": "x0YFvtRYA1u-",
    "outputId": "9f02c6f5-efea-455c-bcc4-dd03031c31ee"
   },
   "outputs": [
    {
     "name": "stdout",
     "output_type": "stream",
     "text": [
      "['Ajay credited $500 to your account on 13-08-2020', 'Anmol debited $1,700 from your account on 14-08-2020', 'Alex debited $100 on 16-08-2020']\n"
     ]
    }
   ],
   "source": [
    "# Running a simple pattern on some text\n",
    "string=\"Ajay credited $500 to your account on 13-08-2020.\\\n",
    "      Anmol debited $1,700 from your account on 14-08-2020.\\\n",
    "      Alex debited $100 on 16-08-2020 from your account.\"\n",
    "\n",
    "pattern=\"[\\w]+ [\\w]+ \\$[\\d,]+ [a-zA-z ]+ \\d{2}-\\d{2}-\\d{4}\"\n",
    "\n",
    "result=re.findall(pattern,string)\n",
    "\n",
    "print(result)"
   ]
  },
  {
   "cell_type": "code",
   "execution_count": 14,
   "metadata": {
    "colab": {
     "base_uri": "https://localhost:8080/",
     "height": 34
    },
    "colab_type": "code",
    "executionInfo": {
     "elapsed": 1051,
     "status": "ok",
     "timestamp": 1598463627261,
     "user": {
      "displayName": "Aishwarya Singh",
      "photoUrl": "https://lh3.googleusercontent.com/a-/AOh14GgeJwfn4BdBDCAplWi_kdtB9FRssOpXO7T_aMgg=s64",
      "userId": "01105858832371513140"
     },
     "user_tz": -330
    },
    "id": "cQ8xvKvhA1vE",
    "outputId": "d0addbe3-2c94-4881-f210-c25b59891645"
   },
   "outputs": [
    {
     "name": "stdout",
     "output_type": "stream",
     "text": [
      "[('Ajay', 'credited', '$500', '13-08-2020'), ('Anmol', 'debited', '$1,700', '14-08-2020'), ('Alex', 'debited', '$100', '16-08-2020')]\n"
     ]
    }
   ],
   "source": [
    "string=\"Ajay credited $500 to your account on 13-08-2020.\\\n",
    "      Anmol debited $1,700 from your account on 14-08-2020.\\\n",
    "      Alex debited $100 on 16-08-2020 from your account.\"\n",
    "\n",
    "# Creating groups in the previous pattern\n",
    "pattern=\"([\\w]+) ([\\w]+) (\\$[\\d,]+) [a-zA-z ]+ (\\d{2}-\\d{2}-\\d{4})\"\n",
    "\n",
    "result=re.findall(pattern,string)\n",
    "\n",
    "print(result)"
   ]
  },
  {
   "cell_type": "code",
   "execution_count": 15,
   "metadata": {
    "colab": {
     "base_uri": "https://localhost:8080/",
     "height": 143
    },
    "colab_type": "code",
    "executionInfo": {
     "elapsed": 1109,
     "status": "ok",
     "timestamp": 1598463641288,
     "user": {
      "displayName": "Aishwarya Singh",
      "photoUrl": "https://lh3.googleusercontent.com/a-/AOh14GgeJwfn4BdBDCAplWi_kdtB9FRssOpXO7T_aMgg=s64",
      "userId": "01105858832371513140"
     },
     "user_tz": -330
    },
    "id": "UOF8foSKA1vL",
    "outputId": "4d864902-6e10-4735-ecf3-78648a501953"
   },
   "outputs": [
    {
     "data": {
      "text/html": [
       "<div>\n",
       "<style scoped>\n",
       "    .dataframe tbody tr th:only-of-type {\n",
       "        vertical-align: middle;\n",
       "    }\n",
       "\n",
       "    .dataframe tbody tr th {\n",
       "        vertical-align: top;\n",
       "    }\n",
       "\n",
       "    .dataframe thead th {\n",
       "        text-align: right;\n",
       "    }\n",
       "</style>\n",
       "<table border=\"1\" class=\"dataframe\">\n",
       "  <thead>\n",
       "    <tr style=\"text-align: right;\">\n",
       "      <th></th>\n",
       "      <th>Name</th>\n",
       "      <th>Type</th>\n",
       "      <th>Amount</th>\n",
       "      <th>Date</th>\n",
       "    </tr>\n",
       "  </thead>\n",
       "  <tbody>\n",
       "    <tr>\n",
       "      <th>0</th>\n",
       "      <td>Ajay</td>\n",
       "      <td>credited</td>\n",
       "      <td>$500</td>\n",
       "      <td>13-08-2020</td>\n",
       "    </tr>\n",
       "    <tr>\n",
       "      <th>1</th>\n",
       "      <td>Anmol</td>\n",
       "      <td>debited</td>\n",
       "      <td>$1,700</td>\n",
       "      <td>14-08-2020</td>\n",
       "    </tr>\n",
       "    <tr>\n",
       "      <th>2</th>\n",
       "      <td>Alex</td>\n",
       "      <td>debited</td>\n",
       "      <td>$100</td>\n",
       "      <td>16-08-2020</td>\n",
       "    </tr>\n",
       "  </tbody>\n",
       "</table>\n",
       "</div>"
      ],
      "text/plain": [
       "    Name      Type  Amount        Date\n",
       "0   Ajay  credited    $500  13-08-2020\n",
       "1  Anmol   debited  $1,700  14-08-2020\n",
       "2   Alex   debited    $100  16-08-2020"
      ]
     },
     "execution_count": 15,
     "metadata": {
      "tags": []
     },
     "output_type": "execute_result"
    }
   ],
   "source": [
    "import pandas as pd\n",
    "\n",
    "# Creating a dataframe\n",
    "df=pd.DataFrame(result,columns=['Name','Type','Amount','Date'])\n",
    "df"
   ]
  },
  {
   "cell_type": "code",
   "execution_count": 16,
   "metadata": {
    "colab": {
     "base_uri": "https://localhost:8080/",
     "height": 69
    },
    "colab_type": "code",
    "executionInfo": {
     "elapsed": 1026,
     "status": "ok",
     "timestamp": 1598463690222,
     "user": {
      "displayName": "Aishwarya Singh",
      "photoUrl": "https://lh3.googleusercontent.com/a-/AOh14GgeJwfn4BdBDCAplWi_kdtB9FRssOpXO7T_aMgg=s64",
      "userId": "01105858832371513140"
     },
     "user_tz": -330
    },
    "id": "ZwsASy4EA1vS",
    "outputId": "c8e710c8-fecf-449b-be8b-bb84d1cd0dea",
    "scrolled": true
   },
   "outputs": [
    {
     "name": "stdout",
     "output_type": "stream",
     "text": [
      "Ajay credited $500 to your account on 13-08-2020 => Ajay => credited => $500 => 13-08-2020\n",
      "Anmol debited $1,700 from your account on 14-08-2020 => Anmol => debited => $1,700 => 14-08-2020\n",
      "Alex debited $100 on 16-08-2020 => Alex => debited => $100 => 16-08-2020\n"
     ]
    }
   ],
   "source": [
    "# Using finditer() for getting match objects\n",
    "string=\"Ajay credited $500 to your account on 13-08-2020.\\\n",
    "      Anmol debited $1,700 from your account on 14-08-2020.\\\n",
    "      Alex debited $100 on 16-08-2020 from your account.\"\n",
    "\n",
    "pattern=\"([\\w]+) ([\\w]+) (\\$[\\d,]+) [a-zA-z ]+ (\\d{2}-\\d{2}-\\d{4})\"\n",
    "\n",
    "result=re.finditer(pattern,string)\n",
    "\n",
    "# Accessing groups separately\n",
    "for i in result:\n",
    "    print(i.group(0),'=>',i.group(1),'=>',i.group(2),'=>',i.group(3),'=>',i.group(4))"
   ]
  },
  {
   "cell_type": "markdown",
   "metadata": {
    "colab_type": "text",
    "id": "Rh-zWJkOA1vY"
   },
   "source": [
    "**Note:** Syntax for naming groups: `(?P<Group Name>Pattern)`"
   ]
  },
  {
   "cell_type": "code",
   "execution_count": 18,
   "metadata": {
    "colab": {},
    "colab_type": "code",
    "executionInfo": {
     "elapsed": 1495,
     "status": "ok",
     "timestamp": 1598463890813,
     "user": {
      "displayName": "Aishwarya Singh",
      "photoUrl": "https://lh3.googleusercontent.com/a-/AOh14GgeJwfn4BdBDCAplWi_kdtB9FRssOpXO7T_aMgg=s64",
      "userId": "01105858832371513140"
     },
     "user_tz": -330
    },
    "id": "b393attMA1vZ"
   },
   "outputs": [],
   "source": [
    "string=\"Ajay credited $500 to your account on 13-08-2020.\\\n",
    "      Anmol debited $1,700 from your account on 14-08-2020.\\\n",
    "      Alex debited $100 on 16-08-2020 from your account.\"\n",
    "\n",
    "# Naming Groups\n",
    "pattern=\"(?P<Name>[\\w]+) (?P<Type>[\\w]+) (?P<Amount>\\$[\\d,]+) [a-zA-z ]+ (?P<Date>\\d{2}-\\d{2}-\\d{4})\"\n",
    "\n",
    "result=list(re.finditer(pattern,string))"
   ]
  },
  {
   "cell_type": "code",
   "execution_count": 19,
   "metadata": {
    "colab": {
     "base_uri": "https://localhost:8080/",
     "height": 69
    },
    "colab_type": "code",
    "executionInfo": {
     "elapsed": 1091,
     "status": "ok",
     "timestamp": 1598463899969,
     "user": {
      "displayName": "Aishwarya Singh",
      "photoUrl": "https://lh3.googleusercontent.com/a-/AOh14GgeJwfn4BdBDCAplWi_kdtB9FRssOpXO7T_aMgg=s64",
      "userId": "01105858832371513140"
     },
     "user_tz": -330
    },
    "id": "EBtiU-zQA1ve",
    "outputId": "61614666-31e5-4b47-e2a1-47d13af61334"
   },
   "outputs": [
    {
     "name": "stdout",
     "output_type": "stream",
     "text": [
      "Ajay => $500 => 13-08-2020 => credited\n",
      "Anmol => $1,700 => 14-08-2020 => debited\n",
      "Alex => $100 => 16-08-2020 => debited\n"
     ]
    }
   ],
   "source": [
    "# Accessing data by group names\n",
    "for i in result:\n",
    "    print(i.group('Name'),'=>',i.group('Amount'),'=>',i.group('Date'),'=>',i.group('Type'))"
   ]
  },
  {
   "cell_type": "code",
   "execution_count": 20,
   "metadata": {
    "colab": {
     "base_uri": "https://localhost:8080/",
     "height": 69
    },
    "colab_type": "code",
    "executionInfo": {
     "elapsed": 1262,
     "status": "ok",
     "timestamp": 1598463914791,
     "user": {
      "displayName": "Aishwarya Singh",
      "photoUrl": "https://lh3.googleusercontent.com/a-/AOh14GgeJwfn4BdBDCAplWi_kdtB9FRssOpXO7T_aMgg=s64",
      "userId": "01105858832371513140"
     },
     "user_tz": -330
    },
    "id": "EW4kaVQjA1vj",
    "outputId": "2e59c5a8-b8ed-4cf1-b8e8-7771b15c7bae",
    "scrolled": true
   },
   "outputs": [
    {
     "name": "stdout",
     "output_type": "stream",
     "text": [
      "{'Name': 'Ajay', 'Type': 'credited', 'Amount': '$500', 'Date': '13-08-2020'}\n",
      "{'Name': 'Anmol', 'Type': 'debited', 'Amount': '$1,700', 'Date': '14-08-2020'}\n",
      "{'Name': 'Alex', 'Type': 'debited', 'Amount': '$100', 'Date': '16-08-2020'}\n"
     ]
    }
   ],
   "source": [
    "# Printing data with group names\n",
    "for i in result:\n",
    "    print(i.groupdict())"
   ]
  },
  {
   "cell_type": "code",
   "execution_count": null,
   "metadata": {
    "colab": {},
    "colab_type": "code",
    "id": "w9bZgS5G361h"
   },
   "outputs": [],
   "source": []
  }
 ],
 "metadata": {
  "colab": {
   "name": "4.5 Regular Expressions in Python-Part 2.ipynb",
   "provenance": []
  },
  "kernelspec": {
   "display_name": "Python 3 (ipykernel)",
   "language": "python",
   "name": "python3"
  },
  "language_info": {
   "codemirror_mode": {
    "name": "ipython",
    "version": 3
   },
   "file_extension": ".py",
   "mimetype": "text/x-python",
   "name": "python",
   "nbconvert_exporter": "python",
   "pygments_lexer": "ipython3",
   "version": "3.11.4"
  }
 },
 "nbformat": 4,
 "nbformat_minor": 4
}
