{
 "cells": [
  {
   "cell_type": "code",
   "execution_count": 1,
   "id": "16dc71e8-aa78-4eb5-919b-3f80849ad7da",
   "metadata": {
    "tags": []
   },
   "outputs": [
    {
     "name": "stdout",
     "output_type": "stream",
     "text": [
      "Defaulting to user installation because normal site-packages is not writeable\n",
      "Requirement already satisfied: pandas in c:\\programdata\\anaconda3\\lib\\site-packages (1.5.3)\n",
      "Collecting pandas\n",
      "  Obtaining dependency information for pandas from https://files.pythonhosted.org/packages/b7/f8/32d6b5aa4c4bc045fa2c4c58f88c325facc54721956c6313f0afea8ea853/pandas-2.1.0-cp311-cp311-win_amd64.whl.metadata\n",
      "  Downloading pandas-2.1.0-cp311-cp311-win_amd64.whl.metadata (18 kB)\n",
      "Requirement already satisfied: numpy in c:\\programdata\\anaconda3\\lib\\site-packages (1.24.3)\n",
      "Collecting numpy\n",
      "  Obtaining dependency information for numpy from https://files.pythonhosted.org/packages/72/b2/02770e60c4e2f7e158d923ab0dea4e9f146a2dbf267fec6d8dc61d475689/numpy-1.25.2-cp311-cp311-win_amd64.whl.metadata\n",
      "  Downloading numpy-1.25.2-cp311-cp311-win_amd64.whl.metadata (5.7 kB)\n",
      "Requirement already satisfied: statsmodels in c:\\programdata\\anaconda3\\lib\\site-packages (0.14.0)\n",
      "Requirement already satisfied: scikit-learn in c:\\users\\patwh\\appdata\\roaming\\python\\python311\\site-packages (1.2.2)\n",
      "Collecting scikit-learn\n",
      "  Obtaining dependency information for scikit-learn from https://files.pythonhosted.org/packages/77/85/bff3a1e818ec6aa3dd466ff4f4b0a727db9fdb41f2e849747ad902ddbe95/scikit_learn-1.3.0-cp311-cp311-win_amd64.whl.metadata\n",
      "  Downloading scikit_learn-1.3.0-cp311-cp311-win_amd64.whl.metadata (11 kB)\n",
      "Requirement already satisfied: matplotlib in c:\\programdata\\anaconda3\\lib\\site-packages (3.7.1)\n",
      "Collecting matplotlib\n",
      "  Obtaining dependency information for matplotlib from https://files.pythonhosted.org/packages/2c/34/116e240ca10454ab2e57d0c00f6eb99cadf40724b679adacc265bb880bb8/matplotlib-3.7.3-cp311-cp311-win_amd64.whl.metadata\n",
      "  Downloading matplotlib-3.7.3-cp311-cp311-win_amd64.whl.metadata (5.8 kB)\n",
      "Requirement already satisfied: python-dateutil>=2.8.2 in c:\\programdata\\anaconda3\\lib\\site-packages (from pandas) (2.8.2)\n",
      "Requirement already satisfied: pytz>=2020.1 in c:\\programdata\\anaconda3\\lib\\site-packages (from pandas) (2022.7)\n",
      "Requirement already satisfied: tzdata>=2022.1 in c:\\users\\patwh\\appdata\\roaming\\python\\python311\\site-packages (from pandas) (2023.3)\n",
      "Requirement already satisfied: scipy!=1.9.2,>=1.4 in c:\\programdata\\anaconda3\\lib\\site-packages (from statsmodels) (1.10.1)\n",
      "Requirement already satisfied: patsy>=0.5.2 in c:\\programdata\\anaconda3\\lib\\site-packages (from statsmodels) (0.5.3)\n",
      "Requirement already satisfied: packaging>=21.3 in c:\\programdata\\anaconda3\\lib\\site-packages (from statsmodels) (23.0)\n",
      "Requirement already satisfied: joblib>=1.1.1 in c:\\programdata\\anaconda3\\lib\\site-packages (from scikit-learn) (1.2.0)\n",
      "Requirement already satisfied: threadpoolctl>=2.0.0 in c:\\programdata\\anaconda3\\lib\\site-packages (from scikit-learn) (2.2.0)\n",
      "Requirement already satisfied: contourpy>=1.0.1 in c:\\programdata\\anaconda3\\lib\\site-packages (from matplotlib) (1.0.5)\n",
      "Requirement already satisfied: cycler>=0.10 in c:\\programdata\\anaconda3\\lib\\site-packages (from matplotlib) (0.11.0)\n",
      "Requirement already satisfied: fonttools>=4.22.0 in c:\\programdata\\anaconda3\\lib\\site-packages (from matplotlib) (4.25.0)\n",
      "Requirement already satisfied: kiwisolver>=1.0.1 in c:\\programdata\\anaconda3\\lib\\site-packages (from matplotlib) (1.4.4)\n",
      "Requirement already satisfied: pillow>=6.2.0 in c:\\programdata\\anaconda3\\lib\\site-packages (from matplotlib) (9.4.0)\n",
      "Requirement already satisfied: pyparsing>=2.3.1 in c:\\programdata\\anaconda3\\lib\\site-packages (from matplotlib) (3.0.9)\n",
      "Requirement already satisfied: six in c:\\programdata\\anaconda3\\lib\\site-packages (from patsy>=0.5.2->statsmodels) (1.16.0)\n",
      "Downloading pandas-2.1.0-cp311-cp311-win_amd64.whl (11.0 MB)\n",
      "   ---------------------------------------- 0.0/11.0 MB ? eta -:--:--\n",
      "   ---------------------------------------- 0.1/11.0 MB 2.2 MB/s eta 0:00:06\n",
      "   - -------------------------------------- 0.3/11.0 MB 3.4 MB/s eta 0:00:04\n",
      "   -- ------------------------------------- 0.6/11.0 MB 5.1 MB/s eta 0:00:03\n",
      "   ---- ----------------------------------- 1.3/11.0 MB 6.8 MB/s eta 0:00:02\n",
      "   ------- -------------------------------- 2.1/11.0 MB 8.9 MB/s eta 0:00:02\n",
      "   ----------- ---------------------------- 3.2/11.0 MB 11.2 MB/s eta 0:00:01\n",
      "   --------------- ------------------------ 4.2/11.0 MB 12.8 MB/s eta 0:00:01\n",
      "   ------------------ --------------------- 5.2/11.0 MB 14.4 MB/s eta 0:00:01\n",
      "   ---------------------- ----------------- 6.1/11.0 MB 15.1 MB/s eta 0:00:01\n",
      "   ------------------------ --------------- 6.8/11.0 MB 15.5 MB/s eta 0:00:01\n",
      "   ---------------------------- ----------- 7.8/11.0 MB 16.0 MB/s eta 0:00:01\n",
      "   ------------------------------- -------- 8.8/11.0 MB 16.1 MB/s eta 0:00:01\n",
      "   ----------------------------------- ---- 9.9/11.0 MB 16.7 MB/s eta 0:00:01\n",
      "   ---------------------------------------  11.0/11.0 MB 21.8 MB/s eta 0:00:01\n",
      "   ---------------------------------------  11.0/11.0 MB 20.5 MB/s eta 0:00:01\n",
      "   ---------------------------------------- 11.0/11.0 MB 18.7 MB/s eta 0:00:00\n",
      "Downloading numpy-1.25.2-cp311-cp311-win_amd64.whl (15.5 MB)\n",
      "   ---------------------------------------- 0.0/15.5 MB ? eta -:--:--\n",
      "   - -------------------------------------- 0.5/15.5 MB ? eta -:--:--\n",
      "   ---- ----------------------------------- 1.7/15.5 MB 21.9 MB/s eta 0:00:01\n",
      "   ------ --------------------------------- 2.5/15.5 MB 20.2 MB/s eta 0:00:01\n",
      "   ---------- ----------------------------- 4.2/15.5 MB 24.2 MB/s eta 0:00:01\n",
      "   --------------- ------------------------ 5.9/15.5 MB 27.1 MB/s eta 0:00:01\n",
      "   ------------------ --------------------- 7.3/15.5 MB 29.2 MB/s eta 0:00:01\n",
      "   ---------------------- ----------------- 8.7/15.5 MB 29.3 MB/s eta 0:00:01\n",
      "   --------------------------- ------------ 10.5/15.5 MB 28.5 MB/s eta 0:00:01\n",
      "   ------------------------------- -------- 12.4/15.5 MB 34.4 MB/s eta 0:00:01\n",
      "   ----------------------------------- ---- 13.7/15.5 MB 34.4 MB/s eta 0:00:01\n",
      "   ---------------------------------------  15.5/15.5 MB 34.4 MB/s eta 0:00:01\n",
      "   ---------------------------------------- 15.5/15.5 MB 31.2 MB/s eta 0:00:00\n",
      "Downloading scikit_learn-1.3.0-cp311-cp311-win_amd64.whl (9.2 MB)\n",
      "   ---------------------------------------- 0.0/9.2 MB ? eta -:--:--\n",
      "   ---------- ----------------------------- 2.5/9.2 MB 52.1 MB/s eta 0:00:01\n",
      "   ---------------------- ----------------- 5.2/9.2 MB 55.3 MB/s eta 0:00:01\n",
      "   ---------------------------------- ----- 7.9/9.2 MB 56.2 MB/s eta 0:00:01\n",
      "   ---------------------------------- ----- 8.0/9.2 MB 56.6 MB/s eta 0:00:01\n",
      "   ---------------------------------------  9.2/9.2 MB 41.9 MB/s eta 0:00:01\n",
      "   ---------------------------------------- 9.2/9.2 MB 34.5 MB/s eta 0:00:00\n",
      "Downloading matplotlib-3.7.3-cp311-cp311-win_amd64.whl (7.5 MB)\n",
      "   ---------------------------------------- 0.0/7.5 MB ? eta -:--:--\n",
      "   -------- ------------------------------- 1.5/7.5 MB 32.7 MB/s eta 0:00:01\n",
      "   ----------------- ---------------------- 3.3/7.5 MB 35.1 MB/s eta 0:00:01\n",
      "   --------------------------- ------------ 5.3/7.5 MB 37.4 MB/s eta 0:00:01\n",
      "   ---------------------------------------  7.4/7.5 MB 39.4 MB/s eta 0:00:01\n",
      "   ---------------------------------------- 7.5/7.5 MB 36.9 MB/s eta 0:00:00\n",
      "Installing collected packages: numpy, pandas, scikit-learn, matplotlib\n",
      "  Attempting uninstall: scikit-learn\n",
      "    Found existing installation: scikit-learn 1.2.2\n",
      "    Uninstalling scikit-learn-1.2.2:\n",
      "      Successfully uninstalled scikit-learn-1.2.2\n",
      "Successfully installed matplotlib-3.7.3 numpy-1.25.2 pandas-2.1.0 scikit-learn-1.3.0\n"
     ]
    },
    {
     "name": "stderr",
     "output_type": "stream",
     "text": [
      "ERROR: pip's dependency resolver does not currently take into account all the packages that are installed. This behaviour is the source of the following dependency conflicts.\n",
      "tables 3.8.0 requires blosc2~=2.0.0, which is not installed.\n",
      "tables 3.8.0 requires cython>=0.29.21, which is not installed.\n",
      "transformers 2.1.1 requires sentencepiece, which is not installed.\n",
      "scikit-survival 0.21.0 requires scikit-learn<1.3,>=1.2.0, but you have scikit-learn 1.3.0 which is incompatible.\n",
      "tensorflow-intel 2.13.0 requires numpy<=1.24.3,>=1.22, but you have numpy 1.25.2 which is incompatible.\n",
      "tensorflow-intel 2.13.0 requires typing-extensions<4.6.0,>=3.6.6, but you have typing-extensions 4.7.1 which is incompatible.\n",
      "tensorflow-probability 0.21.0 requires typing-extensions<4.6.0, but you have typing-extensions 4.7.1 which is incompatible.\n",
      "numba 0.57.0 requires numpy<1.25,>=1.21, but you have numpy 1.25.2 which is incompatible.\n"
     ]
    }
   ],
   "source": [
    "!pip install --upgrade pandas numpy statsmodels scikit-learn matplotlib"
   ]
  },
  {
   "cell_type": "code",
   "execution_count": null,
   "id": "89950331-5dda-4c66-b87e-8d19ac1e0578",
   "metadata": {
    "tags": []
   },
   "outputs": [],
   "source": [
    "!pip install --upgrade machine-learning-datasets"
   ]
  }
 ],
 "metadata": {
  "kernelspec": {
   "display_name": "Python 3 (ipykernel)",
   "language": "python",
   "name": "python3"
  },
  "language_info": {
   "codemirror_mode": {
    "name": "ipython",
    "version": 3
   },
   "file_extension": ".py",
   "mimetype": "text/x-python",
   "name": "python",
   "nbconvert_exporter": "python",
   "pygments_lexer": "ipython3",
   "version": "3.11.4"
  }
 },
 "nbformat": 4,
 "nbformat_minor": 5
}
