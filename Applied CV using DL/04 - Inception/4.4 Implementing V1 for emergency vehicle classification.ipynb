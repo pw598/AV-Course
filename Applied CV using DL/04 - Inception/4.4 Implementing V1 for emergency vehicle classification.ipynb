{
 "cells": [
  {
   "cell_type": "markdown",
   "metadata": {
    "colab_type": "text",
    "id": "D82aEA-rHVDP"
   },
   "source": [
    "# Steps to solve Emergency vs Non-Emergency vehicle classification problem\n",
    "\n",
    "<ol>1. Import necessary libraries</ol>\n",
    "<ol>2. Loading and pre-processing the Data</ol>\n",
    "<ol>3. Load weights of pretrained model</ol>\n",
    "<ol>4. Fine tune the model for the current problem</ol>\n",
    "<ol>5. Validate if it works fine, iterate again if it does not</ol>\n",
    "\n",
    "## 1. Import necessary libraries"
   ]
  },
  {
   "cell_type": "code",
   "execution_count": 16,
   "metadata": {
    "colab": {},
    "colab_type": "code",
    "executionInfo": {
     "elapsed": 1909,
     "status": "ok",
     "timestamp": 1592731694292,
     "user": {
      "displayName": "Pulkit Sharma",
      "photoUrl": "",
      "userId": "07234574884764057306"
     },
     "user_tz": -330
    },
    "id": "dtA0xzFx5gFc"
   },
   "outputs": [],
   "source": [
    "# importing the required libraries\n",
    "%matplotlib inline\n",
    "import numpy as np  \n",
    "import pandas as pd \n",
    "from tqdm import tqdm\n",
    "import matplotlib.pyplot as plt\n",
    "from sklearn.model_selection import train_test_split\n",
    "from PIL import Image\n",
    "\n",
    "# importing libraries for defining the architecture of model\n",
    "import torch \n",
    "import torch.nn as nn\n",
    "from torch.optim import Adam\n",
    "from torch.nn import Linear, ReLU, BCELoss, Sequential, Sigmoid\n",
    "\n",
    "# import torchvision\n",
    "from torchvision.models import googlenet\n",
    "from torchvision import transforms\n",
    "from torch.utils.data import Dataset, DataLoader"
   ]
  },
  {
   "cell_type": "markdown",
   "metadata": {
    "colab_type": "text",
    "id": "G7hT3K1LZLY_"
   },
   "source": [
    "## 2. Loading and pre-processing the Dataset\n",
    "\n"
   ]
  },
  {
   "cell_type": "code",
   "execution_count": null,
   "metadata": {
    "colab": {
     "base_uri": "https://localhost:8080/",
     "height": 124
    },
    "colab_type": "code",
    "executionInfo": {
     "elapsed": 50709,
     "status": "ok",
     "timestamp": 1592731512744,
     "user": {
      "displayName": "Pulkit Sharma",
      "photoUrl": "",
      "userId": "07234574884764057306"
     },
     "user_tz": -330
    },
    "id": "P2wyrmZC_9lr",
    "outputId": "8032aa2e-605f-484c-e2bd-79b8b5acd973"
   },
   "outputs": [
    {
     "name": "stdout",
     "output_type": "stream",
     "text": [
      "Go to this URL in a browser: https://accounts.google.com/o/oauth2/auth?client_id=947318989803-6bn6qk8qdgf4n4g3pfee6491hc0brc4i.apps.googleusercontent.com&redirect_uri=urn%3aietf%3awg%3aoauth%3a2.0%3aoob&response_type=code&scope=email%20https%3a%2f%2fwww.googleapis.com%2fauth%2fdocs.test%20https%3a%2f%2fwww.googleapis.com%2fauth%2fdrive%20https%3a%2f%2fwww.googleapis.com%2fauth%2fdrive.photos.readonly%20https%3a%2f%2fwww.googleapis.com%2fauth%2fpeopleapi.readonly\n",
      "\n",
      "Enter your authorization code:\n",
      "··········\n",
      "Mounted at /content/drive\n"
     ]
    }
   ],
   "source": [
    "#mounting the drive\n",
    "from google.colab import drive\n",
    "drive.mount('/content/drive')  "
   ]
  },
  {
   "cell_type": "code",
   "execution_count": null,
   "metadata": {
    "colab": {
     "base_uri": "https://localhost:8080/",
     "height": 1000
    },
    "colab_type": "code",
    "executionInfo": {
     "elapsed": 15070,
     "status": "ok",
     "timestamp": 1592731521758,
     "user": {
      "displayName": "Pulkit Sharma",
      "photoUrl": "",
      "userId": "07234574884764057306"
     },
     "user_tz": -330
    },
    "id": "drwdLrLVa8Ar",
    "outputId": "cb5319e6-e59c-4e40-9555-04bb07e9ba4e"
   },
   "outputs": [],
   "source": [
    "#extract the images\n",
    "!unzip '/content/drive/My Drive/Dataset.zip'"
   ]
  },
  {
   "cell_type": "code",
   "execution_count": null,
   "metadata": {
    "colab": {},
    "colab_type": "code",
    "id": "Wr2k3GM7vN9s"
   },
   "outputs": [],
   "source": [
    "# defining the pre-processing steps\n",
    "normalize = transforms.Normalize(mean=[0.485, 0.456, 0.406],\n",
    "                                 std=[0.229, 0.224, 0.225])\n",
    "\n",
    "preprocessing = transforms.Compose([transforms.ToTensor(),\n",
    "                                    normalize,\n",
    "])"
   ]
  },
  {
   "cell_type": "code",
   "execution_count": null,
   "metadata": {
    "colab": {},
    "colab_type": "code",
    "id": "9O2PD54RvN7K"
   },
   "outputs": [],
   "source": [
    "# defining the class to load dataset \n",
    "class EmergencyDataset(Dataset):\n",
    "    \"\"\"Custom Dataset for loading Emergency Dataset\"\"\"\n",
    "\n",
    "    # defining the init function\n",
    "    def __init__(self, csv_path, img_dir, transform):\n",
    "    \n",
    "        df = pd.read_csv(csv_path)\n",
    "        self.img_dir = img_dir\n",
    "        self.csv_path = csv_path\n",
    "        self.img_names = df.image_names.values\n",
    "        self.y = df['emergency_or_not'].values\n",
    "        self.transform = transform\n",
    "\n",
    "    # defining the get item function\n",
    "    def __getitem__(self, index):\n",
    "        img = Image.open(self.img_dir + self.img_names[index])\n",
    "        \n",
    "        if self.transform is not None:\n",
    "            img = self.transform(img)\n",
    "        \n",
    "        label = self.y[index]\n",
    "        return img, label\n",
    "\n",
    "    # defining the len function\n",
    "    def __len__(self):\n",
    "        return self.y.shape[0]"
   ]
  },
  {
   "cell_type": "code",
   "execution_count": null,
   "metadata": {
    "colab": {},
    "colab_type": "code",
    "id": "yRRSKCm6vN4k"
   },
   "outputs": [],
   "source": [
    "# loading the dataset\n",
    "train_dataset = EmergencyDataset(csv_path='/content/Dataset/emergency_classification.csv',\n",
    "                              img_dir='/content/Dataset/images/',\n",
    "                              transform=preprocessing)"
   ]
  },
  {
   "cell_type": "code",
   "execution_count": null,
   "metadata": {
    "colab": {},
    "colab_type": "code",
    "id": "A3lEAQQzvN1Y"
   },
   "outputs": [],
   "source": [
    "# using the defined dataset to load data in batch using Dataloader\n",
    "train_loader = DataLoader(dataset=train_dataset,\n",
    "                          batch_size=32,\n",
    "                          shuffle=True)"
   ]
  },
  {
   "cell_type": "code",
   "execution_count": null,
   "metadata": {
    "colab": {},
    "colab_type": "code",
    "id": "ov9juhEqvNy1"
   },
   "outputs": [],
   "source": [
    "# getting the first batch\n",
    "for batch_idx, (batch_X, batch_y) in enumerate(train_loader):\n",
    "  break"
   ]
  },
  {
   "cell_type": "code",
   "execution_count": null,
   "metadata": {
    "colab": {
     "base_uri": "https://localhost:8080/",
     "height": 34
    },
    "colab_type": "code",
    "executionInfo": {
     "elapsed": 9295,
     "status": "ok",
     "timestamp": 1592731521768,
     "user": {
      "displayName": "Pulkit Sharma",
      "photoUrl": "",
      "userId": "07234574884764057306"
     },
     "user_tz": -330
    },
    "id": "oF33Md_pvNvg",
    "outputId": "15ff8048-3ac1-47da-f322-21b5ddf764a8"
   },
   "outputs": [
    {
     "data": {
      "text/plain": [
       "(torch.Size([32, 3, 224, 224]), torch.Size([32]))"
      ]
     },
     "execution_count": 9,
     "metadata": {
      "tags": []
     },
     "output_type": "execute_result"
    }
   ],
   "source": [
    "# shape of the image and label\n",
    "batch_X.shape, batch_y.shape"
   ]
  },
  {
   "cell_type": "markdown",
   "metadata": {
    "colab_type": "text",
    "id": "I_2-Tk9Ll6mW"
   },
   "source": [
    "## 3. Load weights of pretrained model"
   ]
  },
  {
   "cell_type": "code",
   "execution_count": null,
   "metadata": {
    "colab": {
     "base_uri": "https://localhost:8080/",
     "height": 84,
     "referenced_widgets": [
      "4bf4848ca08c4e319fd74ad516510bfd",
      "451c3f7d8b2c466099faffa2de207833",
      "ab86dc19dad4487681e34f646b72e59e",
      "92a2190ef5494c3fa10f5c5267a39e53",
      "7d0f6ae97a8f41498707249f44e173f5",
      "5103d835e2a64c36addae02d47d76ba4",
      "5a0ee69a7f2640838b088bbe55a5f4fc",
      "befdb98bc6a649da8192a21189d43a47"
     ]
    },
    "colab_type": "code",
    "executionInfo": {
     "elapsed": 8339,
     "status": "ok",
     "timestamp": 1592731523115,
     "user": {
      "displayName": "Pulkit Sharma",
      "photoUrl": "",
      "userId": "07234574884764057306"
     },
     "user_tz": -330
    },
    "id": "0DHCZLe_Gw7V",
    "outputId": "770943d2-7ac8-4051-c7b6-bc0c950ee097"
   },
   "outputs": [
    {
     "name": "stderr",
     "output_type": "stream",
     "text": [
      "Downloading: \"https://download.pytorch.org/models/googlenet-1378be20.pth\" to /root/.cache/torch/checkpoints/googlenet-1378be20.pth\n"
     ]
    },
    {
     "data": {
      "application/vnd.jupyter.widget-view+json": {
       "model_id": "4bf4848ca08c4e319fd74ad516510bfd",
       "version_major": 2,
       "version_minor": 0
      },
      "text/plain": [
       "HBox(children=(FloatProgress(value=0.0, max=52147035.0), HTML(value='')))"
      ]
     },
     "metadata": {
      "tags": []
     },
     "output_type": "display_data"
    },
    {
     "name": "stdout",
     "output_type": "stream",
     "text": [
      "\n"
     ]
    }
   ],
   "source": [
    "# define model architecture along with pretrained weights of googlenet / inception_v1\n",
    "googlenet_model = googlenet(pretrained=True)"
   ]
  },
  {
   "cell_type": "code",
   "execution_count": null,
   "metadata": {
    "colab": {
     "base_uri": "https://localhost:8080/",
     "height": 1000
    },
    "colab_type": "code",
    "executionInfo": {
     "elapsed": 8120,
     "status": "ok",
     "timestamp": 1592731523117,
     "user": {
      "displayName": "Pulkit Sharma",
      "photoUrl": "",
      "userId": "07234574884764057306"
     },
     "user_tz": -330
    },
    "id": "7MfQXZG70zRX",
    "outputId": "d006bb24-05fd-4322-c284-1f94c1c432e3"
   },
   "outputs": [],
   "source": [
    "# print architecture of googlenet\n",
    "googlenet_model"
   ]
  },
  {
   "cell_type": "code",
   "execution_count": null,
   "metadata": {
    "colab": {
     "base_uri": "https://localhost:8080/",
     "height": 1000
    },
    "colab_type": "code",
    "executionInfo": {
     "elapsed": 6623,
     "status": "ok",
     "timestamp": 1592731523119,
     "user": {
      "displayName": "Pulkit Sharma",
      "photoUrl": "",
      "userId": "07234574884764057306"
     },
     "user_tz": -330
    },
    "id": "HIG1FHz3vt-R",
    "outputId": "353fc55f-05f0-419f-eb2d-188ed8235579"
   },
   "outputs": [],
   "source": [
    "# architecture in form of a list\n",
    "list(googlenet_model.children())"
   ]
  },
  {
   "cell_type": "code",
   "execution_count": null,
   "metadata": {
    "colab": {
     "base_uri": "https://localhost:8080/",
     "height": 1000
    },
    "colab_type": "code",
    "executionInfo": {
     "elapsed": 6521,
     "status": "ok",
     "timestamp": 1592731523120,
     "user": {
      "displayName": "Pulkit Sharma",
      "photoUrl": "",
      "userId": "07234574884764057306"
     },
     "user_tz": -330
    },
    "id": "WEO6ht7XxdmQ",
    "outputId": "09ec0d4b-3453-4c1e-aa46-00431dc30023"
   },
   "outputs": [],
   "source": [
    "# removing the fully connected layers\n",
    "list(googlenet_model.children())[:-3]"
   ]
  },
  {
   "cell_type": "code",
   "execution_count": 17,
   "metadata": {
    "colab": {},
    "colab_type": "code",
    "executionInfo": {
     "elapsed": 1584,
     "status": "ok",
     "timestamp": 1592731729628,
     "user": {
      "displayName": "Pulkit Sharma",
      "photoUrl": "",
      "userId": "07234574884764057306"
     },
     "user_tz": -330
    },
    "id": "FDU8399wUHQa"
   },
   "outputs": [],
   "source": [
    "# defining the class to extract features\n",
    "class FeatureExtractor(nn.Module):\n",
    "    def __init__(self):\n",
    "        super(FeatureExtractor, self).__init__()\n",
    "        self.net = googlenet(pretrained=True)\n",
    "        #push to cuda\n",
    "        if torch.cuda.is_available():\n",
    "            self.net = self.net.cuda()\n",
    "        for p in self.net.parameters():\n",
    "            p.requires_grad = False\n",
    "        # Define which layers you are going to extract\n",
    "        self.features = nn.Sequential(*list(self.net.children())[:-3])        \n",
    "\n",
    "    def forward(self, x):\n",
    "        return self.features(x)"
   ]
  },
  {
   "cell_type": "code",
   "execution_count": 19,
   "metadata": {
    "colab": {
     "base_uri": "https://localhost:8080/",
     "height": 34
    },
    "colab_type": "code",
    "executionInfo": {
     "elapsed": 2087,
     "status": "ok",
     "timestamp": 1592731745441,
     "user": {
      "displayName": "Pulkit Sharma",
      "photoUrl": "",
      "userId": "07234574884764057306"
     },
     "user_tz": -330
    },
    "id": "a-yn5Pf50zYc",
    "outputId": "bd581d85-6889-4e6f-8d82-6ea27a4a932b"
   },
   "outputs": [
    {
     "data": {
      "text/plain": [
       "torch.Size([2, 1024, 7, 7])"
      ]
     },
     "execution_count": 19,
     "metadata": {
      "tags": []
     },
     "output_type": "execute_result"
    }
   ],
   "source": [
    "# prepare input\n",
    "input = batch_X[:2]\n",
    "input = input.cuda()\n",
    "\n",
    "# pass the input to vgg16\n",
    "if __name__ == \"__main__\":\n",
    "    fe = FeatureExtractor()\n",
    "    output = fe(input)\n",
    "\n",
    "# shape of the output\n",
    "output.shape"
   ]
  },
  {
   "cell_type": "markdown",
   "metadata": {
    "colab_type": "text",
    "id": "qcSvbyj6m9fm"
   },
   "source": [
    "## 4. Fine tune the model for the current problem\n",
    "Steps:-\n",
    "1. Extract the features\n",
    "2. Flatten the data\n",
    "3. Define a Neural Network Model\n",
    "4. Compile the model\n",
    "5. Train the model\n",
    "\n",
    "\n",
    "### 4.1 Extract the features"
   ]
  },
  {
   "cell_type": "code",
   "execution_count": 20,
   "metadata": {
    "colab": {},
    "colab_type": "code",
    "executionInfo": {
     "elapsed": 19145,
     "status": "ok",
     "timestamp": 1592731764170,
     "user": {
      "displayName": "Pulkit Sharma",
      "photoUrl": "",
      "userId": "07234574884764057306"
     },
     "user_tz": -330
    },
    "id": "R_5_sIiJ1OQy"
   },
   "outputs": [],
   "source": [
    "# extract features using pretrained model \n",
    "\n",
    "# create an empty array to store features\n",
    "features = []\n",
    "target = []\n",
    "time_elapsed = []\n",
    "\n",
    "# set model to eval\n",
    "googlenet_model.eval()\n",
    "\n",
    "#deactivates autograd\n",
    "with torch.no_grad():\n",
    "\n",
    "  # getting the data in batches using defined data loader\n",
    "  for batch_idx, (batch_X, batch_y) in enumerate(train_loader):\n",
    "    if torch.cuda.is_available():\n",
    "        batch_X = batch_X.cuda()\n",
    "    \n",
    "    # to record the time for extracting features\n",
    "    start = torch.cuda.Event(enable_timing=True)\n",
    "    end = torch.cuda.Event(enable_timing=True)\n",
    "\n",
    "    start.record()\n",
    "    # extracting features\n",
    "    if __name__ == \"__main__\":\n",
    "      \n",
    "        fe = FeatureExtractor()\n",
    "        batch_features = fe(batch_X)\n",
    "    \n",
    "    end.record()\n",
    "\n",
    "    # Waits for everything to finish running\n",
    "    torch.cuda.synchronize()\n",
    "\n",
    "    time_elapsed.append(start.elapsed_time(end))\n",
    "    #converting to numpy\n",
    "    batch_features = batch_features.data.cpu().numpy()\n",
    "\n",
    "    # append in list\n",
    "    features.append(batch_features)\n",
    "    target.append(batch_y)\n",
    "    \n",
    "    \n",
    "#save to the array\n",
    "features = np.concatenate(features, axis=0)\n",
    "target = np.concatenate(target, axis=0)"
   ]
  },
  {
   "cell_type": "code",
   "execution_count": 21,
   "metadata": {
    "colab": {
     "base_uri": "https://localhost:8080/",
     "height": 34
    },
    "colab_type": "code",
    "executionInfo": {
     "elapsed": 1044,
     "status": "ok",
     "timestamp": 1592731767332,
     "user": {
      "displayName": "Pulkit Sharma",
      "photoUrl": "",
      "userId": "07234574884764057306"
     },
     "user_tz": -330
    },
    "id": "JWYGaHYe19-_",
    "outputId": "ace700b7-d115-4194-9647-875f6c526c3a"
   },
   "outputs": [
    {
     "name": "stdout",
     "output_type": "stream",
     "text": [
      "Time taken in seconds:  tensor(12.7645)\n"
     ]
    }
   ],
   "source": [
    "# time taken to extract features\n",
    "print('Time taken in seconds: ', torch.sum(torch.tensor(time_elapsed))*0.001)"
   ]
  },
  {
   "cell_type": "code",
   "execution_count": 22,
   "metadata": {
    "colab": {
     "base_uri": "https://localhost:8080/",
     "height": 34
    },
    "colab_type": "code",
    "executionInfo": {
     "elapsed": 1530,
     "status": "ok",
     "timestamp": 1592731771208,
     "user": {
      "displayName": "Pulkit Sharma",
      "photoUrl": "",
      "userId": "07234574884764057306"
     },
     "user_tz": -330
    },
    "id": "1znFtBtmbAo6",
    "outputId": "2a430053-6550-4b8c-9803-a7b6b0bcd99c"
   },
   "outputs": [
    {
     "data": {
      "text/plain": [
       "(2352, 1024, 7, 7)"
      ]
     },
     "execution_count": 22,
     "metadata": {
      "tags": []
     },
     "output_type": "execute_result"
    }
   ],
   "source": [
    "# shape of the features\n",
    "features.shape"
   ]
  },
  {
   "cell_type": "markdown",
   "metadata": {
    "colab_type": "text",
    "id": "jXKDVA_5o2Wu"
   },
   "source": [
    "### 4.2 Flatten the data\n"
   ]
  },
  {
   "cell_type": "code",
   "execution_count": 23,
   "metadata": {
    "colab": {
     "base_uri": "https://localhost:8080/",
     "height": 34
    },
    "colab_type": "code",
    "executionInfo": {
     "elapsed": 1566,
     "status": "ok",
     "timestamp": 1592731776112,
     "user": {
      "displayName": "Pulkit Sharma",
      "photoUrl": "",
      "userId": "07234574884764057306"
     },
     "user_tz": -330
    },
    "id": "th_D67lq8t__",
    "outputId": "0e358402-b2ea-49cd-a289-040e074c0ead"
   },
   "outputs": [
    {
     "data": {
      "text/plain": [
       "(2352, 50176)"
      ]
     },
     "execution_count": 23,
     "metadata": {
      "tags": []
     },
     "output_type": "execute_result"
    }
   ],
   "source": [
    "#flattening the features\n",
    "features = features.reshape(len(features),-1) \n",
    "features.shape"
   ]
  },
  {
   "cell_type": "code",
   "execution_count": null,
   "metadata": {
    "colab": {},
    "colab_type": "code",
    "id": "JbpZNLjk8uL5"
   },
   "outputs": [],
   "source": [
    "# creating the training and validation data\n",
    "X_train, X_valid, y_train, y_valid = train_test_split(features, target, test_size=0.3, stratify=target, random_state=42)"
   ]
  },
  {
   "cell_type": "code",
   "execution_count": null,
   "metadata": {
    "colab": {
     "base_uri": "https://localhost:8080/",
     "height": 34
    },
    "colab_type": "code",
    "executionInfo": {
     "elapsed": 1926,
     "status": "ok",
     "timestamp": 1591366796173,
     "user": {
      "displayName": "Aishwarya Singh",
      "photoUrl": "https://lh3.googleusercontent.com/a-/AOh14GgeJwfn4BdBDCAplWi_kdtB9FRssOpXO7T_aMgg=s64",
      "userId": "01105858832371513140"
     },
     "user_tz": -330
    },
    "id": "606c6Q6P_ds_",
    "outputId": "d4e43000-5082-42ad-ce8a-2dd3cd01be3a"
   },
   "outputs": [
    {
     "data": {
      "text/plain": [
       "(((1646, 50176), (1646,)), ((706, 50176), (706,)))"
      ]
     },
     "execution_count": 22,
     "metadata": {
      "tags": []
     },
     "output_type": "execute_result"
    }
   ],
   "source": [
    "# shape of training and validation set\n",
    "(X_train.shape, y_train.shape), (X_valid.shape, y_valid.shape)"
   ]
  },
  {
   "cell_type": "code",
   "execution_count": null,
   "metadata": {
    "colab": {},
    "colab_type": "code",
    "id": "keQOc4wu_XVB"
   },
   "outputs": [],
   "source": [
    "# converting training and validation set to PyTorch tensor\n",
    "X_train = torch.FloatTensor(X_train)\n",
    "y_train = torch.FloatTensor(y_train)\n",
    "\n",
    "X_valid = torch.FloatTensor(X_valid)\n",
    "y_valid = torch.FloatTensor(y_valid)"
   ]
  },
  {
   "cell_type": "markdown",
   "metadata": {
    "colab_type": "text",
    "id": "a4TC5uI-OeAy"
   },
   "source": [
    "### 4.3 Define a Neural Network Model\n"
   ]
  },
  {
   "cell_type": "code",
   "execution_count": null,
   "metadata": {
    "colab": {},
    "colab_type": "code",
    "id": "hQHmGr6AObHe"
   },
   "outputs": [],
   "source": [
    "# defining the model architecture\n",
    "model = Sequential(Linear(1024 * 7 * 7, 64),\n",
    "                   ReLU(),\n",
    "                   Linear(64, 1),\n",
    "                   Sigmoid()\n",
    "                   )"
   ]
  },
  {
   "cell_type": "code",
   "execution_count": null,
   "metadata": {
    "colab": {
     "base_uri": "https://localhost:8080/",
     "height": 121
    },
    "colab_type": "code",
    "executionInfo": {
     "elapsed": 1210,
     "status": "ok",
     "timestamp": 1591366875443,
     "user": {
      "displayName": "Aishwarya Singh",
      "photoUrl": "https://lh3.googleusercontent.com/a-/AOh14GgeJwfn4BdBDCAplWi_kdtB9FRssOpXO7T_aMgg=s64",
      "userId": "01105858832371513140"
     },
     "user_tz": -330
    },
    "id": "65JkwsR9c-Fj",
    "outputId": "9996f860-062c-4659-c4a2-5ae9ca2f2a00"
   },
   "outputs": [
    {
     "data": {
      "text/plain": [
       "Sequential(\n",
       "  (0): Linear(in_features=50176, out_features=64, bias=True)\n",
       "  (1): ReLU()\n",
       "  (2): Linear(in_features=64, out_features=1, bias=True)\n",
       "  (3): Sigmoid()\n",
       ")"
      ]
     },
     "execution_count": 25,
     "metadata": {
      "tags": []
     },
     "output_type": "execute_result"
    }
   ],
   "source": [
    "  # summary of the model\n",
    "  model"
   ]
  },
  {
   "cell_type": "code",
   "execution_count": null,
   "metadata": {
    "colab": {
     "base_uri": "https://localhost:8080/",
     "height": 34
    },
    "colab_type": "code",
    "executionInfo": {
     "elapsed": 1559,
     "status": "ok",
     "timestamp": 1591366884285,
     "user": {
      "displayName": "Aishwarya Singh",
      "photoUrl": "https://lh3.googleusercontent.com/a-/AOh14GgeJwfn4BdBDCAplWi_kdtB9FRssOpXO7T_aMgg=s64",
      "userId": "01105858832371513140"
     },
     "user_tz": -330
    },
    "id": "sZL984ZX6CLU",
    "outputId": "c0045c69-426e-4a6a-f138-0536c26fe6b6"
   },
   "outputs": [
    {
     "data": {
      "text/plain": [
       "tensor([[0.5117]], grad_fn=<SigmoidBackward>)"
      ]
     },
     "execution_count": 26,
     "metadata": {
      "tags": []
     },
     "output_type": "execute_result"
    }
   ],
   "source": [
    "# pass an input to the model to understand the output\n",
    "model(X_train[0].view(1,1024*7*7))"
   ]
  },
  {
   "cell_type": "markdown",
   "metadata": {
    "colab_type": "text",
    "id": "NSezUYzoQ9B2"
   },
   "source": [
    "## 4.4. Compile the model "
   ]
  },
  {
   "cell_type": "code",
   "execution_count": null,
   "metadata": {
    "colab": {},
    "colab_type": "code",
    "id": "WVvYz82x98Br"
   },
   "outputs": [],
   "source": [
    "# define optimizer and loss function\n",
    "optimizer = torch.optim.Adam(model.parameters())\n",
    "criterion = nn.BCELoss()\n",
    "\n",
    "# checking if GPU is available\n",
    "if torch.cuda.is_available():\n",
    "    model = model.cuda()\n",
    "    criterion = criterion.cuda()"
   ]
  },
  {
   "cell_type": "markdown",
   "metadata": {
    "colab_type": "text",
    "id": "UQopxcD7RkrF"
   },
   "source": [
    "### 4.5 Train the model\n"
   ]
  },
  {
   "cell_type": "code",
   "execution_count": null,
   "metadata": {
    "colab": {},
    "colab_type": "code",
    "id": "BfAwCmgz1L48"
   },
   "outputs": [],
   "source": [
    "#define metric\n",
    "def binary_accuracy(preds, y):\n",
    "  \n",
    "    #round predictions to the closest integer\n",
    "    rounded_preds = torch.round(preds)\n",
    "\n",
    "    #no. of correctly classified    \n",
    "    correct = (rounded_preds == y).float()\n",
    "\n",
    "    #compute accuracy \n",
    "    acc = correct.sum() / len(correct)\n",
    "    return acc"
   ]
  },
  {
   "cell_type": "code",
   "execution_count": null,
   "metadata": {
    "colab": {},
    "colab_type": "code",
    "id": "kiSKF3G2DZM9"
   },
   "outputs": [],
   "source": [
    "# define training function\n",
    "def train(X,y,batch_size):\n",
    "\n",
    "  #activate training phase\n",
    "  model.train()\n",
    "  \n",
    "  #initialization\n",
    "  epoch_loss, epoch_acc= 0, 0\n",
    "  no_of_batches = 0\n",
    "\n",
    "  #randomly create indices\n",
    "  indices= torch.randperm(len(X))\n",
    "  \n",
    "  #loading in batches\n",
    "  for i in range(0,len(indices),batch_size):\n",
    "    \n",
    "    #indices for a batch\n",
    "    ind = indices[i:i+batch_size]\n",
    "  \n",
    "    #batch  \n",
    "    batch_x=X[ind]\n",
    "    batch_y=y[ind]\n",
    "    \n",
    "    #push to cuda\n",
    "    if torch.cuda.is_available():\n",
    "        batch_x, batch_y = batch_x.cuda(), batch_y.cuda()\n",
    "\n",
    "    #clear gradients\n",
    "    optimizer.zero_grad()\n",
    "          \n",
    "    #forward pass\n",
    "    outputs = model(batch_x)\n",
    "\n",
    "    #converting to a 1 dimensional tensor\n",
    "    outputs = outputs.squeeze()\n",
    "\n",
    "    #calculate loss and accuracy\n",
    "    loss = criterion(outputs, batch_y)\n",
    "    acc = binary_accuracy(outputs, batch_y)  \n",
    "    \n",
    "    #Backward pass\n",
    "    loss.backward()\n",
    "    \n",
    "    #Update weights\n",
    "    optimizer.step()\n",
    "\n",
    "    #Keep track of the loss and accuracy of a epoch\n",
    "    epoch_loss = epoch_loss + loss.item()\n",
    "    epoch_acc  = epoch_acc  + acc.item()\n",
    "\n",
    "    #No. of batches\n",
    "    no_of_batches = no_of_batches+1\n",
    "\n",
    "  return epoch_loss/no_of_batches, epoch_acc/no_of_batches"
   ]
  },
  {
   "cell_type": "code",
   "execution_count": null,
   "metadata": {
    "colab": {},
    "colab_type": "code",
    "id": "_9uqS64DQ47l"
   },
   "outputs": [],
   "source": [
    "# define evaluation function\n",
    "def evaluate(X,y,batch_size):\n",
    "\n",
    "  #deactivate training phase\n",
    "  model.eval()\n",
    "\n",
    "  #initialization\n",
    "  epoch_loss, epoch_acc= 0, 0\n",
    "  no_of_batches = 0\n",
    "\n",
    "  #randomly create indices\n",
    "  indices= torch.randperm(len(X))\n",
    "\n",
    "  #deactivates autograd\n",
    "  with torch.no_grad():\n",
    "    \n",
    "    #loading in batches\n",
    "    for i in range(0,len(indices),batch_size):\n",
    "      \n",
    "      #indices for a batch\n",
    "      ind = indices[i:i+batch_size]\n",
    "  \n",
    "      #batch  \n",
    "      batch_x= X[ind]\n",
    "      batch_y= y[ind]\n",
    "\n",
    "      #push to cuda\n",
    "      if torch.cuda.is_available():\n",
    "          batch_x, batch_y = batch_x.cuda(), batch_y.cuda()\n",
    "        \n",
    "      #Forward pass\n",
    "      outputs = model(batch_x)\n",
    "\n",
    "      #converting the output to 1 Dimensional tensor\n",
    "      outputs = outputs.squeeze()\n",
    "\n",
    "      # Calculate loss and accuracy\n",
    "      loss = criterion(outputs, batch_y)\n",
    "      acc = binary_accuracy(outputs, batch_y)   \n",
    "      \n",
    "      #keep track of loss and accuracy of an epoch\n",
    "      epoch_loss = epoch_loss + loss.item()\n",
    "      epoch_acc  = epoch_acc  + acc.item()\n",
    "\n",
    "      #no. of batches\n",
    "      no_of_batches = no_of_batches + 1\n",
    "\n",
    "    return epoch_loss/no_of_batches, epoch_acc/no_of_batches"
   ]
  },
  {
   "cell_type": "code",
   "execution_count": null,
   "metadata": {
    "colab": {},
    "colab_type": "code",
    "id": "fA8KZnAE7OXI"
   },
   "outputs": [],
   "source": [
    "# define prediction function\n",
    "def predict(X,batch_size):\n",
    "  \n",
    "  #deactivate training phase\n",
    "  model.eval()\n",
    "\n",
    "  # initialization \n",
    "  predictions = []\n",
    "\n",
    "  # create indices\n",
    "  indices = torch.arange(len(X))\n",
    "\n",
    "  #deactivates autograd\n",
    "  with torch.no_grad():\n",
    "      \n",
    "      for i in range(0, len(X), batch_size):\n",
    "        \n",
    "        #indices for a batch\n",
    "        ind = indices[i:i+batch_size]\n",
    "\n",
    "        # batch\n",
    "        batch_x = X[ind]\n",
    "\n",
    "        #push to cuda\n",
    "        if torch.cuda.is_available():\n",
    "            batch_x = batch_x.cuda()\n",
    "\n",
    "        #Forward pass\n",
    "        outputs = model(batch_x)\n",
    "\n",
    "        #converting the output to 1 Dimensional tensor\n",
    "        outputs = outputs.squeeze()\n",
    "\n",
    "        # convert to numpy array\n",
    "        prediction = outputs.data.cpu().numpy()\n",
    "        predictions.append(prediction)\n",
    "    \n",
    "  # convert to single numpy array\n",
    "  predictions = np.concatenate(predictions, axis=0)\n",
    "    \n",
    "  return predictions"
   ]
  },
  {
   "cell_type": "code",
   "execution_count": null,
   "metadata": {
    "colab": {
     "base_uri": "https://localhost:8080/",
     "height": 469
    },
    "colab_type": "code",
    "executionInfo": {
     "elapsed": 4236,
     "status": "ok",
     "timestamp": 1591367028720,
     "user": {
      "displayName": "Aishwarya Singh",
      "photoUrl": "https://lh3.googleusercontent.com/a-/AOh14GgeJwfn4BdBDCAplWi_kdtB9FRssOpXO7T_aMgg=s64",
      "userId": "01105858832371513140"
     },
     "user_tz": -330
    },
    "id": "lSZ02Z-5RXun",
    "outputId": "14e2ef9d-16ae-48a6-8700-9421d34d7efb"
   },
   "outputs": [
    {
     "name": "stdout",
     "output_type": "stream",
     "text": [
      "\n",
      "Epoch : 0 Training loss: 0.4265 \tTrain Accuracy: 0.8562 \tValidation loss: 0.2069 \tValidation Accuracy: 0.9212\n",
      "\n",
      "----------------------------------------------------Saved best model------------------------------------------------------------------\n",
      "\n",
      "Epoch : 1 Training loss: 0.0836 \tTrain Accuracy: 0.9692 \tValidation loss: 0.2327 \tValidation Accuracy: 0.9185\n",
      "\n",
      "Epoch : 2 Training loss: 0.0327 \tTrain Accuracy: 0.994 \tValidation loss: 0.2204 \tValidation Accuracy: 0.9185\n",
      "\n",
      "Epoch : 3 Training loss: 0.0112 \tTrain Accuracy: 0.9988 \tValidation loss: 0.256 \tValidation Accuracy: 0.9198\n",
      "\n",
      "Epoch : 4 Training loss: 0.0108 \tTrain Accuracy: 0.9988 \tValidation loss: 0.2511 \tValidation Accuracy: 0.9293\n",
      "\n",
      "----------------------------------------------------Saved best model------------------------------------------------------------------\n",
      "\n",
      "Epoch : 5 Training loss: 0.0071 \tTrain Accuracy: 0.9988 \tValidation loss: 0.2627 \tValidation Accuracy: 0.9253\n",
      "\n",
      "Epoch : 6 Training loss: 0.0063 \tTrain Accuracy: 0.9988 \tValidation loss: 0.4014 \tValidation Accuracy: 0.9103\n",
      "\n",
      "Epoch : 7 Training loss: 0.0101 \tTrain Accuracy: 0.9988 \tValidation loss: 0.3404 \tValidation Accuracy: 0.9158\n",
      "\n",
      "Epoch : 8 Training loss: 0.01 \tTrain Accuracy: 0.9976 \tValidation loss: 0.276 \tValidation Accuracy: 0.9239\n",
      "\n",
      "Epoch : 9 Training loss: 0.0018 \tTrain Accuracy: 1.0 \tValidation loss: 0.267 \tValidation Accuracy: 0.9293\n",
      "\n",
      "----------------------------------------------------Saved best model------------------------------------------------------------------\n"
     ]
    }
   ],
   "source": [
    "N_EPOCHS = 10\n",
    "batch_size = 32\n",
    "\n",
    "# intialization\n",
    "best_valid_acc = 0\n",
    "\n",
    "for epoch in range(N_EPOCHS):\n",
    "     \n",
    "    #train the model\n",
    "    train_loss, train_acc  = train(X_train, y_train, batch_size)\n",
    "    \n",
    "    #evaluate the model\n",
    "    valid_loss, valid_acc = evaluate(X_valid, y_valid, batch_size)\n",
    "\n",
    "    print('\\nEpoch :',epoch,\n",
    "          'Training loss:',round(train_loss,4),\n",
    "          '\\tTrain Accuracy:',round(train_acc,4),\n",
    "          '\\tValidation loss:',round(valid_loss,4),\n",
    "          '\\tValidation Accuracy:',round(valid_acc,4))\n",
    "\n",
    "    #save the best model\n",
    "    if best_valid_acc <= valid_acc:\n",
    "        best_valid_acc = valid_acc\n",
    "        torch.save(model.state_dict(), 'saved_weights.pt') \n",
    "        print(\"\\n----------------------------------------------------Saved best model------------------------------------------------------------------\")   "
   ]
  },
  {
   "cell_type": "markdown",
   "metadata": {
    "colab_type": "text",
    "id": "IJV1kqDuT7vU"
   },
   "source": [
    "## 5. Validate if it works fine, iterate again if it does not"
   ]
  },
  {
   "cell_type": "code",
   "execution_count": null,
   "metadata": {
    "colab": {
     "base_uri": "https://localhost:8080/",
     "height": 34
    },
    "colab_type": "code",
    "executionInfo": {
     "elapsed": 1077,
     "status": "ok",
     "timestamp": 1591367042934,
     "user": {
      "displayName": "Aishwarya Singh",
      "photoUrl": "https://lh3.googleusercontent.com/a-/AOh14GgeJwfn4BdBDCAplWi_kdtB9FRssOpXO7T_aMgg=s64",
      "userId": "01105858832371513140"
     },
     "user_tz": -330
    },
    "id": "ULe8TAjKA-n3",
    "outputId": "eb4f718b-40cf-433d-a003-490a352897c4"
   },
   "outputs": [
    {
     "data": {
      "text/plain": [
       "<All keys matched successfully>"
      ]
     },
     "execution_count": 33,
     "metadata": {
      "tags": []
     },
     "output_type": "execute_result"
    }
   ],
   "source": [
    " #load weights of best model\n",
    "path='saved_weights.pt'\n",
    "model.load_state_dict(torch.load(path))"
   ]
  },
  {
   "cell_type": "code",
   "execution_count": null,
   "metadata": {
    "colab": {
     "base_uri": "https://localhost:8080/",
     "height": 34
    },
    "colab_type": "code",
    "executionInfo": {
     "elapsed": 1502,
     "status": "ok",
     "timestamp": 1591367068445,
     "user": {
      "displayName": "Aishwarya Singh",
      "photoUrl": "https://lh3.googleusercontent.com/a-/AOh14GgeJwfn4BdBDCAplWi_kdtB9FRssOpXO7T_aMgg=s64",
      "userId": "01105858832371513140"
     },
     "user_tz": -330
    },
    "id": "gGAlQEFoBaVj",
    "outputId": "9c6a3b53-3dff-468c-f3bb-454f0b92402c"
   },
   "outputs": [
    {
     "name": "stdout",
     "output_type": "stream",
     "text": [
      "Validation Accuracy: 92.93478260869566\n"
     ]
    }
   ],
   "source": [
    "valid_loss, valid_accuracy = evaluate(X_valid,y_valid,batch_size)\n",
    "\n",
    "print(\"Validation Accuracy:\",(valid_accuracy)*100)"
   ]
  },
  {
   "cell_type": "code",
   "execution_count": null,
   "metadata": {
    "colab": {},
    "colab_type": "code",
    "id": "lsnbUGZAG1RE"
   },
   "outputs": [],
   "source": []
  }
 ],
 "metadata": {
  "accelerator": "GPU",
  "colab": {
   "collapsed_sections": [],
   "machine_shape": "hm",
   "name": "4.4 Implementing GoogLeNet in PyTorch.ipynb",
   "provenance": [
    {
     "file_id": "19o4Q2v3CJSX2bhlAuiVDxJn4zdu4Bxe1",
     "timestamp": 1586256149157
    },
    {
     "file_id": "1wwDl_uV7rgto4G-ZmVwdqfEQkmE2p81h",
     "timestamp": 1586097992517
    }
   ]
  },
  "kernelspec": {
   "display_name": "Python 3 (ipykernel)",
   "language": "python",
   "name": "python3"
  },
  "language_info": {
   "codemirror_mode": {
    "name": "ipython",
    "version": 3
   },
   "file_extension": ".py",
   "mimetype": "text/x-python",
   "name": "python",
   "nbconvert_exporter": "python",
   "pygments_lexer": "ipython3",
   "version": "3.11.4"
  },
  "widgets": {
   "application/vnd.jupyter.widget-state+json": {
    "451c3f7d8b2c466099faffa2de207833": {
     "model_module": "@jupyter-widgets/base",
     "model_name": "LayoutModel",
     "state": {
      "_model_module": "@jupyter-widgets/base",
      "_model_module_version": "1.2.0",
      "_model_name": "LayoutModel",
      "_view_count": null,
      "_view_module": "@jupyter-widgets/base",
      "_view_module_version": "1.2.0",
      "_view_name": "LayoutView",
      "align_content": null,
      "align_items": null,
      "align_self": null,
      "border": null,
      "bottom": null,
      "display": null,
      "flex": null,
      "flex_flow": null,
      "grid_area": null,
      "grid_auto_columns": null,
      "grid_auto_flow": null,
      "grid_auto_rows": null,
      "grid_column": null,
      "grid_gap": null,
      "grid_row": null,
      "grid_template_areas": null,
      "grid_template_columns": null,
      "grid_template_rows": null,
      "height": null,
      "justify_content": null,
      "justify_items": null,
      "left": null,
      "margin": null,
      "max_height": null,
      "max_width": null,
      "min_height": null,
      "min_width": null,
      "object_fit": null,
      "object_position": null,
      "order": null,
      "overflow": null,
      "overflow_x": null,
      "overflow_y": null,
      "padding": null,
      "right": null,
      "top": null,
      "visibility": null,
      "width": null
     }
    },
    "4bf4848ca08c4e319fd74ad516510bfd": {
     "model_module": "@jupyter-widgets/controls",
     "model_name": "HBoxModel",
     "state": {
      "_dom_classes": [],
      "_model_module": "@jupyter-widgets/controls",
      "_model_module_version": "1.5.0",
      "_model_name": "HBoxModel",
      "_view_count": null,
      "_view_module": "@jupyter-widgets/controls",
      "_view_module_version": "1.5.0",
      "_view_name": "HBoxView",
      "box_style": "",
      "children": [
       "IPY_MODEL_ab86dc19dad4487681e34f646b72e59e",
       "IPY_MODEL_92a2190ef5494c3fa10f5c5267a39e53"
      ],
      "layout": "IPY_MODEL_451c3f7d8b2c466099faffa2de207833"
     }
    },
    "5103d835e2a64c36addae02d47d76ba4": {
     "model_module": "@jupyter-widgets/base",
     "model_name": "LayoutModel",
     "state": {
      "_model_module": "@jupyter-widgets/base",
      "_model_module_version": "1.2.0",
      "_model_name": "LayoutModel",
      "_view_count": null,
      "_view_module": "@jupyter-widgets/base",
      "_view_module_version": "1.2.0",
      "_view_name": "LayoutView",
      "align_content": null,
      "align_items": null,
      "align_self": null,
      "border": null,
      "bottom": null,
      "display": null,
      "flex": null,
      "flex_flow": null,
      "grid_area": null,
      "grid_auto_columns": null,
      "grid_auto_flow": null,
      "grid_auto_rows": null,
      "grid_column": null,
      "grid_gap": null,
      "grid_row": null,
      "grid_template_areas": null,
      "grid_template_columns": null,
      "grid_template_rows": null,
      "height": null,
      "justify_content": null,
      "justify_items": null,
      "left": null,
      "margin": null,
      "max_height": null,
      "max_width": null,
      "min_height": null,
      "min_width": null,
      "object_fit": null,
      "object_position": null,
      "order": null,
      "overflow": null,
      "overflow_x": null,
      "overflow_y": null,
      "padding": null,
      "right": null,
      "top": null,
      "visibility": null,
      "width": null
     }
    },
    "5a0ee69a7f2640838b088bbe55a5f4fc": {
     "model_module": "@jupyter-widgets/controls",
     "model_name": "DescriptionStyleModel",
     "state": {
      "_model_module": "@jupyter-widgets/controls",
      "_model_module_version": "1.5.0",
      "_model_name": "DescriptionStyleModel",
      "_view_count": null,
      "_view_module": "@jupyter-widgets/base",
      "_view_module_version": "1.2.0",
      "_view_name": "StyleView",
      "description_width": ""
     }
    },
    "7d0f6ae97a8f41498707249f44e173f5": {
     "model_module": "@jupyter-widgets/controls",
     "model_name": "ProgressStyleModel",
     "state": {
      "_model_module": "@jupyter-widgets/controls",
      "_model_module_version": "1.5.0",
      "_model_name": "ProgressStyleModel",
      "_view_count": null,
      "_view_module": "@jupyter-widgets/base",
      "_view_module_version": "1.2.0",
      "_view_name": "StyleView",
      "bar_color": null,
      "description_width": "initial"
     }
    },
    "92a2190ef5494c3fa10f5c5267a39e53": {
     "model_module": "@jupyter-widgets/controls",
     "model_name": "HTMLModel",
     "state": {
      "_dom_classes": [],
      "_model_module": "@jupyter-widgets/controls",
      "_model_module_version": "1.5.0",
      "_model_name": "HTMLModel",
      "_view_count": null,
      "_view_module": "@jupyter-widgets/controls",
      "_view_module_version": "1.5.0",
      "_view_name": "HTMLView",
      "description": "",
      "description_tooltip": null,
      "layout": "IPY_MODEL_befdb98bc6a649da8192a21189d43a47",
      "placeholder": "​",
      "style": "IPY_MODEL_5a0ee69a7f2640838b088bbe55a5f4fc",
      "value": " 49.7M/49.7M [00:00&lt;00:00, 105MB/s]"
     }
    },
    "ab86dc19dad4487681e34f646b72e59e": {
     "model_module": "@jupyter-widgets/controls",
     "model_name": "FloatProgressModel",
     "state": {
      "_dom_classes": [],
      "_model_module": "@jupyter-widgets/controls",
      "_model_module_version": "1.5.0",
      "_model_name": "FloatProgressModel",
      "_view_count": null,
      "_view_module": "@jupyter-widgets/controls",
      "_view_module_version": "1.5.0",
      "_view_name": "ProgressView",
      "bar_style": "success",
      "description": "100%",
      "description_tooltip": null,
      "layout": "IPY_MODEL_5103d835e2a64c36addae02d47d76ba4",
      "max": 52147035,
      "min": 0,
      "orientation": "horizontal",
      "style": "IPY_MODEL_7d0f6ae97a8f41498707249f44e173f5",
      "value": 52147035
     }
    },
    "befdb98bc6a649da8192a21189d43a47": {
     "model_module": "@jupyter-widgets/base",
     "model_name": "LayoutModel",
     "state": {
      "_model_module": "@jupyter-widgets/base",
      "_model_module_version": "1.2.0",
      "_model_name": "LayoutModel",
      "_view_count": null,
      "_view_module": "@jupyter-widgets/base",
      "_view_module_version": "1.2.0",
      "_view_name": "LayoutView",
      "align_content": null,
      "align_items": null,
      "align_self": null,
      "border": null,
      "bottom": null,
      "display": null,
      "flex": null,
      "flex_flow": null,
      "grid_area": null,
      "grid_auto_columns": null,
      "grid_auto_flow": null,
      "grid_auto_rows": null,
      "grid_column": null,
      "grid_gap": null,
      "grid_row": null,
      "grid_template_areas": null,
      "grid_template_columns": null,
      "grid_template_rows": null,
      "height": null,
      "justify_content": null,
      "justify_items": null,
      "left": null,
      "margin": null,
      "max_height": null,
      "max_width": null,
      "min_height": null,
      "min_width": null,
      "object_fit": null,
      "object_position": null,
      "order": null,
      "overflow": null,
      "overflow_x": null,
      "overflow_y": null,
      "padding": null,
      "right": null,
      "top": null,
      "visibility": null,
      "width": null
     }
    }
   }
  }
 },
 "nbformat": 4,
 "nbformat_minor": 4
}
