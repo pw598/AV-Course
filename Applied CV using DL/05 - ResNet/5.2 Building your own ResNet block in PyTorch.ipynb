{
 "cells": [
  {
   "cell_type": "code",
   "execution_count": null,
   "metadata": {
    "colab": {},
    "colab_type": "code",
    "id": "55pJBItvziyB"
   },
   "outputs": [],
   "source": [
    "# importing torch library\n",
    "import torch\n",
    "import torch.nn as nn"
   ]
  },
  {
   "cell_type": "markdown",
   "metadata": {
    "colab_type": "text",
    "id": "6N19L6KnUbNn"
   },
   "source": [
    "![alt text](https://drive.google.com/uc?id=1mZRdNfgsThiItFsjRh8hNLHjdhJgHHNb)"
   ]
  },
  {
   "cell_type": "code",
   "execution_count": null,
   "metadata": {
    "colab": {},
    "colab_type": "code",
    "id": "xvH1m78Xf4Ex"
   },
   "outputs": [],
   "source": [
    "# defining the residual block\n",
    "class Residual_Block(nn.Module):\n",
    "    # initializing the architecture for residual block\n",
    "    def __init__(self, in_channels):\n",
    "        super(Residual_Block, self).__init__()\n",
    "        # defining the first convolution layer\n",
    "        self.conv1 = nn.Conv2d(in_channels, in_channels, kernel_size=3, stride=1, padding = 1)\n",
    "        # defining the relu layer \n",
    "        self.relu = nn.ReLU(inplace=True)\n",
    "        # defining the second convolution layer\n",
    "        self.conv2 = nn.Conv2d(in_channels, in_channels, kernel_size=3, stride=1, padding=1)\n",
    "\n",
    "    def forward(self, x):\n",
    "        # storing the input to the residual block\n",
    "        identity = x\n",
    "        # generating the output from first convolution layer\n",
    "        out = self.conv1(x)\n",
    "        # applying relu activation function\n",
    "        out = self.relu(out)\n",
    "        # generating the output from second convolution layer\n",
    "        out = self.conv2(out)\n",
    "        # adding the identity mapping\n",
    "        out += identity\n",
    "        # applying relu activation function\n",
    "        out = self.relu(out)\n",
    "\n",
    "        return out"
   ]
  },
  {
   "cell_type": "code",
   "execution_count": 3,
   "metadata": {
    "colab": {
     "base_uri": "https://localhost:8080/",
     "height": 34
    },
    "colab_type": "code",
    "executionInfo": {
     "elapsed": 1237,
     "status": "ok",
     "timestamp": 1591986462893,
     "user": {
      "displayName": "Aishwarya Singh",
      "photoUrl": "https://lh3.googleusercontent.com/a-/AOh14GgeJwfn4BdBDCAplWi_kdtB9FRssOpXO7T_aMgg=s64",
      "userId": "01105858832371513140"
     },
     "user_tz": -330
    },
    "id": "hAuIxRoCVV-g",
    "outputId": "76e35b96-3959-454b-ea71-814e98a95dd3"
   },
   "outputs": [
    {
     "data": {
      "text/plain": [
       "torch.Size([1, 3, 224, 224])"
      ]
     },
     "execution_count": 3,
     "metadata": {
      "tags": []
     },
     "output_type": "execute_result"
    }
   ],
   "source": [
    "# initializing a random image\n",
    "random_image = torch.randn(1, 3, 224, 224)\n",
    "random_image.shape"
   ]
  },
  {
   "cell_type": "code",
   "execution_count": null,
   "metadata": {
    "colab": {},
    "colab_type": "code",
    "id": "6ETVxOA7zd9A"
   },
   "outputs": [],
   "source": [
    "# passing the image to the residual block and generating the output\n",
    "output = Residual_Block(in_channels = random_image.shape[1]).forward(random_image)"
   ]
  },
  {
   "cell_type": "code",
   "execution_count": 5,
   "metadata": {
    "colab": {
     "base_uri": "https://localhost:8080/",
     "height": 34
    },
    "colab_type": "code",
    "executionInfo": {
     "elapsed": 740,
     "status": "ok",
     "timestamp": 1591986497343,
     "user": {
      "displayName": "Aishwarya Singh",
      "photoUrl": "https://lh3.googleusercontent.com/a-/AOh14GgeJwfn4BdBDCAplWi_kdtB9FRssOpXO7T_aMgg=s64",
      "userId": "01105858832371513140"
     },
     "user_tz": -330
    },
    "id": "kHYOmqarhMKg",
    "outputId": "69204b77-8682-41d0-ad74-f33eef8e3b52"
   },
   "outputs": [
    {
     "data": {
      "text/plain": [
       "torch.Size([1, 3, 224, 224])"
      ]
     },
     "execution_count": 5,
     "metadata": {
      "tags": []
     },
     "output_type": "execute_result"
    }
   ],
   "source": [
    "# shape of generated output\n",
    "output.shape"
   ]
  },
  {
   "cell_type": "code",
   "execution_count": null,
   "metadata": {
    "colab": {},
    "colab_type": "code",
    "id": "ckV76QcYyhYy"
   },
   "outputs": [],
   "source": []
  }
 ],
 "metadata": {
  "accelerator": "GPU",
  "colab": {
   "collapsed_sections": [],
   "machine_shape": "hm",
   "name": "5.2 Constructing a residual block.ipynb",
   "provenance": [
    {
     "file_id": "19o4Q2v3CJSX2bhlAuiVDxJn4zdu4Bxe1",
     "timestamp": 1586256149157
    },
    {
     "file_id": "1wwDl_uV7rgto4G-ZmVwdqfEQkmE2p81h",
     "timestamp": 1586097992517
    }
   ]
  },
  "kernelspec": {
   "display_name": "Python 3 (ipykernel)",
   "language": "python",
   "name": "python3"
  },
  "language_info": {
   "codemirror_mode": {
    "name": "ipython",
    "version": 3
   },
   "file_extension": ".py",
   "mimetype": "text/x-python",
   "name": "python",
   "nbconvert_exporter": "python",
   "pygments_lexer": "ipython3",
   "version": "3.11.4"
  }
 },
 "nbformat": 4,
 "nbformat_minor": 4
}
