{
 "cells": [
  {
   "cell_type": "markdown",
   "id": "alleged-fellowship",
   "metadata": {},
   "source": [
    "# Compound Index"
   ]
  },
  {
   "cell_type": "markdown",
   "id": "5d468459-f2b4-48bb-adf9-67d974394514",
   "metadata": {},
   "source": [
    "---\n",
    "---\n",
    "\n",
    "### [Compound Index](https://docs.mongodb.com/manual/core/index-compound/)\n",
    "\n",
    "- Index created on multiple fields.\n",
    "\n",
    "- Index created on fields in order of mention.\n",
    "\n",
    "- Each field in compound index can be in either ascending/descending order.\n",
    "\n",
    "![compound_index](Images/compound_index.svg)\n",
    "\n"
   ]
  },
  {
   "cell_type": "markdown",
   "id": "international-miniature",
   "metadata": {},
   "source": [
    "---\n",
    "### Connect to local server\n",
    "\n",
    "---"
   ]
  },
  {
   "cell_type": "code",
   "execution_count": 1,
   "id": "e8b66240-cd77-4cee-8ecb-d19e3c034395",
   "metadata": {},
   "outputs": [],
   "source": [
    "# Importing the required libraries\n",
    "import pymongo\n",
    "\n",
    "import pprint as pp\n",
    "pp.sorted = lambda x, key=None: x"
   ]
  },
  {
   "cell_type": "code",
   "execution_count": 2,
   "id": "8fe7436e-63a1-4d50-9223-62d7292ed4b8",
   "metadata": {},
   "outputs": [],
   "source": [
    "# Connect to local host\n",
    "client = pymongo.MongoClient(\"mongodb://localhost:27017/\")"
   ]
  },
  {
   "cell_type": "code",
   "execution_count": 3,
   "id": "14a9fb0d-df15-498b-aa30-38011676c0f1",
   "metadata": {},
   "outputs": [],
   "source": [
    "# Connect to database\n",
    "db = client['nyc']"
   ]
  },
  {
   "cell_type": "code",
   "execution_count": 4,
   "id": "60dc0510-3197-4e01-a0ce-3bc8ceabeaeb",
   "metadata": {
    "scrolled": true
   },
   "outputs": [
    {
     "name": "stdout",
     "output_type": "stream",
     "text": [
      "{'_id': ObjectId('60c21bf5b653d40e79b4a7d0'),\n",
      " 'accom_id': 2595,\n",
      " 'description': 'Skylit Midtown Castle',\n",
      " 'host': {'id': 2845,\n",
      "          'name': 'Jennifer',\n",
      "          'listings_count': 3,\n",
      "          'neighbourhood_list': ['Midtown', \"Hell's Kitchen\"]},\n",
      " 'neighbourhood': {'name': 'Midtown', 'group': 'Manhattan'},\n",
      " 'location': {'type': 'Point', 'coordinates': [-73.98559, 40.75356]},\n",
      " 'room_type': 'Entire home/apt',\n",
      " 'price': 150,\n",
      " 'minimum_nights': 30,\n",
      " 'reviews': {'number_of_reviews': 48,\n",
      "             'last_review': datetime.datetime(2019, 11, 4, 0, 0),\n",
      "             'reviews_per_month': 0.35},\n",
      " 'availability_365': 365}\n"
     ]
    }
   ],
   "source": [
    "# Sample document\n",
    "pp.pprint(\n",
    "    db.airbnb.find_one()\n",
    ")"
   ]
  },
  {
   "cell_type": "markdown",
   "id": "amino-contract",
   "metadata": {},
   "source": [
    "----\n",
    "**Drop previous indexes.**\n",
    "\n",
    "---"
   ]
  },
  {
   "cell_type": "code",
   "execution_count": 5,
   "id": "2413549c-c7cd-46e0-a979-c9b8be314aad",
   "metadata": {},
   "outputs": [],
   "source": [
    "# Drop indexes\n",
    "db.airbnb.drop_indexes()"
   ]
  },
  {
   "cell_type": "markdown",
   "id": "617650b3-2e0a-4e13-a2c3-0bf4c0aec1cd",
   "metadata": {},
   "source": [
    "___\n",
    "Query data based on `price` and `number_of_reviews`. Look for documents where `price = 150` and `reviews.number_of_reviews > 50`.\n",
    "____\n"
   ]
  },
  {
   "cell_type": "code",
   "execution_count": 6,
   "id": "80a00429-c499-4e75-804f-67f4dd165107",
   "metadata": {
    "scrolled": true
   },
   "outputs": [
    {
     "name": "stdout",
     "output_type": "stream",
     "text": [
      "{'executionSuccess': True,\n",
      " 'nReturned': 124,\n",
      " 'executionTimeMillis': 19,\n",
      " 'totalKeysExamined': 0,\n",
      " 'totalDocsExamined': 36905,\n",
      " 'executionStages': {'stage': 'COLLSCAN',\n",
      "                     'filter': {'$and': [{'price': {'$eq': 150}},\n",
      "                                         {'reviews.number_of_reviews': {'$gt': 50}}]},\n",
      "                     'nReturned': 124,\n",
      "                     'executionTimeMillisEstimate': 1,\n",
      "                     'works': 36907,\n",
      "                     'advanced': 124,\n",
      "                     'needTime': 36782,\n",
      "                     'needYield': 0,\n",
      "                     'saveState': 36,\n",
      "                     'restoreState': 36,\n",
      "                     'isEOF': 1,\n",
      "                     'direction': 'forward',\n",
      "                     'docsExamined': 36905},\n",
      " 'allPlansExecution': []}\n"
     ]
    }
   ],
   "source": [
    "# Query on price and number of reviews\n",
    "pp.pprint(\n",
    "            db.airbnb.find({\n",
    "                                'price': 150,\n",
    "                                'reviews.number_of_reviews': {'$gt': 50}\n",
    "                            })\\\n",
    "                     .explain()['executionStats']\n",
    "        )"
   ]
  },
  {
   "cell_type": "markdown",
   "id": "dfc9edd2-8a68-41d4-837f-7f65656e0497",
   "metadata": {},
   "source": [
    "---\n",
    "--- \n",
    "We have returned 124 documents out of 36905 total examined documents. We can reduce the number of examined documents by creating a **single index** on `price` field.\n",
    "\n",
    "----"
   ]
  },
  {
   "cell_type": "code",
   "execution_count": 7,
   "id": "4b53ed64-819d-49b9-8423-09f8553b9c4c",
   "metadata": {},
   "outputs": [
    {
     "data": {
      "text/plain": [
       "'price_index'"
      ]
     },
     "execution_count": 7,
     "metadata": {},
     "output_type": "execute_result"
    }
   ],
   "source": [
    "# Create single index\n",
    "db.airbnb.create_index('price',\n",
    "                       name = 'price_index')"
   ]
  },
  {
   "cell_type": "markdown",
   "id": "70cebb2c-e2d7-4099-bf8b-e757b12caffa",
   "metadata": {},
   "source": [
    "---\n",
    "This will reduce the number of examined documents.\n",
    "\n",
    "---"
   ]
  },
  {
   "cell_type": "code",
   "execution_count": 8,
   "id": "92fe021e-03da-4ee0-b3f2-29924697d7e0",
   "metadata": {
    "scrolled": true
   },
   "outputs": [
    {
     "name": "stdout",
     "output_type": "stream",
     "text": [
      "{'executionSuccess': True,\n",
      " 'nReturned': 124,\n",
      " 'executionTimeMillis': 4,\n",
      " 'totalKeysExamined': 1298,\n",
      " 'totalDocsExamined': 1298,\n",
      " 'executionStages': {'stage': 'FETCH',\n",
      "                     'filter': {'reviews.number_of_reviews': {'$gt': 50}},\n",
      "                     'nReturned': 124,\n",
      "                     'executionTimeMillisEstimate': 0,\n",
      "                     'works': 1299,\n",
      "                     'advanced': 124,\n",
      "                     'needTime': 1174,\n",
      "                     'needYield': 0,\n",
      "                     'saveState': 1,\n",
      "                     'restoreState': 1,\n",
      "                     'isEOF': 1,\n",
      "                     'docsExamined': 1298,\n",
      "                     'alreadyHasObj': 0,\n",
      "                     'inputStage': {'stage': 'IXSCAN',\n",
      "                                    'nReturned': 1298,\n",
      "                                    'executionTimeMillisEstimate': 0,\n",
      "                                    'works': 1299,\n",
      "                                    'advanced': 1298,\n",
      "                                    'needTime': 0,\n",
      "                                    'needYield': 0,\n",
      "                                    'saveState': 1,\n",
      "                                    'restoreState': 1,\n",
      "                                    'isEOF': 1,\n",
      "                                    'keyPattern': {'price': 1},\n",
      "                                    'indexName': 'price_index',\n",
      "                                    'isMultiKey': False,\n",
      "                                    'multiKeyPaths': {'price': []},\n",
      "                                    'isUnique': False,\n",
      "                                    'isSparse': False,\n",
      "                                    'isPartial': False,\n",
      "                                    'indexVersion': 2,\n",
      "                                    'direction': 'forward',\n",
      "                                    'indexBounds': {'price': ['[150, 150]']},\n",
      "                                    'keysExamined': 1298,\n",
      "                                    'seeks': 1,\n",
      "                                    'dupsTested': 0,\n",
      "                                    'dupsDropped': 0}},\n",
      " 'allPlansExecution': []}\n"
     ]
    }
   ],
   "source": [
    "# Query\n",
    "pp.pprint(\n",
    "            db.airbnb.find({\n",
    "                                'price': 150,\n",
    "                                'reviews.number_of_reviews': {'$gt': 50}\n",
    "                            })\\\n",
    "                     .explain()['executionStats']\n",
    "    )"
   ]
  },
  {
   "cell_type": "markdown",
   "id": "protected-attitude",
   "metadata": {},
   "source": [
    "---\n",
    "---\n",
    "Still a lot more documents are examined than retruned. Since we are indexing on more than one field, we can create an index that holds references to more than one field. We can use a `Compound Index`.\n",
    "\n",
    "----\n",
    "Create compound index using `price` and `reviews.number_of_reviews` fields.\n",
    "\n",
    "![compound_example](Images/compound_example.png)\n",
    "\n",
    "---"
   ]
  },
  {
   "cell_type": "code",
   "execution_count": 9,
   "id": "16132e5f-04d0-4c9f-871f-8451174bc28f",
   "metadata": {},
   "outputs": [
    {
     "data": {
      "text/plain": [
       "'price_reviews'"
      ]
     },
     "execution_count": 9,
     "metadata": {},
     "output_type": "execute_result"
    }
   ],
   "source": [
    "# Create compound index\n",
    "# price in ASCENDING order\n",
    "# reviews.number_of_reviews in DESCENDING order\n",
    "\n",
    "db.airbnb.create_index(\n",
    "                        # Compound index\n",
    "                        [\n",
    "                            ('price', pymongo.ASCENDING),\n",
    "                            ('reviews.number_of_reviews', pymongo.DESCENDING)\n",
    "                        ],\n",
    "                        # Index name\n",
    "                        name = 'price_reviews')"
   ]
  },
  {
   "cell_type": "code",
   "execution_count": 10,
   "id": "racial-ability",
   "metadata": {
    "scrolled": true
   },
   "outputs": [
    {
     "name": "stdout",
     "output_type": "stream",
     "text": [
      "{'executionSuccess': True,\n",
      " 'nReturned': 124,\n",
      " 'executionTimeMillis': 2,\n",
      " 'totalKeysExamined': 124,\n",
      " 'totalDocsExamined': 124,\n",
      " 'executionStages': {'stage': 'FETCH',\n",
      "                     'nReturned': 124,\n",
      "                     'executionTimeMillisEstimate': 0,\n",
      "                     'works': 125,\n",
      "                     'advanced': 124,\n",
      "                     'needTime': 0,\n",
      "                     'needYield': 0,\n",
      "                     'saveState': 0,\n",
      "                     'restoreState': 0,\n",
      "                     'isEOF': 1,\n",
      "                     'docsExamined': 124,\n",
      "                     'alreadyHasObj': 0,\n",
      "                     'inputStage': {'stage': 'IXSCAN',\n",
      "                                    'nReturned': 124,\n",
      "                                    'executionTimeMillisEstimate': 0,\n",
      "                                    'works': 125,\n",
      "                                    'advanced': 124,\n",
      "                                    'needTime': 0,\n",
      "                                    'needYield': 0,\n",
      "                                    'saveState': 0,\n",
      "                                    'restoreState': 0,\n",
      "                                    'isEOF': 1,\n",
      "                                    'keyPattern': {'price': 1,\n",
      "                                                   'reviews.number_of_reviews': -1},\n",
      "                                    'indexName': 'price_reviews',\n",
      "                                    'isMultiKey': False,\n",
      "                                    'multiKeyPaths': {'price': [],\n",
      "                                                      'reviews.number_of_reviews': []},\n",
      "                                    'isUnique': False,\n",
      "                                    'isSparse': False,\n",
      "                                    'isPartial': False,\n",
      "                                    'indexVersion': 2,\n",
      "                                    'direction': 'forward',\n",
      "                                    'indexBounds': {'price': ['[150, 150]'],\n",
      "                                                    'reviews.number_of_reviews': ['[inf.0, '\n",
      "                                                                                  '50)']},\n",
      "                                    'keysExamined': 124,\n",
      "                                    'seeks': 1,\n",
      "                                    'dupsTested': 0,\n",
      "                                    'dupsDropped': 0}},\n",
      " 'allPlansExecution': [{'nReturned': 101,\n",
      "                        'executionTimeMillisEstimate': 0,\n",
      "                        'totalKeysExamined': 101,\n",
      "                        'totalDocsExamined': 101,\n",
      "                        'executionStages': {'stage': 'FETCH',\n",
      "                                            'nReturned': 101,\n",
      "                                            'executionTimeMillisEstimate': 0,\n",
      "                                            'works': 101,\n",
      "                                            'advanced': 101,\n",
      "                                            'needTime': 0,\n",
      "                                            'needYield': 0,\n",
      "                                            'saveState': 0,\n",
      "                                            'restoreState': 0,\n",
      "                                            'isEOF': 0,\n",
      "                                            'docsExamined': 101,\n",
      "                                            'alreadyHasObj': 0,\n",
      "                                            'inputStage': {'stage': 'IXSCAN',\n",
      "                                                           'nReturned': 101,\n",
      "                                                           'executionTimeMillisEstimate': 0,\n",
      "                                                           'works': 101,\n",
      "                                                           'advanced': 101,\n",
      "                                                           'needTime': 0,\n",
      "                                                           'needYield': 0,\n",
      "                                                           'saveState': 0,\n",
      "                                                           'restoreState': 0,\n",
      "                                                           'isEOF': 0,\n",
      "                                                           'keyPattern': {'price': 1,\n",
      "                                                                          'reviews.number_of_reviews': -1},\n",
      "                                                           'indexName': 'price_reviews',\n",
      "                                                           'isMultiKey': False,\n",
      "                                                           'multiKeyPaths': {'price': [],\n",
      "                                                                             'reviews.number_of_reviews': []},\n",
      "                                                           'isUnique': False,\n",
      "                                                           'isSparse': False,\n",
      "                                                           'isPartial': False,\n",
      "                                                           'indexVersion': 2,\n",
      "                                                           'direction': 'forward',\n",
      "                                                           'indexBounds': {'price': ['[150, '\n",
      "                                                                                     '150]'],\n",
      "                                                                           'reviews.number_of_reviews': ['[inf.0, '\n",
      "                                                                                                         '50)']},\n",
      "                                                           'keysExamined': 101,\n",
      "                                                           'seeks': 1,\n",
      "                                                           'dupsTested': 0,\n",
      "                                                           'dupsDropped': 0}}},\n",
      "                       {'nReturned': 30,\n",
      "                        'executionTimeMillisEstimate': 0,\n",
      "                        'totalKeysExamined': 101,\n",
      "                        'totalDocsExamined': 101,\n",
      "                        'executionStages': {'stage': 'FETCH',\n",
      "                                            'filter': {'reviews.number_of_reviews': {'$gt': 50}},\n",
      "                                            'nReturned': 30,\n",
      "                                            'executionTimeMillisEstimate': 0,\n",
      "                                            'works': 101,\n",
      "                                            'advanced': 30,\n",
      "                                            'needTime': 71,\n",
      "                                            'needYield': 0,\n",
      "                                            'saveState': 0,\n",
      "                                            'restoreState': 0,\n",
      "                                            'isEOF': 0,\n",
      "                                            'docsExamined': 101,\n",
      "                                            'alreadyHasObj': 0,\n",
      "                                            'inputStage': {'stage': 'IXSCAN',\n",
      "                                                           'nReturned': 101,\n",
      "                                                           'executionTimeMillisEstimate': 0,\n",
      "                                                           'works': 101,\n",
      "                                                           'advanced': 101,\n",
      "                                                           'needTime': 0,\n",
      "                                                           'needYield': 0,\n",
      "                                                           'saveState': 0,\n",
      "                                                           'restoreState': 0,\n",
      "                                                           'isEOF': 0,\n",
      "                                                           'keyPattern': {'price': 1},\n",
      "                                                           'indexName': 'price_index',\n",
      "                                                           'isMultiKey': False,\n",
      "                                                           'multiKeyPaths': {'price': []},\n",
      "                                                           'isUnique': False,\n",
      "                                                           'isSparse': False,\n",
      "                                                           'isPartial': False,\n",
      "                                                           'indexVersion': 2,\n",
      "                                                           'direction': 'forward',\n",
      "                                                           'indexBounds': {'price': ['[150, '\n",
      "                                                                                     '150]']},\n",
      "                                                           'keysExamined': 101,\n",
      "                                                           'seeks': 1,\n",
      "                                                           'dupsTested': 0,\n",
      "                                                           'dupsDropped': 0}}}]}\n"
     ]
    }
   ],
   "source": [
    "# Query\n",
    "\n",
    "pp.pprint(\n",
    "            db.airbnb.find({\n",
    "                                'price': 150,\n",
    "                                'reviews.number_of_reviews': {'$gt': 50}\n",
    "                           })\\\n",
    "                     .explain()['executionStats']\n",
    "    )"
   ]
  },
  {
   "cell_type": "markdown",
   "id": "utility-fisher",
   "metadata": {},
   "source": [
    "___\n",
    "Look for documents where `150 < price <170` and `reviews.number_of_reviews > 50`.\n",
    "____\n"
   ]
  },
  {
   "cell_type": "code",
   "execution_count": 11,
   "id": "2e308fb1-e82d-4b5c-b811-7f26647573cb",
   "metadata": {
    "scrolled": true
   },
   "outputs": [
    {
     "name": "stdout",
     "output_type": "stream",
     "text": [
      "{'executionSuccess': True,\n",
      " 'nReturned': 201,\n",
      " 'executionTimeMillis': 1,\n",
      " 'totalKeysExamined': 221,\n",
      " 'totalDocsExamined': 201,\n",
      " 'executionStages': {'stage': 'FETCH',\n",
      "                     'nReturned': 201,\n",
      "                     'executionTimeMillisEstimate': 0,\n",
      "                     'works': 221,\n",
      "                     'advanced': 201,\n",
      "                     'needTime': 19,\n",
      "                     'needYield': 0,\n",
      "                     'saveState': 0,\n",
      "                     'restoreState': 0,\n",
      "                     'isEOF': 1,\n",
      "                     'docsExamined': 201,\n",
      "                     'alreadyHasObj': 0,\n",
      "                     'inputStage': {'stage': 'IXSCAN',\n",
      "                                    'nReturned': 201,\n",
      "                                    'executionTimeMillisEstimate': 0,\n",
      "                                    'works': 221,\n",
      "                                    'advanced': 201,\n",
      "                                    'needTime': 19,\n",
      "                                    'needYield': 0,\n",
      "                                    'saveState': 0,\n",
      "                                    'restoreState': 0,\n",
      "                                    'isEOF': 1,\n",
      "                                    'keyPattern': {'price': 1,\n",
      "                                                   'reviews.number_of_reviews': -1},\n",
      "                                    'indexName': 'price_reviews',\n",
      "                                    'isMultiKey': False,\n",
      "                                    'multiKeyPaths': {'price': [],\n",
      "                                                      'reviews.number_of_reviews': []},\n",
      "                                    'isUnique': False,\n",
      "                                    'isSparse': False,\n",
      "                                    'isPartial': False,\n",
      "                                    'indexVersion': 2,\n",
      "                                    'direction': 'forward',\n",
      "                                    'indexBounds': {'price': ['(150, 170)'],\n",
      "                                                    'reviews.number_of_reviews': ['[inf.0, '\n",
      "                                                                                  '50)']},\n",
      "                                    'keysExamined': 221,\n",
      "                                    'seeks': 20,\n",
      "                                    'dupsTested': 0,\n",
      "                                    'dupsDropped': 0}},\n",
      " 'allPlansExecution': [{'nReturned': 101,\n",
      "                        'executionTimeMillisEstimate': 0,\n",
      "                        'totalKeysExamined': 110,\n",
      "                        'totalDocsExamined': 101,\n",
      "                        'executionStages': {'stage': 'FETCH',\n",
      "                                            'nReturned': 101,\n",
      "                                            'executionTimeMillisEstimate': 0,\n",
      "                                            'works': 110,\n",
      "                                            'advanced': 101,\n",
      "                                            'needTime': 9,\n",
      "                                            'needYield': 0,\n",
      "                                            'saveState': 0,\n",
      "                                            'restoreState': 0,\n",
      "                                            'isEOF': 0,\n",
      "                                            'docsExamined': 101,\n",
      "                                            'alreadyHasObj': 0,\n",
      "                                            'inputStage': {'stage': 'IXSCAN',\n",
      "                                                           'nReturned': 101,\n",
      "                                                           'executionTimeMillisEstimate': 0,\n",
      "                                                           'works': 110,\n",
      "                                                           'advanced': 101,\n",
      "                                                           'needTime': 9,\n",
      "                                                           'needYield': 0,\n",
      "                                                           'saveState': 0,\n",
      "                                                           'restoreState': 0,\n",
      "                                                           'isEOF': 0,\n",
      "                                                           'keyPattern': {'price': 1,\n",
      "                                                                          'reviews.number_of_reviews': -1},\n",
      "                                                           'indexName': 'price_reviews',\n",
      "                                                           'isMultiKey': False,\n",
      "                                                           'multiKeyPaths': {'price': [],\n",
      "                                                                             'reviews.number_of_reviews': []},\n",
      "                                                           'isUnique': False,\n",
      "                                                           'isSparse': False,\n",
      "                                                           'isPartial': False,\n",
      "                                                           'indexVersion': 2,\n",
      "                                                           'direction': 'forward',\n",
      "                                                           'indexBounds': {'price': ['(150, '\n",
      "                                                                                     '170)'],\n",
      "                                                                           'reviews.number_of_reviews': ['[inf.0, '\n",
      "                                                                                                         '50)']},\n",
      "                                                           'keysExamined': 110,\n",
      "                                                           'seeks': 10,\n",
      "                                                           'dupsTested': 0,\n",
      "                                                           'dupsDropped': 0}}},\n",
      "                       {'nReturned': 17,\n",
      "                        'executionTimeMillisEstimate': 0,\n",
      "                        'totalKeysExamined': 110,\n",
      "                        'totalDocsExamined': 110,\n",
      "                        'executionStages': {'stage': 'FETCH',\n",
      "                                            'filter': {'reviews.number_of_reviews': {'$gt': 50}},\n",
      "                                            'nReturned': 17,\n",
      "                                            'executionTimeMillisEstimate': 0,\n",
      "                                            'works': 110,\n",
      "                                            'advanced': 17,\n",
      "                                            'needTime': 93,\n",
      "                                            'needYield': 0,\n",
      "                                            'saveState': 0,\n",
      "                                            'restoreState': 0,\n",
      "                                            'isEOF': 0,\n",
      "                                            'docsExamined': 110,\n",
      "                                            'alreadyHasObj': 0,\n",
      "                                            'inputStage': {'stage': 'IXSCAN',\n",
      "                                                           'nReturned': 110,\n",
      "                                                           'executionTimeMillisEstimate': 0,\n",
      "                                                           'works': 110,\n",
      "                                                           'advanced': 110,\n",
      "                                                           'needTime': 0,\n",
      "                                                           'needYield': 0,\n",
      "                                                           'saveState': 0,\n",
      "                                                           'restoreState': 0,\n",
      "                                                           'isEOF': 0,\n",
      "                                                           'keyPattern': {'price': 1},\n",
      "                                                           'indexName': 'price_index',\n",
      "                                                           'isMultiKey': False,\n",
      "                                                           'multiKeyPaths': {'price': []},\n",
      "                                                           'isUnique': False,\n",
      "                                                           'isSparse': False,\n",
      "                                                           'isPartial': False,\n",
      "                                                           'indexVersion': 2,\n",
      "                                                           'direction': 'forward',\n",
      "                                                           'indexBounds': {'price': ['(150, '\n",
      "                                                                                     '170)']},\n",
      "                                                           'keysExamined': 110,\n",
      "                                                           'seeks': 1,\n",
      "                                                           'dupsTested': 0,\n",
      "                                                           'dupsDropped': 0}}}]}\n"
     ]
    }
   ],
   "source": [
    "# Query\n",
    "\n",
    "pp.pprint(\n",
    "            db.airbnb.find({\n",
    "                                'price': {\n",
    "                                            '$gt': 150,\n",
    "                                            '$lt': 170\n",
    "                                        },\n",
    "                                'reviews.number_of_reviews': {'$gt': 50}\n",
    "                           })\\\n",
    "                     .explain()['executionStats']\n",
    "    )"
   ]
  },
  {
   "cell_type": "markdown",
   "id": "environmental-salad",
   "metadata": {},
   "source": [
    "---\n",
    "***While creating compound index :***\n",
    "- First add those fields against which equality conditions are run.\n",
    "\n",
    "- Add last those fields against which range based queries are run.\n",
    "\n",
    "\n",
    "---"
   ]
  },
  {
   "cell_type": "markdown",
   "id": "transparent-alfred",
   "metadata": {},
   "source": [
    "----\n",
    "### Exercise -\n",
    "\n",
    "Consider the following queries.\n",
    "\n",
    "- How many accomodations in \"Manhattan\" `neighbourhood.group` had `price` less than $100?\n",
    "\n",
    "- How many accomodations in either \"Manhattan\", \"Brooklyn\" or \"Queens\" `neighbourhood.group` had `price` less than $100 and `reviews.number_of_reviews` is greater than 10?\n",
    "\n",
    "What was the difference in the execution of the two queries? What index did you create?\n",
    "\n",
    "-----"
   ]
  },
  {
   "cell_type": "code",
   "execution_count": null,
   "id": "twelve-adjustment",
   "metadata": {},
   "outputs": [],
   "source": []
  }
 ],
 "metadata": {
  "kernelspec": {
   "display_name": "Python 3 (ipykernel)",
   "language": "python",
   "name": "python3"
  },
  "language_info": {
   "codemirror_mode": {
    "name": "ipython",
    "version": 3
   },
   "file_extension": ".py",
   "mimetype": "text/x-python",
   "name": "python",
   "nbconvert_exporter": "python",
   "pygments_lexer": "ipython3",
   "version": "3.11.4"
  }
 },
 "nbformat": 4,
 "nbformat_minor": 5
}
