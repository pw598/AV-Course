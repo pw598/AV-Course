{
 "cells": [
  {
   "cell_type": "markdown",
   "id": "outside-journey",
   "metadata": {},
   "source": [
    "# Single Field Indexes"
   ]
  },
  {
   "cell_type": "markdown",
   "id": "c5acd7ae-54f4-4f23-8685-ad379b62c705",
   "metadata": {},
   "source": [
    "---\n",
    "----\n",
    "\n",
    "### [Single Indexes](https://docs.mongodb.com/manual/core/index-single/)\n",
    "\n",
    "- Created on a single field.\n",
    "\n",
    "- Can create in ascending or descending order.\n",
    "\n",
    "\n",
    "![single index](Images/single_index.svg)"
   ]
  },
  {
   "cell_type": "markdown",
   "id": "every-conjunction",
   "metadata": {},
   "source": [
    "---\n",
    "### Connecting to MongoDB using Pymongo\n",
    "----"
   ]
  },
  {
   "cell_type": "code",
   "execution_count": 1,
   "id": "c1a17498-e1cd-4e5f-a99c-696df5b811e0",
   "metadata": {},
   "outputs": [],
   "source": [
    "# Importing the required libraries\n",
    "\n",
    "import pymongo\n",
    "\n",
    "import pprint as pp\n",
    "pp.sorted = lambda x, key=None: x"
   ]
  },
  {
   "cell_type": "code",
   "execution_count": 2,
   "id": "ee72314f-2b5e-4bcb-8014-bcb6f87c5664",
   "metadata": {},
   "outputs": [],
   "source": [
    "# Connect to local host\n",
    "\n",
    "client = pymongo.MongoClient(\"mongodb://localhost:27017/\")"
   ]
  },
  {
   "cell_type": "code",
   "execution_count": 3,
   "id": "8755fb30-efaa-4edf-a1e3-8d6795b47d00",
   "metadata": {},
   "outputs": [],
   "source": [
    "# Connect to database\n",
    "\n",
    "db = client['nyc']"
   ]
  },
  {
   "cell_type": "code",
   "execution_count": 4,
   "id": "4b2a8930-94c9-436b-87bf-4050c15fe0e6",
   "metadata": {},
   "outputs": [
    {
     "name": "stdout",
     "output_type": "stream",
     "text": [
      "{'_id': ObjectId('60c21bf5b653d40e79b4a7d0'),\n",
      " 'accom_id': 2595,\n",
      " 'description': 'Skylit Midtown Castle',\n",
      " 'host': {'id': 2845,\n",
      "          'name': 'Jennifer',\n",
      "          'listings_count': 3,\n",
      "          'neighbourhood_list': ['Midtown', \"Hell's Kitchen\"]},\n",
      " 'neighbourhood': {'name': 'Midtown', 'group': 'Manhattan'},\n",
      " 'location': {'type': 'Point', 'coordinates': [-73.98559, 40.75356]},\n",
      " 'room_type': 'Entire home/apt',\n",
      " 'price': 150,\n",
      " 'minimum_nights': 30,\n",
      " 'reviews': {'number_of_reviews': 48,\n",
      "             'last_review': datetime.datetime(2019, 11, 4, 0, 0),\n",
      "             'reviews_per_month': 0.35},\n",
      " 'availability_365': 365}\n"
     ]
    }
   ],
   "source": [
    "# Sample document\n",
    "\n",
    "pp.pprint(\n",
    "    db.airbnb.find_one()\n",
    ")"
   ]
  },
  {
   "cell_type": "markdown",
   "id": "timely-marketplace",
   "metadata": {},
   "source": [
    "---\n",
    "### Querying without index\n",
    "\n",
    "---"
   ]
  },
  {
   "cell_type": "code",
   "execution_count": 5,
   "id": "peripheral-cylinder",
   "metadata": {},
   "outputs": [
    {
     "name": "stdout",
     "output_type": "stream",
     "text": [
      "{'executionSuccess': True,\n",
      " 'nReturned': 1,\n",
      " 'executionTimeMillis': 20,\n",
      " 'totalKeysExamined': 0,\n",
      " 'totalDocsExamined': 36905,\n",
      " 'executionStages': {'stage': 'COLLSCAN',\n",
      "                     'filter': {'accom_id': {'$eq': 2595}},\n",
      "                     'nReturned': 1,\n",
      "                     'executionTimeMillisEstimate': 1,\n",
      "                     'works': 36907,\n",
      "                     'advanced': 1,\n",
      "                     'needTime': 36905,\n",
      "                     'needYield': 0,\n",
      "                     'saveState': 36,\n",
      "                     'restoreState': 36,\n",
      "                     'isEOF': 1,\n",
      "                     'direction': 'forward',\n",
      "                     'docsExamined': 36905},\n",
      " 'allPlansExecution': []}\n"
     ]
    }
   ],
   "source": [
    "# Query\n",
    "\n",
    "pp.pprint(\n",
    "            db.airbnb.find({'accom_id': 2595})\\\n",
    "                     .explain()['executionStats']\n",
    "        )"
   ]
  },
  {
   "cell_type": "markdown",
   "id": "cf8ac035-153b-4e79-916d-b2facd1a6e77",
   "metadata": {},
   "source": [
    "---\n",
    "### Create index using [create_index](https://pymongo.readthedocs.io/en/stable/api/pymongo/collection.html#pymongo.collection.Collection.create_index)\n",
    "\n",
    "Create index on `accom_id`.\n",
    "\n",
    "----"
   ]
  },
  {
   "cell_type": "code",
   "execution_count": 6,
   "id": "23d2064c-26c1-4e9b-8261-3abdb6d06d7f",
   "metadata": {
    "scrolled": true
   },
   "outputs": [
    {
     "data": {
      "text/plain": [
       "'accom_id_1'"
      ]
     },
     "execution_count": 6,
     "metadata": {},
     "output_type": "execute_result"
    }
   ],
   "source": [
    "# Create single index\n",
    "\n",
    "db.airbnb.create_index('accom_id')"
   ]
  },
  {
   "cell_type": "code",
   "execution_count": 7,
   "id": "38c406bc-d39b-415f-acb5-9e3cc319112c",
   "metadata": {
    "scrolled": true
   },
   "outputs": [
    {
     "name": "stdout",
     "output_type": "stream",
     "text": [
      "{'_id_': {'v': 2, 'key': [('_id', 1)]},\n",
      " 'accom_id_1': {'v': 2, 'key': [('accom_id', 1)]}}\n"
     ]
    }
   ],
   "source": [
    "# Get indexes\n",
    "\n",
    "pp.pprint(\n",
    "    db.airbnb.index_information()\n",
    ")"
   ]
  },
  {
   "cell_type": "markdown",
   "id": "2fd6f762-d5f3-4e70-8f15-e58a1e544f90",
   "metadata": {},
   "source": [
    "---\n",
    "### Query using indexed field\n",
    "\n",
    "Query using indexed field will use the created index instead of `_id` field.\n",
    "\n",
    "---"
   ]
  },
  {
   "cell_type": "code",
   "execution_count": 8,
   "id": "0a83570f-81db-4849-9930-e4ba1f0b16c7",
   "metadata": {
    "tags": []
   },
   "outputs": [
    {
     "name": "stdout",
     "output_type": "stream",
     "text": [
      "{'executionSuccess': True,\n",
      " 'nReturned': 1,\n",
      " 'executionTimeMillis': 1,\n",
      " 'totalKeysExamined': 1,\n",
      " 'totalDocsExamined': 1,\n",
      " 'executionStages': {'stage': 'FETCH',\n",
      "                     'nReturned': 1,\n",
      "                     'executionTimeMillisEstimate': 0,\n",
      "                     'works': 2,\n",
      "                     'advanced': 1,\n",
      "                     'needTime': 0,\n",
      "                     'needYield': 0,\n",
      "                     'saveState': 0,\n",
      "                     'restoreState': 0,\n",
      "                     'isEOF': 1,\n",
      "                     'docsExamined': 1,\n",
      "                     'alreadyHasObj': 0,\n",
      "                     'inputStage': {'stage': 'IXSCAN',\n",
      "                                    'nReturned': 1,\n",
      "                                    'executionTimeMillisEstimate': 0,\n",
      "                                    'works': 2,\n",
      "                                    'advanced': 1,\n",
      "                                    'needTime': 0,\n",
      "                                    'needYield': 0,\n",
      "                                    'saveState': 0,\n",
      "                                    'restoreState': 0,\n",
      "                                    'isEOF': 1,\n",
      "                                    'keyPattern': {'accom_id': 1},\n",
      "                                    'indexName': 'accom_id_1',\n",
      "                                    'isMultiKey': False,\n",
      "                                    'multiKeyPaths': {'accom_id': []},\n",
      "                                    'isUnique': False,\n",
      "                                    'isSparse': False,\n",
      "                                    'isPartial': False,\n",
      "                                    'indexVersion': 2,\n",
      "                                    'direction': 'forward',\n",
      "                                    'indexBounds': {'accom_id': ['[2595, '\n",
      "                                                                 '2595]']},\n",
      "                                    'keysExamined': 1,\n",
      "                                    'seeks': 1,\n",
      "                                    'dupsTested': 0,\n",
      "                                    'dupsDropped': 0}},\n",
      " 'allPlansExecution': []}\n"
     ]
    }
   ],
   "source": [
    "# Query\n",
    "\n",
    "pp.pprint(\n",
    "            db.airbnb.find({'accom_id': 2595})\\\n",
    "                     .explain()['executionStats']\n",
    "        )"
   ]
  },
  {
   "cell_type": "markdown",
   "id": "4882958b-540c-4327-badc-ea7fcd68fe04",
   "metadata": {},
   "source": [
    "---\n",
    "**Naming indexes and changing order of index.**\n",
    "\n",
    "Providing custom name to an index and creating in `descending order`. By default they are created in ascending order.\n",
    "\n",
    "----"
   ]
  },
  {
   "cell_type": "code",
   "execution_count": 9,
   "id": "213b7541-d7e3-4649-b75f-9b977865f218",
   "metadata": {},
   "outputs": [
    {
     "data": {
      "text/plain": [
       "'host_id'"
      ]
     },
     "execution_count": 9,
     "metadata": {},
     "output_type": "execute_result"
    }
   ],
   "source": [
    "# Create single index with custom name and un decreasing order\n",
    "\n",
    "db.airbnb.create_index(\n",
    "                        [('host.id', pymongo.DESCENDING)],\n",
    "                        name = 'host_id'\n",
    "                    )"
   ]
  },
  {
   "cell_type": "code",
   "execution_count": 10,
   "id": "45657181-ef78-426d-b0f2-7be6a4868414",
   "metadata": {
    "scrolled": true
   },
   "outputs": [
    {
     "name": "stdout",
     "output_type": "stream",
     "text": [
      "{'_id_': {'v': 2, 'key': [('_id', 1)]},\n",
      " 'accom_id_1': {'v': 2, 'key': [('accom_id', 1)]},\n",
      " 'host_id': {'v': 2, 'key': [('host.id', -1)]}}\n"
     ]
    }
   ],
   "source": [
    "# Get indexes\n",
    "\n",
    "pp.pprint(\n",
    "    db.airbnb.index_information()\n",
    ")"
   ]
  },
  {
   "cell_type": "markdown",
   "id": "42f23121-d8bd-4ca4-9ca4-55397cf3f6cd",
   "metadata": {},
   "source": [
    "---\n",
    "**Cannot create more than one single index with same field.**\n",
    "\n",
    "----"
   ]
  },
  {
   "cell_type": "code",
   "execution_count": 11,
   "id": "e7452180-4072-4d81-8d4f-5f971cac2dbe",
   "metadata": {
    "scrolled": true,
    "tags": []
   },
   "outputs": [
    {
     "ename": "OperationFailure",
     "evalue": "Index with name: acommodation_id already exists with a different name, full error: {'ok': 0.0, 'errmsg': 'Index with name: acommodation_id already exists with a different name', 'code': 85, 'codeName': 'IndexOptionsConflict'}",
     "output_type": "error",
     "traceback": [
      "\u001b[0;31m---------------------------------------------------------------------------\u001b[0m",
      "\u001b[0;31mOperationFailure\u001b[0m                          Traceback (most recent call last)",
      "\u001b[0;32m<ipython-input-11-58b509723734>\u001b[0m in \u001b[0;36m<module>\u001b[0;34m\u001b[0m\n\u001b[1;32m      2\u001b[0m \u001b[0;34m\u001b[0m\u001b[0m\n\u001b[1;32m      3\u001b[0m db.airbnb.create_index('accom_id', \n\u001b[0;32m----> 4\u001b[0;31m                        name='acommodation_id')\n\u001b[0m",
      "\u001b[0;32m~/.local/lib/python3.7/site-packages/pymongo/collection.py\u001b[0m in \u001b[0;36mcreate_index\u001b[0;34m(self, keys, session, **kwargs)\u001b[0m\n\u001b[1;32m   2057\u001b[0m             \u001b[0mcmd_options\u001b[0m\u001b[0;34m[\u001b[0m\u001b[0;34m\"maxTimeMS\"\u001b[0m\u001b[0;34m]\u001b[0m \u001b[0;34m=\u001b[0m \u001b[0mkwargs\u001b[0m\u001b[0;34m.\u001b[0m\u001b[0mpop\u001b[0m\u001b[0;34m(\u001b[0m\u001b[0;34m\"maxTimeMS\"\u001b[0m\u001b[0;34m)\u001b[0m\u001b[0;34m\u001b[0m\u001b[0;34m\u001b[0m\u001b[0m\n\u001b[1;32m   2058\u001b[0m         \u001b[0mindex\u001b[0m \u001b[0;34m=\u001b[0m \u001b[0mIndexModel\u001b[0m\u001b[0;34m(\u001b[0m\u001b[0mkeys\u001b[0m\u001b[0;34m,\u001b[0m \u001b[0;34m**\u001b[0m\u001b[0mkwargs\u001b[0m\u001b[0;34m)\u001b[0m\u001b[0;34m\u001b[0m\u001b[0;34m\u001b[0m\u001b[0m\n\u001b[0;32m-> 2059\u001b[0;31m         \u001b[0;32mreturn\u001b[0m \u001b[0mself\u001b[0m\u001b[0;34m.\u001b[0m\u001b[0m__create_indexes\u001b[0m\u001b[0;34m(\u001b[0m\u001b[0;34m[\u001b[0m\u001b[0mindex\u001b[0m\u001b[0;34m]\u001b[0m\u001b[0;34m,\u001b[0m \u001b[0msession\u001b[0m\u001b[0;34m,\u001b[0m \u001b[0;34m**\u001b[0m\u001b[0mcmd_options\u001b[0m\u001b[0;34m)\u001b[0m\u001b[0;34m[\u001b[0m\u001b[0;36m0\u001b[0m\u001b[0;34m]\u001b[0m\u001b[0;34m\u001b[0m\u001b[0;34m\u001b[0m\u001b[0m\n\u001b[0m\u001b[1;32m   2060\u001b[0m \u001b[0;34m\u001b[0m\u001b[0m\n\u001b[1;32m   2061\u001b[0m     \u001b[0;32mdef\u001b[0m \u001b[0mensure_index\u001b[0m\u001b[0;34m(\u001b[0m\u001b[0mself\u001b[0m\u001b[0;34m,\u001b[0m \u001b[0mkey_or_list\u001b[0m\u001b[0;34m,\u001b[0m \u001b[0mcache_for\u001b[0m\u001b[0;34m=\u001b[0m\u001b[0;36m300\u001b[0m\u001b[0;34m,\u001b[0m \u001b[0;34m**\u001b[0m\u001b[0mkwargs\u001b[0m\u001b[0;34m)\u001b[0m\u001b[0;34m:\u001b[0m\u001b[0;34m\u001b[0m\u001b[0;34m\u001b[0m\u001b[0m\n",
      "\u001b[0;32m~/.local/lib/python3.7/site-packages/pymongo/collection.py\u001b[0m in \u001b[0;36m__create_indexes\u001b[0;34m(self, indexes, session, **kwargs)\u001b[0m\n\u001b[1;32m   1951\u001b[0m                 \u001b[0mcodec_options\u001b[0m\u001b[0;34m=\u001b[0m\u001b[0m_UNICODE_REPLACE_CODEC_OPTIONS\u001b[0m\u001b[0;34m,\u001b[0m\u001b[0;34m\u001b[0m\u001b[0;34m\u001b[0m\u001b[0m\n\u001b[1;32m   1952\u001b[0m                 \u001b[0mwrite_concern\u001b[0m\u001b[0;34m=\u001b[0m\u001b[0mself\u001b[0m\u001b[0;34m.\u001b[0m\u001b[0m_write_concern_for\u001b[0m\u001b[0;34m(\u001b[0m\u001b[0msession\u001b[0m\u001b[0;34m)\u001b[0m\u001b[0;34m,\u001b[0m\u001b[0;34m\u001b[0m\u001b[0;34m\u001b[0m\u001b[0m\n\u001b[0;32m-> 1953\u001b[0;31m                 session=session)\n\u001b[0m\u001b[1;32m   1954\u001b[0m         \u001b[0;32mreturn\u001b[0m \u001b[0mnames\u001b[0m\u001b[0;34m\u001b[0m\u001b[0;34m\u001b[0m\u001b[0m\n\u001b[1;32m   1955\u001b[0m \u001b[0;34m\u001b[0m\u001b[0m\n",
      "\u001b[0;32m~/.local/lib/python3.7/site-packages/pymongo/collection.py\u001b[0m in \u001b[0;36m_command\u001b[0;34m(self, sock_info, command, slave_ok, read_preference, codec_options, check, allowable_errors, read_concern, write_concern, collation, session, retryable_write, user_fields)\u001b[0m\n\u001b[1;32m    251\u001b[0m                 \u001b[0mclient\u001b[0m\u001b[0;34m=\u001b[0m\u001b[0mself\u001b[0m\u001b[0;34m.\u001b[0m\u001b[0m__database\u001b[0m\u001b[0;34m.\u001b[0m\u001b[0mclient\u001b[0m\u001b[0;34m,\u001b[0m\u001b[0;34m\u001b[0m\u001b[0;34m\u001b[0m\u001b[0m\n\u001b[1;32m    252\u001b[0m                 \u001b[0mretryable_write\u001b[0m\u001b[0;34m=\u001b[0m\u001b[0mretryable_write\u001b[0m\u001b[0;34m,\u001b[0m\u001b[0;34m\u001b[0m\u001b[0;34m\u001b[0m\u001b[0m\n\u001b[0;32m--> 253\u001b[0;31m                 user_fields=user_fields)\n\u001b[0m\u001b[1;32m    254\u001b[0m \u001b[0;34m\u001b[0m\u001b[0m\n\u001b[1;32m    255\u001b[0m     \u001b[0;32mdef\u001b[0m \u001b[0m__create\u001b[0m\u001b[0;34m(\u001b[0m\u001b[0mself\u001b[0m\u001b[0;34m,\u001b[0m \u001b[0moptions\u001b[0m\u001b[0;34m,\u001b[0m \u001b[0mcollation\u001b[0m\u001b[0;34m,\u001b[0m \u001b[0msession\u001b[0m\u001b[0;34m)\u001b[0m\u001b[0;34m:\u001b[0m\u001b[0;34m\u001b[0m\u001b[0;34m\u001b[0m\u001b[0m\n",
      "\u001b[0;32m~/.local/lib/python3.7/site-packages/pymongo/pool.py\u001b[0m in \u001b[0;36mcommand\u001b[0;34m(self, dbname, spec, slave_ok, read_preference, codec_options, check, allowable_errors, check_keys, read_concern, write_concern, parse_write_concern_error, collation, session, client, retryable_write, publish_events, user_fields, exhaust_allowed)\u001b[0m\n\u001b[1;32m    692\u001b[0m                            \u001b[0munacknowledged\u001b[0m\u001b[0;34m=\u001b[0m\u001b[0munacknowledged\u001b[0m\u001b[0;34m,\u001b[0m\u001b[0;34m\u001b[0m\u001b[0;34m\u001b[0m\u001b[0m\n\u001b[1;32m    693\u001b[0m                            \u001b[0muser_fields\u001b[0m\u001b[0;34m=\u001b[0m\u001b[0muser_fields\u001b[0m\u001b[0;34m,\u001b[0m\u001b[0;34m\u001b[0m\u001b[0;34m\u001b[0m\u001b[0m\n\u001b[0;32m--> 694\u001b[0;31m                            exhaust_allowed=exhaust_allowed)\n\u001b[0m\u001b[1;32m    695\u001b[0m         \u001b[0;32mexcept\u001b[0m \u001b[0mOperationFailure\u001b[0m\u001b[0;34m:\u001b[0m\u001b[0;34m\u001b[0m\u001b[0;34m\u001b[0m\u001b[0m\n\u001b[1;32m    696\u001b[0m             \u001b[0;32mraise\u001b[0m\u001b[0;34m\u001b[0m\u001b[0;34m\u001b[0m\u001b[0m\n",
      "\u001b[0;32m~/.local/lib/python3.7/site-packages/pymongo/network.py\u001b[0m in \u001b[0;36mcommand\u001b[0;34m(sock_info, dbname, spec, slave_ok, is_mongos, read_preference, codec_options, session, client, check, allowable_errors, address, check_keys, listeners, max_bson_size, read_concern, parse_write_concern_error, collation, compression_ctx, use_op_msg, unacknowledged, user_fields, exhaust_allowed)\u001b[0m\n\u001b[1;32m    159\u001b[0m                 helpers._check_command_response(\n\u001b[1;32m    160\u001b[0m                     \u001b[0mresponse_doc\u001b[0m\u001b[0;34m,\u001b[0m \u001b[0msock_info\u001b[0m\u001b[0;34m.\u001b[0m\u001b[0mmax_wire_version\u001b[0m\u001b[0;34m,\u001b[0m \u001b[0mallowable_errors\u001b[0m\u001b[0;34m,\u001b[0m\u001b[0;34m\u001b[0m\u001b[0;34m\u001b[0m\u001b[0m\n\u001b[0;32m--> 161\u001b[0;31m                     parse_write_concern_error=parse_write_concern_error)\n\u001b[0m\u001b[1;32m    162\u001b[0m     \u001b[0;32mexcept\u001b[0m \u001b[0mException\u001b[0m \u001b[0;32mas\u001b[0m \u001b[0mexc\u001b[0m\u001b[0;34m:\u001b[0m\u001b[0;34m\u001b[0m\u001b[0;34m\u001b[0m\u001b[0m\n\u001b[1;32m    163\u001b[0m         \u001b[0;32mif\u001b[0m \u001b[0mpublish\u001b[0m\u001b[0;34m:\u001b[0m\u001b[0;34m\u001b[0m\u001b[0;34m\u001b[0m\u001b[0m\n",
      "\u001b[0;32m~/.local/lib/python3.7/site-packages/pymongo/helpers.py\u001b[0m in \u001b[0;36m_check_command_response\u001b[0;34m(response, max_wire_version, allowable_errors, parse_write_concern_error)\u001b[0m\n\u001b[1;32m    162\u001b[0m         \u001b[0;32mraise\u001b[0m \u001b[0mCursorNotFound\u001b[0m\u001b[0;34m(\u001b[0m\u001b[0merrmsg\u001b[0m\u001b[0;34m,\u001b[0m \u001b[0mcode\u001b[0m\u001b[0;34m,\u001b[0m \u001b[0mresponse\u001b[0m\u001b[0;34m,\u001b[0m \u001b[0mmax_wire_version\u001b[0m\u001b[0;34m)\u001b[0m\u001b[0;34m\u001b[0m\u001b[0;34m\u001b[0m\u001b[0m\n\u001b[1;32m    163\u001b[0m \u001b[0;34m\u001b[0m\u001b[0m\n\u001b[0;32m--> 164\u001b[0;31m     \u001b[0;32mraise\u001b[0m \u001b[0mOperationFailure\u001b[0m\u001b[0;34m(\u001b[0m\u001b[0merrmsg\u001b[0m\u001b[0;34m,\u001b[0m \u001b[0mcode\u001b[0m\u001b[0;34m,\u001b[0m \u001b[0mresponse\u001b[0m\u001b[0;34m,\u001b[0m \u001b[0mmax_wire_version\u001b[0m\u001b[0;34m)\u001b[0m\u001b[0;34m\u001b[0m\u001b[0;34m\u001b[0m\u001b[0m\n\u001b[0m\u001b[1;32m    165\u001b[0m \u001b[0;34m\u001b[0m\u001b[0m\n\u001b[1;32m    166\u001b[0m \u001b[0;34m\u001b[0m\u001b[0m\n",
      "\u001b[0;31mOperationFailure\u001b[0m: Index with name: acommodation_id already exists with a different name, full error: {'ok': 0.0, 'errmsg': 'Index with name: acommodation_id already exists with a different name', 'code': 85, 'codeName': 'IndexOptionsConflict'}"
     ]
    }
   ],
   "source": [
    "# Create index\n",
    "\n",
    "db.airbnb.create_index('accom_id', \n",
    "                       name='acommodation_id')"
   ]
  },
  {
   "cell_type": "markdown",
   "id": "micro-evolution",
   "metadata": {},
   "source": [
    "---\n",
    "### Index storage statistics\n",
    "\n",
    "----"
   ]
  },
  {
   "cell_type": "code",
   "execution_count": 12,
   "id": "planned-nerve",
   "metadata": {},
   "outputs": [
    {
     "data": {
      "text/plain": [
       "{'_id_': 344064, 'accom_id_1': 413696, 'host_id': 348160}"
      ]
     },
     "execution_count": 12,
     "metadata": {},
     "output_type": "execute_result"
    }
   ],
   "source": [
    "# Index name and size of existing indexes on the collection\n",
    "\n",
    "db.command('collStats', 'airbnb')['indexSizes']"
   ]
  },
  {
   "cell_type": "code",
   "execution_count": 13,
   "id": "pleasant-cleveland",
   "metadata": {
    "scrolled": true
   },
   "outputs": [
    {
     "data": {
      "text/plain": [
       "1105920"
      ]
     },
     "execution_count": 13,
     "metadata": {},
     "output_type": "execute_result"
    }
   ],
   "source": [
    "# Total size of all indexes\n",
    "\n",
    "db.command('collStats', 'airbnb')['totalIndexSize']"
   ]
  },
  {
   "cell_type": "markdown",
   "id": "16bcf1fb-3e08-478d-9dd1-41dfdb4ea6dc",
   "metadata": {},
   "source": [
    "----\n",
    "### Drop indexes\n",
    "\n",
    "***The disadvantage of creating an index is that it puts a bit of overhead on every insert, update, and delete.***\n",
    "\n",
    "This is because the database needs to perform the operations and then also make note of it in the indexes of the collection. \n",
    "\n",
    "Therefore, it is important to drop indexes in MongoDB which are of no use. This will allow the collection to perform faster writes.\n",
    "\n",
    "\n",
    "\n",
    "Drop indexes using [drop_index](https://pymongo.readthedocs.io/en/stable/api/pymongo/collection.html#pymongo.collection.Collection.drop_index).\n",
    "\n",
    "---"
   ]
  },
  {
   "cell_type": "code",
   "execution_count": 14,
   "id": "fd85035d-1405-41f2-a62c-f9e21f96c09f",
   "metadata": {},
   "outputs": [],
   "source": [
    "# Dropping an index\n",
    "\n",
    "db.airbnb.drop_index('accom_id_1')"
   ]
  },
  {
   "cell_type": "code",
   "execution_count": 15,
   "id": "dbcd3e11-a942-426e-a60f-db24aea07298",
   "metadata": {},
   "outputs": [
    {
     "name": "stdout",
     "output_type": "stream",
     "text": [
      "{'_id_': {'v': 2, 'key': [('_id', 1)]},\n",
      " 'host_id': {'v': 2, 'key': [('host.id', -1)]}}\n"
     ]
    }
   ],
   "source": [
    "# Get indexes\n",
    "\n",
    "pp.pprint(\n",
    "    db.airbnb.index_information()\n",
    ")"
   ]
  },
  {
   "cell_type": "markdown",
   "id": "48850d5f-ea3d-445d-b087-02528dd7e84f",
   "metadata": {},
   "source": [
    "---\n",
    "Drop all indexes in a collection with [drop_indexes](https://pymongo.readthedocs.io/en/stable/api/pymongo/collection.html#pymongo.collection.Collection.drop_indexes).\n",
    "\n",
    "---"
   ]
  },
  {
   "cell_type": "code",
   "execution_count": 16,
   "id": "8da67120-8125-425b-8c3a-30bde824ea48",
   "metadata": {},
   "outputs": [],
   "source": [
    "# Drop all indexes\n",
    "\n",
    "db.airbnb.drop_indexes()"
   ]
  },
  {
   "cell_type": "code",
   "execution_count": 17,
   "id": "b6e33906-afb1-4ac7-ae67-19167ddd2e78",
   "metadata": {},
   "outputs": [
    {
     "data": {
      "text/plain": [
       "{'_id_': {'v': 2, 'key': [('_id', 1)]}}"
      ]
     },
     "execution_count": 17,
     "metadata": {},
     "output_type": "execute_result"
    }
   ],
   "source": [
    "# Get indexes\n",
    "\n",
    "db.airbnb.index_information()"
   ]
  },
  {
   "cell_type": "markdown",
   "id": "6c58a0b5-7972-4883-8c1e-63818d8c81b5",
   "metadata": {},
   "source": [
    "---\n",
    "However, **you can never drop `_id` index.**\n",
    "\n",
    "---"
   ]
  },
  {
   "cell_type": "code",
   "execution_count": 18,
   "id": "5f7e0931-b251-44c3-abea-ebda87e66581",
   "metadata": {
    "collapsed": true,
    "jupyter": {
     "outputs_hidden": true
    },
    "scrolled": true
   },
   "outputs": [
    {
     "ename": "OperationFailure",
     "evalue": "cannot drop _id index, full error: {'ok': 0.0, 'errmsg': 'cannot drop _id index', 'code': 72, 'codeName': 'InvalidOptions'}",
     "output_type": "error",
     "traceback": [
      "\u001b[0;31m---------------------------------------------------------------------------\u001b[0m",
      "\u001b[0;31mOperationFailure\u001b[0m                          Traceback (most recent call last)",
      "\u001b[0;32m<ipython-input-18-cea6aec4f202>\u001b[0m in \u001b[0;36m<module>\u001b[0;34m\u001b[0m\n\u001b[1;32m      1\u001b[0m \u001b[0;31m# Drop index\u001b[0m\u001b[0;34m\u001b[0m\u001b[0;34m\u001b[0m\u001b[0;34m\u001b[0m\u001b[0m\n\u001b[0;32m----> 2\u001b[0;31m \u001b[0mdb\u001b[0m\u001b[0;34m.\u001b[0m\u001b[0mairbnb\u001b[0m\u001b[0;34m.\u001b[0m\u001b[0mdrop_index\u001b[0m\u001b[0;34m(\u001b[0m\u001b[0;34m'_id_'\u001b[0m\u001b[0;34m)\u001b[0m\u001b[0;34m\u001b[0m\u001b[0;34m\u001b[0m\u001b[0m\n\u001b[0m\u001b[1;32m      3\u001b[0m \u001b[0;34m\u001b[0m\u001b[0m\n\u001b[1;32m      4\u001b[0m \u001b[0;31m# Get index\u001b[0m\u001b[0;34m\u001b[0m\u001b[0;34m\u001b[0m\u001b[0;34m\u001b[0m\u001b[0m\n\u001b[1;32m      5\u001b[0m \u001b[0mdb\u001b[0m\u001b[0;34m.\u001b[0m\u001b[0mairbnb\u001b[0m\u001b[0;34m.\u001b[0m\u001b[0mindex_information\u001b[0m\u001b[0;34m(\u001b[0m\u001b[0;34m)\u001b[0m\u001b[0;34m\u001b[0m\u001b[0;34m\u001b[0m\u001b[0m\n",
      "\u001b[0;32m~/.local/lib/python3.7/site-packages/pymongo/collection.py\u001b[0m in \u001b[0;36mdrop_index\u001b[0;34m(self, index_or_name, session, **kwargs)\u001b[0m\n\u001b[1;32m   2177\u001b[0m                           \u001b[0mallowable_errors\u001b[0m\u001b[0;34m=\u001b[0m\u001b[0;34m[\u001b[0m\u001b[0;34m\"ns not found\"\u001b[0m\u001b[0;34m,\u001b[0m \u001b[0;36m26\u001b[0m\u001b[0;34m]\u001b[0m\u001b[0;34m,\u001b[0m\u001b[0;34m\u001b[0m\u001b[0;34m\u001b[0m\u001b[0m\n\u001b[1;32m   2178\u001b[0m                           \u001b[0mwrite_concern\u001b[0m\u001b[0;34m=\u001b[0m\u001b[0mself\u001b[0m\u001b[0;34m.\u001b[0m\u001b[0m_write_concern_for\u001b[0m\u001b[0;34m(\u001b[0m\u001b[0msession\u001b[0m\u001b[0;34m)\u001b[0m\u001b[0;34m,\u001b[0m\u001b[0;34m\u001b[0m\u001b[0;34m\u001b[0m\u001b[0m\n\u001b[0;32m-> 2179\u001b[0;31m                           session=session)\n\u001b[0m\u001b[1;32m   2180\u001b[0m \u001b[0;34m\u001b[0m\u001b[0m\n\u001b[1;32m   2181\u001b[0m     \u001b[0;32mdef\u001b[0m \u001b[0mreindex\u001b[0m\u001b[0;34m(\u001b[0m\u001b[0mself\u001b[0m\u001b[0;34m,\u001b[0m \u001b[0msession\u001b[0m\u001b[0;34m=\u001b[0m\u001b[0;32mNone\u001b[0m\u001b[0;34m,\u001b[0m \u001b[0;34m**\u001b[0m\u001b[0mkwargs\u001b[0m\u001b[0;34m)\u001b[0m\u001b[0;34m:\u001b[0m\u001b[0;34m\u001b[0m\u001b[0;34m\u001b[0m\u001b[0m\n",
      "\u001b[0;32m~/.local/lib/python3.7/site-packages/pymongo/collection.py\u001b[0m in \u001b[0;36m_command\u001b[0;34m(self, sock_info, command, slave_ok, read_preference, codec_options, check, allowable_errors, read_concern, write_concern, collation, session, retryable_write, user_fields)\u001b[0m\n\u001b[1;32m    251\u001b[0m                 \u001b[0mclient\u001b[0m\u001b[0;34m=\u001b[0m\u001b[0mself\u001b[0m\u001b[0;34m.\u001b[0m\u001b[0m__database\u001b[0m\u001b[0;34m.\u001b[0m\u001b[0mclient\u001b[0m\u001b[0;34m,\u001b[0m\u001b[0;34m\u001b[0m\u001b[0;34m\u001b[0m\u001b[0m\n\u001b[1;32m    252\u001b[0m                 \u001b[0mretryable_write\u001b[0m\u001b[0;34m=\u001b[0m\u001b[0mretryable_write\u001b[0m\u001b[0;34m,\u001b[0m\u001b[0;34m\u001b[0m\u001b[0;34m\u001b[0m\u001b[0m\n\u001b[0;32m--> 253\u001b[0;31m                 user_fields=user_fields)\n\u001b[0m\u001b[1;32m    254\u001b[0m \u001b[0;34m\u001b[0m\u001b[0m\n\u001b[1;32m    255\u001b[0m     \u001b[0;32mdef\u001b[0m \u001b[0m__create\u001b[0m\u001b[0;34m(\u001b[0m\u001b[0mself\u001b[0m\u001b[0;34m,\u001b[0m \u001b[0moptions\u001b[0m\u001b[0;34m,\u001b[0m \u001b[0mcollation\u001b[0m\u001b[0;34m,\u001b[0m \u001b[0msession\u001b[0m\u001b[0;34m)\u001b[0m\u001b[0;34m:\u001b[0m\u001b[0;34m\u001b[0m\u001b[0;34m\u001b[0m\u001b[0m\n",
      "\u001b[0;32m~/.local/lib/python3.7/site-packages/pymongo/pool.py\u001b[0m in \u001b[0;36mcommand\u001b[0;34m(self, dbname, spec, slave_ok, read_preference, codec_options, check, allowable_errors, check_keys, read_concern, write_concern, parse_write_concern_error, collation, session, client, retryable_write, publish_events, user_fields, exhaust_allowed)\u001b[0m\n\u001b[1;32m    692\u001b[0m                            \u001b[0munacknowledged\u001b[0m\u001b[0;34m=\u001b[0m\u001b[0munacknowledged\u001b[0m\u001b[0;34m,\u001b[0m\u001b[0;34m\u001b[0m\u001b[0;34m\u001b[0m\u001b[0m\n\u001b[1;32m    693\u001b[0m                            \u001b[0muser_fields\u001b[0m\u001b[0;34m=\u001b[0m\u001b[0muser_fields\u001b[0m\u001b[0;34m,\u001b[0m\u001b[0;34m\u001b[0m\u001b[0;34m\u001b[0m\u001b[0m\n\u001b[0;32m--> 694\u001b[0;31m                            exhaust_allowed=exhaust_allowed)\n\u001b[0m\u001b[1;32m    695\u001b[0m         \u001b[0;32mexcept\u001b[0m \u001b[0mOperationFailure\u001b[0m\u001b[0;34m:\u001b[0m\u001b[0;34m\u001b[0m\u001b[0;34m\u001b[0m\u001b[0m\n\u001b[1;32m    696\u001b[0m             \u001b[0;32mraise\u001b[0m\u001b[0;34m\u001b[0m\u001b[0;34m\u001b[0m\u001b[0m\n",
      "\u001b[0;32m~/.local/lib/python3.7/site-packages/pymongo/network.py\u001b[0m in \u001b[0;36mcommand\u001b[0;34m(sock_info, dbname, spec, slave_ok, is_mongos, read_preference, codec_options, session, client, check, allowable_errors, address, check_keys, listeners, max_bson_size, read_concern, parse_write_concern_error, collation, compression_ctx, use_op_msg, unacknowledged, user_fields, exhaust_allowed)\u001b[0m\n\u001b[1;32m    159\u001b[0m                 helpers._check_command_response(\n\u001b[1;32m    160\u001b[0m                     \u001b[0mresponse_doc\u001b[0m\u001b[0;34m,\u001b[0m \u001b[0msock_info\u001b[0m\u001b[0;34m.\u001b[0m\u001b[0mmax_wire_version\u001b[0m\u001b[0;34m,\u001b[0m \u001b[0mallowable_errors\u001b[0m\u001b[0;34m,\u001b[0m\u001b[0;34m\u001b[0m\u001b[0;34m\u001b[0m\u001b[0m\n\u001b[0;32m--> 161\u001b[0;31m                     parse_write_concern_error=parse_write_concern_error)\n\u001b[0m\u001b[1;32m    162\u001b[0m     \u001b[0;32mexcept\u001b[0m \u001b[0mException\u001b[0m \u001b[0;32mas\u001b[0m \u001b[0mexc\u001b[0m\u001b[0;34m:\u001b[0m\u001b[0;34m\u001b[0m\u001b[0;34m\u001b[0m\u001b[0m\n\u001b[1;32m    163\u001b[0m         \u001b[0;32mif\u001b[0m \u001b[0mpublish\u001b[0m\u001b[0;34m:\u001b[0m\u001b[0;34m\u001b[0m\u001b[0;34m\u001b[0m\u001b[0m\n",
      "\u001b[0;32m~/.local/lib/python3.7/site-packages/pymongo/helpers.py\u001b[0m in \u001b[0;36m_check_command_response\u001b[0;34m(response, max_wire_version, allowable_errors, parse_write_concern_error)\u001b[0m\n\u001b[1;32m    162\u001b[0m         \u001b[0;32mraise\u001b[0m \u001b[0mCursorNotFound\u001b[0m\u001b[0;34m(\u001b[0m\u001b[0merrmsg\u001b[0m\u001b[0;34m,\u001b[0m \u001b[0mcode\u001b[0m\u001b[0;34m,\u001b[0m \u001b[0mresponse\u001b[0m\u001b[0;34m,\u001b[0m \u001b[0mmax_wire_version\u001b[0m\u001b[0;34m)\u001b[0m\u001b[0;34m\u001b[0m\u001b[0;34m\u001b[0m\u001b[0m\n\u001b[1;32m    163\u001b[0m \u001b[0;34m\u001b[0m\u001b[0m\n\u001b[0;32m--> 164\u001b[0;31m     \u001b[0;32mraise\u001b[0m \u001b[0mOperationFailure\u001b[0m\u001b[0;34m(\u001b[0m\u001b[0merrmsg\u001b[0m\u001b[0;34m,\u001b[0m \u001b[0mcode\u001b[0m\u001b[0;34m,\u001b[0m \u001b[0mresponse\u001b[0m\u001b[0;34m,\u001b[0m \u001b[0mmax_wire_version\u001b[0m\u001b[0;34m)\u001b[0m\u001b[0;34m\u001b[0m\u001b[0;34m\u001b[0m\u001b[0m\n\u001b[0m\u001b[1;32m    165\u001b[0m \u001b[0;34m\u001b[0m\u001b[0m\n\u001b[1;32m    166\u001b[0m \u001b[0;34m\u001b[0m\u001b[0m\n",
      "\u001b[0;31mOperationFailure\u001b[0m: cannot drop _id index, full error: {'ok': 0.0, 'errmsg': 'cannot drop _id index', 'code': 72, 'codeName': 'InvalidOptions'}"
     ]
    }
   ],
   "source": [
    "# Drop index\n",
    "db.airbnb.drop_index('_id_')\n",
    "\n",
    "# Get index\n",
    "db.airbnb.index_information()"
   ]
  },
  {
   "cell_type": "code",
   "execution_count": null,
   "id": "communist-ladder",
   "metadata": {},
   "outputs": [],
   "source": []
  }
 ],
 "metadata": {
  "kernelspec": {
   "display_name": "Python 3 (ipykernel)",
   "language": "python",
   "name": "python3"
  },
  "language_info": {
   "codemirror_mode": {
    "name": "ipython",
    "version": 3
   },
   "file_extension": ".py",
   "mimetype": "text/x-python",
   "name": "python",
   "nbconvert_exporter": "python",
   "pygments_lexer": "ipython3",
   "version": "3.11.4"
  }
 },
 "nbformat": 4,
 "nbformat_minor": 5
}
