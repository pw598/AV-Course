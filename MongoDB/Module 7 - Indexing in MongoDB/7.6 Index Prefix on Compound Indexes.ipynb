{
 "cells": [
  {
   "cell_type": "markdown",
   "id": "fourth-tracker",
   "metadata": {},
   "source": [
    "# Index Prefix on Compound Indexes"
   ]
  },
  {
   "cell_type": "markdown",
   "id": "7c046042-aefb-4a1c-9517-593dccf37875",
   "metadata": {},
   "source": [
    "---\n",
    "### Connect to local server\n",
    "\n",
    "---"
   ]
  },
  {
   "cell_type": "code",
   "execution_count": 1,
   "id": "7cc237d7-7b80-4425-83be-f575c025b991",
   "metadata": {},
   "outputs": [],
   "source": [
    "# Importing the required libraries\n",
    "import pymongo\n",
    "\n",
    "import pprint as pp\n",
    "pp.sorted = lambda x, key=None: x"
   ]
  },
  {
   "cell_type": "code",
   "execution_count": 2,
   "id": "b5c7503f-393d-4a81-83e3-75a95e8b1d2a",
   "metadata": {},
   "outputs": [],
   "source": [
    "# Connect to local host\n",
    "client = pymongo.MongoClient(\"mongodb://localhost:27017/\")"
   ]
  },
  {
   "cell_type": "code",
   "execution_count": 3,
   "id": "0b221613-f92d-4a41-b46d-b7440c237a8a",
   "metadata": {},
   "outputs": [],
   "source": [
    "# Connect to database\n",
    "db = client['nyc']"
   ]
  },
  {
   "cell_type": "code",
   "execution_count": 4,
   "id": "8a9d7ad1-187a-4e91-b596-a823773a076a",
   "metadata": {
    "scrolled": true
   },
   "outputs": [
    {
     "name": "stdout",
     "output_type": "stream",
     "text": [
      "{'_id': ObjectId('60c21bf5b653d40e79b4a7d0'),\n",
      " 'accom_id': 2595,\n",
      " 'description': 'Skylit Midtown Castle',\n",
      " 'host': {'id': 2845,\n",
      "          'name': 'Jennifer',\n",
      "          'listings_count': 3,\n",
      "          'neighbourhood_list': ['Midtown', \"Hell's Kitchen\"]},\n",
      " 'neighbourhood': {'name': 'Midtown', 'group': 'Manhattan'},\n",
      " 'location': {'type': 'Point', 'coordinates': [-73.98559, 40.75356]},\n",
      " 'room_type': 'Entire home/apt',\n",
      " 'price': 150,\n",
      " 'minimum_nights': 30,\n",
      " 'reviews': {'number_of_reviews': 48,\n",
      "             'last_review': datetime.datetime(2019, 11, 4, 0, 0),\n",
      "             'reviews_per_month': 0.35},\n",
      " 'availability_365': 365}\n"
     ]
    }
   ],
   "source": [
    "# Sample document\n",
    "pp.pprint(\n",
    "    db.airbnb.find_one()\n",
    ")"
   ]
  },
  {
   "cell_type": "markdown",
   "id": "pressing-laugh",
   "metadata": {},
   "source": [
    "----\n",
    "**Drop previous indexes.**\n",
    "\n",
    "---"
   ]
  },
  {
   "cell_type": "code",
   "execution_count": 5,
   "id": "8b9d7e55-92ad-4d4c-9c63-2a65d3f6b890",
   "metadata": {},
   "outputs": [],
   "source": [
    "# Drop indexes\n",
    "db.airbnb.drop_indexes()"
   ]
  },
  {
   "cell_type": "markdown",
   "id": "9db43e9e-211c-4bbb-86ee-f2b2e76a9074",
   "metadata": {},
   "source": [
    "---\n",
    "\n",
    "### [Index Prefix](https://docs.mongodb.com/manual/core/index-compound/#prefixes)\n",
    "\n",
    "- Continuous subset index of Compound index.\n",
    "\n",
    "- Index fields are passed in order from left to right.\n",
    "\n",
    "**Compound index :-** `{ \"price\": 1, \"reviews.number_of_reviews\": -1, availability_365: -1}`\n",
    "\n",
    "![image.png](Images/prefix_index.png)\n",
    "\n",
    "**Index prefix :-**\n",
    "\n",
    "- `{ \"price\": 1}`\n",
    "\n",
    "![](Images/index_prefix_2.png)\n",
    "\n",
    "- `{ \"price\": 1, \"reviews.number_of_reviews\": -1}`\n",
    "\n",
    "![](Images/index_prefix_3.png)\n",
    "\n",
    "**Not Index prefix :-**\n",
    "\n",
    "- `{ \"price\": 1, \"availability_365\": -1}`\n",
    "\n",
    "- `{ \"availability_365\": 1}`\n",
    "\n",
    "- `{ \"reviews.number_of_reviews\": -1, \"availability_365\": -1}`\n",
    "\n",
    "\n",
    "**MongoDB will support queries on :-**\n",
    "\n",
    "- `price`\n",
    "\n",
    "- `price` and `reviews.number_of_reviews`\n",
    "\n",
    "- `price` and `reviews.number_of_reviews` and `availability_365`\n",
    "\n",
    "\n",
    "\n",
    "---"
   ]
  },
  {
   "cell_type": "code",
   "execution_count": 6,
   "id": "1e6176da-dff0-4119-a8a3-903b3f0ba141",
   "metadata": {
    "scrolled": true
   },
   "outputs": [
    {
     "data": {
      "text/plain": [
       "'price_reviews_availability'"
      ]
     },
     "execution_count": 6,
     "metadata": {},
     "output_type": "execute_result"
    }
   ],
   "source": [
    "# Create compound index\n",
    "\n",
    "db.airbnb.create_index(\n",
    "                        # Compound index\n",
    "                        [\n",
    "                            ('price', pymongo.ASCENDING),\n",
    "                            ('reviews.number_of_reviews', pymongo.DESCENDING),\n",
    "                            ('availability_365', pymongo.DESCENDING)\n",
    "                        ],\n",
    "                        # Index name\n",
    "                        name = 'price_reviews_availability')"
   ]
  },
  {
   "cell_type": "markdown",
   "id": "exotic-still",
   "metadata": {},
   "source": [
    "----\n",
    "Look for documents where `150 < price <170`, `reviews.number_of_reviews > 50` and `availability_365 > 31`. \n",
    "\n",
    "---"
   ]
  },
  {
   "cell_type": "code",
   "execution_count": 7,
   "id": "private-interval",
   "metadata": {
    "scrolled": true
   },
   "outputs": [
    {
     "name": "stdout",
     "output_type": "stream",
     "text": [
      "{'executionSuccess': True,\n",
      " 'nReturned': 152,\n",
      " 'executionTimeMillis': 5,\n",
      " 'totalKeysExamined': 220,\n",
      " 'totalDocsExamined': 152,\n",
      " 'executionStages': {'stage': 'FETCH',\n",
      "                     'nReturned': 152,\n",
      "                     'executionTimeMillisEstimate': 0,\n",
      "                     'works': 220,\n",
      "                     'advanced': 152,\n",
      "                     'needTime': 67,\n",
      "                     'needYield': 0,\n",
      "                     'saveState': 0,\n",
      "                     'restoreState': 0,\n",
      "                     'isEOF': 1,\n",
      "                     'docsExamined': 152,\n",
      "                     'alreadyHasObj': 0,\n",
      "                     'inputStage': {'stage': 'IXSCAN',\n",
      "                                    'nReturned': 152,\n",
      "                                    'executionTimeMillisEstimate': 0,\n",
      "                                    'works': 220,\n",
      "                                    'advanced': 152,\n",
      "                                    'needTime': 67,\n",
      "                                    'needYield': 0,\n",
      "                                    'saveState': 0,\n",
      "                                    'restoreState': 0,\n",
      "                                    'isEOF': 1,\n",
      "                                    'keyPattern': {'price': 1,\n",
      "                                                   'reviews.number_of_reviews': -1,\n",
      "                                                   'availability_365': -1},\n",
      "                                    'indexName': 'price_reviews_availability',\n",
      "                                    'isMultiKey': False,\n",
      "                                    'multiKeyPaths': {'price': [],\n",
      "                                                      'reviews.number_of_reviews': [],\n",
      "                                                      'availability_365': []},\n",
      "                                    'isUnique': False,\n",
      "                                    'isSparse': False,\n",
      "                                    'isPartial': False,\n",
      "                                    'indexVersion': 2,\n",
      "                                    'direction': 'forward',\n",
      "                                    'indexBounds': {'price': ['(150, 170)'],\n",
      "                                                    'reviews.number_of_reviews': ['[inf.0, '\n",
      "                                                                                  '50)'],\n",
      "                                                    'availability_365': ['[inf.0, '\n",
      "                                                                         '31)']},\n",
      "                                    'keysExamined': 220,\n",
      "                                    'seeks': 68,\n",
      "                                    'dupsTested': 0,\n",
      "                                    'dupsDropped': 0}},\n",
      " 'allPlansExecution': []}\n"
     ]
    }
   ],
   "source": [
    "# Query\n",
    "\n",
    "pp.pprint(\n",
    "            db.airbnb.find({\n",
    "                                'price': {\n",
    "                                            '$gt': 150,\n",
    "                                            '$lt': 170\n",
    "                                        },\n",
    "                                'reviews.number_of_reviews': {'$gt': 50},\n",
    "                                'availability_365': {'$gt': 31}\n",
    "                          })\\\n",
    "                     .explain()['executionStats']\n",
    "    )"
   ]
  },
  {
   "cell_type": "markdown",
   "id": "c644ce16-a22d-423c-9956-cecad2fa1156",
   "metadata": {},
   "source": [
    "---\n",
    "Using the Compound Index `price_reviews` we will be able to query on the `price` field alone as well.\n",
    "\n",
    "---"
   ]
  },
  {
   "cell_type": "code",
   "execution_count": 8,
   "id": "1c21529a-e3da-443e-9e0f-ce3ce59c2100",
   "metadata": {
    "scrolled": true
   },
   "outputs": [
    {
     "name": "stdout",
     "output_type": "stream",
     "text": [
      "{'executionSuccess': True,\n",
      " 'nReturned': 1215,\n",
      " 'executionTimeMillis': 2,\n",
      " 'totalKeysExamined': 1215,\n",
      " 'totalDocsExamined': 1215,\n",
      " 'executionStages': {'stage': 'FETCH',\n",
      "                     'nReturned': 1215,\n",
      "                     'executionTimeMillisEstimate': 0,\n",
      "                     'works': 1216,\n",
      "                     'advanced': 1215,\n",
      "                     'needTime': 0,\n",
      "                     'needYield': 0,\n",
      "                     'saveState': 1,\n",
      "                     'restoreState': 1,\n",
      "                     'isEOF': 1,\n",
      "                     'docsExamined': 1215,\n",
      "                     'alreadyHasObj': 0,\n",
      "                     'inputStage': {'stage': 'IXSCAN',\n",
      "                                    'nReturned': 1215,\n",
      "                                    'executionTimeMillisEstimate': 0,\n",
      "                                    'works': 1216,\n",
      "                                    'advanced': 1215,\n",
      "                                    'needTime': 0,\n",
      "                                    'needYield': 0,\n",
      "                                    'saveState': 1,\n",
      "                                    'restoreState': 1,\n",
      "                                    'isEOF': 1,\n",
      "                                    'keyPattern': {'price': 1,\n",
      "                                                   'reviews.number_of_reviews': -1,\n",
      "                                                   'availability_365': -1},\n",
      "                                    'indexName': 'price_reviews_availability',\n",
      "                                    'isMultiKey': False,\n",
      "                                    'multiKeyPaths': {'price': [],\n",
      "                                                      'reviews.number_of_reviews': [],\n",
      "                                                      'availability_365': []},\n",
      "                                    'isUnique': False,\n",
      "                                    'isSparse': False,\n",
      "                                    'isPartial': False,\n",
      "                                    'indexVersion': 2,\n",
      "                                    'direction': 'forward',\n",
      "                                    'indexBounds': {'price': ['(150, 170)'],\n",
      "                                                    'reviews.number_of_reviews': ['[MaxKey, '\n",
      "                                                                                  'MinKey]'],\n",
      "                                                    'availability_365': ['[MaxKey, '\n",
      "                                                                         'MinKey]']},\n",
      "                                    'keysExamined': 1215,\n",
      "                                    'seeks': 1,\n",
      "                                    'dupsTested': 0,\n",
      "                                    'dupsDropped': 0}},\n",
      " 'allPlansExecution': []}\n"
     ]
    }
   ],
   "source": [
    "# Query\n",
    "\n",
    "pp.pprint(\n",
    "            db.airbnb.find({\n",
    "                                'price': {\n",
    "                                            '$gt': 150,\n",
    "                                            '$lt': 170\n",
    "                                        }\n",
    "                          })\\\n",
    "                     .explain()['executionStats']\n",
    "    )"
   ]
  },
  {
   "cell_type": "markdown",
   "id": "needed-amateur",
   "metadata": {},
   "source": [
    "----\n",
    "Look for documents where `150 < price <170` and `reviews.number_of_reviews > 50`.\n",
    "\n",
    "---"
   ]
  },
  {
   "cell_type": "code",
   "execution_count": 9,
   "id": "exterior-procedure",
   "metadata": {
    "scrolled": true
   },
   "outputs": [
    {
     "name": "stdout",
     "output_type": "stream",
     "text": [
      "{'executionSuccess': True,\n",
      " 'nReturned': 201,\n",
      " 'executionTimeMillis': 0,\n",
      " 'totalKeysExamined': 221,\n",
      " 'totalDocsExamined': 201,\n",
      " 'executionStages': {'stage': 'FETCH',\n",
      "                     'nReturned': 201,\n",
      "                     'executionTimeMillisEstimate': 0,\n",
      "                     'works': 221,\n",
      "                     'advanced': 201,\n",
      "                     'needTime': 19,\n",
      "                     'needYield': 0,\n",
      "                     'saveState': 0,\n",
      "                     'restoreState': 0,\n",
      "                     'isEOF': 1,\n",
      "                     'docsExamined': 201,\n",
      "                     'alreadyHasObj': 0,\n",
      "                     'inputStage': {'stage': 'IXSCAN',\n",
      "                                    'nReturned': 201,\n",
      "                                    'executionTimeMillisEstimate': 0,\n",
      "                                    'works': 221,\n",
      "                                    'advanced': 201,\n",
      "                                    'needTime': 19,\n",
      "                                    'needYield': 0,\n",
      "                                    'saveState': 0,\n",
      "                                    'restoreState': 0,\n",
      "                                    'isEOF': 1,\n",
      "                                    'keyPattern': {'price': 1,\n",
      "                                                   'reviews.number_of_reviews': -1,\n",
      "                                                   'availability_365': -1},\n",
      "                                    'indexName': 'price_reviews_availability',\n",
      "                                    'isMultiKey': False,\n",
      "                                    'multiKeyPaths': {'price': [],\n",
      "                                                      'reviews.number_of_reviews': [],\n",
      "                                                      'availability_365': []},\n",
      "                                    'isUnique': False,\n",
      "                                    'isSparse': False,\n",
      "                                    'isPartial': False,\n",
      "                                    'indexVersion': 2,\n",
      "                                    'direction': 'forward',\n",
      "                                    'indexBounds': {'price': ['(150, 170)'],\n",
      "                                                    'reviews.number_of_reviews': ['[inf.0, '\n",
      "                                                                                  '50)'],\n",
      "                                                    'availability_365': ['[MaxKey, '\n",
      "                                                                         'MinKey]']},\n",
      "                                    'keysExamined': 221,\n",
      "                                    'seeks': 20,\n",
      "                                    'dupsTested': 0,\n",
      "                                    'dupsDropped': 0}},\n",
      " 'allPlansExecution': []}\n"
     ]
    }
   ],
   "source": [
    "# Query\n",
    "\n",
    "pp.pprint(\n",
    "            db.airbnb.find({\n",
    "                                'price': {\n",
    "                                            '$gt': 150,\n",
    "                                            '$lt': 170\n",
    "                                        },\n",
    "                                'reviews.number_of_reviews': {'$gt': 50}\n",
    "                            })\\\n",
    "                     .explain()['executionStats']\n",
    "    )"
   ]
  },
  {
   "cell_type": "markdown",
   "id": "bfbacf88-15a3-41a0-a09c-982541644100",
   "metadata": {},
   "source": [
    "----\n",
    "So we do not need to create an unnecessary index for `price` field alone or for `price` and `reviews.number_of_review`. We can create a Compound Index that can work for both types of queries.\n",
    "\n",
    "However, **Index Prefixes work in order from left to right in a continuous manner**. So, if we try to query on the `reviews.number_of_reviews`, we will not be able to utilize the index.\n",
    "\n",
    "----"
   ]
  },
  {
   "cell_type": "code",
   "execution_count": 10,
   "id": "9bbd6b87-fe55-43b2-addf-6c30ffc7c54e",
   "metadata": {},
   "outputs": [
    {
     "name": "stdout",
     "output_type": "stream",
     "text": [
      "{'executionSuccess': True,\n",
      " 'nReturned': 4971,\n",
      " 'executionTimeMillis': 28,\n",
      " 'totalKeysExamined': 0,\n",
      " 'totalDocsExamined': 36905,\n",
      " 'executionStages': {'stage': 'COLLSCAN',\n",
      "                     'filter': {'reviews.number_of_reviews': {'$gt': 50}},\n",
      "                     'nReturned': 4971,\n",
      "                     'executionTimeMillisEstimate': 1,\n",
      "                     'works': 36907,\n",
      "                     'advanced': 4971,\n",
      "                     'needTime': 31935,\n",
      "                     'needYield': 0,\n",
      "                     'saveState': 36,\n",
      "                     'restoreState': 36,\n",
      "                     'isEOF': 1,\n",
      "                     'direction': 'forward',\n",
      "                     'docsExamined': 36905},\n",
      " 'allPlansExecution': []}\n"
     ]
    }
   ],
   "source": [
    "# Query\n",
    "\n",
    "pp.pprint(\n",
    "            db.airbnb.find({\n",
    "                                'reviews.number_of_reviews': {'$gt': 50}\n",
    "                            }).explain()['executionStats']\n",
    "    )"
   ]
  },
  {
   "cell_type": "markdown",
   "id": "d27249c8-cfde-4418-93e6-a3b0c3048e42",
   "metadata": {},
   "source": [
    "---\n",
    "Index prefixes work from left to right in a continuous manner. Since `reviews.number_of_reviews` breaks that chain, MongoDB had to use the COLLSCAN or default `_id` field as index.\n",
    "\n",
    "**Advantage :-**\n",
    "\n",
    "*`If you sometimes query on only one key and at other times query on that key combined with a second key, then creating a compound index is more efficient than creating a single-key index.`*\n",
    "\n",
    "---"
   ]
  },
  {
   "cell_type": "markdown",
   "id": "c6072e01-d76f-4a0b-86c2-2d6be86bf968",
   "metadata": {},
   "source": [
    "----\n",
    "### Exercise -\n",
    "\n",
    "Consider the following queries.\n",
    "\n",
    "- How many accomodations had `room_type` as `Private room`, `price < 100`, and `reviews.reviews_per_month > 0.5' ?\n",
    "\n",
    "- How many accomodations had `room_type` as `Private room` and `price < 100`?\n",
    "\n",
    "- How many accomodations had `room_type` as `Private room` or `Shared room`?\n",
    "\n",
    "What index did you use? Were compound indexes of any use?\n",
    "\n",
    "-----"
   ]
  },
  {
   "cell_type": "code",
   "execution_count": null,
   "id": "5f07b3a1-f19e-439a-ad04-1ba2443539d5",
   "metadata": {},
   "outputs": [],
   "source": []
  }
 ],
 "metadata": {
  "kernelspec": {
   "display_name": "Python 3",
   "language": "python",
   "name": "python3"
  },
  "language_info": {
   "codemirror_mode": {
    "name": "ipython",
    "version": 3
   },
   "file_extension": ".py",
   "mimetype": "text/x-python",
   "name": "python",
   "nbconvert_exporter": "python",
   "pygments_lexer": "ipython3",
   "version": "3.7.3"
  }
 },
 "nbformat": 4,
 "nbformat_minor": 5
}
