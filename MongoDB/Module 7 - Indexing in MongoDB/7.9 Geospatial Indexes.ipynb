{
 "cells": [
  {
   "cell_type": "markdown",
   "id": "desirable-antibody",
   "metadata": {},
   "source": [
    "# Geospatial Index"
   ]
  },
  {
   "cell_type": "markdown",
   "id": "97deafeb-5888-4b80-affb-86d160b0cead",
   "metadata": {
    "tags": []
   },
   "source": [
    "---\n",
    "### [Geospatial Index](https://docs.mongodb.com/manual/geospatial-queries/)\n",
    "\n",
    "- Support queries on geospatial data.\n",
    "> - Think of GPS location in Google maps, Uber, Zomato, etc.\n",
    "\n",
    "- Support objects for point, line, polygon, etc.\n",
    "\n",
    "- Can find nearest point to a given location, point existing within a bounding geometry, and more.\n",
    "\n",
    "----"
   ]
  },
  {
   "cell_type": "code",
   "execution_count": 6,
   "id": "3be094a3-d186-4a5d-a88a-1cfe2a211ff0",
   "metadata": {
    "tags": []
   },
   "outputs": [
    {
     "name": "stderr",
     "output_type": "stream",
     "text": [
      "2023-08-24T16:31:50.938-0600\tThe --db and --collection flags are deprecated for this use-case; please use --nsInclude instead, i.e. with --nsInclude=${DATABASE}.${COLLECTION}\n",
      "2023-08-24T16:31:50.940-0600\tbuilding a list of collections to restore from Data\\airbnb dir\n",
      "2023-08-24T16:31:50.940-0600\treading metadata for training.airbnb from Data\\airbnb\\airbnb.metadata.json\n",
      "2023-08-24T16:31:50.964-0600\trestoring training.airbnb from Data\\airbnb\\airbnb.bson\n",
      "2023-08-24T16:31:51.738-0600\tfinished restoring training.airbnb (36905 documents, 0 failures)\n",
      "2023-08-24T16:31:51.738-0600\trestoring indexes for collection training.airbnb from metadata\n",
      "2023-08-24T16:31:51.738-0600\tindex: &idx.IndexDocument{Options:primitive.M{\"2dsphereIndexVersion\":3, \"name\":\"location_2dsphere\", \"v\":2}, Key:primitive.D{primitive.E{Key:\"location\", Value:\"2dsphere\"}}, PartialFilterExpression:primitive.D(nil)}\n",
      "2023-08-24T16:31:52.115-0600\t36905 document(s) restored successfully. 0 document(s) failed to restore.\n"
     ]
    }
   ],
   "source": [
    "!mongorestore --db training Data/airbnb"
   ]
  },
  {
   "cell_type": "code",
   "execution_count": 16,
   "id": "4e93ed36-aa88-42a1-8b91-3d64c46d50b1",
   "metadata": {
    "tags": []
   },
   "outputs": [
    {
     "data": {
      "text/plain": [
       "['airbnb']"
      ]
     },
     "execution_count": 16,
     "metadata": {},
     "output_type": "execute_result"
    }
   ],
   "source": [
    "db.list_collection_names()"
   ]
  },
  {
   "cell_type": "code",
   "execution_count": 17,
   "id": "4b7923fb-860a-470d-b6ba-7bf5088cdb6b",
   "metadata": {
    "tags": []
   },
   "outputs": [
    {
     "data": {
      "text/plain": [
       "Collection(Database(MongoClient(host=['localhost:27017'], document_class=dict, tz_aware=False, connect=True), 'nyc'), 'airbnb')"
      ]
     },
     "execution_count": 17,
     "metadata": {},
     "output_type": "execute_result"
    }
   ],
   "source": [
    "db.airbnb"
   ]
  },
  {
   "cell_type": "code",
   "execution_count": 25,
   "id": "2d078337-d433-4287-b12d-ce787b82d89d",
   "metadata": {
    "tags": []
   },
   "outputs": [
    {
     "data": {
      "text/plain": [
       "0"
      ]
     },
     "execution_count": 25,
     "metadata": {},
     "output_type": "execute_result"
    }
   ],
   "source": [
    "db.nyc.count_documents({})"
   ]
  },
  {
   "cell_type": "code",
   "execution_count": null,
   "id": "1ba66e4b-bccf-47be-bfcf-af4b03127300",
   "metadata": {},
   "outputs": [],
   "source": []
  },
  {
   "cell_type": "markdown",
   "id": "traditional-greenhouse",
   "metadata": {},
   "source": [
    "### Connect to local server\n",
    "\n",
    "---"
   ]
  },
  {
   "cell_type": "code",
   "execution_count": 7,
   "id": "2c58c400-e5a4-451c-9d73-a9f5ae250289",
   "metadata": {},
   "outputs": [],
   "source": [
    "# Importing the required libraries\n",
    "import pymongo\n",
    "\n",
    "import pprint as pp\n",
    "pp.sorted = lambda x, key=None: x"
   ]
  },
  {
   "cell_type": "code",
   "execution_count": 8,
   "id": "f88425f2-3827-4251-a8f9-c3b6c19ff686",
   "metadata": {},
   "outputs": [],
   "source": [
    "# Connect to local host\n",
    "client = pymongo.MongoClient(\"mongodb://localhost:27017/\")"
   ]
  },
  {
   "cell_type": "code",
   "execution_count": 9,
   "id": "23d19c4f-2ae4-49a6-89a7-f79273822dab",
   "metadata": {},
   "outputs": [],
   "source": [
    "# Connect to database\n",
    "db = client['nyc']"
   ]
  },
  {
   "cell_type": "code",
   "execution_count": 10,
   "id": "fd588eeb-f169-4792-92aa-62303a53379e",
   "metadata": {
    "scrolled": true
   },
   "outputs": [
    {
     "name": "stdout",
     "output_type": "stream",
     "text": [
      "None\n"
     ]
    }
   ],
   "source": [
    "# Sample document\n",
    "pp.pprint(db.airbnb.find_one())"
   ]
  },
  {
   "cell_type": "markdown",
   "id": "unnecessary-spray",
   "metadata": {},
   "source": [
    "---\n",
    "**Drop previous indexes.**\n",
    "\n",
    "---"
   ]
  },
  {
   "cell_type": "code",
   "execution_count": null,
   "id": "61d61d88-16c9-41de-b0b2-5d6813c25ba7",
   "metadata": {},
   "outputs": [],
   "source": [
    "db.airbnb.drop_indexes()"
   ]
  },
  {
   "cell_type": "markdown",
   "id": "legal-meter",
   "metadata": {},
   "source": [
    "---\n",
    "**Create geospatial index.**\n",
    "\n",
    "----"
   ]
  },
  {
   "cell_type": "code",
   "execution_count": null,
   "id": "8257a42c-bab3-4e7f-bedb-e86baef84e1b",
   "metadata": {},
   "outputs": [],
   "source": [
    "# Create geospatial index\n",
    "db.airbnb.create_index([\n",
    "                        ('location', '2dsphere')\n",
    "                    ])"
   ]
  },
  {
   "cell_type": "markdown",
   "id": "72244ae5-bb65-4e60-8892-f267baaee991",
   "metadata": {},
   "source": [
    "----\n",
    "### $nearSphere operator\n",
    "\n",
    "Suppose you want to find an accomodation close to location -73.93414657 longitude and 40.82302903 latitude.\n",
    "\n",
    "[$nearSphere](https://docs.mongodb.com/manual/reference/operator/query/nearSphere/#mongodb-query-op.-nearSphere) specifies a point for which a geospatial query returns the documents from nearest to farthest.\n",
    "\n",
    "----"
   ]
  },
  {
   "cell_type": "code",
   "execution_count": null,
   "id": "c40947bd-46b1-43e2-82c8-aecd7c939f14",
   "metadata": {
    "tags": []
   },
   "outputs": [],
   "source": [
    "# Query using geospatial index\n",
    "pp.pprint(\n",
    "    db.airbnb.find_one({\n",
    "                        'location': {\n",
    "                                        '$nearSphere': {\n",
    "                                                            '$geometry': {\n",
    "                                                                            'type': 'Point',\n",
    "                                                                            'coordinates': [-73.93414657, 40.82302903]\n",
    "                                                                        }\n",
    "                                                        }\n",
    "                                                    }\n",
    "                        })\n",
    ")"
   ]
  },
  {
   "cell_type": "markdown",
   "id": "f780e6c0-2dc0-4dec-b5e7-d96dc4a1d9f7",
   "metadata": {},
   "source": [
    "---\n",
    "**Query using minimum or maximum distances to narrow down the search parameter.**\n",
    "\n",
    "`$minDistance` filters the results of query to those documents that are at least the specified distance from the center point. While `$maxDistance` determines the maximum distance to look for. Both fields take values in meters.\n",
    "\n",
    "---"
   ]
  },
  {
   "cell_type": "code",
   "execution_count": null,
   "id": "5b4d3168-8404-4dbe-a87a-7d9ad066e6a8",
   "metadata": {},
   "outputs": [],
   "source": [
    "# Query using minDistance\n",
    "cur = db.airbnb.find({\n",
    "                'location': {\n",
    "                                '$nearSphere': {\n",
    "                                                    '$geometry': {\n",
    "                                                                    'type': 'Point',\n",
    "                                                                    'coordinates': [-73.93414657, 40.82302903]\n",
    "                                                                },\n",
    "                                                    '$maxDistance': 1500\n",
    "                                                }\n",
    "                                            }\n",
    "            })\n",
    "\n",
    "for doc in cur:\n",
    "    print(doc)"
   ]
  },
  {
   "cell_type": "markdown",
   "id": "41252b8c-9d91-4c71-aa49-7c3ee5c2bc7a",
   "metadata": {},
   "source": [
    "---\n",
    "For exclusion certain documents based on location, we can use `$minDistance`.\n",
    "\n",
    "---"
   ]
  },
  {
   "cell_type": "code",
   "execution_count": null,
   "id": "e3a46729-6d81-4657-b9b2-fc21cf85c8ca",
   "metadata": {},
   "outputs": [],
   "source": [
    "# Query minDistance and maxDistance\n",
    "cur = db.airbnb.find({\n",
    "                'location': {\n",
    "                                '$nearSphere': {\n",
    "                                                    '$geometry': {\n",
    "                                                        'type': 'Point',\n",
    "                                                        'coordinates': [-73.93414657, 40.82302903]\n",
    "                                                    },\n",
    "                                                    '$minDistance': 1000,\n",
    "                                                    '$maxDistance': 1500\n",
    "                                                }\n",
    "                            }\n",
    "            })\n",
    "\n",
    "for doc in cur:\n",
    "    pp.pprint(doc)"
   ]
  },
  {
   "cell_type": "markdown",
   "id": "3e9eabd1-3c88-4b09-a7da-42a06255283c",
   "metadata": {},
   "source": [
    "----\n",
    "### Neighbourhood data\n",
    "\n",
    "New York City neighbourhood boundaries data. \n",
    "\n",
    "Website - https://opendata.cityofnewyork.us/\n",
    "\n",
    "----"
   ]
  },
  {
   "cell_type": "code",
   "execution_count": null,
   "id": "junior-empty",
   "metadata": {},
   "outputs": [],
   "source": [
    "# # Restore neighbourhoods data\n",
    "# !mongorestore --db nyc --collection neighbourhoods /home/avadmin/Desktop/Mongo/Indexing/nyc_neighbourhoods/nyc/neighbourhoods.bson"
   ]
  },
  {
   "cell_type": "code",
   "execution_count": null,
   "id": "responsible-spyware",
   "metadata": {},
   "outputs": [],
   "source": [
    "# Collections\n",
    "db.list_collection_names()"
   ]
  },
  {
   "cell_type": "code",
   "execution_count": null,
   "id": "1421adb8-6b07-4f5c-ae10-4db14a6e5366",
   "metadata": {
    "scrolled": true,
    "tags": []
   },
   "outputs": [],
   "source": [
    "# Sample document\n",
    "pp.pprint(\n",
    "    db.neighbourhoods.find_one()\n",
    ")"
   ]
  },
  {
   "cell_type": "code",
   "execution_count": null,
   "id": "6b99ed7f-c872-42ec-af81-6411888c3292",
   "metadata": {},
   "outputs": [],
   "source": [
    "# Create geospatial index\n",
    "db.neighbourhood.create_index([('geometry', '2dsphere')])"
   ]
  },
  {
   "cell_type": "markdown",
   "id": "e9226a14-af4f-4cb1-9b7e-244b0830e518",
   "metadata": {},
   "source": [
    "---\n",
    "### $geoWithin operator\n",
    "\n",
    "Suppose you need to find out the number of accomodations within a specific neighbourhood.\n",
    "\n",
    "You would need to use [$geoWithin](https://docs.mongodb.com/manual/reference/operator/query/geoWithin/#mongodb-query-op.-geoWithin) that selects documents with geospatial data that exists entirely within a specified shape.\n",
    "\n",
    "Find how many accomodations fall in the `Upper West Side` neighbourhood.\n",
    "\n",
    "---"
   ]
  },
  {
   "cell_type": "code",
   "execution_count": null,
   "id": "9149bae8-755a-4b1d-9406-bf91579488b5",
   "metadata": {},
   "outputs": [],
   "source": [
    "# Query\n",
    "pp.pprint(\n",
    "        db.neighbourhoods.find_one({\n",
    "                                'properties.ntaname': 'Upper West Side'\n",
    "                            })\n",
    ")"
   ]
  },
  {
   "cell_type": "code",
   "execution_count": null,
   "id": "violent-mayor",
   "metadata": {},
   "outputs": [],
   "source": [
    "# Neighbourhood\n",
    "neighbourhood_loc = db.neighbourhoods.find_one({\n",
    "                                                'properties.ntaname': 'Upper West Side'\n",
    "                                            })['geometry']"
   ]
  },
  {
   "cell_type": "code",
   "execution_count": null,
   "id": "fdb4da3b-d51b-4451-a09b-0d58719d6517",
   "metadata": {
    "scrolled": true,
    "tags": []
   },
   "outputs": [],
   "source": [
    "# Neighbourhood geometry\n",
    "neighbourhood_loc"
   ]
  },
  {
   "cell_type": "markdown",
   "id": "conceptual-bulgarian",
   "metadata": {},
   "source": [
    "----\n",
    "\n",
    "Find all the documents that fall within the neighbourhood boundary in the airbnb collection. \n",
    "\n",
    "---"
   ]
  },
  {
   "cell_type": "code",
   "execution_count": null,
   "id": "34632529-3f67-42b0-a077-515e9d986720",
   "metadata": {},
   "outputs": [],
   "source": [
    "# Number of accomodations that fall within the neighbourhood\n",
    "db.airbnb.find({\n",
    "                'location': {\n",
    "                                '$geoWithin': {\n",
    "                                                '$geometry': neighbourhood_loc\n",
    "                                            }\n",
    "                            }\n",
    "            }).count()"
   ]
  },
  {
   "cell_type": "code",
   "execution_count": null,
   "id": "580e8bd8-518b-4054-a4a3-88457a41694b",
   "metadata": {},
   "outputs": [],
   "source": [
    "# Documents\n",
    "cur = db.airbnb.find({\n",
    "                        'location': {\n",
    "                                        '$geoWithin': {\n",
    "                                            '$geometry': neighbourhood_loc\n",
    "                                                    }\n",
    "                                    }\n",
    "                    },\n",
    "                    {\n",
    "                        'neighbourhood':1,\n",
    "                        '_id':0,\n",
    "                        'accom_id':1\n",
    "                    })\n",
    "\n",
    "for doc in cur:\n",
    "    pp.pprint(doc)"
   ]
  },
  {
   "cell_type": "markdown",
   "id": "generous-spending",
   "metadata": {},
   "source": [
    "---\n",
    "### Aggregation Pipeline\n",
    "\n",
    "We can calculate `$nearSphere` queries in aggregate pipeline suing [$geoNear](https://docs.mongodb.com/manual/reference/operator/aggregation/geoNear/#-geonear--aggregation-) operator.\n",
    "\n",
    "It outputs documents in order of nearest to farthest from a specified point.\n",
    "\n",
    "**Syntax -** `{ $geoNear: { <geoNear options> } }`\n",
    "\n",
    "The `$geoNear` pipeline operator takes advantage of a geospatial index. When using `$geoNear`, the `$geoNear` pipeline operation must appear as the first stage in an aggregation pipeline.\n",
    "\n",
    "\n",
    "----"
   ]
  },
  {
   "cell_type": "markdown",
   "id": "divine-beaver",
   "metadata": {},
   "source": [
    "\n",
    "For example, finding all documents in airbnb collection nearest to `[-73.93414657, 40.82302903]` between 1000 and 5000 meters from it.\n",
    "\n",
    "---"
   ]
  },
  {
   "cell_type": "code",
   "execution_count": null,
   "id": "f3bf3d2b-2302-43f2-98bb-69a4df6d463c",
   "metadata": {
    "tags": []
   },
   "outputs": [],
   "source": [
    "db.airbnb.find_one({})"
   ]
  },
  {
   "cell_type": "code",
   "execution_count": null,
   "id": "adverse-preference",
   "metadata": {
    "scrolled": true,
    "tags": []
   },
   "outputs": [],
   "source": [
    "# Aggregate pipeline\n",
    "cur = db.airbnb.aggregate([\n",
    "                        # geoNear\n",
    "                        {\n",
    "                            '$geoNear':{\n",
    "                                            # Point\n",
    "                                            'near': {\n",
    "                                                        'type': 'Point',\n",
    "                                                        'coordinates': [-73.93414657, 40.82302903]\n",
    "                                                    },\n",
    "                                            # Output field with calculated distance\n",
    "                                            'distanceField': 'Distance',\n",
    "                                            # Optional fields\n",
    "                                            # Spherical geometry\n",
    "                                            'spherical': True,\n",
    "                                            # Maximum distance\n",
    "                                            'maxDistance': 5000,\n",
    "                                            # Minimum distance\n",
    "                                            'minDistance': 1000, \n",
    "                                            # Quey\n",
    "                                            'query': {'room_type': 'Private room'},\n",
    "                                            # Location of the matched document\n",
    "                                            'includeLocs': 'Location'\n",
    "                                        }\n",
    "                        },\n",
    "                        # Project\n",
    "                        {\n",
    "                            '$project':{\n",
    "                                            '_id':0,\n",
    "                                            'ID': '$accom_id',\n",
    "                                            'Distance': 1,\n",
    "                                            'Location': 1,\n",
    "                                            'Room': '$room_type'\n",
    "                                        }\n",
    "                        },\n",
    "                        # Limit\n",
    "                        {\n",
    "                            '$limit': 5\n",
    "                       }\n",
    "                ])\n",
    "\n",
    "for doc in cur:\n",
    "    pp.pprint(doc)"
   ]
  },
  {
   "cell_type": "markdown",
   "id": "0c246f8f-db3f-400a-85fb-d83c6d17657a",
   "metadata": {},
   "source": [
    "----\n",
    "### Exercises\n",
    "\n",
    "- Find number of accomodations within 500 meters around `-73.9857, 40.7484` in airbnb collection?\n",
    "\n",
    "- How many accomodations in airbnb are within the neighbourhoods whose `boro_name` is `Manhattan` and `boro_code` is `1`? ***Use the neighbourhoods collections for this along with the $geoWithin operator.*** \n",
    "\n",
    "\n",
    "----"
   ]
  },
  {
   "cell_type": "code",
   "execution_count": null,
   "id": "adequate-deputy",
   "metadata": {},
   "outputs": [],
   "source": []
  }
 ],
 "metadata": {
  "kernelspec": {
   "display_name": "Python 3 (ipykernel)",
   "language": "python",
   "name": "python3"
  },
  "language_info": {
   "codemirror_mode": {
    "name": "ipython",
    "version": 3
   },
   "file_extension": ".py",
   "mimetype": "text/x-python",
   "name": "python",
   "nbconvert_exporter": "python",
   "pygments_lexer": "ipython3",
   "version": "3.11.4"
  }
 },
 "nbformat": 4,
 "nbformat_minor": 5
}
