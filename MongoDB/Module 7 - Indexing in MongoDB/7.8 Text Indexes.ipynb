{
 "cells": [
  {
   "cell_type": "markdown",
   "id": "nervous-stand",
   "metadata": {},
   "source": [
    "# Text Indexes"
   ]
  },
  {
   "cell_type": "markdown",
   "id": "0c0fe7a0-8234-4cdd-a575-9acd7e4b03b0",
   "metadata": {},
   "source": [
    "---\n",
    "### [Text Indexes](https://docs.mongodb.com/manual/core/index-text/#text-indexes)\n",
    "\n",
    "- Create index for each unique stemmed word.\n",
    "> - For example, for \"texting\" and \"texted\" the stemmed word is \"text\". Therefore, only \"text\" index will be stored.\n",
    "\n",
    "- Words are first converted to lowercase and then used as index.\n",
    "> - For example, only \"hello\" will be saved in place of \"Hello\", \"HELLO\", etc.\n",
    "\n",
    "- It uses Dash, Hyphen, Pattern_Syntax, Quotation_Mark, Terminal_Punctuation, and White_Space as delimiters.\n",
    "\n",
    "----"
   ]
  },
  {
   "cell_type": "markdown",
   "id": "preliminary-myanmar",
   "metadata": {},
   "source": [
    "### Connect to local server\n",
    "\n",
    "---"
   ]
  },
  {
   "cell_type": "code",
   "execution_count": 1,
   "id": "f9f550a2-203d-4dda-b1b7-908904a6dc3c",
   "metadata": {},
   "outputs": [],
   "source": [
    "# Importing the required libraries\n",
    "import pymongo\n",
    "\n",
    "import pprint as pp\n",
    "pp.sorted = lambda x, key=None: x"
   ]
  },
  {
   "cell_type": "code",
   "execution_count": 2,
   "id": "68f5a140-b3c9-4b73-a98d-c8eb0b6b9b37",
   "metadata": {},
   "outputs": [],
   "source": [
    "# Connect to local host\n",
    "client = pymongo.MongoClient(\"mongodb://localhost:27017/\")"
   ]
  },
  {
   "cell_type": "code",
   "execution_count": 3,
   "id": "5cfae002-7a7e-49c2-b63e-73ea8de6b2b7",
   "metadata": {},
   "outputs": [],
   "source": [
    "# Connect to database\n",
    "db = client['nyc']"
   ]
  },
  {
   "cell_type": "code",
   "execution_count": 4,
   "id": "6b4123da-5130-4510-b5d8-c944a5e26552",
   "metadata": {
    "scrolled": true
   },
   "outputs": [
    {
     "name": "stdout",
     "output_type": "stream",
     "text": [
      "{'_id': ObjectId('60c21bf5b653d40e79b4a7d0'),\n",
      " 'accom_id': 2595,\n",
      " 'description': 'Skylit Midtown Castle',\n",
      " 'host': {'id': 2845,\n",
      "          'name': 'Jennifer',\n",
      "          'listings_count': 3,\n",
      "          'neighbourhood_list': ['Midtown', \"Hell's Kitchen\"]},\n",
      " 'neighbourhood': {'name': 'Midtown', 'group': 'Manhattan'},\n",
      " 'location': {'type': 'Point', 'coordinates': [-73.98559, 40.75356]},\n",
      " 'room_type': 'Entire home/apt',\n",
      " 'price': 150,\n",
      " 'minimum_nights': 30,\n",
      " 'reviews': {'number_of_reviews': 48,\n",
      "             'last_review': datetime.datetime(2019, 11, 4, 0, 0),\n",
      "             'reviews_per_month': 0.35},\n",
      " 'availability_365': 365}\n"
     ]
    }
   ],
   "source": [
    "# Sample document\n",
    "pp.pprint(db.airbnb.find_one())"
   ]
  },
  {
   "cell_type": "markdown",
   "id": "celtic-panama",
   "metadata": {},
   "source": [
    "---\n",
    "**Drop previous indexes.**\n",
    "\n",
    "---"
   ]
  },
  {
   "cell_type": "code",
   "execution_count": 5,
   "id": "a8ab501d-0970-458b-b8f9-0091214f32f1",
   "metadata": {},
   "outputs": [],
   "source": [
    "# Drop indexes\n",
    "db.airbnb.drop_indexes()"
   ]
  },
  {
   "cell_type": "markdown",
   "id": "fd13194c-99ae-4568-bc26-9b482f8caf90",
   "metadata": {},
   "source": [
    "---\n",
    "**Create text index.**\n",
    "\n",
    "Create text index on `description` field.\n",
    "\n",
    "---"
   ]
  },
  {
   "cell_type": "code",
   "execution_count": 6,
   "id": "c56c9720-75a7-4051-963c-0ea983a00c4c",
   "metadata": {
    "scrolled": true,
    "tags": []
   },
   "outputs": [
    {
     "data": {
      "text/plain": [
       "'description_index'"
      ]
     },
     "execution_count": 6,
     "metadata": {},
     "output_type": "execute_result"
    }
   ],
   "source": [
    "# Create text index\n",
    "db.airbnb.create_index(\n",
    "                        [('description', 'text')],\n",
    "                        name = 'description_index'\n",
    "                )"
   ]
  },
  {
   "cell_type": "markdown",
   "id": "660fd7ad-7916-4d63-a3bf-bd36179bc928",
   "metadata": {},
   "source": [
    "---\n",
    "### $text operator\n",
    "\n",
    "- Perform text search on collection with text index using [$text](https://docs.mongodb.com/manual/text-search/#-text-operator) operator.\n",
    "\n",
    "- It tokenizes the search string using whitespace and most punctuation as delimiters.\n",
    "\n",
    "- It performs a logical OR of all such tokens in the search string.\n",
    "\n",
    "\n",
    "---\n",
    "For example, retrieve documents that contain the term `wifi` in its description.\n",
    "\n",
    "---"
   ]
  },
  {
   "cell_type": "code",
   "execution_count": 7,
   "id": "1f63929c-b44a-453b-995b-4505993e406a",
   "metadata": {
    "collapsed": true,
    "jupyter": {
     "outputs_hidden": true
    },
    "scrolled": true,
    "tags": []
   },
   "outputs": [
    {
     "name": "stdout",
     "output_type": "stream",
     "text": [
      "{'description': 'Room in house with WIFI'}\n",
      "{'description': 'Queens Modern Apartment with WiFi!'}\n",
      "{'description': 'Comfortable Small Room with wifi'}\n",
      "{'description': \"You'll love this apartment. Free parking and Wifi\"}\n",
      "{'description': 'Great bedroom with tv, Sonos, WiFi,'}\n",
      "{'description': 'Flathbush WIFI+WASHER+DRYER+AC'}\n",
      "{'description': 'CONFORTABLE STUDIO ROOM INCLUDES WIFI'}\n",
      "{'description': '♥♥♥ Entire House with Backyard & Superfast WiFi♥♥♥'}\n",
      "{'description': 'Modern and Safe Place,Free Wifi'}\n",
      "{'description': \"FEMALE ONLY 'Heaven'PrivateBed/SharedSpace w/Wifi\"}\n",
      "{'description': 'Columbus Circle/Central Park - WIFI'}\n",
      "{'description': 'Spacious 1bdrm furnished wifi tv'}\n",
      "{'description': 'Best double Room all included wifi'}\n",
      "{'description': 'Private single bed Room Wifi'}\n",
      "{'description': 'Large Double Room  Queenbed Wifi'}\n",
      "{'description': 'Private exit/entry*WIFI cozy room'}\n",
      "{'description': 'My HOUSE is your house - 5 beds - fast WIFI'}\n",
      "{'description': 'Stylish Riverview Condo with Free Parking & WiFi'}\n",
      "{'description': 'WiFi, private room with two bed, and breakfast'}\n",
      "{'description': 'Brooklyn private Getaway.Free parking&WiFi'}\n",
      "{'description': 'Suite Houston - Free Street Parking & WIFI'}\n",
      "{'description': 'Serene & spacious Room w/ WiFi ->Midtown'}\n",
      "{'description': 'Suite Nest /free street parking+wifi'}\n",
      "{'description': 'Relaxing private room in Astoria. Balcony / WiFi.'}\n",
      "{'description': 'private room in upper ditmars astoria wifi'}\n",
      "{'description': 'King Bed,Entire Home Downtown, WiFi'}\n",
      "{'description': 'Park Slope sweet cozy home! Wifi!'}\n",
      "{'description': 'Clean Safe Apartment  Kitchen, Wifi  Parking +more'}\n",
      "{'description': 'Ready private furnished room w/Wifi'}\n",
      "{'description': 'One Bedroom Mini studio - Free WIFI'}\n",
      "{'description': 'Entire Home with Back Deck, backyard,WIFI, & PK'}\n",
      "{'description': 'Entire Home with Back Deck, backyard,WIFI, & PKG'}\n",
      "{'description': 'Prize drop* beautiful moderately sized*WIFI/TVroom'}\n",
      "{'description': '♥Private One Bedroom | Express Train+Fast WiFi♥'}\n",
      "{'description': 'minimum rental is 2 weeks, Wifi ,Tv ,shower with a'}\n",
      "{'description': 'Gild Hall, Luxury King Room and Complimentary WiFi'}\n",
      "{'description': 'Gild Hall, Luxury King Room and Complimentary WiFi'}\n",
      "{'description': 'Gild Hall, Luxury King Room and Complimentary WiFi'}\n",
      "{'description': 'Gild Hall, Luxury King Room and Complimentary WiFi'}\n",
      "{'description': 'Gild Hall, Luxury King Room and Complimentary WiFi'}\n",
      "{'description': 'Free WiFi , Cable TV next to Whitestone expressway'}\n",
      "{'description': '3BR2BA Posh Woodside Rooms w/ Elevator, Wifi'}\n",
      "{'description': 'Lush, Modern, supersized  w/ wifi, washer/dryer.'}\n",
      "{'description': 'GLAM HOME | AMAZING ROOFTOP VIEWS | ❤ LIC | WiFi'}\n",
      "{'description': 'Cozy room for your stay in Brooklyn w/ wifi & TV'}\n",
      "{'description': 'Cozy east village studio + WiFi/TV private'}\n",
      "{'description': 'Quiet Midtown 1BR w/ Work Desk & WiFi'}\n",
      "{'description': 'Quiet Midtown 1BR w/ Work Desk & WiFi'}\n",
      "{'description': 'Bright Studio | Work Desk & WiFi | Midtown West'}\n",
      "{'description': 'JFK Connection/Wifi & AC, No Smoking/No Party/PETS'}\n",
      "{'description': 'Express Train 20 Min From City | Wifi + Parking'}\n",
      "{'description': 'High Speed WiFi Perfect Long Stays and Business'}\n",
      "{'description': 'Suite East Side/free street parking & WIFI'}\n",
      "{'description': 'Suite Donna Dina - free Street Parking+wifi'}\n",
      "{'description': 'Affordable Room near station! Bed+sofa & WiFi'}\n",
      "{'description': 'Cozy, Clean and Quiet Private Room - Wifi Access'}\n",
      "{'description': 'Entire Spacious Apt. with Comfy Queen Bed & WiFi'}\n",
      "{'description': 'Spacious furnished room in Astoria NYC. Free WiFi!'}\n",
      "{'description': \"*Clean, Sanitized Cozy Private Room Blazin' WiFi*\"}\n",
      "{'description': 'SQUARE Village Suite/free street parking +wifi'}\n",
      "{'description': 'Historic Turret Retreat (Smart TV/Cable/Wifi)'}\n",
      "{'description': 'Luxury Midtown West 1BR w/pool, wifi'}\n",
      "{'description': 'Lux Chelsea 1 Bedroom w/WiFi, Gym'}\n",
      "{'description': 'Clean + Spacious 2BR | Desk Space + WiFi | NYC'}\n",
      "{'description': 'cozy two bedroom apt by Central Park No wifi'}\n",
      "{'description': 'Luxury Midtown West 2BR w/pool, wifi'}\n",
      "{'description': 'Luxury Midtown West Studio w/pool, wifi'}\n",
      "{'description': 'Luxury Midtown West 1BR w/pool, wifi'}\n",
      "{'description': 'Great Room, strong WiFi, 5min Jtrain, Convenient'}\n",
      "{'description': 'Landmark 1 Bedroom has 2 beds, Free WiFi'}\n",
      "{'description': \"DOMINIQUE'S NY*chic*  quiet room*wifi*metro\"}\n",
      "{'description': \"Designer's loft, 16' ceilings, strong WIFI, desks\"}\n",
      "{'description': 'Small Cozy Room Wifi & AC near JFK'}\n",
      "{'description': 'Chelsea/Penn Station Studio has Washer/Dryer, WiFi'}\n",
      "{'description': 'HEART OF NYC! Sunny furn 1 br wifi'}\n",
      "{'description': 'Spacious Brooklyn Room w/ Washer Dryer Yard WiFi'}\n",
      "{'description': 'Mini 1BR SUITE near TIME SQUARE-by the subway+wifi'}\n",
      "{'description': 'Modern & Homely Room w/ WIFI, W/D & Peace'}\n",
      "{'description': '*Cozy RM 20min to Manhattan w/ Free Parking & Wifi'}\n",
      "{'description': 'SoHo/Central/Fast WiFi/Subway Close/Private Rm'}\n",
      "{'description': '2BR Lux Condo Rooms.Washer-Dryer WiFi balcony'}\n",
      "{'description': 'SoHo/Central/Fast WiFi/Subway Close/Entire Place'}\n",
      "{'description': 'Woodside 62st in Queens. Full Size Beds 4BR, WiFi'}\n",
      "{'description': 'PRIZE DRP*PRIVATE Entry*Quiet room*WIFI & TV'}\n",
      "{'description': 'Private Home Away From Home FREE WIFI-20min to JFK'}\n",
      "{'description': 'Sunny UWS Apt near Central Park with great WiFi.'}\n",
      "{'description': 'STUNNING LUX HOME | ❤ASTORIA | WiFi | 15 MIN NYC'}\n",
      "{'description': 'Relaxing Queen Bed Studio w/Fast WIFI & Elevator'}\n",
      "{'description': 'Roomy Bright Queen Suite, Free St Parking + Wifi'}\n",
      "{'description': 'Single bedroom free WiFi good location good view'}\n",
      "{'description': 'Nice 1 Bedroom Private apt. (up to 3 guests) +WIFI'}\n",
      "{'description': '★★LUXURY TOP FLOOR | ❤ASTORIA | WiFi | 15 MIN NYC'}\n",
      "{'description': 'Shining Solo Room in Astoria. Wifi, Netflix->30th sta'}\n",
      "{'description': 'Small Room two min from A&C trains w/WiFi'}\n",
      "{'description': 'Private Room, 2 Bathrooms, Wifi, 20 min to NYC'}\n",
      "{'description': 'Luxury 3 Bedroom Apartment Wifi/JFK Airport/LIRR'}\n",
      "{'description': 'BIG BEDROOM CLOSE TO LA GUARDIA AIRPORT FREE WIFI'}\n",
      "{'description': 'Dominiques unique twin room*NYC-wifi* metro*safe'}\n",
      "{'description': 'Bright & Sleek Room w/ AC & WiFi, close to subway'}\n",
      "{'description': 'Clean Well-Lit NY Room. WiFi & Utilities Included'}\n",
      "{'description': 'Room close to Airports, LIC Mall Midtown w/ WiFi'}\n",
      "{'description': 'Mia Suite East Village-free Street Parking+wifi'}\n",
      "{'description': 'Midtown. Walk everywhere.  Work  w/high speed WIFI'}\n",
      "{'description': 'Sunny Chelsea studio, queen bed, sleep loft, WiFi'}\n",
      "{'description': 'Coney Island  Amphitheat  MCU 1 br  Wifi Cable **'}\n",
      "{'description': '2 bed spacious/Quiet Upper Ditmars Astoria Wifi.'}\n",
      "{'description': 'Modern 2BR | Desk & Free WiFi | Midtown NYC | GLS'}\n",
      "{'description': 'PRIVATE 2 BEDROOM apt-private bath/kitchen/WIFI'}\n",
      "{'description': 'Modern Studio | Work Desk/WiFi | Near Hudson River'}\n",
      "{'description': 'Modern 4 BR Apt | Washer & Dryer | WiFi | SOHO'}\n",
      "{'description': 'Private & Clean NYC 1BR | Work Space + WiFi | GLS'}\n",
      "{'description': 'So Washer/dryer, WiFi,  Jtrain Gates Ave 5 minutes'}\n",
      "{'description': 'High End 2BR | Near Major NYC Hospitals | WiFi'}\n",
      "{'description': 'Tudor Studio (Wifi/Premium Cable) w Private Entry'}\n",
      "{'description': 'NYC Midtown 1BR | Work Desk + WiFi | Doorman | GLS'}\n",
      "{'description': 'Private Studio: Landmark Dt (Smart TV/Wifi/Cable)'}\n",
      "{'description': 'Spacious Upper East Side 1BR | Work Desk + WiFi'}\n",
      "{'description': 'Convenient located, 5 min Jtrain-Gates,Strg WiFi'}\n",
      "{'description': 'Great Chelsea Location, Couch/2nd bed, Free WiFi'}\n",
      "{'description': 'PRIVATE 2 BEDRM APT W/ PRIVATE BATHRM KITCHEN WIFI'}\n",
      "{'description': 'Midtown East Happy Space Own 1/2ba WIFI Work Home'}\n",
      "{'description': 'Unique Woodside 62nd room in Queens. Full Size Bed+Wifi.'}\n",
      "{'description': 'Private 2Bed 1Bath/Short&Long Stays/NYC 20min/WiFi'}\n",
      "{'description': '★★Lux Top Floor Pad | ❤Astoria | WiFi | 15 Min NYC'}\n",
      "{'description': 'Newly furnished free wifi 64 inch smart TV 2bedrm.'}\n",
      "{'description': 'Sunny Room two min walk to the A&C train w/WiFi'}\n",
      "{'description': 'Large Room two min walk to Express A-Train w/WiFi'}\n",
      "{'description': 'Sunny Room  two min walk to A&C Train w/WiFi'}\n",
      "{'description': \"Vie's NY Unique crashpad apts sleep 12, metro*wifi\"}\n",
      "{'description': 'Suite Di CLASSE East village-free Str.parking+wifi'}\n",
      "{'description': 'Lo Studio/15 min central park/wifi+ street parking'}\n",
      "{'description': 'Lively SoHo/Quiet St/2 blocks Subway/Fast WiFi'}\n",
      "{'description': 'Central washer/dryer,WiFi, 5 min Jtrain Gates Ave'}\n",
      "{'description': 'Sunny LES Apt W/ Luxury Bed A/C Views WIFI & More'}\n",
      "{'description': 'NW  Washer/dryer, WiFi,  Jtrain Gates Ave 5 min'}\n",
      "{'description': 'NE  Washer/dryer, WiFi, Jtrain Gates Ave 5 minutes'}\n",
      "{'description': 'WiFi, 5 min J train Gates Ave, 24 hour deli **'}\n",
      "{'description': 'Unique room w/2 Twin beds..wifi*metro* quiet*safe'}\n",
      "{'description': '★Spacious 2 b/r apt | 3 beds + WiFi~Sleeps 1-6★'}\n"
     ]
    }
   ],
   "source": [
    "# Query using text index\n",
    "cur = db.airbnb.find(\n",
    "                    # query\n",
    "                    {\n",
    "                        '$text': {\n",
    "                                    '$search': \"wifi\"\n",
    "                                 }\n",
    "                    },\n",
    "                    # projection\n",
    "                    {\n",
    "                        'description': 1,\n",
    "                        '_id': 0\n",
    "                    })\n",
    "\n",
    "for doc in cur:\n",
    "    pp.pprint(doc)"
   ]
  },
  {
   "cell_type": "markdown",
   "id": "b587c763-ed00-44eb-a693-37ed20f89138",
   "metadata": {},
   "source": [
    "---\n",
    "Match is made in case-insensitive manner.\n",
    "\n",
    "---\n",
    "\n",
    "MongoDB full text search uses logical **OR** search on the specified phrase words.\n",
    "\n",
    "----\n",
    "For example, count accomodations that have terms either `wifi` or `parking` in its description.\n",
    "\n",
    "----"
   ]
  },
  {
   "cell_type": "code",
   "execution_count": 8,
   "id": "practical-pitch",
   "metadata": {},
   "outputs": [
    {
     "data": {
      "text/plain": [
       "{'description': '88 By The Park w/Parking Space'}"
      ]
     },
     "execution_count": 8,
     "metadata": {},
     "output_type": "execute_result"
    }
   ],
   "source": [
    "# Query\n",
    "db.airbnb.find_one({\n",
    "                        '$text': {\n",
    "                                    '$search': \"wifi parking\"                                 }\n",
    "                    },\n",
    "                    {\n",
    "                        'description': 1,\n",
    "                        '_id': 0\n",
    "                    })"
   ]
  },
  {
   "cell_type": "code",
   "execution_count": 9,
   "id": "bibliographic-tumor",
   "metadata": {},
   "outputs": [
    {
     "data": {
      "text/plain": [
       "{'description': '88 By The Park w/Parking Space'}"
      ]
     },
     "execution_count": 9,
     "metadata": {},
     "output_type": "execute_result"
    }
   ],
   "source": [
    "# Query\n",
    "db.airbnb.find_one({\n",
    "                        '$text': {\n",
    "                                    '$search': \"wifi, parking\"\n",
    "                                }\n",
    "                    },\n",
    "                    {\n",
    "                        'description': 1,\n",
    "                        '_id': 0\n",
    "                    })"
   ]
  },
  {
   "cell_type": "markdown",
   "id": "accepting-flower",
   "metadata": {},
   "source": [
    "---\n",
    "**Query exact term using quotation marks.**\n",
    "\n",
    "---"
   ]
  },
  {
   "cell_type": "code",
   "execution_count": 10,
   "id": "27a75ed8-c7ad-4869-adf2-83f8036caddf",
   "metadata": {},
   "outputs": [
    {
     "name": "stdout",
     "output_type": "stream",
     "text": [
      "{'accom_id': 48410611,\n",
      " 'description': 'Cozy room close to subway, 20 mins to Midtown'}\n",
      "{'accom_id': 48326279,\n",
      " 'description': 'Cozy room close to subway, 20 mins to Midtown'}\n",
      "{'accom_id': 43180065,\n",
      " 'description': 'Cozy room close to subway, 20 mins to Manhattan'}\n",
      "{'accom_id': 41495736,\n",
      " 'description': 'Cozy room close to subway, 20 mins to Time Square'}\n"
     ]
    }
   ],
   "source": [
    "# Query \n",
    "cur = db.airbnb.find(\n",
    "        {\n",
    "            '$text': {\n",
    "                        '$search': '\"cozy room close to subway\"'\n",
    "                     }\n",
    "        },\n",
    "        {\n",
    "            'description': 1,\n",
    "            'accom_id':1,\n",
    "            '_id': 0\n",
    "        })\n",
    "\n",
    "for doc in cur:\n",
    "    pp.pprint(doc)"
   ]
  },
  {
   "cell_type": "markdown",
   "id": "f7fd46bb-6b52-4d29-aa36-ce5e354ec859",
   "metadata": {},
   "source": [
    "---\n",
    "Full text search also allows [negation](https://docs.mongodb.com/manual/text-search/#term-exclusion) of certain words from the search.\n",
    "\n",
    "----"
   ]
  },
  {
   "cell_type": "code",
   "execution_count": 11,
   "id": "03648df5-6ef5-4d0e-9e66-e03380a7eb2b",
   "metadata": {},
   "outputs": [
    {
     "name": "stdout",
     "output_type": "stream",
     "text": [
      "{'description': 'Cozy room close to subway, 20 mins to Manhattan'}\n",
      "{'description': 'Cozy room close to subway, 20 mins to Time Square'}\n"
     ]
    }
   ],
   "source": [
    "# Term exclusion\n",
    "cur = db.airbnb.find({\n",
    "                        '$text': {'$search': '\"cozy room close to subway\" -Midtown'}\n",
    "                    },\n",
    "                    {\n",
    "                        'description': 1,\n",
    "                        '_id': 0\n",
    "                    })\n",
    "\n",
    "for doc in cur:\n",
    "    pp.pprint(doc)"
   ]
  },
  {
   "cell_type": "markdown",
   "id": "184bd537-6add-4ccc-a644-881e9e4e1a8f",
   "metadata": {},
   "source": [
    "---\n",
    "### $meta operator \n",
    "\n",
    "`$text` provides a score to each documents based on the relevance of the document to the text query provided. This done using the [$meta](https://docs.mongodb.com/manual/reference/operator/aggregation/meta/#-meta) that returns metadata wi document when performing text search.\n",
    "\n",
    "---"
   ]
  },
  {
   "cell_type": "code",
   "execution_count": 12,
   "id": "8cd12f3b-7fe3-4490-91cb-8b1c8da7f0ea",
   "metadata": {},
   "outputs": [
    {
     "name": "stdout",
     "output_type": "stream",
     "text": [
      "{'description': 'Cozy room close to subway, 20 mins to Midtown',\n",
      " 'score': 2.2857142857142856}\n",
      "{'description': 'Cozy room close to subway, 20 mins to Midtown',\n",
      " 'score': 2.2857142857142856}\n",
      "{'description': 'Cozy room close to subway, 20 mins to Time Square',\n",
      " 'score': 2.25}\n",
      "{'description': 'Cozy room close to subway, 20 mins to Manhattan',\n",
      " 'score': 2.2857142857142856}\n"
     ]
    }
   ],
   "source": [
    "# Keyword relevancy\n",
    "\n",
    "cur = db.airbnb.find(\n",
    "                    # query\n",
    "                    {\n",
    "                        '$text': {'$search': '\"cozy room close to subway\"'}\n",
    "                    },\n",
    "                    # projection\n",
    "                    {\n",
    "                        # relevancy score\n",
    "                        'score': {\n",
    "                                    '$meta': \"textScore\"\n",
    "                                },\n",
    "                        'description': 1,\n",
    "                        '_id': 0\n",
    "                    })\n",
    "\n",
    "for doc in cur:\n",
    "    pp.pprint(doc)"
   ]
  },
  {
   "cell_type": "markdown",
   "id": "usual-scientist",
   "metadata": {},
   "source": [
    "----\n",
    "\n",
    "**[Text search using aggregation pipeline](https://docs.mongodb.com/manual/tutorial/text-search-in-aggregation/#text-search-in-the-aggregation-pipeline)**\n",
    "\n",
    "We can perform text search using aggregation pipeline as well. This is done using the `$text` operator in the `$match` stage. And we can get the relevancy score using `$meta` operator.\n",
    "\n",
    "----"
   ]
  },
  {
   "cell_type": "code",
   "execution_count": 13,
   "id": "complicated-accountability",
   "metadata": {},
   "outputs": [
    {
     "name": "stdout",
     "output_type": "stream",
     "text": [
      "{'description': 'Cozy room close to subway, 20 mins to Manhattan',\n",
      " 'score': 2.2857142857142856}\n",
      "{'description': 'Cozy room close to subway, 20 mins to Time Square',\n",
      " 'score': 2.25}\n"
     ]
    }
   ],
   "source": [
    "# Aggregation pipeline\n",
    "\n",
    "cur = db.airbnb.aggregate([\n",
    "            # Stage 1 - match\n",
    "            {\n",
    "                '$match': {\n",
    "                            '$text':{'$search': '\"cozy room close to subway\" -Midtown'}\n",
    "                            }\n",
    "            },\n",
    "            # Stage 2 - project\n",
    "            {\n",
    "                '$project':{\n",
    "                             'description':1,\n",
    "                             '_id':0,\n",
    "                             # Relevancy score\n",
    "                             'score': {'$meta': \"textScore\"}\n",
    "                            }\n",
    "            }\n",
    "])\n",
    "\n",
    "for doc in cur:\n",
    "    pp.pprint(doc)"
   ]
  },
  {
   "cell_type": "markdown",
   "id": "olive-quantum",
   "metadata": {},
   "source": [
    "---\n",
    "\n",
    "**Restriction** :-\n",
    "- Only one text index per collection.\n",
    "\n",
    "---"
   ]
  },
  {
   "cell_type": "code",
   "execution_count": 14,
   "id": "a7c555cb-60ad-44e9-b0d9-8092cc84666a",
   "metadata": {
    "collapsed": true,
    "jupyter": {
     "outputs_hidden": true
    },
    "scrolled": true
   },
   "outputs": [
    {
     "ename": "OperationFailure",
     "evalue": "Index: { v: 2, key: { _fts: \"text\", _ftsx: 1 }, name: \"host.name_text\", weights: { host.name: 1 }, default_language: \"english\", language_override: \"language\", textIndexVersion: 3 } already exists with different options: { v: 2, key: { _fts: \"text\", _ftsx: 1 }, name: \"description_index\", weights: { description: 1 }, default_language: \"english\", language_override: \"language\", textIndexVersion: 3 }, full error: {'ok': 0.0, 'errmsg': 'Index: { v: 2, key: { _fts: \"text\", _ftsx: 1 }, name: \"host.name_text\", weights: { host.name: 1 }, default_language: \"english\", language_override: \"language\", textIndexVersion: 3 } already exists with different options: { v: 2, key: { _fts: \"text\", _ftsx: 1 }, name: \"description_index\", weights: { description: 1 }, default_language: \"english\", language_override: \"language\", textIndexVersion: 3 }', 'code': 85, 'codeName': 'IndexOptionsConflict'}",
     "output_type": "error",
     "traceback": [
      "\u001b[0;31m---------------------------------------------------------------------------\u001b[0m",
      "\u001b[0;31mOperationFailure\u001b[0m                          Traceback (most recent call last)",
      "\u001b[0;32m<ipython-input-14-c584b754ecca>\u001b[0m in \u001b[0;36m<module>\u001b[0;34m\u001b[0m\n\u001b[1;32m      1\u001b[0m \u001b[0;31m# Only one text index per collection\u001b[0m\u001b[0;34m\u001b[0m\u001b[0;34m\u001b[0m\u001b[0;34m\u001b[0m\u001b[0m\n\u001b[0;32m----> 2\u001b[0;31m \u001b[0mdb\u001b[0m\u001b[0;34m.\u001b[0m\u001b[0mairbnb\u001b[0m\u001b[0;34m.\u001b[0m\u001b[0mcreate_index\u001b[0m\u001b[0;34m(\u001b[0m\u001b[0;34m[\u001b[0m\u001b[0;34m(\u001b[0m\u001b[0;34m'host.name'\u001b[0m\u001b[0;34m,\u001b[0m \u001b[0;34m'text'\u001b[0m\u001b[0;34m)\u001b[0m\u001b[0;34m]\u001b[0m\u001b[0;34m)\u001b[0m\u001b[0;34m\u001b[0m\u001b[0;34m\u001b[0m\u001b[0m\n\u001b[0m",
      "\u001b[0;32m~/.local/lib/python3.7/site-packages/pymongo/collection.py\u001b[0m in \u001b[0;36mcreate_index\u001b[0;34m(self, keys, session, **kwargs)\u001b[0m\n\u001b[1;32m   2057\u001b[0m             \u001b[0mcmd_options\u001b[0m\u001b[0;34m[\u001b[0m\u001b[0;34m\"maxTimeMS\"\u001b[0m\u001b[0;34m]\u001b[0m \u001b[0;34m=\u001b[0m \u001b[0mkwargs\u001b[0m\u001b[0;34m.\u001b[0m\u001b[0mpop\u001b[0m\u001b[0;34m(\u001b[0m\u001b[0;34m\"maxTimeMS\"\u001b[0m\u001b[0;34m)\u001b[0m\u001b[0;34m\u001b[0m\u001b[0;34m\u001b[0m\u001b[0m\n\u001b[1;32m   2058\u001b[0m         \u001b[0mindex\u001b[0m \u001b[0;34m=\u001b[0m \u001b[0mIndexModel\u001b[0m\u001b[0;34m(\u001b[0m\u001b[0mkeys\u001b[0m\u001b[0;34m,\u001b[0m \u001b[0;34m**\u001b[0m\u001b[0mkwargs\u001b[0m\u001b[0;34m)\u001b[0m\u001b[0;34m\u001b[0m\u001b[0;34m\u001b[0m\u001b[0m\n\u001b[0;32m-> 2059\u001b[0;31m         \u001b[0;32mreturn\u001b[0m \u001b[0mself\u001b[0m\u001b[0;34m.\u001b[0m\u001b[0m__create_indexes\u001b[0m\u001b[0;34m(\u001b[0m\u001b[0;34m[\u001b[0m\u001b[0mindex\u001b[0m\u001b[0;34m]\u001b[0m\u001b[0;34m,\u001b[0m \u001b[0msession\u001b[0m\u001b[0;34m,\u001b[0m \u001b[0;34m**\u001b[0m\u001b[0mcmd_options\u001b[0m\u001b[0;34m)\u001b[0m\u001b[0;34m[\u001b[0m\u001b[0;36m0\u001b[0m\u001b[0;34m]\u001b[0m\u001b[0;34m\u001b[0m\u001b[0;34m\u001b[0m\u001b[0m\n\u001b[0m\u001b[1;32m   2060\u001b[0m \u001b[0;34m\u001b[0m\u001b[0m\n\u001b[1;32m   2061\u001b[0m     \u001b[0;32mdef\u001b[0m \u001b[0mensure_index\u001b[0m\u001b[0;34m(\u001b[0m\u001b[0mself\u001b[0m\u001b[0;34m,\u001b[0m \u001b[0mkey_or_list\u001b[0m\u001b[0;34m,\u001b[0m \u001b[0mcache_for\u001b[0m\u001b[0;34m=\u001b[0m\u001b[0;36m300\u001b[0m\u001b[0;34m,\u001b[0m \u001b[0;34m**\u001b[0m\u001b[0mkwargs\u001b[0m\u001b[0;34m)\u001b[0m\u001b[0;34m:\u001b[0m\u001b[0;34m\u001b[0m\u001b[0;34m\u001b[0m\u001b[0m\n",
      "\u001b[0;32m~/.local/lib/python3.7/site-packages/pymongo/collection.py\u001b[0m in \u001b[0;36m__create_indexes\u001b[0;34m(self, indexes, session, **kwargs)\u001b[0m\n\u001b[1;32m   1951\u001b[0m                 \u001b[0mcodec_options\u001b[0m\u001b[0;34m=\u001b[0m\u001b[0m_UNICODE_REPLACE_CODEC_OPTIONS\u001b[0m\u001b[0;34m,\u001b[0m\u001b[0;34m\u001b[0m\u001b[0;34m\u001b[0m\u001b[0m\n\u001b[1;32m   1952\u001b[0m                 \u001b[0mwrite_concern\u001b[0m\u001b[0;34m=\u001b[0m\u001b[0mself\u001b[0m\u001b[0;34m.\u001b[0m\u001b[0m_write_concern_for\u001b[0m\u001b[0;34m(\u001b[0m\u001b[0msession\u001b[0m\u001b[0;34m)\u001b[0m\u001b[0;34m,\u001b[0m\u001b[0;34m\u001b[0m\u001b[0;34m\u001b[0m\u001b[0m\n\u001b[0;32m-> 1953\u001b[0;31m                 session=session)\n\u001b[0m\u001b[1;32m   1954\u001b[0m         \u001b[0;32mreturn\u001b[0m \u001b[0mnames\u001b[0m\u001b[0;34m\u001b[0m\u001b[0;34m\u001b[0m\u001b[0m\n\u001b[1;32m   1955\u001b[0m \u001b[0;34m\u001b[0m\u001b[0m\n",
      "\u001b[0;32m~/.local/lib/python3.7/site-packages/pymongo/collection.py\u001b[0m in \u001b[0;36m_command\u001b[0;34m(self, sock_info, command, slave_ok, read_preference, codec_options, check, allowable_errors, read_concern, write_concern, collation, session, retryable_write, user_fields)\u001b[0m\n\u001b[1;32m    251\u001b[0m                 \u001b[0mclient\u001b[0m\u001b[0;34m=\u001b[0m\u001b[0mself\u001b[0m\u001b[0;34m.\u001b[0m\u001b[0m__database\u001b[0m\u001b[0;34m.\u001b[0m\u001b[0mclient\u001b[0m\u001b[0;34m,\u001b[0m\u001b[0;34m\u001b[0m\u001b[0;34m\u001b[0m\u001b[0m\n\u001b[1;32m    252\u001b[0m                 \u001b[0mretryable_write\u001b[0m\u001b[0;34m=\u001b[0m\u001b[0mretryable_write\u001b[0m\u001b[0;34m,\u001b[0m\u001b[0;34m\u001b[0m\u001b[0;34m\u001b[0m\u001b[0m\n\u001b[0;32m--> 253\u001b[0;31m                 user_fields=user_fields)\n\u001b[0m\u001b[1;32m    254\u001b[0m \u001b[0;34m\u001b[0m\u001b[0m\n\u001b[1;32m    255\u001b[0m     \u001b[0;32mdef\u001b[0m \u001b[0m__create\u001b[0m\u001b[0;34m(\u001b[0m\u001b[0mself\u001b[0m\u001b[0;34m,\u001b[0m \u001b[0moptions\u001b[0m\u001b[0;34m,\u001b[0m \u001b[0mcollation\u001b[0m\u001b[0;34m,\u001b[0m \u001b[0msession\u001b[0m\u001b[0;34m)\u001b[0m\u001b[0;34m:\u001b[0m\u001b[0;34m\u001b[0m\u001b[0;34m\u001b[0m\u001b[0m\n",
      "\u001b[0;32m~/.local/lib/python3.7/site-packages/pymongo/pool.py\u001b[0m in \u001b[0;36mcommand\u001b[0;34m(self, dbname, spec, slave_ok, read_preference, codec_options, check, allowable_errors, check_keys, read_concern, write_concern, parse_write_concern_error, collation, session, client, retryable_write, publish_events, user_fields, exhaust_allowed)\u001b[0m\n\u001b[1;32m    692\u001b[0m                            \u001b[0munacknowledged\u001b[0m\u001b[0;34m=\u001b[0m\u001b[0munacknowledged\u001b[0m\u001b[0;34m,\u001b[0m\u001b[0;34m\u001b[0m\u001b[0;34m\u001b[0m\u001b[0m\n\u001b[1;32m    693\u001b[0m                            \u001b[0muser_fields\u001b[0m\u001b[0;34m=\u001b[0m\u001b[0muser_fields\u001b[0m\u001b[0;34m,\u001b[0m\u001b[0;34m\u001b[0m\u001b[0;34m\u001b[0m\u001b[0m\n\u001b[0;32m--> 694\u001b[0;31m                            exhaust_allowed=exhaust_allowed)\n\u001b[0m\u001b[1;32m    695\u001b[0m         \u001b[0;32mexcept\u001b[0m \u001b[0mOperationFailure\u001b[0m\u001b[0;34m:\u001b[0m\u001b[0;34m\u001b[0m\u001b[0;34m\u001b[0m\u001b[0m\n\u001b[1;32m    696\u001b[0m             \u001b[0;32mraise\u001b[0m\u001b[0;34m\u001b[0m\u001b[0;34m\u001b[0m\u001b[0m\n",
      "\u001b[0;32m~/.local/lib/python3.7/site-packages/pymongo/network.py\u001b[0m in \u001b[0;36mcommand\u001b[0;34m(sock_info, dbname, spec, slave_ok, is_mongos, read_preference, codec_options, session, client, check, allowable_errors, address, check_keys, listeners, max_bson_size, read_concern, parse_write_concern_error, collation, compression_ctx, use_op_msg, unacknowledged, user_fields, exhaust_allowed)\u001b[0m\n\u001b[1;32m    159\u001b[0m                 helpers._check_command_response(\n\u001b[1;32m    160\u001b[0m                     \u001b[0mresponse_doc\u001b[0m\u001b[0;34m,\u001b[0m \u001b[0msock_info\u001b[0m\u001b[0;34m.\u001b[0m\u001b[0mmax_wire_version\u001b[0m\u001b[0;34m,\u001b[0m \u001b[0mallowable_errors\u001b[0m\u001b[0;34m,\u001b[0m\u001b[0;34m\u001b[0m\u001b[0;34m\u001b[0m\u001b[0m\n\u001b[0;32m--> 161\u001b[0;31m                     parse_write_concern_error=parse_write_concern_error)\n\u001b[0m\u001b[1;32m    162\u001b[0m     \u001b[0;32mexcept\u001b[0m \u001b[0mException\u001b[0m \u001b[0;32mas\u001b[0m \u001b[0mexc\u001b[0m\u001b[0;34m:\u001b[0m\u001b[0;34m\u001b[0m\u001b[0;34m\u001b[0m\u001b[0m\n\u001b[1;32m    163\u001b[0m         \u001b[0;32mif\u001b[0m \u001b[0mpublish\u001b[0m\u001b[0;34m:\u001b[0m\u001b[0;34m\u001b[0m\u001b[0;34m\u001b[0m\u001b[0m\n",
      "\u001b[0;32m~/.local/lib/python3.7/site-packages/pymongo/helpers.py\u001b[0m in \u001b[0;36m_check_command_response\u001b[0;34m(response, max_wire_version, allowable_errors, parse_write_concern_error)\u001b[0m\n\u001b[1;32m    162\u001b[0m         \u001b[0;32mraise\u001b[0m \u001b[0mCursorNotFound\u001b[0m\u001b[0;34m(\u001b[0m\u001b[0merrmsg\u001b[0m\u001b[0;34m,\u001b[0m \u001b[0mcode\u001b[0m\u001b[0;34m,\u001b[0m \u001b[0mresponse\u001b[0m\u001b[0;34m,\u001b[0m \u001b[0mmax_wire_version\u001b[0m\u001b[0;34m)\u001b[0m\u001b[0;34m\u001b[0m\u001b[0;34m\u001b[0m\u001b[0m\n\u001b[1;32m    163\u001b[0m \u001b[0;34m\u001b[0m\u001b[0m\n\u001b[0;32m--> 164\u001b[0;31m     \u001b[0;32mraise\u001b[0m \u001b[0mOperationFailure\u001b[0m\u001b[0;34m(\u001b[0m\u001b[0merrmsg\u001b[0m\u001b[0;34m,\u001b[0m \u001b[0mcode\u001b[0m\u001b[0;34m,\u001b[0m \u001b[0mresponse\u001b[0m\u001b[0;34m,\u001b[0m \u001b[0mmax_wire_version\u001b[0m\u001b[0;34m)\u001b[0m\u001b[0;34m\u001b[0m\u001b[0;34m\u001b[0m\u001b[0m\n\u001b[0m\u001b[1;32m    165\u001b[0m \u001b[0;34m\u001b[0m\u001b[0m\n\u001b[1;32m    166\u001b[0m \u001b[0;34m\u001b[0m\u001b[0m\n",
      "\u001b[0;31mOperationFailure\u001b[0m: Index: { v: 2, key: { _fts: \"text\", _ftsx: 1 }, name: \"host.name_text\", weights: { host.name: 1 }, default_language: \"english\", language_override: \"language\", textIndexVersion: 3 } already exists with different options: { v: 2, key: { _fts: \"text\", _ftsx: 1 }, name: \"description_index\", weights: { description: 1 }, default_language: \"english\", language_override: \"language\", textIndexVersion: 3 }, full error: {'ok': 0.0, 'errmsg': 'Index: { v: 2, key: { _fts: \"text\", _ftsx: 1 }, name: \"host.name_text\", weights: { host.name: 1 }, default_language: \"english\", language_override: \"language\", textIndexVersion: 3 } already exists with different options: { v: 2, key: { _fts: \"text\", _ftsx: 1 }, name: \"description_index\", weights: { description: 1 }, default_language: \"english\", language_override: \"language\", textIndexVersion: 3 }', 'code': 85, 'codeName': 'IndexOptionsConflict'}"
     ]
    }
   ],
   "source": [
    "# Only one text index per collection\n",
    "db.airbnb.create_index([('host.name', 'text')])"
   ]
  },
  {
   "cell_type": "markdown",
   "id": "equipped-blast",
   "metadata": {},
   "source": [
    "---\n",
    "### Exercise 1 -\n",
    "\n",
    "Count the number of documents that contain the words `park`, `subway`, and `city` in `description`.\n",
    "\n",
    "---"
   ]
  },
  {
   "cell_type": "markdown",
   "id": "hearing-seventh",
   "metadata": {},
   "source": [
    "---\n",
    "### Exercise 2 -\n",
    "\n",
    "Count the number of documents that contain either the words `park` or `subway` but not `city` in `description`.\n",
    "\n",
    "---"
   ]
  },
  {
   "cell_type": "code",
   "execution_count": null,
   "id": "dramatic-agriculture",
   "metadata": {},
   "outputs": [],
   "source": []
  }
 ],
 "metadata": {
  "kernelspec": {
   "display_name": "Python 3 (ipykernel)",
   "language": "python",
   "name": "python3"
  },
  "language_info": {
   "codemirror_mode": {
    "name": "ipython",
    "version": 3
   },
   "file_extension": ".py",
   "mimetype": "text/x-python",
   "name": "python",
   "nbconvert_exporter": "python",
   "pygments_lexer": "ipython3",
   "version": "3.11.4"
  }
 },
 "nbformat": 4,
 "nbformat_minor": 5
}
