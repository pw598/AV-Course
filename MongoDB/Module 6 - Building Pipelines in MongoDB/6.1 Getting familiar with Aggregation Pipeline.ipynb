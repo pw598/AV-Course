{
 "cells": [
  {
   "cell_type": "markdown",
   "id": "optimum-champion",
   "metadata": {},
   "source": [
    "# Getting familiar with Aggregation Pipeline\n",
    "\n",
    "----"
   ]
  },
  {
   "cell_type": "markdown",
   "id": "a77276a9-b256-41d2-b89f-6a5649b073b2",
   "metadata": {},
   "source": [
    "### Conneting to MongoDB using Pymongo\n",
    "----"
   ]
  },
  {
   "cell_type": "code",
   "execution_count": 1,
   "id": "2e1599ed-fd91-407b-889b-95279fef2aa9",
   "metadata": {},
   "outputs": [],
   "source": [
    "# Importing the required libraries\n",
    "import pymongo\n",
    "import pprint as pp\n",
    "\n",
    "pp.sorted = lambda x, key=None: x"
   ]
  },
  {
   "cell_type": "markdown",
   "id": "ebd1a078-09be-4f7c-8697-23c5d36288c2",
   "metadata": {},
   "source": [
    "---\n",
    "### HR Analytics\n",
    "\n",
    "An analytics training company wants to connect their enrollees with their clients who are looking to hire employees working in the same domain.The collection contains student information related to demographics, education, experience and features related to training as well.\n",
    "\n",
    "\n",
    "---"
   ]
  },
  {
   "cell_type": "code",
   "execution_count": 2,
   "id": "stainless-minnesota",
   "metadata": {},
   "outputs": [],
   "source": [
    "# # mongorestore HR data\n",
    "# !mongorestore --db training /home/avadmin/Desktop/Mongo/Aggregation/training/training/"
   ]
  },
  {
   "cell_type": "code",
   "execution_count": 3,
   "id": "050ca3bc-309e-4fe8-acae-77ac677ac193",
   "metadata": {},
   "outputs": [],
   "source": [
    "# Connect to local server\n",
    "client = pymongo.MongoClient('mongodb://localhost:27017/')"
   ]
  },
  {
   "cell_type": "code",
   "execution_count": 4,
   "id": "a1e8643c-1cdf-436b-8cc9-4451993ac4e2",
   "metadata": {},
   "outputs": [],
   "source": [
    "# training database\n",
    "db = client.training"
   ]
  },
  {
   "cell_type": "code",
   "execution_count": 5,
   "id": "ae515e2c-944f-4420-a5d5-0612bd508d7c",
   "metadata": {},
   "outputs": [
    {
     "data": {
      "text/plain": [
       "['hr']"
      ]
     },
     "execution_count": 5,
     "metadata": {},
     "output_type": "execute_result"
    }
   ],
   "source": [
    "# Collections\n",
    "db.list_collection_names()"
   ]
  },
  {
   "cell_type": "code",
   "execution_count": 6,
   "id": "clean-somewhere",
   "metadata": {},
   "outputs": [
    {
     "name": "stdout",
     "output_type": "stream",
     "text": [
      "{'_id': ObjectId('60bc95fb12d1778df87722e2'),\n",
      " 'enrollee_id': 23798,\n",
      " 'gender': 'Male',\n",
      " 'date_of_enrollment': datetime.datetime(2016, 8, 4, 8, 4, 14, 780000),\n",
      " 'city': {'name': 'city_149', 'development_index': 0.689},\n",
      " 'education': {'level': 'Graduate', 'discipline': 'STEM'},\n",
      " 'experience': {'years': 3,\n",
      "                'company_type': 'Pvt Ltd',\n",
      "                'last_new_job': 1,\n",
      "                'relevent_experience': 1},\n",
      " 'training_hours': 106}\n"
     ]
    }
   ],
   "source": [
    "# Sample document\n",
    "pp.pprint(\n",
    "    db.hr.find_one())"
   ]
  },
  {
   "cell_type": "markdown",
   "id": "ready-novelty",
   "metadata": {},
   "source": [
    "---\n",
    "---\n",
    "\n",
    "**HR document**\n",
    "\n",
    "- `enrollee_id` - Unique ID for enrollee\n",
    "\n",
    "- `gender` - Gender\n",
    "\n",
    "- `date_of_enrollment` - Date of enrollment\n",
    "\n",
    "- `city` - Embedded document related to city of enrollee.\n",
    "> - `name` - City code\n",
    "> - `development_index` - Developement index of the city\n",
    "\n",
    "- `education` - Embedded document about education of enrollee.\n",
    "> - `level` - Education level\n",
    "> - `discipline` - Major discipline\n",
    "\n",
    "- `experience` - Embedded document about working experience of enrollee.\n",
    "> - `year` - Total experience in years\n",
    "> - `company_type` - Type of current employer\n",
    "> - `last_new_job` - Difference in years between previous job and current job\n",
    "> - `relevant_experience` - Relevent experience\n",
    "\n",
    "- `training_hours` - Training hours completed\n",
    "\n",
    "----"
   ]
  },
  {
   "cell_type": "markdown",
   "id": "bizarre-germany",
   "metadata": {},
   "source": [
    "----\n",
    "### find() vs aggregate() method\n",
    "\n",
    "----\n",
    "\n",
    "`find()` method returns a cursor to the documents in a collection.\n",
    "\n",
    "-----"
   ]
  },
  {
   "cell_type": "code",
   "execution_count": 7,
   "id": "responsible-plenty",
   "metadata": {},
   "outputs": [
    {
     "name": "stdout",
     "output_type": "stream",
     "text": [
      "{'_id': ObjectId('60bc95fb12d1778df87722e2'),\n",
      " 'enrollee_id': 23798,\n",
      " 'gender': 'Male',\n",
      " 'date_of_enrollment': datetime.datetime(2016, 8, 4, 8, 4, 14, 780000),\n",
      " 'city': {'name': 'city_149', 'development_index': 0.689},\n",
      " 'education': {'level': 'Graduate', 'discipline': 'STEM'},\n",
      " 'experience': {'years': 3,\n",
      "                'company_type': 'Pvt Ltd',\n",
      "                'last_new_job': 1,\n",
      "                'relevent_experience': 1},\n",
      " 'training_hours': 106}\n"
     ]
    }
   ],
   "source": [
    "# find()\n",
    "cur = db.hr.find()\n",
    "\n",
    "for doc in cur:\n",
    "    pp.pprint(doc)\n",
    "    break"
   ]
  },
  {
   "cell_type": "markdown",
   "id": "perfect-sewing",
   "metadata": {},
   "source": [
    "---\n",
    "---\n",
    "[**aggregate method**](https://docs.mongodb.com/manual/reference/method/db.collection.aggregate/#mongodb-method-db.collection.aggregate)\n",
    "\n",
    "- The aggregate() method uses the aggregation pipeline to process documents into aggregated results. \n",
    "\n",
    "- An aggregation pipeline consists of stages with each stage processing the documents as they pass along the pipeline. \n",
    "\n",
    "- Documents pass through the stages in sequence.\n",
    "\n",
    "- It returns a cursor.\n",
    "\n",
    "**Syntax -** `db.collection.aggregate(pipeline, options)`\n",
    "\n",
    "\n",
    "---"
   ]
  },
  {
   "cell_type": "code",
   "execution_count": 8,
   "id": "alternative-hollywood",
   "metadata": {},
   "outputs": [
    {
     "data": {
      "text/plain": [
       "<pymongo.command_cursor.CommandCursor at 0x7f52085f8dd8>"
      ]
     },
     "execution_count": 8,
     "metadata": {},
     "output_type": "execute_result"
    }
   ],
   "source": [
    "# Aggregate method\n",
    "db.hr.aggregate([])"
   ]
  },
  {
   "cell_type": "code",
   "execution_count": 9,
   "id": "working-bangladesh",
   "metadata": {
    "scrolled": true
   },
   "outputs": [
    {
     "name": "stdout",
     "output_type": "stream",
     "text": [
      "{'_id': ObjectId('60bc95fb12d1778df87722e2'),\n",
      " 'enrollee_id': 23798,\n",
      " 'gender': 'Male',\n",
      " 'date_of_enrollment': datetime.datetime(2016, 8, 4, 8, 4, 14, 780000),\n",
      " 'city': {'name': 'city_149', 'development_index': 0.689},\n",
      " 'education': {'level': 'Graduate', 'discipline': 'STEM'},\n",
      " 'experience': {'years': 3,\n",
      "                'company_type': 'Pvt Ltd',\n",
      "                'last_new_job': 1,\n",
      "                'relevent_experience': 1},\n",
      " 'training_hours': 106}\n"
     ]
    }
   ],
   "source": [
    "# Iterate over the result\n",
    "cur = db.hr.aggregate([])\n",
    "\n",
    "for doc in cur:\n",
    "    pp.pprint(doc)\n",
    "    break"
   ]
  },
  {
   "cell_type": "markdown",
   "id": "professional-wealth",
   "metadata": {},
   "source": [
    "---\n",
    "### Filtering documents\n",
    "\n",
    "----\n",
    "\n",
    "Query expression within `find()` method filters the documents.\n",
    "\n",
    "For example, filter documents where the `transaction_hours` field value is 150.\n",
    "\n",
    "----"
   ]
  },
  {
   "cell_type": "code",
   "execution_count": 10,
   "id": "technical-carter",
   "metadata": {},
   "outputs": [
    {
     "name": "stdout",
     "output_type": "stream",
     "text": [
      "{'_id': ObjectId('60bc95fb12d1778df877266c'),\n",
      " 'enrollee_id': 17610,\n",
      " 'gender': 'Male',\n",
      " 'date_of_enrollment': datetime.datetime(2016, 12, 1, 17, 56, 44, 493000),\n",
      " 'city': {'name': 'city_41', 'development_index': 0.827},\n",
      " 'education': {'level': 'Graduate', 'discipline': 'No Major'},\n",
      " 'experience': {'years': 8,\n",
      "                'company_type': 'Pvt Ltd',\n",
      "                'last_new_job': 3,\n",
      "                'relevent_experience': 1},\n",
      " 'training_hours': 150}\n"
     ]
    }
   ],
   "source": [
    "# Filter documents\n",
    "cur = db.hr.find({\n",
    "                    'training_hours':150\n",
    "                })\n",
    "\n",
    "for doc in cur:\n",
    "    pp.pprint(doc)\n",
    "    break"
   ]
  },
  {
   "cell_type": "markdown",
   "id": "73cafe16-2932-443f-bc17-dba0d191b3ff",
   "metadata": {},
   "source": [
    "---\n",
    "**`$match` stage**\n",
    "\n",
    "- Filtering in aggregate pipelie is done using [$match](https://docs.mongodb.com/manual/reference/operator/aggregation/match/) stage operator. \n",
    "\n",
    "- It filters the documents on the given condition and before passing them to the next stage in the pipeline.\n",
    "\n",
    "**Syntax -** `{ $match: { <query> } }`\n",
    "\n",
    "---"
   ]
  },
  {
   "cell_type": "code",
   "execution_count": 11,
   "id": "immediate-bosnia",
   "metadata": {},
   "outputs": [
    {
     "name": "stdout",
     "output_type": "stream",
     "text": [
      "{'_id': ObjectId('60bc95fb12d1778df877266c'),\n",
      " 'enrollee_id': 17610,\n",
      " 'gender': 'Male',\n",
      " 'date_of_enrollment': datetime.datetime(2016, 12, 1, 17, 56, 44, 493000),\n",
      " 'city': {'name': 'city_41', 'development_index': 0.827},\n",
      " 'education': {'level': 'Graduate', 'discipline': 'No Major'},\n",
      " 'experience': {'years': 8,\n",
      "                'company_type': 'Pvt Ltd',\n",
      "                'last_new_job': 3,\n",
      "                'relevent_experience': 1},\n",
      " 'training_hours': 150}\n"
     ]
    }
   ],
   "source": [
    "# Filter documents using pipeline\n",
    "cur = db.hr.aggregate(\n",
    "                      # Pipeline\n",
    "                      [\n",
    "                        # Stage\n",
    "                        {\n",
    "                            '$match':{\n",
    "                                        'training_hours':150\n",
    "                                     }\n",
    "                        }\n",
    "                      ])\n",
    "\n",
    "for doc in cur:\n",
    "    pp.pprint(doc)\n",
    "    break"
   ]
  },
  {
   "cell_type": "markdown",
   "id": "rural-attitude",
   "metadata": {},
   "source": [
    "---\n",
    "### Projecting fields\n",
    "\n",
    "----\n",
    "Projection in `find()` method returns the required fields from the documents.\n",
    "\n",
    "For example, project `enrollee_id`, `training_hours`, and suppress `_id` field where the documents have `training_hours` >150.\n",
    "\n",
    "---"
   ]
  },
  {
   "cell_type": "code",
   "execution_count": 12,
   "id": "vocational-harvey",
   "metadata": {},
   "outputs": [
    {
     "name": "stdout",
     "output_type": "stream",
     "text": [
      "{'enrollee_id': 17610, 'training_hours': 150}\n"
     ]
    }
   ],
   "source": [
    "# Projecting fields\n",
    "cur = db.hr.find({\n",
    "                    'training_hours':150\n",
    "                 },\n",
    "                 {\n",
    "                     'enrollee_id':1,\n",
    "                     'training_hours':1,\n",
    "                     '_id':0\n",
    "                 }\n",
    "                )\n",
    "\n",
    "for doc in cur:\n",
    "    pp.pprint(doc)\n",
    "    break"
   ]
  },
  {
   "cell_type": "markdown",
   "id": "rural-sympathy",
   "metadata": {},
   "source": [
    "---\n",
    "**`$project` stage**\n",
    "\n",
    "- Field projection are achieved using [$project](https://docs.mongodb.com/manual/reference/operator/aggregation/project/) stage operator.\n",
    "\n",
    "-  It passes along the documents with the requested fields to the next stage in the pipeline.  \n",
    "\n",
    "**Syntax -** `{ $project: { <specification(s)> } }`\n",
    "\n",
    "----"
   ]
  },
  {
   "cell_type": "code",
   "execution_count": 13,
   "id": "swiss-junior",
   "metadata": {},
   "outputs": [
    {
     "name": "stdout",
     "output_type": "stream",
     "text": [
      "{'enrollee_id': 17610, 'training_hours': 150}\n"
     ]
    }
   ],
   "source": [
    "# Projecting document fields using pipeline\n",
    "cur = db.hr.aggregate(\n",
    "                      # Pipeline\n",
    "                      [\n",
    "                        # Stage 1\n",
    "                        {\n",
    "                            '$match':{\n",
    "                                        'training_hours':150\n",
    "                                     }\n",
    "                        },\n",
    "                        # Stage 2\n",
    "                        {\n",
    "                            '$project':{\n",
    "                                            'enrollee_id':1,\n",
    "                                            'training_hours':1,\n",
    "                                            '_id':0\n",
    "                                        }\n",
    "                        }\n",
    "                      ])\n",
    "\n",
    "for doc in cur:\n",
    "    pp.pprint(doc)\n",
    "    break"
   ]
  },
  {
   "cell_type": "markdown",
   "id": "czech-spectacular",
   "metadata": {},
   "source": [
    "----\n",
    "### Aggregation Stages\n",
    "\n",
    "----"
   ]
  },
  {
   "cell_type": "code",
   "execution_count": 14,
   "id": "convertible-hayes",
   "metadata": {},
   "outputs": [],
   "source": [
    "# Aggregation stages in pipelines\n",
    "cur = db.hr.aggregate(\n",
    "                      # Pipeline\n",
    "                      [\n",
    "                        # Stage 1\n",
    "                        {\n",
    "                            '$match':{\n",
    "                                        'training_hours':150\n",
    "                                     }\n",
    "                        },\n",
    "                        # Stage 2\n",
    "                        {\n",
    "                            '$project':{\n",
    "                                            'enrollee_id':1,\n",
    "                                            'training_hours':1,\n",
    "                                            '_id':0\n",
    "                                        }\n",
    "                        }\n",
    "                        # Aggregation Stages\n",
    "                      ])\n",
    "\n",
    "for doc in cur:\n",
    "    pp.pprint(doc)\n",
    "    break"
   ]
  },
  {
   "cell_type": "code",
   "execution_count": null,
   "id": "earlier-bradley",
   "metadata": {},
   "outputs": [],
   "source": []
  }
 ],
 "metadata": {
  "kernelspec": {
   "display_name": "Python 3 (ipykernel)",
   "language": "python",
   "name": "python3"
  },
  "language_info": {
   "codemirror_mode": {
    "name": "ipython",
    "version": 3
   },
   "file_extension": ".py",
   "mimetype": "text/x-python",
   "name": "python",
   "nbconvert_exporter": "python",
   "pygments_lexer": "ipython3",
   "version": "3.11.4"
  }
 },
 "nbformat": 4,
 "nbformat_minor": 5
}
