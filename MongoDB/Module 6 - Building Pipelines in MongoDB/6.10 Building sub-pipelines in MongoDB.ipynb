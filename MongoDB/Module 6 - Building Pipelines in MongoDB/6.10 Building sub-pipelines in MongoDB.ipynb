{
 "cells": [
  {
   "cell_type": "markdown",
   "id": "constitutional-elephant",
   "metadata": {},
   "source": [
    "# Building sub-pipelines\n",
    "\n",
    "---\n",
    "\n",
    "[$facet](https://docs.mongodb.com/manual/reference/operator/aggregation/facet/) - Processing multiple aggregation sub-pipelines within a single stage on the same set of input documents."
   ]
  },
  {
   "cell_type": "markdown",
   "id": "latest-tucson",
   "metadata": {},
   "source": [
    "---\n",
    "### Conneting to MongoDB using Pymongo\n",
    "----"
   ]
  },
  {
   "cell_type": "code",
   "execution_count": 14,
   "id": "personalized-trouble",
   "metadata": {},
   "outputs": [],
   "source": [
    "# Importing the required libraries\n",
    "import pymongo\n",
    "import pprint as pp\n",
    "\n",
    "pp.sorted = lambda x, key=None: x"
   ]
  },
  {
   "cell_type": "code",
   "execution_count": 15,
   "id": "alert-stanley",
   "metadata": {},
   "outputs": [],
   "source": [
    "# Connect to the mongo client - Atlas Cluster\n",
    "client = pymongo.MongoClient('mongodb://localhost:27017/')"
   ]
  },
  {
   "cell_type": "code",
   "execution_count": 16,
   "id": "motivated-boundary",
   "metadata": {},
   "outputs": [],
   "source": [
    "# Database\n",
    "db = client.training"
   ]
  },
  {
   "cell_type": "code",
   "execution_count": 17,
   "id": "macro-revelation",
   "metadata": {},
   "outputs": [
    {
     "name": "stdout",
     "output_type": "stream",
     "text": [
      "{'_id': ObjectId('60bc95fb12d1778df87722e2'),\n",
      " 'enrollee_id': 23798,\n",
      " 'gender': 'Male',\n",
      " 'date_of_enrollment': datetime.datetime(2016, 8, 4, 8, 4, 14, 780000),\n",
      " 'city': {'name': 'city_149', 'development_index': 0.689},\n",
      " 'education': {'level': 'Graduate', 'discipline': 'STEM'},\n",
      " 'experience': {'years': 3,\n",
      "                'company_type': 'Pvt Ltd',\n",
      "                'last_new_job': 1,\n",
      "                'relevent_experience': 1},\n",
      " 'training_hours': 106}\n"
     ]
    }
   ],
   "source": [
    "# Sample document\n",
    "pp.pprint(\n",
    "    db.hr.find_one())"
   ]
  },
  {
   "cell_type": "markdown",
   "id": "illegal-dietary",
   "metadata": {},
   "source": [
    "---\n",
    "### Question - \n",
    "\n",
    "Find average training hours delivered per year and per month after 2017.\n",
    "\n",
    "----"
   ]
  },
  {
   "cell_type": "markdown",
   "id": "valuable-russia",
   "metadata": {},
   "source": [
    "**Importing datetime library**\n",
    "\n",
    "----"
   ]
  },
  {
   "cell_type": "code",
   "execution_count": 18,
   "id": "controlled-communication",
   "metadata": {},
   "outputs": [],
   "source": [
    "# Import library\n",
    "from datetime import datetime"
   ]
  },
  {
   "cell_type": "code",
   "execution_count": 19,
   "id": "choice-crack",
   "metadata": {},
   "outputs": [
    {
     "name": "stdout",
     "output_type": "stream",
     "text": [
      "{'_id': 2018, 'avg_hours': 66.30190538764784}\n",
      "{'_id': 2020, 'avg_hours': 65.10072178477691}\n",
      "{'_id': 2019, 'avg_hours': 64.57091620476035}\n"
     ]
    }
   ],
   "source": [
    "# Question\n",
    "result = db.hr.aggregate(\n",
    "                    [\n",
    "                        # Stage 1 - Filter documents\n",
    "                        {\n",
    "                            '$match':{'date_of_enrollment':{'$gte':datetime(2018,1,1)}}\n",
    "                        },\n",
    "                        # Stage 2 - Project year\n",
    "                        {\n",
    "                            '$project':{\n",
    "                                            'Year':{'$year':'$date_of_enrollment'},\n",
    "                                            'training_hours':1\n",
    "                                        }\n",
    "                        },\n",
    "                        # Stage 3 - Group by year\n",
    "                        {\n",
    "                            '$group':{\n",
    "                                        '_id':'$Year',\n",
    "                                        'avg_hours':{'$avg':'$training_hours'}\n",
    "                                    }\n",
    "                        },\n",
    "                        # Stage 4 - Sort by avg_hours\n",
    "                        {\n",
    "                            '$sort':{'avg_hours':-1}\n",
    "                        }\n",
    "                    ]\n",
    "                )\n",
    "\n",
    "# Print result\n",
    "for doc in result:\n",
    "    pp.pprint(doc)"
   ]
  },
  {
   "cell_type": "code",
   "execution_count": 20,
   "id": "every-processor",
   "metadata": {},
   "outputs": [
    {
     "name": "stdout",
     "output_type": "stream",
     "text": [
      "{'_id': 7, 'avg_hours': 70.03066666666666}\n",
      "{'_id': 8, 'avg_hours': 68.9}\n",
      "{'_id': 9, 'avg_hours': 66.7911227154047}\n",
      "{'_id': 5, 'avg_hours': 65.59628154050465}\n",
      "{'_id': 3, 'avg_hours': 65.55583126550869}\n",
      "{'_id': 11, 'avg_hours': 65.19695044472681}\n",
      "{'_id': 2, 'avg_hours': 65.15492957746478}\n",
      "{'_id': 1, 'avg_hours': 65.0608020698577}\n",
      "{'_id': 6, 'avg_hours': 63.62234042553192}\n",
      "{'_id': 12, 'avg_hours': 62.958015267175576}\n",
      "{'_id': 10, 'avg_hours': 62.49484536082474}\n",
      "{'_id': 4, 'avg_hours': 62.420833333333334}\n"
     ]
    }
   ],
   "source": [
    "# Question\n",
    "result = db.hr.aggregate(\n",
    "                    [\n",
    "                        # Stage 1 - Filter documents\n",
    "                        {\n",
    "                            '$match':{'date_of_enrollment':{'$gte':datetime(2018,1,1)}}\n",
    "                        },\n",
    "                        # Stage 2 - Project month\n",
    "                        {\n",
    "                            '$project':{\n",
    "                                            'Month':{'$month':'$date_of_enrollment'},\n",
    "                                            'training_hours':1\n",
    "                                        }\n",
    "                        },\n",
    "                        # Stage 3 - Group by year\n",
    "                        {\n",
    "                            '$group':{\n",
    "                                        '_id':'$Month',\n",
    "                                        'avg_hours':{'$avg':'$training_hours'}\n",
    "                                    }\n",
    "                        },\n",
    "                        # Stage 4 - Sort by avg_hours\n",
    "                        {\n",
    "                            '$sort':{'avg_hours':-1}\n",
    "                        }\n",
    "                    ]\n",
    "                )\n",
    "\n",
    "# Print result\n",
    "for doc in result:\n",
    "    pp.pprint(doc)"
   ]
  },
  {
   "cell_type": "markdown",
   "id": "legendary-collar",
   "metadata": {},
   "source": [
    "---\n",
    "We couldn't have answered the query with a single group stage.\n",
    "\n",
    "----"
   ]
  },
  {
   "cell_type": "code",
   "execution_count": 21,
   "id": "organizational-operation",
   "metadata": {
    "scrolled": true
   },
   "outputs": [
    {
     "name": "stdout",
     "output_type": "stream",
     "text": [
      "{'_id': {'Year': 2018, 'Month': 8}, 'avg_hours': 73.93478260869566}\n",
      "{'_id': {'Year': 2020, 'Month': 7}, 'avg_hours': 73.05714285714286}\n",
      "{'_id': {'Year': 2018, 'Month': 1}, 'avg_hours': 70.83333333333333}\n",
      "{'_id': {'Year': 2020, 'Month': 9}, 'avg_hours': 69.48809523809524}\n",
      "{'_id': {'Year': 2019, 'Month': 7}, 'avg_hours': 69.05349794238683}\n",
      "{'_id': {'Year': 2018, 'Month': 9}, 'avg_hours': 68.99615384615385}\n",
      "{'_id': {'Year': 2018, 'Month': 4}, 'avg_hours': 68.97446808510638}\n",
      "{'_id': {'Year': 2019, 'Month': 11}, 'avg_hours': 68.6491935483871}\n",
      "{'_id': {'Year': 2018, 'Month': 7}, 'avg_hours': 68.10687022900764}\n",
      "{'_id': {'Year': 2020, 'Month': 3}, 'avg_hours': 68.01532567049809}\n",
      "{'_id': {'Year': 2019, 'Month': 12}, 'avg_hours': 67.72519083969466}\n",
      "{'_id': {'Year': 2020, 'Month': 8}, 'avg_hours': 67.69201520912547}\n",
      "{'_id': {'Year': 2019, 'Month': 5}, 'avg_hours': 67.64}\n",
      "{'_id': {'Year': 2018, 'Month': 11}, 'avg_hours': 66.71217712177122}\n",
      "{'_id': {'Year': 2020, 'Month': 5}, 'avg_hours': 66.28112449799197}\n",
      "{'_id': {'Year': 2019, 'Month': 8}, 'avg_hours': 65.97212543554006}\n",
      "{'_id': {'Year': 2020, 'Month': 2}, 'avg_hours': 65.71370967741936}\n",
      "{'_id': {'Year': 2018, 'Month': 2}, 'avg_hours': 65.51769911504425}\n",
      "{'_id': {'Year': 2018, 'Month': 3}, 'avg_hours': 64.68656716417911}\n",
      "{'_id': {'Year': 2019, 'Month': 2}, 'avg_hours': 64.22033898305085}\n",
      "{'_id': {'Year': 2019, 'Month': 3}, 'avg_hours': 64.07942238267148}\n",
      "{'_id': {'Year': 2020, 'Month': 6}, 'avg_hours': 64.06611570247934}\n",
      "{'_id': {'Year': 2019, 'Month': 6}, 'avg_hours': 63.44186046511628}\n",
      "{'_id': {'Year': 2018, 'Month': 6}, 'avg_hours': 63.38095238095238}\n",
      "{'_id': {'Year': 2020, 'Month': 1}, 'avg_hours': 63.05813953488372}\n",
      "{'_id': {'Year': 2020, 'Month': 10}, 'avg_hours': 63.01176470588236}\n",
      "{'_id': {'Year': 2018, 'Month': 5}, 'avg_hours': 62.91338582677165}\n",
      "{'_id': {'Year': 2018, 'Month': 10}, 'avg_hours': 62.81967213114754}\n",
      "{'_id': {'Year': 2020, 'Month': 12}, 'avg_hours': 61.8875968992248}\n",
      "{'_id': {'Year': 2019, 'Month': 9}, 'avg_hours': 61.85826771653543}\n",
      "{'_id': {'Year': 2019, 'Month': 10}, 'avg_hours': 61.73285198555957}\n",
      "{'_id': {'Year': 2019, 'Month': 1}, 'avg_hours': 60.55648535564853}\n",
      "{'_id': {'Year': 2020, 'Month': 11}, 'avg_hours': 60.47014925373134}\n",
      "{'_id': {'Year': 2019, 'Month': 4}, 'avg_hours': 59.690677966101696}\n",
      "{'_id': {'Year': 2018, 'Month': 12}, 'avg_hours': 59.30075187969925}\n",
      "{'_id': {'Year': 2020, 'Month': 4}, 'avg_hours': 58.82329317269076}\n"
     ]
    }
   ],
   "source": [
    "# Question\n",
    "result = db.hr.aggregate(\n",
    "                    [\n",
    "                        # Stage 1 - Filter documents\n",
    "                        {\n",
    "                            '$match':{'date_of_enrollment':{'$gte':datetime(2018,1,1)}}\n",
    "                        },\n",
    "                        # Stage 2 - Project month\n",
    "                        {\n",
    "                            '$project':{\n",
    "                                            'Year':{'$year':'$date_of_enrollment'},\n",
    "                                            'Month':{'$month':'$date_of_enrollment'},\n",
    "                                            'training_hours':1\n",
    "                                        }\n",
    "                        },\n",
    "                        # Stage 3 - Group by year\n",
    "                        {\n",
    "                            '$group':{\n",
    "                                        '_id':{\n",
    "                                                'Year':'$Year',\n",
    "                                                'Month':'$Month'\n",
    "                                                },\n",
    "                                        'avg_hours':{'$avg':'$training_hours'}\n",
    "                                    }\n",
    "                        },\n",
    "                        # Stage 4 - Sort by avg_hours\n",
    "                        {\n",
    "                            '$sort':{'avg_hours':-1}\n",
    "                        }\n",
    "                    ]\n",
    "                )\n",
    "\n",
    "# Print result\n",
    "for doc in result:\n",
    "    pp.pprint(doc)"
   ]
  },
  {
   "cell_type": "markdown",
   "id": "wrong-tutorial",
   "metadata": {},
   "source": [
    "----\n",
    "---\n",
    "**To solve these questions we had to create two separate pipelines. This means we had to fetch the same documents twice from the database. Can we combine these two pipelines together and reduce the data we have to fetch from database?**\n",
    "\n",
    "---\n",
    "----"
   ]
  },
  {
   "cell_type": "markdown",
   "id": "cutting-forth",
   "metadata": {},
   "source": [
    "---\n",
    "\n",
    "### Sub-pipelines using [$facet](https://docs.mongodb.com/manual/reference/operator/aggregation/facet/)\n",
    "\n",
    "- `$facet` allows to create multiple aggregation sub-pipelines within a single stage.\n",
    "\n",
    "- Each sub-pipeline can have multiple stages.\n",
    "\n",
    "- Same documents are passed to all sub-pipelines from the preliminary stage to `$facet`.\n",
    "\n",
    "- Output of one sub-pipeline within `$facet` is *not passed as input to the next sub-pipeline*.\n",
    "\n",
    "- This way you would not have to fetch data from database for every aggregation.\n",
    "\n",
    "- Useful for aggregating data along multiple dimensions.\n",
    "\n",
    "----\n",
    "\n",
    "**Syntax -**\n",
    "\n",
    "{ $facet:\n",
    "\n",
    "   {\n",
    "   \n",
    "      <outputField1>: [ <stage1>, <stage2>, ... ],\n",
    "      \n",
    "      <outputField2>: [ <stage1>, <stage2>, ... ],\n",
    "      ...\n",
    "\n",
    "   }\n",
    "   \n",
    "}\n",
    "\n",
    "----\n",
    "\n",
    "### Question -\n",
    "\n",
    "Finding average training hours delivered per month and per year after 2017 using a single pipeline.\n",
    "\n",
    "\n",
    "----"
   ]
  },
  {
   "cell_type": "code",
   "execution_count": 22,
   "id": "essential-divorce",
   "metadata": {},
   "outputs": [
    {
     "name": "stdout",
     "output_type": "stream",
     "text": [
      "{'Yearly_avg_hours': [{'_id': 2018, 'avg_hours': 66.30190538764784},\n",
      "                      {'_id': 2020, 'avg_hours': 65.10072178477691},\n",
      "                      {'_id': 2019, 'avg_hours': 64.57091620476035}],\n",
      " 'Monthly_avg_hours': [{'_id': 7, 'avg_hours': 70.03066666666666},\n",
      "                       {'_id': 8, 'avg_hours': 68.9},\n",
      "                       {'_id': 9, 'avg_hours': 66.7911227154047},\n",
      "                       {'_id': 5, 'avg_hours': 65.59628154050465},\n",
      "                       {'_id': 3, 'avg_hours': 65.55583126550869},\n",
      "                       {'_id': 11, 'avg_hours': 65.19695044472681},\n",
      "                       {'_id': 2, 'avg_hours': 65.15492957746478},\n",
      "                       {'_id': 1, 'avg_hours': 65.0608020698577},\n",
      "                       {'_id': 6, 'avg_hours': 63.62234042553192},\n",
      "                       {'_id': 12, 'avg_hours': 62.958015267175576},\n",
      "                       {'_id': 10, 'avg_hours': 62.49484536082474},\n",
      "                       {'_id': 4, 'avg_hours': 62.420833333333334}]}\n"
     ]
    }
   ],
   "source": [
    "# Sub-pipeline\n",
    "\n",
    "result = db.hr.aggregate(\n",
    "    \n",
    "    # Pipeline\n",
    "    [\n",
    "        # Stage 1 - Filter documents after 2017     \n",
    "        {\n",
    "            '$match':{'date_of_enrollment':{'$gte':datetime(2018,1,1)}}\n",
    "        },\n",
    "        \n",
    "        # Stage 2 - Project year and month\n",
    "        {\n",
    "            '$project':{\n",
    "                            'Year':{'$year':'$date_of_enrollment'},\n",
    "                            'Month':{'$month':'$date_of_enrollment'},\n",
    "                            'training_hours':1\n",
    "                        }\n",
    "        },\n",
    "        \n",
    "        # Stage 3 - Sub-pipelines\n",
    "        {\n",
    "            '$facet':{\n",
    "                        # Sub-pipeline 1 - Aggregate along year\n",
    "                        'Yearly_avg_hours':[\n",
    "                                                # Stage 1 - Group\n",
    "                                                {\n",
    "                                                    '$group':{\n",
    "                                                                '_id':'$Year',\n",
    "                                                                'avg_hours':{'$avg':'$training_hours'}\n",
    "                                                            }\n",
    "                                                },\n",
    "                                                # Stage 2 - Sort\n",
    "                                                {\n",
    "                                                    '$sort':{'avg_hours':-1}\n",
    "                                                }\n",
    "                                         ],\n",
    "                \n",
    "                        # Sub-pipeline 2 - Aggregate along month\n",
    "                        'Monthly_avg_hours':[\n",
    "                                                # Stage 1 - Group\n",
    "                                                {\n",
    "                                                    '$group':{\n",
    "                                                                '_id':'$Month',\n",
    "                                                                'avg_hours':{'$avg':'$training_hours'}\n",
    "                                                            }\n",
    "                                                },\n",
    "                                                # Stage 2 - Sort\n",
    "                                                {\n",
    "                                                    '$sort':{'avg_hours':-1}\n",
    "                                                }\n",
    "                                         ] \n",
    "                        }\n",
    "            }\n",
    "    ])\n",
    "\n",
    "# Print results\n",
    "for doc in result:\n",
    "    pp.pprint(doc)"
   ]
  },
  {
   "cell_type": "markdown",
   "id": "intensive-principle",
   "metadata": {},
   "source": [
    "---\n",
    "### Question - \n",
    "\n",
    "What is average quarterly and half-yearly training hours delivered for enrollees after 2017?\n",
    "\n",
    "-----"
   ]
  },
  {
   "cell_type": "code",
   "execution_count": 23,
   "id": "printable-italic",
   "metadata": {},
   "outputs": [
    {
     "name": "stdout",
     "output_type": "stream",
     "text": [
      "{'Half_Yearly_avg_hours': [{'_id': 7, 'avg_hours': 66.0318622174381},\n",
      "                           {'_id': 1, 'avg_hours': 64.59260079751883}],\n",
      " 'Quarterly_avg_hours': [{'_id': 7, 'avg_hours': 68.56576655052265},\n",
      "                         {'_id': 1, 'avg_hours': 65.26430755788554},\n",
      "                         {'_id': 4, 'avg_hours': 63.90157303370786},\n",
      "                         {'_id': 10, 'avg_hours': 63.55512984248617}]}\n"
     ]
    }
   ],
   "source": [
    "# Question\n",
    "\n",
    "result = db.hr.aggregate(\n",
    "    \n",
    "    # Pipeline\n",
    "    [\n",
    "        # Stage 1 - Filter documents    \n",
    "        {\n",
    "            '$match':{'date_of_enrollment':{'$gte':datetime(2018,1,1)}}\n",
    "        },\n",
    "        \n",
    "        # Stage 2 - Prooject fields\n",
    "        {\n",
    "            '$project':{\n",
    "                            'Month':{'$month':'$date_of_enrollment'},\n",
    "                            'training_hours':1\n",
    "                        }\n",
    "        },\n",
    "        \n",
    "        # Stage 3 - Sub-pipelines\n",
    "        {\n",
    "            '$facet':{\n",
    "                        # Sub-pipeline 1 - Half-yearly result \n",
    "                        'Half_Yearly_avg_hours':[\n",
    "                                                # Stage 1\n",
    "                                                {\n",
    "                                                    '$bucket':{\n",
    "                                                                    'groupBy': '$Month',\n",
    "                                                                    'boundaries':[1, 7,13],\n",
    "                                                                    'output':{\n",
    "                                                                                'avg_hours':{'$avg':'$training_hours'}\n",
    "                                                                            }\n",
    "                                                              }\n",
    "                                                },\n",
    "                                                # Stage 2\n",
    "                                                {\n",
    "                                                    '$sort':{'avg_hours':-1}\n",
    "                                                }\n",
    "                                             ],\n",
    "                \n",
    "                        # Sub-pipeline 2 - Quarterly result\n",
    "                        'Quarterly_avg_hours':[\n",
    "                                                # Stage 1\n",
    "                                                {\n",
    "                                                    '$bucket':{\n",
    "                                                                    'groupBy': '$Month',\n",
    "                                                                    'boundaries':[1, 4, 7, 10, 13],\n",
    "                                                                    'output':{\n",
    "                                                                                'avg_hours':{'$avg':'$training_hours'}\n",
    "                                                                            }\n",
    "                                                              }\n",
    "                                                },\n",
    "                                                # Stage 2\n",
    "                                                {\n",
    "                                                    '$sort':{'avg_hours':-1}\n",
    "                                                }\n",
    "                                             ] \n",
    "                        }\n",
    "            }\n",
    "    ])\n",
    "\n",
    "# Print results\n",
    "for doc in result:\n",
    "    pp.pprint(doc)"
   ]
  },
  {
   "cell_type": "markdown",
   "id": "every-photograph",
   "metadata": {},
   "source": [
    "----\n",
    "### Exercise - \n",
    "\n",
    "Find average training hours delivered per education discipline and per education level for enrollees who joined from 2016 ownwards using sub-pipelines.\n",
    "\n",
    "----"
   ]
  },
  {
   "cell_type": "code",
   "execution_count": null,
   "id": "separated-province",
   "metadata": {},
   "outputs": [],
   "source": []
  }
 ],
 "metadata": {
  "kernelspec": {
   "display_name": "Python 3 (ipykernel)",
   "language": "python",
   "name": "python3"
  },
  "language_info": {
   "codemirror_mode": {
    "name": "ipython",
    "version": 3
   },
   "file_extension": ".py",
   "mimetype": "text/x-python",
   "name": "python",
   "nbconvert_exporter": "python",
   "pygments_lexer": "ipython3",
   "version": "3.11.4"
  }
 },
 "nbformat": 4,
 "nbformat_minor": 5
}
