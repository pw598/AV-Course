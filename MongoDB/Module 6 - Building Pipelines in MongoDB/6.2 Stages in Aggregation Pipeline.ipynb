{
 "cells": [
  {
   "cell_type": "markdown",
   "id": "optimum-champion",
   "metadata": {},
   "source": [
    "# Stages in Aggregation Pipeline\n",
    "\n",
    "----\n",
    "\n",
    "- [$match](https://docs.mongodb.com/manual/reference/operator/aggregation/match/#-match--aggregation-) - Filters the documents to pass only the documents that match the specified condition(s) to the next pipeline stage.\n",
    "\n",
    "- [$count](https://docs.mongodb.com/manual/reference/operator/aggregation/count/) - Passes a document to the next stage that contains a count of the number of documents input to the stage.\n",
    "\n",
    "- [$skip](https://docs.mongodb.com/manual/reference/operator/aggregation/skip/) - Skips over the specified number of documents that pass into the stage. \n",
    "\n",
    "- [$limit](https://docs.mongodb.com/manual/reference/operator/aggregation/limit/) - Limits the number of documents passed to the next stage in the pipeline."
   ]
  },
  {
   "cell_type": "markdown",
   "id": "respiratory-phone",
   "metadata": {},
   "source": [
    "---\n",
    "### Connecting to MongoDB using Pymongo\n",
    "----"
   ]
  },
  {
   "cell_type": "code",
   "execution_count": 1,
   "id": "2e1599ed-fd91-407b-889b-95279fef2aa9",
   "metadata": {},
   "outputs": [],
   "source": [
    "# Importing the required libraries\n",
    "import pymongo\n",
    "import pprint as pp\n",
    "\n",
    "pp.sorted = lambda x, key=None: x"
   ]
  },
  {
   "cell_type": "code",
   "execution_count": 2,
   "id": "050ca3bc-309e-4fe8-acae-77ac677ac193",
   "metadata": {},
   "outputs": [],
   "source": [
    "# Connect to local server\n",
    "client = pymongo.MongoClient('mongodb://localhost:27017/')"
   ]
  },
  {
   "cell_type": "code",
   "execution_count": 3,
   "id": "instrumental-montgomery",
   "metadata": {},
   "outputs": [],
   "source": [
    "# training database\n",
    "db = client.training"
   ]
  },
  {
   "cell_type": "code",
   "execution_count": 4,
   "id": "7d3fb4dc-964d-46d8-a08f-2c1daef069ca",
   "metadata": {},
   "outputs": [
    {
     "name": "stdout",
     "output_type": "stream",
     "text": [
      "{'_id': ObjectId('60af5db0b2f5ad99212f9464'),\n",
      " 'enrollee_id': 23798,\n",
      " 'gender': 'Male',\n",
      " 'date_of_enrollment': datetime.datetime(2016, 1, 23, 0, 0),\n",
      " 'city': {'name': 'city_149', 'development_index': 0.689},\n",
      " 'education': {'level': 'Graduate', 'discipline': 'STEM'},\n",
      " 'experience': {'years': 3,\n",
      "                'company_type': 'Pvt Ltd',\n",
      "                'last_new_job': 1,\n",
      "                'relevent_experience': 1},\n",
      " 'training_hours': 106}\n"
     ]
    }
   ],
   "source": [
    "# Sample hr document\n",
    "pp.pprint(\n",
    "    db.hr.find_one()\n",
    ")"
   ]
  },
  {
   "cell_type": "markdown",
   "id": "73cafe16-2932-443f-bc17-dba0d191b3ff",
   "metadata": {},
   "source": [
    "---\n",
    "### **`$match` operator**\n",
    "\n",
    "[$match](https://docs.mongodb.com/manual/reference/operator/aggregation/match/) filters the documents on the given condition and before passing them to the next stage in the pipeline.\n",
    "\n",
    "**Syntax -** `{ $match: { <query> } }`\n",
    "\n",
    "----\n",
    "\n",
    "For example, we can filter and retrieve all those documents that have the `gender` field as `Female`.\n",
    "\n",
    "---"
   ]
  },
  {
   "cell_type": "code",
   "execution_count": 5,
   "id": "dcfc2e1b-2369-4217-86b9-0155f2d05d5d",
   "metadata": {},
   "outputs": [
    {
     "name": "stdout",
     "output_type": "stream",
     "text": [
      "{'_id': ObjectId('60af5db0b2f5ad99212f9469'),\n",
      " 'enrollee_id': 13342,\n",
      " 'gender': 'Female',\n",
      " 'date_of_enrollment': datetime.datetime(2020, 1, 8, 0, 0),\n",
      " 'city': {'name': 'city_21', 'development_index': 0.624},\n",
      " 'education': {'level': 'Graduate', 'discipline': 'Other'},\n",
      " 'experience': {'years': 8,\n",
      "                'company_type': 'Pvt Ltd',\n",
      "                'last_new_job': 2,\n",
      "                'relevent_experience': 1},\n",
      " 'training_hours': 34}\n"
     ]
    }
   ],
   "source": [
    "# Keeping documents where `gender` is Female using `$match` \n",
    "\n",
    "result = db.hr.aggregate(\n",
    "                                # Pipeline \n",
    "                                [\n",
    "                                    # Stage 1\n",
    "                                    {\n",
    "                                        '$match':{'gender':'Female'}\n",
    "                                    }\n",
    "                                ]\n",
    "                            )\n",
    "\n",
    "# Print result\n",
    "for doc in result:\n",
    "    pp.pprint(doc)\n",
    "    break"
   ]
  },
  {
   "cell_type": "markdown",
   "id": "4f363b65-514f-4357-9ee6-3280e6f43ae4",
   "metadata": {},
   "source": [
    "---\n",
    "---\n",
    "**We can include multiple filter conditions with `$match` within the same pipeline.**\n",
    "\n",
    "We can also query on embedded document fields.\n",
    "\n",
    "For example, we retrieve only those documents where `gender` is `Female` and `education.level` is `Masters`.\n",
    "\n",
    "---"
   ]
  },
  {
   "cell_type": "code",
   "execution_count": 6,
   "id": "7ba1e23f-02d2-4508-81d9-e4f400484b6f",
   "metadata": {},
   "outputs": [
    {
     "name": "stdout",
     "output_type": "stream",
     "text": [
      "{'_id': ObjectId('60af5db0b2f5ad99212f950e'),\n",
      " 'enrollee_id': 23114,\n",
      " 'gender': 'Female',\n",
      " 'date_of_enrollment': datetime.datetime(2017, 7, 18, 0, 0),\n",
      " 'city': {'name': 'city_160', 'development_index': 0.92},\n",
      " 'education': {'level': 'Masters', 'discipline': 'STEM'},\n",
      " 'experience': {'years': 20,\n",
      "                'company_type': nan,\n",
      "                'last_new_job': 2,\n",
      "                'relevent_experience': 1},\n",
      " 'training_hours': 92}\n"
     ]
    }
   ],
   "source": [
    "# Multiple filter conditions using `$match`\n",
    "\n",
    "result = db.hr.aggregate(\n",
    "                                # Pipeline\n",
    "                                [\n",
    "                                    # Stage 1\n",
    "                                    {\n",
    "                                        '$match':{\n",
    "                                                    'gender':'Female',\n",
    "                                                    'education.level': 'Masters'\n",
    "                                                }\n",
    "                                    }\n",
    "                                ]\n",
    "                            )\n",
    "\n",
    "# Print result\n",
    "for doc in result:\n",
    "    pp.pprint(doc)\n",
    "    break"
   ]
  },
  {
   "cell_type": "markdown",
   "id": "eda0b112-2942-4b39-a7c6-7c110dbabac1",
   "metadata": {},
   "source": [
    "---\n",
    "**Multiple stages**\n",
    "\n",
    "We can even create multiple stages for different filter conditions.\n",
    "\n",
    "For example :-\n",
    "- Stage 1 = retrieve documents where `gender` is `Female`\n",
    "- Stage 2 = retrieve documents where `eduaction.level` is `Masters`.\n",
    "\n",
    "----"
   ]
  },
  {
   "cell_type": "code",
   "execution_count": 7,
   "id": "c81a1842-6000-49c2-8358-3afe9711221b",
   "metadata": {},
   "outputs": [
    {
     "name": "stdout",
     "output_type": "stream",
     "text": [
      "{'_id': ObjectId('60af5db0b2f5ad99212f950e'),\n",
      " 'enrollee_id': 23114,\n",
      " 'gender': 'Female',\n",
      " 'date_of_enrollment': datetime.datetime(2017, 7, 18, 0, 0),\n",
      " 'city': {'name': 'city_160', 'development_index': 0.92},\n",
      " 'education': {'level': 'Masters', 'discipline': 'STEM'},\n",
      " 'experience': {'years': 20,\n",
      "                'company_type': nan,\n",
      "                'last_new_job': 2,\n",
      "                'relevent_experience': 1},\n",
      " 'training_hours': 92}\n"
     ]
    }
   ],
   "source": [
    "# Multiple filter conditions using `$match`\n",
    "\n",
    "result = db.hr.aggregate(\n",
    "                                # Pipeline\n",
    "                                [\n",
    "                                    # Stage 1\n",
    "                                    {\n",
    "                                        '$match':{'gender':'Female'}\n",
    "                                    },\n",
    "                                    # Stage 2\n",
    "                                    {\n",
    "                                        '$match':{'education.level':'Masters'}\n",
    "                                    }\n",
    "                                ]\n",
    "                            )\n",
    "\n",
    "# Print result\n",
    "for doc in result:\n",
    "    pp.pprint(doc)\n",
    "    break"
   ]
  },
  {
   "cell_type": "markdown",
   "id": "9a09a9a4-7dba-4668-999b-03de74ae4a50",
   "metadata": {},
   "source": [
    "---\n",
    "\n",
    "***Note is such a case where two `$match` stages follow each other, the two `$match` stages can get coalesced into a single `$match`. This is an [optimization](https://docs.mongodb.com/manual/core/aggregation-pipeline-optimization/#-match----match-coalescence) done by MongoDB.***\n",
    "\n",
    "---\n",
    "**Query operators can be used within `$match` operator.**\n",
    "\n",
    "For example, we retrieve documents where `gender` is `Male` and where `training_hours >= 100`.\n",
    "\n",
    "----"
   ]
  },
  {
   "cell_type": "code",
   "execution_count": 8,
   "id": "78b6ee29-6735-46d7-bd8e-68d43430bf8c",
   "metadata": {},
   "outputs": [
    {
     "name": "stdout",
     "output_type": "stream",
     "text": [
      "{'_id': ObjectId('60af5db0b2f5ad99212f9464'),\n",
      " 'enrollee_id': 23798,\n",
      " 'gender': 'Male',\n",
      " 'date_of_enrollment': datetime.datetime(2016, 1, 23, 0, 0),\n",
      " 'city': {'name': 'city_149', 'development_index': 0.689},\n",
      " 'education': {'level': 'Graduate', 'discipline': 'STEM'},\n",
      " 'experience': {'years': 3,\n",
      "                'company_type': 'Pvt Ltd',\n",
      "                'last_new_job': 1,\n",
      "                'relevent_experience': 1},\n",
      " 'training_hours': 106}\n"
     ]
    }
   ],
   "source": [
    "# Query operator can be used inside $match\n",
    "\n",
    "result = db.hr.aggregate(\n",
    "                        [\n",
    "                            # Stage 1\n",
    "                            {\n",
    "                                '$match':{\n",
    "                                            'gender':'Male',\n",
    "                                            'training_hours':{'$gte':100}\n",
    "                                        }\n",
    "                            }\n",
    "                        ]\n",
    "                    )\n",
    "\n",
    "# Print results\n",
    "for doc in result:\n",
    "    pp.pprint(doc)\n",
    "    break"
   ]
  },
  {
   "cell_type": "markdown",
   "id": "adult-richardson",
   "metadata": {},
   "source": [
    "---\n",
    "For example, we retrieve documents where `gender` is `Female` and where either `experience.years <= 5` or `experience.years >= 7`.\n",
    "\n",
    "----"
   ]
  },
  {
   "cell_type": "code",
   "execution_count": 9,
   "id": "99fbb692-a723-4c33-91f1-5205db3e99fa",
   "metadata": {},
   "outputs": [
    {
     "name": "stdout",
     "output_type": "stream",
     "text": [
      "{'_id': ObjectId('60af5db0b2f5ad99212f9469'),\n",
      " 'enrollee_id': 13342,\n",
      " 'gender': 'Female',\n",
      " 'date_of_enrollment': datetime.datetime(2020, 1, 8, 0, 0),\n",
      " 'city': {'name': 'city_21', 'development_index': 0.624},\n",
      " 'education': {'level': 'Graduate', 'discipline': 'Other'},\n",
      " 'experience': {'years': 8,\n",
      "                'company_type': 'Pvt Ltd',\n",
      "                'last_new_job': 2,\n",
      "                'relevent_experience': 1},\n",
      " 'training_hours': 34}\n"
     ]
    }
   ],
   "source": [
    "# Query operator can be used inside $match\n",
    "\n",
    "result = db.hr.aggregate(\n",
    "                    [\n",
    "                        # Stage 1\n",
    "                        {\n",
    "                            '$match':{\n",
    "                                        'gender':'Female',\n",
    "                                        '$or':[\n",
    "                                                    {'experience.years':{'$lte':5}},\n",
    "                                                    {'experience.years':{'$gte':7}}\n",
    "                                              ]\n",
    "                                    }\n",
    "                        }\n",
    "                    ]\n",
    "                )\n",
    "\n",
    "\n",
    "# Print results\n",
    "for doc in result:\n",
    "    pp.pprint(doc)\n",
    "    break"
   ]
  },
  {
   "cell_type": "markdown",
   "id": "88c0faad-f186-4e63-82d4-485a832d75f5",
   "metadata": {},
   "source": [
    "---\n",
    "**Note -**\n",
    "- `$match` operator should come as early in the pipeline as possible.\n",
    "- Since `$match` filters the documents, it reduces the number of documents to work upon in the subsequent stages.\n",
    "\n",
    "----"
   ]
  },
  {
   "cell_type": "markdown",
   "id": "a33b43fc-c6df-454d-bf3c-4974c2472407",
   "metadata": {},
   "source": [
    "----\n",
    "### `$count` stage\n",
    "\n",
    "[$count](https://docs.mongodb.com/manual/reference/operator/aggregation/count/) aggregation pipeline operator returns the count of the documents to the next stage of pipeline.\n",
    "\n",
    "We can provide name of the output field as string.\n",
    "\n",
    "**Syntax -** `{ $count: <string> }`\n",
    "\n",
    "----\n",
    "\n",
    "For example, we can count number of documents in `hr` collection.\n",
    "\n",
    "----"
   ]
  },
  {
   "cell_type": "code",
   "execution_count": 2,
   "id": "scientific-community",
   "metadata": {
    "tags": []
   },
   "outputs": [
    {
     "ename": "NameError",
     "evalue": "name 'db' is not defined",
     "output_type": "error",
     "traceback": [
      "\u001b[1;31m---------------------------------------------------------------------------\u001b[0m",
      "\u001b[1;31mNameError\u001b[0m                                 Traceback (most recent call last)",
      "Cell \u001b[1;32mIn[2], line 3\u001b[0m\n\u001b[0;32m      1\u001b[0m \u001b[38;5;66;03m# Count documents\u001b[39;00m\n\u001b[1;32m----> 3\u001b[0m result \u001b[38;5;241m=\u001b[39m db\u001b[38;5;241m.\u001b[39mhr\u001b[38;5;241m.\u001b[39maggregate(\n\u001b[0;32m      4\u001b[0m                             [\n\u001b[0;32m      5\u001b[0m                                 \u001b[38;5;66;03m# Stage 1\u001b[39;00m\n\u001b[0;32m      6\u001b[0m                                 {\n\u001b[0;32m      7\u001b[0m                                     \u001b[38;5;124m'\u001b[39m\u001b[38;5;124m$count\u001b[39m\u001b[38;5;124m'\u001b[39m: \u001b[38;5;124m'\u001b[39m\u001b[38;5;124mTotal_docs\u001b[39m\u001b[38;5;124m'\u001b[39m\n\u001b[0;32m      8\u001b[0m                                 }\n\u001b[0;32m      9\u001b[0m                             ])\n\u001b[0;32m     11\u001b[0m \u001b[38;5;66;03m# Print results\u001b[39;00m\n\u001b[0;32m     12\u001b[0m \u001b[38;5;28;01mfor\u001b[39;00m doc \u001b[38;5;129;01min\u001b[39;00m result:\n",
      "\u001b[1;31mNameError\u001b[0m: name 'db' is not defined"
     ]
    }
   ],
   "source": [
    "# Count documents\n",
    "\n",
    "result = db.hr.aggregate(\n",
    "                            [\n",
    "                                # Stage 1\n",
    "                                {\n",
    "                                    '$count': 'Total_docs'\n",
    "                                }\n",
    "                            ])\n",
    "\n",
    "# Print results\n",
    "for doc in result:\n",
    "    pp.pprint(doc)"
   ]
  },
  {
   "cell_type": "markdown",
   "id": "successful-narrow",
   "metadata": {},
   "source": [
    "---\n",
    "Compare it to `count()` that we used in querying.\n",
    "\n",
    "---"
   ]
  },
  {
   "cell_type": "code",
   "execution_count": 11,
   "id": "forty-academy",
   "metadata": {},
   "outputs": [
    {
     "name": "stderr",
     "output_type": "stream",
     "text": [
      "/home/avadmin/.local/lib/python3.7/site-packages/ipykernel_launcher.py:2: DeprecationWarning: count is deprecated. Use Collection.count_documents instead.\n",
      "  \n"
     ]
    },
    {
     "data": {
      "text/plain": [
       "18359"
      ]
     },
     "execution_count": 11,
     "metadata": {},
     "output_type": "execute_result"
    }
   ],
   "source": [
    "# Count documents\n",
    "db.hr.find().count()"
   ]
  },
  {
   "cell_type": "markdown",
   "id": "spanish-member",
   "metadata": {},
   "source": [
    "---\n",
    "For example, we can retrieve all the documents where the `gender` is `Female` and then count the number of documents that are retrieved.\n",
    "\n",
    "\n",
    "---"
   ]
  },
  {
   "cell_type": "code",
   "execution_count": 12,
   "id": "662ac0c2-49b9-4ca8-9901-5b11612a7312",
   "metadata": {},
   "outputs": [
    {
     "name": "stdout",
     "output_type": "stream",
     "text": [
      "{'Female_candidates': 1188}\n"
     ]
    }
   ],
   "source": [
    "# Count filtered documents\n",
    "\n",
    "result = db.hr.aggregate(\n",
    "                            [\n",
    "                                # Stage 1 - filter\n",
    "                                {\n",
    "                                    '$match':{'gender':'Female'}\n",
    "                                },\n",
    "                                # Stage 2 - count\n",
    "                                {\n",
    "                                    '$count': 'Female_candidates'\n",
    "                                }\n",
    "                            ])\n",
    "\n",
    "# Print results\n",
    "for doc in result:\n",
    "    pp.pprint(doc)"
   ]
  },
  {
   "cell_type": "markdown",
   "id": "chubby-script",
   "metadata": {},
   "source": [
    "----\n",
    "### `$skip` stage\n",
    "\n",
    "[$skip](https://docs.mongodb.com/manual/reference/operator/aggregation/skip/) stage operator skips over the specified number of documents that pass into the stage. \n",
    "\n",
    "Passes the remaining documents to the next stage in the pipeline.\n",
    "\n",
    "**Syntax -** `{ $skip: <positive integer> }`\n",
    "\n",
    "----\n",
    "\n",
    "For example, we can skip a few documents and check the count of the documents returned.\n",
    "\n",
    "----"
   ]
  },
  {
   "cell_type": "code",
   "execution_count": 13,
   "id": "attempted-merchandise",
   "metadata": {},
   "outputs": [
    {
     "name": "stdout",
     "output_type": "stream",
     "text": [
      "{'Total_docs': 18359}\n"
     ]
    }
   ],
   "source": [
    "# Count documents\n",
    "\n",
    "result = db.hr.aggregate(\n",
    "                            [\n",
    "                                # Stage 1\n",
    "                                {\n",
    "                                    '$count': 'Total_docs'\n",
    "                                }\n",
    "                            ])\n",
    "\n",
    "# Print results\n",
    "for doc in result:\n",
    "    pp.pprint(doc)"
   ]
  },
  {
   "cell_type": "code",
   "execution_count": 14,
   "id": "cubic-table",
   "metadata": {},
   "outputs": [
    {
     "name": "stdout",
     "output_type": "stream",
     "text": [
      "{'Altered_count': 18349}\n"
     ]
    }
   ],
   "source": [
    "# Skip documents\n",
    "\n",
    "result = db.hr.aggregate(\n",
    "                            [\n",
    "                                # Stage 1 - skip\n",
    "                                {\n",
    "                                    '$skip': 10\n",
    "                                },\n",
    "                                # Stage 2 - count\n",
    "                                {\n",
    "                                    '$count': 'Altered_count'\n",
    "                                }\n",
    "                            ])\n",
    "\n",
    "# Print results\n",
    "for doc in result:\n",
    "    pp.pprint(doc)"
   ]
  },
  {
   "cell_type": "markdown",
   "id": "hybrid-atlas",
   "metadata": {},
   "source": [
    "----\n",
    "### `$limit` stage\n",
    "\n",
    "[$limit](https://docs.mongodb.com/manual/reference/operator/aggregation/limit/) stage operator limits the number of documents passed to the next stage in the pipeline.\n",
    "\n",
    "**Syntax -** `{ $limit: <positive integer> }`\n",
    "\n",
    "----\n",
    "\n",
    "For example, return only the top 5 documents from collection where `gender` is `Other`.\n",
    "\n",
    "----"
   ]
  },
  {
   "cell_type": "code",
   "execution_count": 23,
   "id": "reliable-remains",
   "metadata": {},
   "outputs": [
    {
     "name": "stdout",
     "output_type": "stream",
     "text": [
      "{'_id': ObjectId('60af5db0b2f5ad99212f94c3'),\n",
      " 'enrollee_id': 27425,\n",
      " 'gender': 'Other',\n",
      " 'date_of_enrollment': datetime.datetime(2017, 4, 10, 0, 0),\n",
      " 'city': {'name': 'city_75', 'development_index': 0.939},\n",
      " 'education': {'level': 'Graduate', 'discipline': 'STEM'},\n",
      " 'experience': {'years': 16,\n",
      "                'company_type': nan,\n",
      "                'last_new_job': 0,\n",
      "                'relevent_experience': 1},\n",
      " 'training_hours': 34}\n",
      "{'_id': ObjectId('60af5db0b2f5ad99212f94d5'),\n",
      " 'enrollee_id': 15775,\n",
      " 'gender': 'Other',\n",
      " 'date_of_enrollment': datetime.datetime(2019, 3, 19, 0, 0),\n",
      " 'city': {'name': 'city_103', 'development_index': 0.92},\n",
      " 'education': {'level': 'Graduate', 'discipline': 'Arts'},\n",
      " 'experience': {'years': 4,\n",
      "                'company_type': 'Funded Startup',\n",
      "                'last_new_job': 1,\n",
      "                'relevent_experience': 1},\n",
      " 'training_hours': 31}\n",
      "{'_id': ObjectId('60af5db0b2f5ad99212f9566'),\n",
      " 'enrollee_id': 13501,\n",
      " 'gender': 'Other',\n",
      " 'date_of_enrollment': datetime.datetime(2020, 5, 22, 0, 0),\n",
      " 'city': {'name': 'city_90', 'development_index': 0.698},\n",
      " 'education': {'level': 'Graduate', 'discipline': 'STEM'},\n",
      " 'experience': {'years': 7,\n",
      "                'company_type': 'Public Sector',\n",
      "                'last_new_job': 4,\n",
      "                'relevent_experience': 1},\n",
      " 'training_hours': 11}\n",
      "{'_id': ObjectId('60af5db0b2f5ad99212f9575'),\n",
      " 'enrollee_id': 12410,\n",
      " 'gender': 'Other',\n",
      " 'date_of_enrollment': datetime.datetime(2019, 7, 29, 0, 0),\n",
      " 'city': {'name': 'city_159', 'development_index': 0.843},\n",
      " 'education': {'level': 'High School', 'discipline': 'Other'},\n",
      " 'experience': {'years': 1,\n",
      "                'company_type': nan,\n",
      "                'last_new_job': 0,\n",
      "                'relevent_experience': 0},\n",
      " 'training_hours': 6}\n",
      "{'_id': ObjectId('60af5db0b2f5ad99212f95b5'),\n",
      " 'enrollee_id': 14528,\n",
      " 'gender': 'Other',\n",
      " 'date_of_enrollment': datetime.datetime(2016, 4, 18, 0, 0),\n",
      " 'city': {'name': 'city_100', 'development_index': 0.887},\n",
      " 'education': {'level': 'High School', 'discipline': 'Other'},\n",
      " 'experience': {'years': 2,\n",
      "                'company_type': nan,\n",
      "                'last_new_job': 0,\n",
      "                'relevent_experience': 0},\n",
      " 'training_hours': 11}\n"
     ]
    }
   ],
   "source": [
    "# Limit documents\n",
    "\n",
    "result = db.hr.aggregate(\n",
    "                            [\n",
    "                                # Stage 1 - Filter\n",
    "                                {\n",
    "                                    '$match':{'gender':'Other'}\n",
    "                                },\n",
    "                                 # Stage 2 - limit\n",
    "                                {\n",
    "                                    '$limit': 5\n",
    "                                }\n",
    "                            ])\n",
    "\n",
    "# Print results\n",
    "for doc in result:\n",
    "    pp.pprint(doc)"
   ]
  },
  {
   "cell_type": "markdown",
   "id": "whole-watts",
   "metadata": {},
   "source": [
    "---\n",
    "----\n",
    "### Question -\n",
    "\n",
    "Count the number of enrollees that are from `STEM discipline`.\n",
    "\n",
    "---"
   ]
  },
  {
   "cell_type": "code",
   "execution_count": 16,
   "id": "d2158e54-1053-47a5-8c02-115017844b94",
   "metadata": {},
   "outputs": [
    {
     "name": "stdout",
     "output_type": "stream",
     "text": [
      "{'STEM_students_count': 13738}\n"
     ]
    }
   ],
   "source": [
    "# Question\n",
    "result = db.hr.aggregate(\n",
    "                            [\n",
    "                                # Stage 1\n",
    "                                {\n",
    "                                    '$match': {'education.discipline': 'STEM'}\n",
    "                                },\n",
    "                                # Stage 2\n",
    "                                {\n",
    "                                    '$count': 'STEM_students_count'\n",
    "                                }\n",
    "                            ]\n",
    "    )\n",
    "\n",
    "for doc in result:\n",
    "    pp.pprint(doc)"
   ]
  },
  {
   "cell_type": "markdown",
   "id": "north-headset",
   "metadata": {},
   "source": [
    "----\n",
    "### Question - \n",
    "\n",
    "How many enrollees have either an experience of more than 5 years or an education level as either Graduate, Masters, or Phd?\n",
    "\n",
    "----"
   ]
  },
  {
   "cell_type": "code",
   "execution_count": 17,
   "id": "verified-berry",
   "metadata": {},
   "outputs": [
    {
     "data": {
      "text/plain": [
       "['Graduate', 'High School', 'Masters', 'Phd', 'Primary School']"
      ]
     },
     "execution_count": 17,
     "metadata": {},
     "output_type": "execute_result"
    }
   ],
   "source": [
    "# Distinct education levels\n",
    "db.hr.distinct('education.level')"
   ]
  },
  {
   "cell_type": "code",
   "execution_count": 18,
   "id": "33cd0682-2623-4706-9a2c-091e07daa192",
   "metadata": {},
   "outputs": [
    {
     "name": "stdout",
     "output_type": "stream",
     "text": [
      "{'Answer': 17019}\n"
     ]
    }
   ],
   "source": [
    "# Question\n",
    "result = db.hr.aggregate(\n",
    "        [\n",
    "            # Stage 1\n",
    "            {\n",
    "                '$match': {\n",
    "                            '$or':[\n",
    "                                    {'experience.years':{'$gt':5}},\n",
    "                                    {\n",
    "                                        'education.level':{\n",
    "                                                            '$in': ['Graduate',\n",
    "                                                                    'Masters',\n",
    "                                                                    'Phd']\n",
    "                                                        }\n",
    "                                    }\n",
    "                                  ]\n",
    "                }\n",
    "            },\n",
    "            # Stage 2\n",
    "            {\n",
    "                '$count': 'Answer'\n",
    "            }\n",
    "        ]\n",
    "    )\n",
    "\n",
    "for doc in result:\n",
    "    pp.pprint(doc)"
   ]
  },
  {
   "cell_type": "markdown",
   "id": "valuable-anxiety",
   "metadata": {},
   "source": [
    "----\n",
    "----\n",
    "### Exercise 1 - \n",
    "\n",
    "How many female enrollees with experience of less than 5 years work for an NGO?\n",
    "\n",
    "----"
   ]
  },
  {
   "cell_type": "markdown",
   "id": "celtic-glasgow",
   "metadata": {},
   "source": [
    "----\n",
    "### Exercise 2 - \n",
    "\n",
    "How many enrollees have either a relevant experience of at least 1 year or more than 100 hours of training?\n",
    "\n",
    "----"
   ]
  },
  {
   "cell_type": "code",
   "execution_count": null,
   "id": "thick-bachelor",
   "metadata": {},
   "outputs": [],
   "source": []
  }
 ],
 "metadata": {
  "kernelspec": {
   "display_name": "Python 3 (ipykernel)",
   "language": "python",
   "name": "python3"
  },
  "language_info": {
   "codemirror_mode": {
    "name": "ipython",
    "version": 3
   },
   "file_extension": ".py",
   "mimetype": "text/x-python",
   "name": "python",
   "nbconvert_exporter": "python",
   "pygments_lexer": "ipython3",
   "version": "3.11.4"
  }
 },
 "nbformat": 4,
 "nbformat_minor": 5
}
