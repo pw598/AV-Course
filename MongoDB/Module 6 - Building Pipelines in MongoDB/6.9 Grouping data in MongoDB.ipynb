{
 "cells": [
  {
   "cell_type": "markdown",
   "id": "bebe6708-4f3d-47d9-b529-68e0099c91ca",
   "metadata": {},
   "source": [
    "# Grouping data in MongoDB\n",
    "\n",
    "----\n",
    "\n",
    "- [$group](https://docs.mongodb.com/manual/reference/operator/aggregation/group/) - Groups the documents as per the specified condition.\n",
    "\n",
    "- [Accumulator operators](https://docs.mongodb.com/manual/reference/operator/aggregation/group/#accumulator-operator) - Can be used along with `$group` operator to define an expression.\n",
    "\n",
    "- [$bucket](https://docs.mongodb.com/manual/reference/operator/aggregation/bucket/#-bucket--aggregation-) - Categories documents into several groups, or buckets. The operations are then performed on each of these bucket.\n"
   ]
  },
  {
   "cell_type": "markdown",
   "id": "documented-graduate",
   "metadata": {},
   "source": [
    "---\n",
    "### Connecting to MongoDB using Pymongo\n",
    "----"
   ]
  },
  {
   "cell_type": "code",
   "execution_count": 1,
   "id": "nonprofit-factor",
   "metadata": {},
   "outputs": [],
   "source": [
    "# Importing the required libraries\n",
    "import pymongo\n",
    "import pprint as pp\n",
    "\n",
    "pp.sorted = lambda x, key=None: x"
   ]
  },
  {
   "cell_type": "code",
   "execution_count": 2,
   "id": "clear-collector",
   "metadata": {},
   "outputs": [],
   "source": [
    "# Connect to the mongo client - Atlas Cluster\n",
    "client = pymongo.MongoClient('mongodb://localhost:27017/')"
   ]
  },
  {
   "cell_type": "code",
   "execution_count": 3,
   "id": "lucky-episode",
   "metadata": {},
   "outputs": [],
   "source": [
    "# training dataset\n",
    "db = client.training"
   ]
  },
  {
   "cell_type": "code",
   "execution_count": 4,
   "id": "29eeaf23-e1d5-454f-aadf-4065c99ca09e",
   "metadata": {
    "scrolled": true
   },
   "outputs": [
    {
     "name": "stdout",
     "output_type": "stream",
     "text": [
      "{'_id': ObjectId('60bc95fb12d1778df87722e2'),\n",
      " 'enrollee_id': 23798,\n",
      " 'gender': 'Male',\n",
      " 'date_of_enrollment': datetime.datetime(2016, 8, 4, 8, 4, 14, 780000),\n",
      " 'city': {'name': 'city_149', 'development_index': 0.689},\n",
      " 'education': {'level': 'Graduate', 'discipline': 'STEM'},\n",
      " 'experience': {'years': 3,\n",
      "                'company_type': 'Pvt Ltd',\n",
      "                'last_new_job': 1,\n",
      "                'relevent_experience': 1},\n",
      " 'training_hours': 106}\n"
     ]
    }
   ],
   "source": [
    "# Sample data\n",
    "pp.pprint(\n",
    "    db.hr.find_one()\n",
    ")"
   ]
  },
  {
   "cell_type": "markdown",
   "id": "ad9b0b56-6b2c-4a8a-94d4-6ce6cb91220a",
   "metadata": {},
   "source": [
    "---\n",
    "---\n",
    "### $group stage\n",
    "\n",
    "[$group](https://docs.mongodb.com/manual/reference/operator/aggregation/group/) groups the documents as per the specified condition.\n",
    "\n",
    "- Groups input documents by the specified *_id* expression and for each distinct grouping, outputs a document. \n",
    "\n",
    "- The *_id* expression of specifies the field to group the documents on.\n",
    "\n",
    "- The *_id* field of each output document contains the unique group by value. \n",
    "\n",
    "- The output documents contain computed fields that hold the values of some [accumulator expression](https://docs.mongodb.com/manual/reference/operator/aggregation/group/#accumulator-operator).\n",
    "\n",
    "\n",
    "**Syntax -**\n",
    "\n",
    "`{$group:{_id: <expression>,<field1>: { <accumulator1> : <expression1> },...}}`\n",
    " \n",
    " \n",
    " ---\n",
    " \n",
    " For example, group documents on `education.discipline`.\n",
    " \n",
    " ----"
   ]
  },
  {
   "cell_type": "code",
   "execution_count": 5,
   "id": "monthly-organizer",
   "metadata": {},
   "outputs": [
    {
     "name": "stdout",
     "output_type": "stream",
     "text": [
      "{'_id': 'Business Degree'}\n",
      "{'_id': 'No Major'}\n",
      "{'_id': 'Arts'}\n",
      "{'_id': 'Other'}\n",
      "{'_id': 'STEM'}\n",
      "{'_id': 'Humanities'}\n"
     ]
    }
   ],
   "source": [
    "# Group on a field\n",
    "cur = db.hr.aggregate([\n",
    "                        # Stage 1 - Group\n",
    "                        {\n",
    "                            '$group': {\n",
    "                                        # Field to group on\n",
    "                                        '_id': '$education.discipline'\n",
    "                                        }\n",
    "                        }\n",
    "                    ])\n",
    "\n",
    "for doc in cur:\n",
    "    pp.pprint(doc)"
   ]
  },
  {
   "cell_type": "markdown",
   "id": "be6a57af-5fbb-4d8f-917c-27d1de05c0ce",
   "metadata": {},
   "source": [
    "---\n",
    "### [Accumulator operators](https://docs.mongodb.com/manual/reference/operator/aggregation/group/#accumulator-operator) \n",
    "\n",
    "Accumulator operators can be used along with `$group` operator to define an expression.\n",
    "\n",
    "----\n",
    "For example, group documents by the `education.discipline` field and take the average of the `training_hours` field. Here we have to make use of the `$avg` accumulator operator.\n",
    "\n",
    "---"
   ]
  },
  {
   "cell_type": "code",
   "execution_count": 6,
   "id": "53d67106-a0bd-4687-a43d-9866c7bc6aa8",
   "metadata": {
    "scrolled": true
   },
   "outputs": [
    {
     "name": "stdout",
     "output_type": "stream",
     "text": [
      "{'_id': 'Business Degree', 'avg_hours': 64.59609120521172}\n",
      "{'_id': 'No Major', 'avg_hours': 64.92718446601941}\n",
      "{'_id': 'Arts', 'avg_hours': 62.0}\n",
      "{'_id': 'Other', 'avg_hours': 66.65073876139579}\n",
      "{'_id': 'STEM', 'avg_hours': 65.80615810161595}\n",
      "{'_id': 'Humanities', 'avg_hours': 66.50436046511628}\n"
     ]
    }
   ],
   "source": [
    "# Group on a field\n",
    "cur = db.hr.aggregate([\n",
    "                        {\n",
    "                            '$group': {\n",
    "                                        # Field to group on\n",
    "                                        '_id': '$education.discipline',\n",
    "                                        # Accumulator expression\n",
    "                                        'avg_hours':{'$avg':'$training_hours'}\n",
    "                            }\n",
    "                        }\n",
    "                    ])\n",
    "\n",
    "for doc in cur:\n",
    "    pp.pprint(doc)"
   ]
  },
  {
   "cell_type": "code",
   "execution_count": 7,
   "id": "individual-attachment",
   "metadata": {},
   "outputs": [
    {
     "name": "stdout",
     "output_type": "stream",
     "text": [
      "{'_id': 'Business Degree', 'avg_hours': 307}\n",
      "{'_id': 'No Major', 'avg_hours': 206}\n",
      "{'_id': 'Arts', 'avg_hours': 239}\n",
      "{'_id': 'Other', 'avg_hours': 3181}\n",
      "{'_id': 'STEM', 'avg_hours': 13738}\n",
      "{'_id': 'Humanities', 'avg_hours': 688}\n"
     ]
    }
   ],
   "source": [
    "# Group on a field\n",
    "cur = db.hr.aggregate([\n",
    "                        {\n",
    "                            '$group': {\n",
    "                                        # Field to group on\n",
    "                                        '_id': '$education.discipline',\n",
    "                                        # Accumulator expression\n",
    "                                        'avg_hours':{'$sum':1}\n",
    "                            }\n",
    "                        }\n",
    "                    ])\n",
    "\n",
    "for doc in cur:\n",
    "    pp.pprint(doc)"
   ]
  },
  {
   "cell_type": "markdown",
   "id": "quiet-energy",
   "metadata": {},
   "source": [
    "---\n",
    "To retrieve the maximum training hours, we can use the `$max` accumulator operator.\n",
    "\n",
    "----"
   ]
  },
  {
   "cell_type": "code",
   "execution_count": 7,
   "id": "serious-sharing",
   "metadata": {},
   "outputs": [
    {
     "name": "stdout",
     "output_type": "stream",
     "text": [
      "{'_id': 'STEM', 'max_hours': 336}\n",
      "{'_id': 'Business Degree', 'max_hours': 312}\n",
      "{'_id': 'Humanities', 'max_hours': 336}\n",
      "{'_id': 'Other', 'max_hours': 336}\n",
      "{'_id': 'No Major', 'max_hours': 314}\n",
      "{'_id': 'Arts', 'max_hours': 322}\n"
     ]
    }
   ],
   "source": [
    "# Group on a field\n",
    "\n",
    "cur = db.hr.aggregate([\n",
    "                        {\n",
    "                            '$group': {\n",
    "                                        # Field to group on\n",
    "                                        '_id': '$education.discipline',\n",
    "                                        # Accumulator expression\n",
    "                                        'max_hours':{'$max':'$training_hours'}\n",
    "                                    }\n",
    "                        }\n",
    "                    ])\n",
    "\n",
    "for doc in cur:\n",
    "    pp.pprint(doc)"
   ]
  },
  {
   "cell_type": "markdown",
   "id": "reasonable-ordinance",
   "metadata": {},
   "source": [
    "---\n",
    "We can even define multiple accumulator expression on the grouped data.\n",
    "\n",
    "----"
   ]
  },
  {
   "cell_type": "code",
   "execution_count": 8,
   "id": "taken-tracy",
   "metadata": {},
   "outputs": [
    {
     "name": "stdout",
     "output_type": "stream",
     "text": [
      "{'_id': 'STEM', 'max_hours': 336, 'min_hours': 1}\n",
      "{'_id': 'Business Degree', 'max_hours': 312, 'min_hours': 1}\n",
      "{'_id': 'Humanities', 'max_hours': 336, 'min_hours': 1}\n",
      "{'_id': 'Other', 'max_hours': 336, 'min_hours': 1}\n",
      "{'_id': 'No Major', 'max_hours': 314, 'min_hours': 2}\n",
      "{'_id': 'Arts', 'max_hours': 322, 'min_hours': 2}\n"
     ]
    }
   ],
   "source": [
    "# Multiple accumulator expressions\n",
    "\n",
    "cur = db.hr.aggregate([\n",
    "                        {\n",
    "                            '$group': {\n",
    "                                        # Field to group on\n",
    "                                        '_id': '$education.discipline',\n",
    "                                        # Accumulator expression\n",
    "                                        'max_hours':{'$max':'$training_hours'},\n",
    "                                        'min_hours':{'$min':'$training_hours'}\n",
    "                                    }\n",
    "                        }\n",
    "                    ])\n",
    "\n",
    "for doc in cur:\n",
    "    pp.pprint(doc)"
   ]
  },
  {
   "cell_type": "markdown",
   "id": "e38ba7be-713c-4c9f-8b0a-79875ca0a724",
   "metadata": {},
   "source": [
    "---\n",
    "**We can even group on multiple fields from the documents.**\n",
    "\n",
    "For example, group documents by `education.level` and `education.discipline` fields and determine the average `training_hours`.\n",
    "\n",
    "----"
   ]
  },
  {
   "cell_type": "code",
   "execution_count": 9,
   "id": "f3a5b77d-d29c-4efd-9344-7c6d16baf8bb",
   "metadata": {
    "collapsed": true,
    "jupyter": {
     "outputs_hidden": true
    },
    "scrolled": true,
    "tags": []
   },
   "outputs": [
    {
     "name": "stdout",
     "output_type": "stream",
     "text": [
      "{'_id': {'Level': 'Graduate', 'Discipline': 'Other'},\n",
      " 'avg_hours': 69.68888888888888}\n",
      "{'_id': {'Level': 'Phd', 'Discipline': 'STEM'}, 'avg_hours': 69.04106280193237}\n",
      "{'_id': {'Level': 'Masters', 'Discipline': 'No Major'},\n",
      " 'avg_hours': 51.03448275862069}\n",
      "{'_id': {'Level': 'Graduate', 'Discipline': 'Humanities'},\n",
      " 'avg_hours': 66.4696261682243}\n",
      "{'_id': {'Level': 'Phd', 'Discipline': 'Other'}, 'avg_hours': 43.55555555555556}\n",
      "{'_id': {'Level': 'High School', 'Discipline': 'Other'},\n",
      " 'avg_hours': 66.24753937007874}\n",
      "{'_id': {'Level': 'Phd', 'Discipline': 'Humanities'},\n",
      " 'avg_hours': 75.37037037037037}\n",
      "{'_id': {'Level': 'Graduate', 'Discipline': 'STEM'},\n",
      " 'avg_hours': 66.41476014760147}\n",
      "{'_id': {'Level': 'Primary School', 'Discipline': 'Other'},\n",
      " 'avg_hours': 65.61609907120743}\n",
      "{'_id': {'Level': 'Masters', 'Discipline': 'STEM'},\n",
      " 'avg_hours': 63.953633758791355}\n",
      "{'_id': {'Level': 'Graduate', 'Discipline': 'Arts'},\n",
      " 'avg_hours': 62.35820895522388}\n",
      "{'_id': {'Level': 'Phd', 'Discipline': 'Business Degree'}, 'avg_hours': 64.2}\n",
      "{'_id': {'Level': 'Graduate', 'Discipline': 'Business Degree'},\n",
      " 'avg_hours': 65.71627906976744}\n",
      "{'_id': {'Level': 'Phd', 'Discipline': 'Arts'}, 'avg_hours': 44.5}\n",
      "{'_id': {'Level': 'Masters', 'Discipline': 'Arts'},\n",
      " 'avg_hours': 61.94117647058823}\n",
      "{'_id': {'Level': 'Graduate', 'Discipline': 'No Major'},\n",
      " 'avg_hours': 67.20338983050847}\n",
      "{'_id': {'Level': 'Masters', 'Discipline': 'Other'},\n",
      " 'avg_hours': 58.134020618556704}\n",
      "{'_id': {'Level': 'Masters', 'Discipline': 'Business Degree'},\n",
      " 'avg_hours': 61.85057471264368}\n",
      "{'_id': {'Level': 'Masters', 'Discipline': 'Humanities'},\n",
      " 'avg_hours': 65.54077253218884}\n"
     ]
    }
   ],
   "source": [
    "# Group on fields\n",
    "\n",
    "cur = db.hr.aggregate(\n",
    "            [\n",
    "                {\n",
    "                    '$group': {\n",
    "                                # Fields to group on\n",
    "                                '_id': {\n",
    "                                            'Level':'$education.level',\n",
    "                                            'Discipline':'$education.discipline'\n",
    "                                        },\n",
    "                                # Accumulator expression\n",
    "                                'avg_hours':{'$avg':'$training_hours'}\n",
    "                    }\n",
    "                }\n",
    "            ])\n",
    "\n",
    "for doc in cur:\n",
    "    pp.pprint(doc)"
   ]
  },
  {
   "cell_type": "markdown",
   "id": "interpreted-flesh",
   "metadata": {},
   "source": [
    "----\n",
    "**We can group and then sort the results.**\n",
    "\n",
    "For example, group documents by `education.level` and `education.discipline` fields and determine the total number of reviews `training_hours`. Then return the documents in decreasing order their average training hours.\n",
    "\n",
    "----"
   ]
  },
  {
   "cell_type": "code",
   "execution_count": 10,
   "id": "unsigned-oklahoma",
   "metadata": {
    "scrolled": true
   },
   "outputs": [
    {
     "name": "stdout",
     "output_type": "stream",
     "text": [
      "{'_id': {'Level': 'Phd', 'Discipline': 'Humanities'},\n",
      " 'avg_hours': 75.37037037037037}\n",
      "{'_id': {'Level': 'Graduate', 'Discipline': 'Other'},\n",
      " 'avg_hours': 69.68888888888888}\n",
      "{'_id': {'Level': 'Phd', 'Discipline': 'STEM'}, 'avg_hours': 69.04106280193237}\n",
      "{'_id': {'Level': 'Graduate', 'Discipline': 'No Major'},\n",
      " 'avg_hours': 67.20338983050847}\n",
      "{'_id': {'Level': 'Graduate', 'Discipline': 'Humanities'},\n",
      " 'avg_hours': 66.4696261682243}\n",
      "{'_id': {'Level': 'Graduate', 'Discipline': 'STEM'},\n",
      " 'avg_hours': 66.41476014760147}\n",
      "{'_id': {'Level': 'High School', 'Discipline': 'Other'},\n",
      " 'avg_hours': 66.24753937007874}\n",
      "{'_id': {'Level': 'Graduate', 'Discipline': 'Business Degree'},\n",
      " 'avg_hours': 65.71627906976744}\n",
      "{'_id': {'Level': 'Primary School', 'Discipline': 'Other'},\n",
      " 'avg_hours': 65.61609907120743}\n",
      "{'_id': {'Level': 'Masters', 'Discipline': 'Humanities'},\n",
      " 'avg_hours': 65.54077253218884}\n",
      "{'_id': {'Level': 'Phd', 'Discipline': 'Business Degree'}, 'avg_hours': 64.2}\n",
      "{'_id': {'Level': 'Masters', 'Discipline': 'STEM'},\n",
      " 'avg_hours': 63.953633758791355}\n",
      "{'_id': {'Level': 'Graduate', 'Discipline': 'Arts'},\n",
      " 'avg_hours': 62.35820895522388}\n",
      "{'_id': {'Level': 'Masters', 'Discipline': 'Arts'},\n",
      " 'avg_hours': 61.94117647058823}\n",
      "{'_id': {'Level': 'Masters', 'Discipline': 'Business Degree'},\n",
      " 'avg_hours': 61.85057471264368}\n",
      "{'_id': {'Level': 'Masters', 'Discipline': 'Other'},\n",
      " 'avg_hours': 58.134020618556704}\n",
      "{'_id': {'Level': 'Masters', 'Discipline': 'No Major'},\n",
      " 'avg_hours': 51.03448275862069}\n",
      "{'_id': {'Level': 'Phd', 'Discipline': 'Arts'}, 'avg_hours': 44.5}\n",
      "{'_id': {'Level': 'Phd', 'Discipline': 'Other'}, 'avg_hours': 43.55555555555556}\n"
     ]
    }
   ],
   "source": [
    "# Group and Sort\n",
    "\n",
    "cur = db.hr.aggregate(\n",
    "            [\n",
    "                # Stage 1\n",
    "                {\n",
    "                    '$group': {\n",
    "                                # Fields to group on\n",
    "                                '_id': {\n",
    "                                            'Level':'$education.level',\n",
    "                                            'Discipline':'$education.discipline'\n",
    "                                        },\n",
    "                                # Accumulator expression\n",
    "                                'avg_hours':{'$avg':'$training_hours'}\n",
    "                    }\n",
    "                },\n",
    "                # Stage 2\n",
    "                {\n",
    "                    '$sort': {'avg_hours':-1}\n",
    "                }\n",
    "            ])\n",
    "\n",
    "for doc in cur:\n",
    "    pp.pprint(doc)"
   ]
  },
  {
   "cell_type": "markdown",
   "id": "numerical-publicity",
   "metadata": {},
   "source": [
    "---\n",
    "### $bucket\n",
    "\n",
    "[$bucket](https://docs.mongodb.com/manual/reference/operator/aggregation/bucket/#-bucket--aggregation-) operator categories documents into several groups, or buckets. The operations are then performed on each of these bucket.\n",
    "\n",
    "**Syntax -** \n",
    "\n",
    "{\n",
    "\n",
    "  $bucket: { \n",
    "  \n",
    "      groupBy: <expression>,\n",
    "      boundaries: [ <lowerbound1>, <lowerbound2>, ... ],\n",
    "      default: <literal>,\n",
    "      output: {<output1>: { <$accumulator expression> }}\n",
    "      \n",
    "       } \n",
    "   \n",
    "}\n",
    "\n",
    "- groupBy - Defines the grouping condition\n",
    "\n",
    "- boundaries - An array that defines the boundary of each bucket. Each adjacent pair of values acts as the inclusive lower boundary and the exclusive upper boundary for the bucket.\n",
    "\n",
    "- default - Default bucket for documents that do not fall in the defined buckets.\n",
    "\n",
    "- output - Define the operations to perform on the buckets.\n",
    "\n",
    "----\n",
    "\n",
    "For example, we can bucket the `city.development_index` into several buckets and find the total number of documents in each bucket.\n",
    "\n",
    "---"
   ]
  },
  {
   "cell_type": "code",
   "execution_count": 11,
   "id": "handled-fabric",
   "metadata": {},
   "outputs": [
    {
     "name": "stdout",
     "output_type": "stream",
     "text": [
      "{'_id': 0, 'Count': 448}\n",
      "{'_id': 0.6, 'Count': 17911}\n"
     ]
    }
   ],
   "source": [
    "# Bucket\n",
    "\n",
    "cur = db.hr.aggregate(\n",
    "            [\n",
    "                # Stage 1 - bucket\n",
    "                {\n",
    "                    '$bucket': {\n",
    "                                    # Group by condition\n",
    "                                    'groupBy': '$city.development_index',\n",
    "                                    # Bucket boundaries\n",
    "                                    'boundaries': [0, 0.6, 1],\n",
    "                                    # Operation\n",
    "                                    'output':{\n",
    "                                                'Count': {'$sum': 1}\n",
    "                                            }\n",
    "                                }\n",
    "                }\n",
    "            ])\n",
    "\n",
    "for doc in cur:\n",
    "    pp.pprint(doc)"
   ]
  },
  {
   "cell_type": "markdown",
   "id": "adaptive-canal",
   "metadata": {},
   "source": [
    "---\n",
    "Default bucket for dcouments that do not fall in the defined buckets.\n",
    "\n",
    "---"
   ]
  },
  {
   "cell_type": "code",
   "execution_count": 12,
   "id": "strong-belfast",
   "metadata": {},
   "outputs": [
    {
     "name": "stdout",
     "output_type": "stream",
     "text": [
      "{'_id': 0, 'Count': 448}\n",
      "{'_id': 0.6, 'Count': 4165}\n",
      "{'_id': 'Other', 'Count': 13746}\n"
     ]
    }
   ],
   "source": [
    "# Bucket\n",
    "\n",
    "cur = db.hr.aggregate(\n",
    "            [\n",
    "                {\n",
    "                    '$bucket': {\n",
    "                                    # Group by condition\n",
    "                                    'groupBy': '$city.development_index',\n",
    "                                    # Bucket boundaries\n",
    "                                    'boundaries': [0, 0.6, 0.8],\n",
    "                                    # Default \n",
    "                                    'default': 'Other',\n",
    "                                    # Operation\n",
    "                                    'output':{\n",
    "                                                'Count': {'$sum': 1}\n",
    "                                            }\n",
    "                                }\n",
    "                }\n",
    "            ])\n",
    "\n",
    "for doc in cur:\n",
    "    pp.pprint(doc)"
   ]
  },
  {
   "cell_type": "markdown",
   "id": "challenging-commodity",
   "metadata": {},
   "source": [
    "---\n",
    "**We can define multiple operations to be performed on each bucket.**\n",
    "\n",
    "For example, we can bucket the `city.development_index` into several buckets and find the total number of documents and average training hours in each.\n",
    "\n",
    "----\n"
   ]
  },
  {
   "cell_type": "code",
   "execution_count": 13,
   "id": "current-estonia",
   "metadata": {},
   "outputs": [
    {
     "name": "stdout",
     "output_type": "stream",
     "text": [
      "{'_id': 0, 'Count': 448, 'Avg_training_hours': 68.05580357142857}\n",
      "{'_id': 0.6, 'Count': 17911, 'Avg_training_hours': 65.84506727709228}\n"
     ]
    }
   ],
   "source": [
    "# Bucket\n",
    "\n",
    "cur = db.hr.aggregate(\n",
    "            [\n",
    "                {\n",
    "                    '$bucket': {\n",
    "                                    # Group by condition\n",
    "                                    'groupBy': '$city.development_index',\n",
    "                                    # Bucket boundaries\n",
    "                                    'boundaries': [0, 0.6, 1],\n",
    "                                    # Operation\n",
    "                                    'output':{\n",
    "                                                'Count': {'$sum': 1},\n",
    "                                                'Avg_training_hours':{'$avg':'$training_hours'}\n",
    "                                            }\n",
    "                                }\n",
    "                }\n",
    "            ])\n",
    "\n",
    "for doc in cur:\n",
    "    pp.pprint(doc)"
   ]
  },
  {
   "cell_type": "markdown",
   "id": "allied-calvin",
   "metadata": {},
   "source": [
    "---\n",
    "### $bucketAuto\n",
    "\n",
    "[$bucketAuto](https://docs.mongodb.com/manual/reference/operator/aggregation/bucketAuto/) operator categorizes documents into a specific number of buckets, based on a specified expression. \n",
    "\n",
    "Bucket boundaries are automatically determined in an attempt to evenly distribute the documents into the specified number of buckets.\n",
    "\n",
    "**Syntax -** \n",
    "\n",
    "{\n",
    "\n",
    "  $bucketAuto: { \n",
    "  \n",
    "      groupBy: <expression>,\n",
    "      buckets: <number>,\n",
    "      output: {<output1>: { <$accumulator expression> }}\n",
    "       } \n",
    "   \n",
    "}\n",
    "\n",
    "- groupBy - Defines the grouping condition\n",
    "\n",
    "- buckets - An integer that specifies the number of buckets into which input documents are grouped.\n",
    "\n",
    "- output - Define the operations to perform on the buckets.\n",
    "\n",
    "----\n",
    "\n",
    "For example, we can bucket the `city.development_index` into several buckets automatically.\n",
    "\n",
    "---"
   ]
  },
  {
   "cell_type": "code",
   "execution_count": 14,
   "id": "noble-montgomery",
   "metadata": {},
   "outputs": [
    {
     "name": "stdout",
     "output_type": "stream",
     "text": [
      "{'_id': {'min': 0.448, 'max': 0.865},\n",
      " 'Count': 6152,\n",
      " 'Avg_training_hours': 66.40848504551366}\n",
      "{'_id': {'min': 0.865, 'max': 0.921},\n",
      " 'Count': 9457,\n",
      " 'Avg_training_hours': 65.862852913186}\n",
      "{'_id': {'min': 0.921, 'max': 0.949},\n",
      " 'Count': 2750,\n",
      " 'Avg_training_hours': 64.88363636363637}\n"
     ]
    }
   ],
   "source": [
    "# bucketAuto\n",
    "\n",
    "cur = db.hr.aggregate(\n",
    "        [\n",
    "            {\n",
    "            '$bucketAuto': {\n",
    "                        # Group by condition\n",
    "                        'groupBy': '$city.development_index',\n",
    "                        # Bucket boundaries\n",
    "                        'buckets': 3,\n",
    "                        # Operation\n",
    "                        'output':{\n",
    "                                    'Count': {'$sum': 1},\n",
    "                                    'Avg_training_hours':{'$avg':'$training_hours'}\n",
    "                                }\n",
    "                        }\n",
    "            }\n",
    "        ])\n",
    "\n",
    "for doc in cur:\n",
    "    pp.pprint(doc)"
   ]
  },
  {
   "cell_type": "markdown",
   "id": "colored-feedback",
   "metadata": {},
   "source": [
    "---\n",
    "### Question - \n",
    "\n",
    "What is average training hours delivered per year?\n",
    "\n",
    "----"
   ]
  },
  {
   "cell_type": "code",
   "execution_count": 15,
   "id": "mineral-decline",
   "metadata": {},
   "outputs": [
    {
     "name": "stdout",
     "output_type": "stream",
     "text": [
      "{'_id': 2016, 'avg_hours': 66.66699604743083}\n",
      "{'_id': 2020, 'avg_hours': 65.10072178477691}\n",
      "{'_id': 2017, 'avg_hours': 67.51004784688995}\n",
      "{'_id': 2018, 'avg_hours': 66.30190538764784}\n",
      "{'_id': 2019, 'avg_hours': 64.57091620476035}\n",
      "{'_id': 2015, 'avg_hours': 65.20501815780786}\n"
     ]
    }
   ],
   "source": [
    "# Question\n",
    "result = db.hr.aggregate(\n",
    "                        [\n",
    "                            {\n",
    "                                '$project':{\n",
    "                                                'Year':{'$year':'$date_of_enrollment'},\n",
    "                                                'training_hours':1\n",
    "                                            }\n",
    "                            },\n",
    "                            {\n",
    "                                '$group':{\n",
    "                                            '_id':'$Year',\n",
    "                                            'avg_hours':{'$avg':'$training_hours'}\n",
    "                                        }\n",
    "                            }\n",
    "                        ]\n",
    "                )\n",
    "\n",
    "for doc in result:\n",
    "    pp.pprint(doc)"
   ]
  },
  {
   "cell_type": "markdown",
   "id": "adolescent-surname",
   "metadata": {},
   "source": [
    "---\n",
    "### Question - \n",
    "\n",
    "What is average training hours delivered per quarter for all the years combined?\n",
    "\n",
    "*Hint - Make use of $bucket operator.*\n",
    "\n",
    "----"
   ]
  },
  {
   "cell_type": "code",
   "execution_count": 16,
   "id": "grave-carry",
   "metadata": {},
   "outputs": [
    {
     "name": "stdout",
     "output_type": "stream",
     "text": [
      "{'_id': 1, 'Avg_training_hours': 66.155545735749}\n",
      "{'_id': 4, 'Avg_training_hours': 64.65135559041003}\n",
      "{'_id': 7, 'Avg_training_hours': 67.67432286023835}\n",
      "{'_id': 10, 'Avg_training_hours': 65.10283911671924}\n"
     ]
    }
   ],
   "source": [
    "# Question\n",
    "result = db.hr.aggregate(\n",
    "        [\n",
    "            {\n",
    "            '$project':{\n",
    "                            'Month':{'$month':'$date_of_enrollment'},\n",
    "                            'training_hours':1\n",
    "                        }\n",
    "            },\n",
    "            {\n",
    "            '$bucket':{\n",
    "                            'groupBy': '$Month',\n",
    "                            'boundaries':[1, 4, 7, 10, 13],\n",
    "                            'default':'Other',\n",
    "                            'output':{\n",
    "                                        'Avg_training_hours':{'$avg':'$training_hours'}\n",
    "                                    }\n",
    "                      }\n",
    "            }\n",
    "        ]\n",
    ")\n",
    "\n",
    "for doc in result:\n",
    "    pp.pprint(doc)"
   ]
  },
  {
   "cell_type": "markdown",
   "id": "accessible-research",
   "metadata": {},
   "source": [
    "---\n",
    "---\n",
    "### Exercise - \n",
    "\n",
    "What is average total experince in years for enrollees grouped by discipline and level of education? Find the one with highest average total experience.\n",
    "\n",
    "----"
   ]
  },
  {
   "cell_type": "markdown",
   "id": "unsigned-gilbert",
   "metadata": {},
   "source": [
    "### Exercise - \n",
    "\n",
    "What is average training hours delivered per month for all the years combined?\n",
    "\n",
    "*Hint - Make use of $bucket operator.*\n",
    "\n",
    "----"
   ]
  },
  {
   "cell_type": "code",
   "execution_count": null,
   "id": "velvet-tragedy",
   "metadata": {},
   "outputs": [],
   "source": []
  }
 ],
 "metadata": {
  "kernelspec": {
   "display_name": "Python 3 (ipykernel)",
   "language": "python",
   "name": "python3"
  },
  "language_info": {
   "codemirror_mode": {
    "name": "ipython",
    "version": 3
   },
   "file_extension": ".py",
   "mimetype": "text/x-python",
   "name": "python",
   "nbconvert_exporter": "python",
   "pygments_lexer": "ipython3",
   "version": "3.11.4"
  }
 },
 "nbformat": 4,
 "nbformat_minor": 5
}
