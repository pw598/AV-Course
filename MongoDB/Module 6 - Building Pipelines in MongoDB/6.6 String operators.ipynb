{
 "cells": [
  {
   "cell_type": "markdown",
   "id": "japanese-night",
   "metadata": {},
   "source": [
    "# String Expression Operators"
   ]
  },
  {
   "cell_type": "markdown",
   "id": "elegant-sucking",
   "metadata": {},
   "source": [
    "---\n",
    "### Connecting to MongoDB using Pymongo\n",
    "----"
   ]
  },
  {
   "cell_type": "code",
   "execution_count": 1,
   "id": "guided-cloud",
   "metadata": {},
   "outputs": [],
   "source": [
    "# Importing the required libraries\n",
    "import pymongo\n",
    "import pprint as pp\n",
    "\n",
    "pp.sorted = lambda x, key=None: x"
   ]
  },
  {
   "cell_type": "code",
   "execution_count": 2,
   "id": "another-island",
   "metadata": {},
   "outputs": [],
   "source": [
    "# Connect to the mongo client - Atlas Cluster\n",
    "client = pymongo.MongoClient('mongodb://localhost:27017/')"
   ]
  },
  {
   "cell_type": "code",
   "execution_count": 3,
   "id": "herbal-length",
   "metadata": {},
   "outputs": [],
   "source": [
    "# training dataset\n",
    "db = client.training"
   ]
  },
  {
   "cell_type": "code",
   "execution_count": 4,
   "id": "artificial-living",
   "metadata": {},
   "outputs": [
    {
     "name": "stdout",
     "output_type": "stream",
     "text": [
      "{'_id': ObjectId('60bc95fb12d1778df87722e2'),\n",
      " 'enrollee_id': 23798,\n",
      " 'gender': 'Male',\n",
      " 'date_of_enrollment': datetime.datetime(2016, 8, 4, 8, 4, 14, 780000),\n",
      " 'city': {'name': 'city_149', 'development_index': 0.689},\n",
      " 'education': {'level': 'Graduate', 'discipline': 'STEM'},\n",
      " 'experience': {'years': 3,\n",
      "                'company_type': 'Pvt Ltd',\n",
      "                'last_new_job': 1,\n",
      "                'relevent_experience': 1},\n",
      " 'training_hours': 106}\n"
     ]
    }
   ],
   "source": [
    "# Sample hr document\n",
    "pp.pprint(\n",
    "    db.hr.find_one()\n",
    ")"
   ]
  },
  {
   "cell_type": "markdown",
   "id": "e7fdb18e-0c5c-40f2-9194-bed4eda23ceb",
   "metadata": {},
   "source": [
    "---\n",
    "### [String operators](https://docs.mongodb.com/manual/reference/operator/aggregation/#string-expression-operators)\n",
    "\n",
    "String expressions let us manipulate string values.\n",
    "\n",
    "---\n",
    "\n",
    "For example, we want to return all those documents `training_hours` is greater than 100 and we want to concatenate `education.level` and `education.discipline` together.\n",
    "\n",
    "We will have to use the [$concat](https://docs.mongodb.com/manual/reference/operator/aggregation/concat/#-concat--aggregation-) operartor.\n",
    "\n",
    "---"
   ]
  },
  {
   "cell_type": "code",
   "execution_count": 5,
   "id": "f7324bc9-c35c-4252-a669-599f46202cd6",
   "metadata": {},
   "outputs": [
    {
     "name": "stdout",
     "output_type": "stream",
     "text": [
      "{'Course': 'STEM_Graduate', 'Training': 106}\n",
      "{'Course': 'STEM_Graduate', 'Training': 106}\n",
      "{'Course': 'STEM_Graduate', 'Training': 106}\n",
      "{'Course': 'STEM_Graduate', 'Training': 298}\n",
      "{'Course': 'Arts_Graduate', 'Training': 101}\n",
      "{'Course': 'STEM_Masters', 'Training': 114}\n",
      "{'Course': 'STEM_Graduate', 'Training': 104}\n",
      "{'Course': 'STEM_Graduate', 'Training': 109}\n",
      "{'Course': 'STEM_Graduate', 'Training': 262}\n",
      "{'Course': 'STEM_Graduate', 'Training': 112}\n"
     ]
    }
   ],
   "source": [
    "# Concat strings\n",
    "\n",
    "result = db.hr.aggregate(\n",
    "        # Pipeline\n",
    "        [\n",
    "            # Stage 1\n",
    "            {\n",
    "                '$match':{'training_hours':{'$gt':100}}\n",
    "            },\n",
    "            # Stage 2\n",
    "            {\n",
    "                '$project':{\n",
    "                                '_id':0,\n",
    "                                'Course':{\n",
    "                                            '$concat':['$education.discipline',\n",
    "                                                       '_',\n",
    "                                                       '$education.level']\n",
    "                                         },\n",
    "                                'Training': '$training_hours'\n",
    "                            }\n",
    "            },\n",
    "            # Stage 3\n",
    "            {\n",
    "                '$limit': 10\n",
    "            }\n",
    "        ])\n",
    "\n",
    "# Print results\n",
    "for doc in result:\n",
    "    pp.pprint(doc)"
   ]
  },
  {
   "cell_type": "markdown",
   "id": "84fe6683-f52a-43cb-b78f-dd7b2206cb78",
   "metadata": {},
   "source": [
    "----\n",
    "Similarly there are other operators like :-\n",
    "\n",
    "- [$toUpper](https://docs.mongodb.com/manual/reference/operator/aggregation/toUpper/#mongodb-expression-exp.-toUpper) - Converts a string to upperrcase.\n",
    "\n",
    "- [$toLower](https://docs.mongodb.com/manual/reference/operator/aggregation/toLower/#mongodb-expression-exp.-toLower) - Converts a string to lowercase.\n",
    "\n",
    "- [$substrCP](https://docs.mongodb.com/manual/reference/operator/aggregation/substrCP/#-substrcp--aggregation-) - Returns the substring of a string.\n",
    "\n",
    "- [$split](https://docs.mongodb.com/manual/reference/operator/aggregation/split/#mongodb-expression-exp.-split) - Splits a string into substrings based on a delimiter. Returns an array of substrings.\n",
    "\n",
    "- [$strLenCP](https://docs.mongodb.com/manual/reference/operator/aggregation/strLenCP/#mongodb-expression-exp.-strLenCP) - Returns the length of string.\n",
    "\n",
    "\n",
    "For example, let's work with the `experience.company_type` field.\n",
    "\n",
    "----"
   ]
  },
  {
   "cell_type": "code",
   "execution_count": 6,
   "id": "8e9595db-6801-4626-955b-b0058101ba3f",
   "metadata": {
    "scrolled": true
   },
   "outputs": [
    {
     "name": "stdout",
     "output_type": "stream",
     "text": [
      "{'Upper_case': 'PVT LTD',\n",
      " 'Lower_case': 'pvt ltd',\n",
      " 'Substr': 'P',\n",
      " 'Split_on_Space': ['Pvt', 'Ltd'],\n",
      " 'String_Length': 7}\n"
     ]
    }
   ],
   "source": [
    "# String operators\n",
    "\n",
    "result = db.hr.aggregate(\n",
    "        # Pipeline\n",
    "        [\n",
    "            # Stage 1\n",
    "            {\n",
    "                '$match':{'training_hours':{'$gt':200}}\n",
    "            },\n",
    "            # Stage 2\n",
    "            {\n",
    "                '$project':{\n",
    "                                '_id':0,\n",
    "                                \n",
    "                                # Casing\n",
    "                                'Upper_case':{'$toUpper':'$experience.company_type'},\n",
    "                                'Lower_case':{'$toLower':'$experience.company_type'},\n",
    "                                \n",
    "                                # Substring\n",
    "                                'Substr':{'$substrCP':['$experience.company_type', 0, 1]},\n",
    "                                \n",
    "                                # Split string on delimiter\n",
    "                                'Split_on_Space':{'$split':['$experience.company_type', ' ']},\n",
    "                                \n",
    "                                # String length\n",
    "                                'String_Length':{'$strLenCP':'$experience.company_type'}\n",
    "                            }\n",
    "            },\n",
    "            # Stage 3\n",
    "            {\n",
    "                '$limit': 1\n",
    "            }\n",
    "        ])\n",
    "\n",
    "# Print results\n",
    "for doc in result:\n",
    "    pp.pprint(doc)"
   ]
  },
  {
   "cell_type": "markdown",
   "id": "right-consideration",
   "metadata": {},
   "source": [
    "----\n",
    "**Regex**\n",
    "\n",
    "Can also include regex operators in aggregation pipeline.\n",
    "\n",
    "[$regexMatch](https://docs.mongodb.com/manual/reference/operator/aggregation/regexMatch/#-regexmatch--aggregation-) returns a boolean value indicating whether string matches regex pattern or not.\n",
    "\n",
    "----"
   ]
  },
  {
   "cell_type": "code",
   "execution_count": 7,
   "id": "e4414fef-a643-41f6-b42b-691817d726f7",
   "metadata": {
    "scrolled": true
   },
   "outputs": [
    {
     "name": "stdout",
     "output_type": "stream",
     "text": [
      "{'String': 'Pvt Ltd', 'Regex': True}\n",
      "{'String': 'Funded Startup', 'Regex': False}\n",
      "{'String': 'Public Sector', 'Regex': False}\n",
      "{'String': 'Pvt Ltd', 'Regex': True}\n",
      "{'String': 'Funded Startup', 'Regex': False}\n"
     ]
    }
   ],
   "source": [
    "# Regex\n",
    "\n",
    "result = db.hr.aggregate(\n",
    "        # Pipeline\n",
    "        [\n",
    "            # Stage 1\n",
    "            {\n",
    "                '$project':{\n",
    "                                '_id':0,\n",
    "                                'String':'$experience.company_type',\n",
    "                                # regex\n",
    "                                'Regex':{\n",
    "                                            '$regexMatch':{\n",
    "                                                            'input':\"$experience.company_type\",\n",
    "                                                            'regex':'LTD',\n",
    "                                                            'options':'i'\n",
    "                                                        }\n",
    "                                        }\n",
    "                            }\n",
    "            },\n",
    "            # Stage 2\n",
    "            {\n",
    "                '$limit': 5\n",
    "            }\n",
    "        ])\n",
    "\n",
    "# Print results\n",
    "for doc in result:\n",
    "    pp.pprint(doc)"
   ]
  },
  {
   "cell_type": "markdown",
   "id": "proof-planning",
   "metadata": {},
   "source": [
    "---\n",
    "[$regexFind](https://docs.mongodb.com/manual/reference/operator/aggregation/regexFind/#-regexfind--aggregation-) returns information about a match on a document. If a match is not found, returns null.\n",
    "\n",
    "---"
   ]
  },
  {
   "cell_type": "code",
   "execution_count": 8,
   "id": "textile-morris",
   "metadata": {},
   "outputs": [
    {
     "name": "stdout",
     "output_type": "stream",
     "text": [
      "{'String': 'Pvt Ltd', 'Regex': {'match': 'P', 'idx': 0, 'captures': []}}\n",
      "{'String': 'Funded Startup', 'Regex': None}\n",
      "{'String': 'Public Sector', 'Regex': {'match': 'P', 'idx': 0, 'captures': []}}\n",
      "{'String': 'Pvt Ltd', 'Regex': {'match': 'P', 'idx': 0, 'captures': []}}\n",
      "{'String': 'Funded Startup', 'Regex': None}\n",
      "{'String': 'Pvt Ltd', 'Regex': {'match': 'P', 'idx': 0, 'captures': []}}\n",
      "{'String': 'Pvt Ltd', 'Regex': {'match': 'P', 'idx': 0, 'captures': []}}\n",
      "{'String': 'Pvt Ltd', 'Regex': {'match': 'P', 'idx': 0, 'captures': []}}\n",
      "{'String': 'Pvt Ltd', 'Regex': {'match': 'P', 'idx': 0, 'captures': []}}\n",
      "{'String': 'Pvt Ltd', 'Regex': {'match': 'P', 'idx': 0, 'captures': []}}\n"
     ]
    }
   ],
   "source": [
    "# Regex\n",
    "\n",
    "result = db.hr.aggregate(\n",
    "        # Pipeline\n",
    "        [\n",
    "            # Stage 1\n",
    "            {\n",
    "                '$project':{\n",
    "                                '_id':0,\n",
    "                                'String':'$experience.company_type',\n",
    "                                # regex\n",
    "                                'Regex':{\n",
    "                                            '$regexFind':{\n",
    "                                                            'input':'$experience.company_type',\n",
    "                                                            'regex':'^P',\n",
    "                                                            'options':'i'\n",
    "                                                        }\n",
    "                                        }\n",
    "                            }\n",
    "            },\n",
    "            # Stage 2\n",
    "            {\n",
    "                '$limit': 10\n",
    "            }\n",
    "        ])\n",
    "\n",
    "# Print results\n",
    "for doc in result:\n",
    "    pp.pprint(doc)"
   ]
  },
  {
   "cell_type": "markdown",
   "id": "written-survivor",
   "metadata": {},
   "source": [
    "---\n",
    "\n",
    "The [captures array](https://docs.mongodb.com/manual/reference/operator/aggregation/regexFind/#captures-output-behavior) in the results corresponds to the groups captured by the matching string. Capture groups are specified with unescaped parentheses () in the regex pattern.\n",
    "\n",
    "---"
   ]
  },
  {
   "cell_type": "code",
   "execution_count": 9,
   "id": "accessible-postage",
   "metadata": {},
   "outputs": [
    {
     "name": "stdout",
     "output_type": "stream",
     "text": [
      "{'String': 'Pvt Ltd', 'Regex': {'match': 'Pvt', 'idx': 0, 'captures': ['vt']}}\n",
      "{'String': 'Funded Startup', 'Regex': None}\n",
      "{'String': 'Public Sector',\n",
      " 'Regex': {'match': 'Pub', 'idx': 0, 'captures': ['ub']}}\n",
      "{'String': 'Pvt Ltd', 'Regex': {'match': 'Pvt', 'idx': 0, 'captures': ['vt']}}\n",
      "{'String': 'Funded Startup', 'Regex': None}\n",
      "{'String': 'Pvt Ltd', 'Regex': {'match': 'Pvt', 'idx': 0, 'captures': ['vt']}}\n",
      "{'String': 'Pvt Ltd', 'Regex': {'match': 'Pvt', 'idx': 0, 'captures': ['vt']}}\n",
      "{'String': 'Pvt Ltd', 'Regex': {'match': 'Pvt', 'idx': 0, 'captures': ['vt']}}\n",
      "{'String': 'Pvt Ltd', 'Regex': {'match': 'Pvt', 'idx': 0, 'captures': ['vt']}}\n",
      "{'String': 'Pvt Ltd', 'Regex': {'match': 'Pvt', 'idx': 0, 'captures': ['vt']}}\n"
     ]
    }
   ],
   "source": [
    "# Regex\n",
    "\n",
    "result = db.hr.aggregate(\n",
    "        # Pipeline\n",
    "        [\n",
    "            # Stage 1\n",
    "            {\n",
    "                '$project':{\n",
    "                                '_id':0,\n",
    "                                'String':'$experience.company_type',\n",
    "                                # regex\n",
    "                                'Regex':{\n",
    "                                            '$regexFind':{\n",
    "                                                            'input':'$experience.company_type',\n",
    "                                                            'regex':'^P(vt|ub)',\n",
    "                                                            'options':'i'\n",
    "                                                        }\n",
    "                                        }\n",
    "                            }\n",
    "            },\n",
    "            # Stage 2\n",
    "            {\n",
    "                '$limit': 10\n",
    "            }\n",
    "        ])\n",
    "\n",
    "# Print results\n",
    "for doc in result:\n",
    "    pp.pprint(doc)"
   ]
  },
  {
   "cell_type": "markdown",
   "id": "joint-hostel",
   "metadata": {},
   "source": [
    "---\n",
    "**Using [$cond](https://docs.mongodb.com/manual/reference/operator/aggregation/cond/#mongodb-expression-exp.-cond) conditional operator we can label encode string values.**\n",
    "\n",
    "\n",
    "It evaluates a boolean expression to return one of the two specified return expressions.\n",
    "\n",
    "\n",
    "For example, we project a new field and return 1 if `experience.company_type` contains `ltd` and 0 otherwise.\n",
    "\n",
    "-----"
   ]
  },
  {
   "cell_type": "code",
   "execution_count": 10,
   "id": "chinese-gather",
   "metadata": {},
   "outputs": [
    {
     "name": "stdout",
     "output_type": "stream",
     "text": [
      "{'Type': 'Pvt Ltd', 'Encoded': 1}\n",
      "{'Type': 'Funded Startup', 'Encoded': 0}\n",
      "{'Type': 'Public Sector', 'Encoded': 0}\n",
      "{'Type': 'Pvt Ltd', 'Encoded': 1}\n",
      "{'Type': 'Funded Startup', 'Encoded': 0}\n",
      "{'Type': 'Pvt Ltd', 'Encoded': 1}\n",
      "{'Type': 'Pvt Ltd', 'Encoded': 1}\n",
      "{'Type': 'Pvt Ltd', 'Encoded': 1}\n",
      "{'Type': 'Pvt Ltd', 'Encoded': 1}\n",
      "{'Type': 'Pvt Ltd', 'Encoded': 1}\n"
     ]
    }
   ],
   "source": [
    "# Regex\n",
    "\n",
    "result = db.hr.aggregate(\n",
    "        # Pipeline\n",
    "        [\n",
    "            # Stage 1\n",
    "            {\n",
    "            '$project':{\n",
    "                        '_id':0,\n",
    "                        'Type':'$experience.company_type',\n",
    "                        'Encoded':{\n",
    "                                    '$cond':{\n",
    "                                                'if':{\n",
    "                                                        '$regexMatch':{\n",
    "                                                                            'input':'$experience.company_type',\n",
    "                                                                            'regex':'ltd',\n",
    "                                                                            'options':'i'\n",
    "                                                                        }\n",
    "                                                    },\n",
    "                                                'then':1,\n",
    "                                                'else':0\n",
    "                                                }\n",
    "                                }\n",
    "                        }\n",
    "            },\n",
    "            # Stage 2\n",
    "            {\n",
    "                '$limit': 10\n",
    "            }\n",
    "        ])\n",
    "\n",
    "# Print results\n",
    "for doc in result:\n",
    "    pp.pprint(doc)"
   ]
  },
  {
   "cell_type": "markdown",
   "id": "foster-motel",
   "metadata": {},
   "source": [
    "----\n",
    "\n",
    "### Exercise 1 - \n",
    "\n",
    "Look for those documents that have more than 5 years of total experience and whose `education.level` contains the `school` substring.\n",
    "\n",
    "----"
   ]
  },
  {
   "cell_type": "markdown",
   "id": "spiritual-punishment",
   "metadata": {},
   "source": [
    "----\n",
    "\n",
    "### Exercise 2 - \n",
    "\n",
    "Output a new fiedl `Encoded` whenever the `education.level` field contains the substring `school`.\n",
    "\n",
    "----"
   ]
  },
  {
   "cell_type": "code",
   "execution_count": null,
   "id": "aware-construction",
   "metadata": {},
   "outputs": [],
   "source": []
  }
 ],
 "metadata": {
  "kernelspec": {
   "display_name": "Python 3 (ipykernel)",
   "language": "python",
   "name": "python3"
  },
  "language_info": {
   "codemirror_mode": {
    "name": "ipython",
    "version": 3
   },
   "file_extension": ".py",
   "mimetype": "text/x-python",
   "name": "python",
   "nbconvert_exporter": "python",
   "pygments_lexer": "ipython3",
   "version": "3.11.4"
  }
 },
 "nbformat": 4,
 "nbformat_minor": 5
}
