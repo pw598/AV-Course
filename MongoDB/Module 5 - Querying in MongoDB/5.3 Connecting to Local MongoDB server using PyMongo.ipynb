{
 "cells": [
  {
   "cell_type": "markdown",
   "id": "e67e7ec4-320c-4b94-b3f6-eeef0b66db28",
   "metadata": {},
   "source": [
    "# `Connecting to local MongoDB server using PyMongo`"
   ]
  },
  {
   "cell_type": "code",
   "execution_count": 1,
   "id": "5ab389d3-a7ad-4d62-913b-ad8ff3518485",
   "metadata": {},
   "outputs": [
    {
     "name": "stderr",
     "output_type": "stream",
     "text": [
      "'mongorestore' is not recognized as an internal or external command,\n",
      "operable program or batch file.\n"
     ]
    }
   ],
   "source": [
    "# mongorestore to local MongoDB server\n",
    "!mongorestore  /home/avadmin/Desktop/Mongo/mongo_sample/"
   ]
  },
  {
   "cell_type": "code",
   "execution_count": 1,
   "id": "4d33266d-9e88-490d-993d-a9f15223c73e",
   "metadata": {},
   "outputs": [],
   "source": [
    "# Importing the required libraries\n",
    "import pymongo"
   ]
  },
  {
   "cell_type": "code",
   "execution_count": 2,
   "id": "5ca7e8e5-55fe-4dfb-8841-c81f2764d26d",
   "metadata": {},
   "outputs": [],
   "source": [
    "# Connect to local MongoDB server\n",
    "client = pymongo.MongoClient('mongodb://localhost:27017/')"
   ]
  },
  {
   "cell_type": "code",
   "execution_count": 3,
   "id": "liquid-success",
   "metadata": {},
   "outputs": [
    {
     "data": {
      "text/plain": [
       "MongoClient(host=['localhost:27017'], document_class=dict, tz_aware=False, connect=True)"
      ]
     },
     "execution_count": 3,
     "metadata": {},
     "output_type": "execute_result"
    }
   ],
   "source": [
    "# Client\n",
    "client"
   ]
  },
  {
   "cell_type": "code",
   "execution_count": null,
   "id": "western-dispute",
   "metadata": {},
   "outputs": [],
   "source": []
  },
  {
   "cell_type": "code",
   "execution_count": null,
   "id": "d13cd2a0-16b7-4bc8-8b17-85ab31635b6f",
   "metadata": {},
   "outputs": [],
   "source": []
  }
 ],
 "metadata": {
  "kernelspec": {
   "display_name": "Python 3 (ipykernel)",
   "language": "python",
   "name": "python3"
  },
  "language_info": {
   "codemirror_mode": {
    "name": "ipython",
    "version": 3
   },
   "file_extension": ".py",
   "mimetype": "text/x-python",
   "name": "python",
   "nbconvert_exporter": "python",
   "pygments_lexer": "ipython3",
   "version": "3.11.4"
  }
 },
 "nbformat": 4,
 "nbformat_minor": 5
}
